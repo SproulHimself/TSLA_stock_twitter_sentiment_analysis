{
 "cells": [
  {
   "cell_type": "code",
   "execution_count": 90,
   "metadata": {},
   "outputs": [],
   "source": [
    "from sklearn.ensemble import RandomForestClassifier\n",
    "from sklearn.svm import SVC\n",
    "from sklearn.linear_model import LogisticRegression\n",
    "from sklearn.pipeline import Pipeline\n",
    "from sklearn.model_selection import cross_val_score, train_test_split\n",
    "from keras.models import Model, Sequential\n",
    "from keras.preprocessing.text import Tokenizer\n",
    "from keras.preprocessing.sequence import pad_sequences\n",
    "from keras.layers import Input, Dense, LSTM, Embedding, SpatialDropout1D, SimpleRNN\n",
    "from keras.layers import Dropout, Activation, Bidirectional, GlobalMaxPool1D, RNN\n",
    "from keras import initializers, regularizers, constraints, optimizers, layers\n",
    "from keras.preprocessing import text, sequence\n",
    "import pandas as pd\n",
    "import numpy as np\n",
    "np.random.seed(0)\n",
    "from nltk import word_tokenize\n",
    "from gensim.models import word2vec"
   ]
  },
  {
   "cell_type": "code",
   "execution_count": 2,
   "metadata": {},
   "outputs": [],
   "source": [
    "test = pd.read_csv('maybe_final_data.csv')"
   ]
  },
  {
   "cell_type": "code",
   "execution_count": 51,
   "metadata": {},
   "outputs": [
    {
     "data": {
      "text/html": [
       "<div>\n",
       "<style scoped>\n",
       "    .dataframe tbody tr th:only-of-type {\n",
       "        vertical-align: middle;\n",
       "    }\n",
       "\n",
       "    .dataframe tbody tr th {\n",
       "        vertical-align: top;\n",
       "    }\n",
       "\n",
       "    .dataframe thead th {\n",
       "        text-align: right;\n",
       "    }\n",
       "</style>\n",
       "<table border=\"1\" class=\"dataframe\">\n",
       "  <thead>\n",
       "    <tr style=\"text-align: right;\">\n",
       "      <th></th>\n",
       "      <th>signal_x</th>\n",
       "      <th>retweet_from</th>\n",
       "      <th>tweet_length</th>\n",
       "      <th>encoded_sentiment</th>\n",
       "      <th>polarity</th>\n",
       "      <th>tweet</th>\n",
       "      <th>ability</th>\n",
       "      <th>able</th>\n",
       "      <th>aboard</th>\n",
       "      <th>abort</th>\n",
       "      <th>...</th>\n",
       "      <th>you</th>\n",
       "      <th>your</th>\n",
       "      <th>yours</th>\n",
       "      <th>yourself</th>\n",
       "      <th>yr</th>\n",
       "      <th>yup</th>\n",
       "      <th>zero</th>\n",
       "      <th>zip</th>\n",
       "      <th>zone</th>\n",
       "      <th>zoo</th>\n",
       "    </tr>\n",
       "  </thead>\n",
       "  <tbody>\n",
       "    <tr>\n",
       "      <th>0</th>\n",
       "      <td>stay</td>\n",
       "      <td>137</td>\n",
       "      <td>105</td>\n",
       "      <td>1</td>\n",
       "      <td>0.366667</td>\n",
       "      <td>assuming acceleration of to but in a comfortab...</td>\n",
       "      <td>0.0</td>\n",
       "      <td>0.0</td>\n",
       "      <td>0.0</td>\n",
       "      <td>0.0</td>\n",
       "      <td>...</td>\n",
       "      <td>0.0</td>\n",
       "      <td>0.0</td>\n",
       "      <td>0.0</td>\n",
       "      <td>0.0</td>\n",
       "      <td>0.0</td>\n",
       "      <td>0.0</td>\n",
       "      <td>0.0</td>\n",
       "      <td>0.0</td>\n",
       "      <td>0.0</td>\n",
       "      <td>0.0</td>\n",
       "    </tr>\n",
       "    <tr>\n",
       "      <th>1</th>\n",
       "      <td>stay</td>\n",
       "      <td>64</td>\n",
       "      <td>113</td>\n",
       "      <td>1</td>\n",
       "      <td>0.200000</td>\n",
       "      <td>is capable of transporting satellite to orbit ...</td>\n",
       "      <td>0.0</td>\n",
       "      <td>0.0</td>\n",
       "      <td>0.0</td>\n",
       "      <td>0.0</td>\n",
       "      <td>...</td>\n",
       "      <td>0.0</td>\n",
       "      <td>0.0</td>\n",
       "      <td>0.0</td>\n",
       "      <td>0.0</td>\n",
       "      <td>0.0</td>\n",
       "      <td>0.0</td>\n",
       "      <td>0.0</td>\n",
       "      <td>0.0</td>\n",
       "      <td>0.0</td>\n",
       "      <td>0.0</td>\n",
       "    </tr>\n",
       "    <tr>\n",
       "      <th>2</th>\n",
       "      <td>stay</td>\n",
       "      <td>137</td>\n",
       "      <td>6</td>\n",
       "      <td>0</td>\n",
       "      <td>0.000000</td>\n",
       "      <td>yup</td>\n",
       "      <td>0.0</td>\n",
       "      <td>0.0</td>\n",
       "      <td>0.0</td>\n",
       "      <td>0.0</td>\n",
       "      <td>...</td>\n",
       "      <td>0.0</td>\n",
       "      <td>0.0</td>\n",
       "      <td>0.0</td>\n",
       "      <td>0.0</td>\n",
       "      <td>0.0</td>\n",
       "      <td>1.0</td>\n",
       "      <td>0.0</td>\n",
       "      <td>0.0</td>\n",
       "      <td>0.0</td>\n",
       "      <td>0.0</td>\n",
       "    </tr>\n",
       "    <tr>\n",
       "      <th>3</th>\n",
       "      <td>stay</td>\n",
       "      <td>137</td>\n",
       "      <td>7</td>\n",
       "      <td>0</td>\n",
       "      <td>0.000000</td>\n",
       "      <td>part</td>\n",
       "      <td>0.0</td>\n",
       "      <td>0.0</td>\n",
       "      <td>0.0</td>\n",
       "      <td>0.0</td>\n",
       "      <td>...</td>\n",
       "      <td>0.0</td>\n",
       "      <td>0.0</td>\n",
       "      <td>0.0</td>\n",
       "      <td>0.0</td>\n",
       "      <td>0.0</td>\n",
       "      <td>0.0</td>\n",
       "      <td>0.0</td>\n",
       "      <td>0.0</td>\n",
       "      <td>0.0</td>\n",
       "      <td>0.0</td>\n",
       "    </tr>\n",
       "    <tr>\n",
       "      <th>4</th>\n",
       "      <td>stay</td>\n",
       "      <td>137</td>\n",
       "      <td>96</td>\n",
       "      <td>1</td>\n",
       "      <td>0.650000</td>\n",
       "      <td>fly to most place on earth in under min and an...</td>\n",
       "      <td>0.0</td>\n",
       "      <td>0.0</td>\n",
       "      <td>0.0</td>\n",
       "      <td>0.0</td>\n",
       "      <td>...</td>\n",
       "      <td>0.0</td>\n",
       "      <td>0.0</td>\n",
       "      <td>0.0</td>\n",
       "      <td>0.0</td>\n",
       "      <td>0.0</td>\n",
       "      <td>0.0</td>\n",
       "      <td>0.0</td>\n",
       "      <td>0.0</td>\n",
       "      <td>0.0</td>\n",
       "      <td>0.0</td>\n",
       "    </tr>\n",
       "  </tbody>\n",
       "</table>\n",
       "<p>5 rows × 3858 columns</p>\n",
       "</div>"
      ],
      "text/plain": [
       "  signal_x  retweet_from  tweet_length  encoded_sentiment  polarity  \\\n",
       "0     stay           137           105                  1  0.366667   \n",
       "1     stay            64           113                  1  0.200000   \n",
       "2     stay           137             6                  0  0.000000   \n",
       "3     stay           137             7                  0  0.000000   \n",
       "4     stay           137            96                  1  0.650000   \n",
       "\n",
       "                                               tweet  ability  able  aboard  \\\n",
       "0  assuming acceleration of to but in a comfortab...      0.0   0.0     0.0   \n",
       "1  is capable of transporting satellite to orbit ...      0.0   0.0     0.0   \n",
       "2                                                yup      0.0   0.0     0.0   \n",
       "3                                               part      0.0   0.0     0.0   \n",
       "4  fly to most place on earth in under min and an...      0.0   0.0     0.0   \n",
       "\n",
       "   abort ...   you  your  yours  yourself   yr  yup  zero  zip  zone  zoo  \n",
       "0    0.0 ...   0.0   0.0    0.0       0.0  0.0  0.0   0.0  0.0   0.0  0.0  \n",
       "1    0.0 ...   0.0   0.0    0.0       0.0  0.0  0.0   0.0  0.0   0.0  0.0  \n",
       "2    0.0 ...   0.0   0.0    0.0       0.0  0.0  1.0   0.0  0.0   0.0  0.0  \n",
       "3    0.0 ...   0.0   0.0    0.0       0.0  0.0  0.0   0.0  0.0   0.0  0.0  \n",
       "4    0.0 ...   0.0   0.0    0.0       0.0  0.0  0.0   0.0  0.0   0.0  0.0  \n",
       "\n",
       "[5 rows x 3858 columns]"
      ]
     },
     "execution_count": 51,
     "metadata": {},
     "output_type": "execute_result"
    }
   ],
   "source": [
    "test.drop(columns=['Unnamed: 0'], inplace=True)\n",
    "test.head()"
   ]
  },
  {
   "cell_type": "code",
   "execution_count": 4,
   "metadata": {},
   "outputs": [
    {
     "data": {
      "text/plain": [
       "0    assuming acceleration of to but in a comfortab...\n",
       "1    is capable of transporting satellite to orbit ...\n",
       "2                                                  yup\n",
       "3                                                 part\n",
       "4    fly to most place on earth in under min and an...\n",
       "Name: tweet, dtype: object"
      ]
     },
     "execution_count": 4,
     "metadata": {},
     "output_type": "execute_result"
    }
   ],
   "source": [
    "test.tweet[:5]"
   ]
  },
  {
   "cell_type": "code",
   "execution_count": 10,
   "metadata": {},
   "outputs": [],
   "source": [
    "test.tweet = test.tweet.astype(str)"
   ]
  },
  {
   "cell_type": "code",
   "execution_count": 24,
   "metadata": {},
   "outputs": [],
   "source": [
    "max_fatures = 3000\n",
    "tokenizer = Tokenizer(num_words=max_fatures, split=' ')\n",
    "tokenizer.fit_on_texts(test['tweet'].values)\n",
    "X = tokenizer.texts_to_sequences(test['tweet'].values)\n",
    "X = pad_sequences(X)"
   ]
  },
  {
   "cell_type": "code",
   "execution_count": 40,
   "metadata": {},
   "outputs": [
    {
     "name": "stdout",
     "output_type": "stream",
     "text": [
      "_________________________________________________________________\n",
      "Layer (type)                 Output Shape              Param #   \n",
      "=================================================================\n",
      "embedding_3 (Embedding)      (None, 28, 128)           384000    \n",
      "_________________________________________________________________\n",
      "spatial_dropout1d_2 (Spatial (None, 28, 128)           0         \n",
      "_________________________________________________________________\n",
      "lstm_2 (LSTM)                (None, 196)               254800    \n",
      "_________________________________________________________________\n",
      "dense_2 (Dense)              (None, 3)                 591       \n",
      "=================================================================\n",
      "Total params: 639,391\n",
      "Trainable params: 639,391\n",
      "Non-trainable params: 0\n",
      "_________________________________________________________________\n",
      "None\n"
     ]
    }
   ],
   "source": [
    "embed_dim = 128\n",
    "lstm_out = 196\n",
    "\n",
    "model = Sequential()\n",
    "model.add(Embedding(max_fatures, embed_dim, input_length = X.shape[1]))\n",
    "model.add(SpatialDropout1D(0.4))\n",
    "model.add(LSTM(lstm_out, dropout=0.2, recurrent_dropout=0.2))\n",
    "model.add(Dense(3, activation='softmax'))\n",
    "model.compile(loss = 'categorical_crossentropy', optimizer='adam',metrics = ['accuracy'])\n",
    "print(model.summary())"
   ]
  },
  {
   "cell_type": "code",
   "execution_count": 41,
   "metadata": {},
   "outputs": [
    {
     "name": "stdout",
     "output_type": "stream",
     "text": [
      "(1761, 28) (1761, 3)\n",
      "(441, 28) (441, 3)\n"
     ]
    }
   ],
   "source": [
    "y = pd.get_dummies(test['signal_x']).values\n",
    "X_train, X_test, y_train, y_test = train_test_split(X, y, test_size = 0.20, random_state = 42)\n",
    "print(X_train.shape, y_train.shape)\n",
    "print(X_test.shape, y_test.shape)"
   ]
  },
  {
   "cell_type": "code",
   "execution_count": 42,
   "metadata": {},
   "outputs": [
    {
     "name": "stdout",
     "output_type": "stream",
     "text": [
      "Train on 1584 samples, validate on 177 samples\n",
      "Epoch 1/20\n",
      " - 3s - loss: 1.0883 - acc: 0.3946 - val_loss: 1.0911 - val_acc: 0.3842\n",
      "Epoch 2/20\n",
      " - 2s - loss: 1.0644 - acc: 0.4249 - val_loss: 1.0815 - val_acc: 0.3898\n",
      "Epoch 3/20\n",
      " - 2s - loss: 0.9799 - acc: 0.5417 - val_loss: 1.0748 - val_acc: 0.4859\n",
      "Epoch 4/20\n",
      " - 2s - loss: 0.8039 - acc: 0.6679 - val_loss: 1.1540 - val_acc: 0.4294\n",
      "Epoch 5/20\n",
      " - 2s - loss: 0.6370 - acc: 0.7487 - val_loss: 1.2890 - val_acc: 0.4463\n",
      "Epoch 6/20\n",
      " - 2s - loss: 0.5000 - acc: 0.8043 - val_loss: 1.5953 - val_acc: 0.4350\n",
      "Epoch 7/20\n",
      " - 2s - loss: 0.3966 - acc: 0.8472 - val_loss: 1.6626 - val_acc: 0.4181\n",
      "Epoch 8/20\n",
      " - 2s - loss: 0.3237 - acc: 0.8794 - val_loss: 1.8014 - val_acc: 0.4068\n",
      "Epoch 9/20\n",
      " - 2s - loss: 0.3109 - acc: 0.8807 - val_loss: 2.0110 - val_acc: 0.3785\n",
      "Epoch 10/20\n",
      " - 2s - loss: 0.2364 - acc: 0.9066 - val_loss: 1.9642 - val_acc: 0.4237\n",
      "Epoch 11/20\n",
      " - 2s - loss: 0.2060 - acc: 0.9129 - val_loss: 2.3607 - val_acc: 0.4181\n",
      "Epoch 12/20\n",
      " - 2s - loss: 0.2094 - acc: 0.9104 - val_loss: 2.4860 - val_acc: 0.4124\n",
      "Epoch 13/20\n",
      " - 2s - loss: 0.1834 - acc: 0.9274 - val_loss: 2.3880 - val_acc: 0.4068\n",
      "Epoch 14/20\n",
      " - 2s - loss: 0.1603 - acc: 0.9343 - val_loss: 2.6562 - val_acc: 0.4294\n",
      "Epoch 15/20\n",
      " - 3s - loss: 0.1351 - acc: 0.9463 - val_loss: 2.8938 - val_acc: 0.4124\n",
      "Epoch 16/20\n",
      " - 2s - loss: 0.1423 - acc: 0.9407 - val_loss: 3.0443 - val_acc: 0.4407\n",
      "Epoch 17/20\n",
      " - 2s - loss: 0.1405 - acc: 0.9444 - val_loss: 3.0445 - val_acc: 0.3842\n",
      "Epoch 18/20\n",
      " - 2s - loss: 0.1322 - acc: 0.9438 - val_loss: 2.9582 - val_acc: 0.4011\n",
      "Epoch 19/20\n",
      " - 2s - loss: 0.1198 - acc: 0.9501 - val_loss: 3.3623 - val_acc: 0.3955\n",
      "Epoch 20/20\n",
      " - 2s - loss: 0.1153 - acc: 0.9451 - val_loss: 3.0546 - val_acc: 0.3898\n"
     ]
    },
    {
     "data": {
      "text/plain": [
       "<keras.callbacks.History at 0x1a33f19780>"
      ]
     },
     "execution_count": 42,
     "metadata": {},
     "output_type": "execute_result"
    }
   ],
   "source": [
    "model.fit(X_train, y_train, epochs=20, validation_split=0.1, batch_size=32, verbose=2)"
   ]
  },
  {
   "cell_type": "code",
   "execution_count": 49,
   "metadata": {},
   "outputs": [
    {
     "name": "stdout",
     "output_type": "stream",
     "text": [
      "score: 3.30\n",
      "acc: 0.32\n"
     ]
    }
   ],
   "source": [
    "score,acc = model.evaluate(X_test, y_test, verbose = 2, batch_size = 32)\n",
    "print(\"score: %.2f\" % (score))\n",
    "print(\"acc: %.2f\" % (acc))"
   ]
  },
  {
   "cell_type": "code",
   "execution_count": null,
   "metadata": {},
   "outputs": [],
   "source": []
  },
  {
   "cell_type": "code",
   "execution_count": null,
   "metadata": {},
   "outputs": [],
   "source": []
  },
  {
   "cell_type": "markdown",
   "metadata": {},
   "source": [
    "## further testing below"
   ]
  },
  {
   "cell_type": "code",
   "execution_count": 52,
   "metadata": {},
   "outputs": [
    {
     "data": {
      "text/html": [
       "<div>\n",
       "<style scoped>\n",
       "    .dataframe tbody tr th:only-of-type {\n",
       "        vertical-align: middle;\n",
       "    }\n",
       "\n",
       "    .dataframe tbody tr th {\n",
       "        vertical-align: top;\n",
       "    }\n",
       "\n",
       "    .dataframe thead th {\n",
       "        text-align: right;\n",
       "    }\n",
       "</style>\n",
       "<table border=\"1\" class=\"dataframe\">\n",
       "  <thead>\n",
       "    <tr style=\"text-align: right;\">\n",
       "      <th></th>\n",
       "      <th>signal_x</th>\n",
       "      <th>retweet_from</th>\n",
       "      <th>tweet_length</th>\n",
       "      <th>encoded_sentiment</th>\n",
       "      <th>polarity</th>\n",
       "      <th>tweet</th>\n",
       "      <th>ability</th>\n",
       "      <th>able</th>\n",
       "      <th>aboard</th>\n",
       "      <th>abort</th>\n",
       "      <th>...</th>\n",
       "      <th>you</th>\n",
       "      <th>your</th>\n",
       "      <th>yours</th>\n",
       "      <th>yourself</th>\n",
       "      <th>yr</th>\n",
       "      <th>yup</th>\n",
       "      <th>zero</th>\n",
       "      <th>zip</th>\n",
       "      <th>zone</th>\n",
       "      <th>zoo</th>\n",
       "    </tr>\n",
       "  </thead>\n",
       "  <tbody>\n",
       "    <tr>\n",
       "      <th>0</th>\n",
       "      <td>stay</td>\n",
       "      <td>137</td>\n",
       "      <td>105</td>\n",
       "      <td>1</td>\n",
       "      <td>0.366667</td>\n",
       "      <td>assuming acceleration of to but in a comfortab...</td>\n",
       "      <td>0.0</td>\n",
       "      <td>0.0</td>\n",
       "      <td>0.0</td>\n",
       "      <td>0.0</td>\n",
       "      <td>...</td>\n",
       "      <td>0.0</td>\n",
       "      <td>0.0</td>\n",
       "      <td>0.0</td>\n",
       "      <td>0.0</td>\n",
       "      <td>0.0</td>\n",
       "      <td>0.0</td>\n",
       "      <td>0.0</td>\n",
       "      <td>0.0</td>\n",
       "      <td>0.0</td>\n",
       "      <td>0.0</td>\n",
       "    </tr>\n",
       "    <tr>\n",
       "      <th>1</th>\n",
       "      <td>stay</td>\n",
       "      <td>64</td>\n",
       "      <td>113</td>\n",
       "      <td>1</td>\n",
       "      <td>0.200000</td>\n",
       "      <td>is capable of transporting satellite to orbit ...</td>\n",
       "      <td>0.0</td>\n",
       "      <td>0.0</td>\n",
       "      <td>0.0</td>\n",
       "      <td>0.0</td>\n",
       "      <td>...</td>\n",
       "      <td>0.0</td>\n",
       "      <td>0.0</td>\n",
       "      <td>0.0</td>\n",
       "      <td>0.0</td>\n",
       "      <td>0.0</td>\n",
       "      <td>0.0</td>\n",
       "      <td>0.0</td>\n",
       "      <td>0.0</td>\n",
       "      <td>0.0</td>\n",
       "      <td>0.0</td>\n",
       "    </tr>\n",
       "    <tr>\n",
       "      <th>2</th>\n",
       "      <td>stay</td>\n",
       "      <td>137</td>\n",
       "      <td>6</td>\n",
       "      <td>0</td>\n",
       "      <td>0.000000</td>\n",
       "      <td>yup</td>\n",
       "      <td>0.0</td>\n",
       "      <td>0.0</td>\n",
       "      <td>0.0</td>\n",
       "      <td>0.0</td>\n",
       "      <td>...</td>\n",
       "      <td>0.0</td>\n",
       "      <td>0.0</td>\n",
       "      <td>0.0</td>\n",
       "      <td>0.0</td>\n",
       "      <td>0.0</td>\n",
       "      <td>1.0</td>\n",
       "      <td>0.0</td>\n",
       "      <td>0.0</td>\n",
       "      <td>0.0</td>\n",
       "      <td>0.0</td>\n",
       "    </tr>\n",
       "    <tr>\n",
       "      <th>3</th>\n",
       "      <td>stay</td>\n",
       "      <td>137</td>\n",
       "      <td>7</td>\n",
       "      <td>0</td>\n",
       "      <td>0.000000</td>\n",
       "      <td>part</td>\n",
       "      <td>0.0</td>\n",
       "      <td>0.0</td>\n",
       "      <td>0.0</td>\n",
       "      <td>0.0</td>\n",
       "      <td>...</td>\n",
       "      <td>0.0</td>\n",
       "      <td>0.0</td>\n",
       "      <td>0.0</td>\n",
       "      <td>0.0</td>\n",
       "      <td>0.0</td>\n",
       "      <td>0.0</td>\n",
       "      <td>0.0</td>\n",
       "      <td>0.0</td>\n",
       "      <td>0.0</td>\n",
       "      <td>0.0</td>\n",
       "    </tr>\n",
       "    <tr>\n",
       "      <th>4</th>\n",
       "      <td>stay</td>\n",
       "      <td>137</td>\n",
       "      <td>96</td>\n",
       "      <td>1</td>\n",
       "      <td>0.650000</td>\n",
       "      <td>fly to most place on earth in under min and an...</td>\n",
       "      <td>0.0</td>\n",
       "      <td>0.0</td>\n",
       "      <td>0.0</td>\n",
       "      <td>0.0</td>\n",
       "      <td>...</td>\n",
       "      <td>0.0</td>\n",
       "      <td>0.0</td>\n",
       "      <td>0.0</td>\n",
       "      <td>0.0</td>\n",
       "      <td>0.0</td>\n",
       "      <td>0.0</td>\n",
       "      <td>0.0</td>\n",
       "      <td>0.0</td>\n",
       "      <td>0.0</td>\n",
       "      <td>0.0</td>\n",
       "    </tr>\n",
       "  </tbody>\n",
       "</table>\n",
       "<p>5 rows × 3858 columns</p>\n",
       "</div>"
      ],
      "text/plain": [
       "  signal_x  retweet_from  tweet_length  encoded_sentiment  polarity  \\\n",
       "0     stay           137           105                  1  0.366667   \n",
       "1     stay            64           113                  1  0.200000   \n",
       "2     stay           137             6                  0  0.000000   \n",
       "3     stay           137             7                  0  0.000000   \n",
       "4     stay           137            96                  1  0.650000   \n",
       "\n",
       "                                               tweet  ability  able  aboard  \\\n",
       "0  assuming acceleration of to but in a comfortab...      0.0   0.0     0.0   \n",
       "1  is capable of transporting satellite to orbit ...      0.0   0.0     0.0   \n",
       "2                                                yup      0.0   0.0     0.0   \n",
       "3                                               part      0.0   0.0     0.0   \n",
       "4  fly to most place on earth in under min and an...      0.0   0.0     0.0   \n",
       "\n",
       "   abort ...   you  your  yours  yourself   yr  yup  zero  zip  zone  zoo  \n",
       "0    0.0 ...   0.0   0.0    0.0       0.0  0.0  0.0   0.0  0.0   0.0  0.0  \n",
       "1    0.0 ...   0.0   0.0    0.0       0.0  0.0  0.0   0.0  0.0   0.0  0.0  \n",
       "2    0.0 ...   0.0   0.0    0.0       0.0  0.0  1.0   0.0  0.0   0.0  0.0  \n",
       "3    0.0 ...   0.0   0.0    0.0       0.0  0.0  0.0   0.0  0.0   0.0  0.0  \n",
       "4    0.0 ...   0.0   0.0    0.0       0.0  0.0  0.0   0.0  0.0   0.0  0.0  \n",
       "\n",
       "[5 rows x 3858 columns]"
      ]
     },
     "execution_count": 52,
     "metadata": {},
     "output_type": "execute_result"
    }
   ],
   "source": [
    "test.head()"
   ]
  },
  {
   "cell_type": "code",
   "execution_count": 53,
   "metadata": {},
   "outputs": [],
   "source": [
    "XX = test.drop(columns=['signal_x', 'tweet'])"
   ]
  },
  {
   "cell_type": "code",
   "execution_count": 55,
   "metadata": {},
   "outputs": [
    {
     "data": {
      "text/plain": [
       "(2202, 3856)"
      ]
     },
     "execution_count": 55,
     "metadata": {},
     "output_type": "execute_result"
    }
   ],
   "source": [
    "XX"
   ]
  },
  {
   "cell_type": "code",
   "execution_count": 80,
   "metadata": {
    "scrolled": true
   },
   "outputs": [],
   "source": [
    "# embed_dim = 128\n",
    "# lstm_out = 196\n",
    "\n",
    "# model = Sequential()\n",
    "# model.add(Embedding(3857, embed_dim, input_length = XX.shape[1]))\n",
    "# model.add(SpatialDropout1D(0.4))\n",
    "# model.add(LSTM(lstm_out, dropout=0.2, recurrent_dropout=0.2))\n",
    "# model.add(Dense(12, activation='tanh'))\n",
    "# model.add(Dense(3, activation='softmax'))\n",
    "# model.compile(loss = 'categorical_crossentropy', optimizer='adam',metrics = ['accuracy'])\n",
    "# print(model.summary())"
   ]
  },
  {
   "cell_type": "code",
   "execution_count": 98,
   "metadata": {},
   "outputs": [
    {
     "name": "stdout",
     "output_type": "stream",
     "text": [
      "_________________________________________________________________\n",
      "Layer (type)                 Output Shape              Param #   \n",
      "=================================================================\n",
      "dense_23 (Dense)             (None, 1929)              7440153   \n",
      "_________________________________________________________________\n",
      "dense_24 (Dense)             (None, 200)               386000    \n",
      "_________________________________________________________________\n",
      "dense_25 (Dense)             (None, 70)                14070     \n",
      "_________________________________________________________________\n",
      "dense_26 (Dense)             (None, 10)                710       \n",
      "_________________________________________________________________\n",
      "dense_27 (Dense)             (None, 3)                 33        \n",
      "=================================================================\n",
      "Total params: 7,840,966\n",
      "Trainable params: 7,840,966\n",
      "Non-trainable params: 0\n",
      "_________________________________________________________________\n",
      "None\n"
     ]
    }
   ],
   "source": [
    "# create and fit the SimpleRNN model\n",
    "model2 = Sequential()\n",
    "model2.add(Dense(1929, input_dim=3856, kernel_initializer='normal', activation='tanh'))\n",
    "model2.add(Dense(200, activation='tanh'))\n",
    "model2.add(Dense(70, activation='tanh'))\n",
    "model2.add(Dense(10, activation='tanh'))\n",
    "model2.add(Dense(3, activation='softmax'))\n",
    "model2.compile(loss='categorical_crossentropy', optimizer='adam', metrics=['accuracy'])\n",
    "print(model2.summary())"
   ]
  },
  {
   "cell_type": "code",
   "execution_count": 97,
   "metadata": {},
   "outputs": [
    {
     "name": "stdout",
     "output_type": "stream",
     "text": [
      "_________________________________________________________________\n",
      "Layer (type)                 Output Shape              Param #   \n",
      "=================================================================\n",
      "dense_19 (Dense)             (None, 1929)              7440153   \n",
      "_________________________________________________________________\n",
      "dense_20 (Dense)             (None, 100)               193000    \n",
      "_________________________________________________________________\n",
      "dense_21 (Dense)             (None, 10)                1010      \n",
      "_________________________________________________________________\n",
      "dense_22 (Dense)             (None, 3)                 33        \n",
      "=================================================================\n",
      "Total params: 7,634,196\n",
      "Trainable params: 7,634,196\n",
      "Non-trainable params: 0\n",
      "_________________________________________________________________\n",
      "None\n"
     ]
    }
   ],
   "source": [
    "# create and fit the SimpleRNN model\n",
    "model3 = Sequential()\n",
    "model3.add(Dense(1929, input_dim=3856, kernel_initializer='normal', activation='tanh'))\n",
    "model3.add(Dense(100, activation='tanh'))\n",
    "model3.add(Dense(10, activation='tanh'))\n",
    "model3.add(Dense(3, activation='softmax'))\n",
    "model3.compile(loss='categorical_crossentropy', optimizer='adam', metrics=['accuracy'])\n",
    "print(model3.summary())"
   ]
  },
  {
   "cell_type": "code",
   "execution_count": 101,
   "metadata": {},
   "outputs": [
    {
     "name": "stdout",
     "output_type": "stream",
     "text": [
      "Train on 1584 samples, validate on 177 samples\n",
      "Epoch 1/20\n",
      "1584/1584 [==============================] - 7s 5ms/step - loss: 1.1257 - acc: 0.3876 - val_loss: 1.0996 - val_acc: 0.3842\n",
      "Epoch 2/20\n",
      "1584/1584 [==============================] - 3s 2ms/step - loss: 1.0921 - acc: 0.4059 - val_loss: 1.0934 - val_acc: 0.3842\n",
      "Epoch 3/20\n",
      "1584/1584 [==============================] - 3s 2ms/step - loss: 1.0900 - acc: 0.4059 - val_loss: 1.0933 - val_acc: 0.3842\n",
      "Epoch 4/20\n",
      "1584/1584 [==============================] - 3s 2ms/step - loss: 1.0883 - acc: 0.4059 - val_loss: 1.0931 - val_acc: 0.3842\n",
      "Epoch 5/20\n",
      "1584/1584 [==============================] - 3s 2ms/step - loss: 1.0869 - acc: 0.4059 - val_loss: 1.1011 - val_acc: 0.3842\n",
      "Epoch 6/20\n",
      "1584/1584 [==============================] - 4s 2ms/step - loss: 1.0871 - acc: 0.4059 - val_loss: 1.0938 - val_acc: 0.3842\n",
      "Epoch 7/20\n",
      "1584/1584 [==============================] - 3s 2ms/step - loss: 1.0880 - acc: 0.4059 - val_loss: 1.0942 - val_acc: 0.3842\n",
      "Epoch 8/20\n",
      "1584/1584 [==============================] - 3s 2ms/step - loss: 1.0872 - acc: 0.4059 - val_loss: 1.0946 - val_acc: 0.3842\n",
      "Epoch 9/20\n",
      "1584/1584 [==============================] - 3s 2ms/step - loss: 1.0879 - acc: 0.4059 - val_loss: 1.0957 - val_acc: 0.3842\n",
      "Epoch 10/20\n",
      "1584/1584 [==============================] - 4s 2ms/step - loss: 1.0880 - acc: 0.4059 - val_loss: 1.0943 - val_acc: 0.3842\n",
      "Epoch 11/20\n",
      "1584/1584 [==============================] - 4s 2ms/step - loss: 1.0867 - acc: 0.4059 - val_loss: 1.1000 - val_acc: 0.3842\n",
      "Epoch 12/20\n",
      "1584/1584 [==============================] - 3s 2ms/step - loss: 1.0892 - acc: 0.4059 - val_loss: 1.0974 - val_acc: 0.3842\n",
      "Epoch 13/20\n",
      "1584/1584 [==============================] - 4s 2ms/step - loss: 1.0867 - acc: 0.4059 - val_loss: 1.0938 - val_acc: 0.3842\n",
      "Epoch 14/20\n",
      "1584/1584 [==============================] - 4s 2ms/step - loss: 1.0878 - acc: 0.4059 - val_loss: 1.0974 - val_acc: 0.3842\n",
      "Epoch 15/20\n",
      "1584/1584 [==============================] - 3s 2ms/step - loss: 1.0885 - acc: 0.4059 - val_loss: 1.0995 - val_acc: 0.3842\n",
      "Epoch 16/20\n",
      "1584/1584 [==============================] - 3s 2ms/step - loss: 1.0878 - acc: 0.4059 - val_loss: 1.0950 - val_acc: 0.3842\n",
      "Epoch 17/20\n",
      "1584/1584 [==============================] - 3s 2ms/step - loss: 1.0879 - acc: 0.4059 - val_loss: 1.0939 - val_acc: 0.3842\n",
      "Epoch 18/20\n",
      "1584/1584 [==============================] - 4s 2ms/step - loss: 1.0879 - acc: 0.4059 - val_loss: 1.0949 - val_acc: 0.3842\n",
      "Epoch 19/20\n",
      "1584/1584 [==============================] - 3s 2ms/step - loss: 1.0872 - acc: 0.3996 - val_loss: 1.0984 - val_acc: 0.3842\n",
      "Epoch 20/20\n",
      "1584/1584 [==============================] - 3s 2ms/step - loss: 1.0877 - acc: 0.4059 - val_loss: 1.0947 - val_acc: 0.3842\n"
     ]
    },
    {
     "data": {
      "text/plain": [
       "<keras.callbacks.History at 0x1a365ef198>"
      ]
     },
     "execution_count": 101,
     "metadata": {},
     "output_type": "execute_result"
    }
   ],
   "source": [
    "model2.fit(X_train, y_train, epochs=20, validation_split=.1, batch_size=44)"
   ]
  },
  {
   "cell_type": "code",
   "execution_count": 102,
   "metadata": {},
   "outputs": [
    {
     "name": "stdout",
     "output_type": "stream",
     "text": [
      "Train on 1584 samples, validate on 177 samples\n",
      "Epoch 1/20\n",
      "1584/1584 [==============================] - 5s 3ms/step - loss: 1.1570 - acc: 0.3756 - val_loss: 1.1105 - val_acc: 0.3842\n",
      "Epoch 2/20\n",
      "1584/1584 [==============================] - 3s 2ms/step - loss: 1.0921 - acc: 0.4053 - val_loss: 1.1004 - val_acc: 0.3842\n",
      "Epoch 3/20\n",
      "1584/1584 [==============================] - 3s 2ms/step - loss: 1.0879 - acc: 0.4059 - val_loss: 1.1026 - val_acc: 0.3842\n",
      "Epoch 4/20\n",
      "1584/1584 [==============================] - 4s 2ms/step - loss: 1.0872 - acc: 0.3971 - val_loss: 1.1033 - val_acc: 0.3842\n",
      "Epoch 5/20\n",
      "1584/1584 [==============================] - 3s 2ms/step - loss: 1.0884 - acc: 0.4059 - val_loss: 1.0968 - val_acc: 0.3842\n",
      "Epoch 6/20\n",
      "1584/1584 [==============================] - 3s 2ms/step - loss: 1.0867 - acc: 0.4059 - val_loss: 1.1028 - val_acc: 0.3842\n",
      "Epoch 7/20\n",
      "1584/1584 [==============================] - 4s 2ms/step - loss: 1.0853 - acc: 0.4040 - val_loss: 1.1034 - val_acc: 0.3842\n",
      "Epoch 8/20\n",
      "1584/1584 [==============================] - 4s 2ms/step - loss: 1.0861 - acc: 0.4059 - val_loss: 1.1015 - val_acc: 0.3842\n",
      "Epoch 9/20\n",
      "1584/1584 [==============================] - 3s 2ms/step - loss: 1.0867 - acc: 0.3971 - val_loss: 1.0944 - val_acc: 0.3842\n",
      "Epoch 10/20\n",
      "1584/1584 [==============================] - 3s 2ms/step - loss: 1.0867 - acc: 0.4059 - val_loss: 1.0947 - val_acc: 0.3842\n",
      "Epoch 11/20\n",
      "1584/1584 [==============================] - 4s 2ms/step - loss: 1.0864 - acc: 0.4059 - val_loss: 1.0969 - val_acc: 0.3842\n",
      "Epoch 12/20\n",
      "1584/1584 [==============================] - 4s 3ms/step - loss: 1.0841 - acc: 0.4059 - val_loss: 1.0963 - val_acc: 0.3842\n",
      "Epoch 13/20\n",
      "1584/1584 [==============================] - 3s 2ms/step - loss: 1.0862 - acc: 0.4059 - val_loss: 1.0924 - val_acc: 0.3842\n",
      "Epoch 14/20\n",
      "1584/1584 [==============================] - 3s 2ms/step - loss: 1.0858 - acc: 0.4059 - val_loss: 1.0970 - val_acc: 0.3842\n",
      "Epoch 15/20\n",
      "1584/1584 [==============================] - 3s 2ms/step - loss: 1.0864 - acc: 0.4059 - val_loss: 1.0952 - val_acc: 0.3842\n",
      "Epoch 16/20\n",
      "1584/1584 [==============================] - 3s 2ms/step - loss: 1.0892 - acc: 0.4072 - val_loss: 1.1033 - val_acc: 0.3842\n",
      "Epoch 17/20\n",
      "1584/1584 [==============================] - 3s 2ms/step - loss: 1.0857 - acc: 0.4059 - val_loss: 1.0991 - val_acc: 0.3842\n",
      "Epoch 18/20\n",
      "1584/1584 [==============================] - 3s 2ms/step - loss: 1.0858 - acc: 0.4059 - val_loss: 1.0986 - val_acc: 0.3842\n",
      "Epoch 19/20\n",
      "1584/1584 [==============================] - 3s 2ms/step - loss: 1.0858 - acc: 0.4059 - val_loss: 1.1021 - val_acc: 0.3842\n",
      "Epoch 20/20\n",
      "1584/1584 [==============================] - 3s 2ms/step - loss: 1.0856 - acc: 0.4059 - val_loss: 1.1043 - val_acc: 0.3842\n"
     ]
    },
    {
     "data": {
      "text/plain": [
       "<keras.callbacks.History at 0x1a41a469b0>"
      ]
     },
     "execution_count": 102,
     "metadata": {},
     "output_type": "execute_result"
    }
   ],
   "source": [
    "model3.fit(X_train, y_train, epochs=20, validation_split=.1, batch_size=44)"
   ]
  },
  {
   "cell_type": "code",
   "execution_count": null,
   "metadata": {},
   "outputs": [],
   "source": []
  },
  {
   "cell_type": "code",
   "execution_count": null,
   "metadata": {},
   "outputs": [],
   "source": []
  },
  {
   "cell_type": "code",
   "execution_count": 100,
   "metadata": {},
   "outputs": [
    {
     "name": "stdout",
     "output_type": "stream",
     "text": [
      "(1761, 3856) (1761, 3)\n",
      "(441, 3856) (441, 3)\n"
     ]
    }
   ],
   "source": [
    "yy = pd.get_dummies(test['signal_x']).values\n",
    "X_train, X_test, y_train, y_test = train_test_split(XX.values, yy, test_size = 0.20, random_state = 42)\n",
    "print(X_train.shape, y_train.shape)\n",
    "print(X_test.shape, y_test.shape)"
   ]
  },
  {
   "cell_type": "code",
   "execution_count": 91,
   "metadata": {},
   "outputs": [],
   "source": [
    "model.fit(X_train, y_train, epochs=20, validation_split=0.1, batch_size=32, verbose=2)"
   ]
  },
  {
   "cell_type": "code",
   "execution_count": null,
   "metadata": {},
   "outputs": [],
   "source": [
    "score,acc = model.evaluate(X_test, y_test, verbose = 2, batch_size = 32)\n",
    "print(\"score: %.2f\" % (score))\n",
    "print(\"acc: %.2f\" % (acc))"
   ]
  },
  {
   "cell_type": "code",
   "execution_count": 106,
   "metadata": {},
   "outputs": [
    {
     "name": "stdout",
     "output_type": "stream",
     "text": [
      "_________________________________________________________________\n",
      "Layer (type)                 Output Shape              Param #   \n",
      "=================================================================\n",
      "embedding_6 (Embedding)      (None, 3856, 128)         493696    \n",
      "_________________________________________________________________\n",
      "spatial_dropout1d_5 (Spatial (None, 3856, 128)         0         \n",
      "_________________________________________________________________\n",
      "lstm_5 (LSTM)                (None, 196)               254800    \n",
      "_________________________________________________________________\n",
      "dense_7 (Dense)              (None, 12)                2364      \n",
      "_________________________________________________________________\n",
      "dense_8 (Dense)              (None, 3)                 39        \n",
      "=================================================================\n",
      "Total params: 750,899\n",
      "Trainable params: 750,899\n",
      "Non-trainable params: 0\n",
      "_________________________________________________________________\n"
     ]
    }
   ],
   "source": [
    "model.summary()"
   ]
  },
  {
   "cell_type": "code",
   "execution_count": null,
   "metadata": {},
   "outputs": [],
   "source": []
  },
  {
   "cell_type": "code",
   "execution_count": null,
   "metadata": {},
   "outputs": [],
   "source": []
  },
  {
   "cell_type": "code",
   "execution_count": null,
   "metadata": {},
   "outputs": [],
   "source": []
  }
 ],
 "metadata": {
  "kernelspec": {
   "display_name": "Python 3",
   "language": "python",
   "name": "python3"
  },
  "language_info": {
   "codemirror_mode": {
    "name": "ipython",
    "version": 3
   },
   "file_extension": ".py",
   "mimetype": "text/x-python",
   "name": "python",
   "nbconvert_exporter": "python",
   "pygments_lexer": "ipython3",
   "version": "3.6.7"
  }
 },
 "nbformat": 4,
 "nbformat_minor": 2
}
