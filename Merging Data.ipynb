{
 "cells": [
  {
   "cell_type": "code",
   "execution_count": 1,
   "metadata": {},
   "outputs": [],
   "source": [
    "from nltk.corpus import stopwords\n",
    "import nltk\n",
    "from nltk import word_tokenize, FreqDist\n",
    "from nltk.stem import WordNetLemmatizer\n",
    "from sklearn.decomposition import PCA\n",
    "from matplotlib import pyplot as plt\n",
    "from gensim.models import Word2Vec\n",
    "import pandas as pd"
   ]
  },
  {
   "cell_type": "code",
   "execution_count": 2,
   "metadata": {},
   "outputs": [],
   "source": [
    "text = pd.read_csv('combined_text_data.csv')\n",
    "stock_orignial = pd.read_csv('stock_data.csv')\n",
    "stock = pd.read_csv('interpolated_stock_data.csv')"
   ]
  },
  {
   "cell_type": "code",
   "execution_count": 3,
   "metadata": {
    "scrolled": true
   },
   "outputs": [],
   "source": [
    "# stock = stock.iloc[::-1]"
   ]
  },
  {
   "cell_type": "code",
   "execution_count": 4,
   "metadata": {},
   "outputs": [],
   "source": [
    "stock.rename(columns={'Unnamed: 0':'Date'}, inplace=True)"
   ]
  },
  {
   "cell_type": "code",
   "execution_count": 5,
   "metadata": {},
   "outputs": [
    {
     "data": {
      "text/plain": [
       "(1776, 2)"
      ]
     },
     "execution_count": 5,
     "metadata": {},
     "output_type": "execute_result"
    }
   ],
   "source": [
    "stock.shape"
   ]
  },
  {
   "cell_type": "code",
   "execution_count": 6,
   "metadata": {},
   "outputs": [
    {
     "data": {
      "text/html": [
       "<div>\n",
       "<style scoped>\n",
       "    .dataframe tbody tr th:only-of-type {\n",
       "        vertical-align: middle;\n",
       "    }\n",
       "\n",
       "    .dataframe tbody tr th {\n",
       "        vertical-align: top;\n",
       "    }\n",
       "\n",
       "    .dataframe thead th {\n",
       "        text-align: right;\n",
       "    }\n",
       "</style>\n",
       "<table border=\"1\" class=\"dataframe\">\n",
       "  <thead>\n",
       "    <tr style=\"text-align: right;\">\n",
       "      <th></th>\n",
       "      <th>Date</th>\n",
       "      <th>signal</th>\n",
       "    </tr>\n",
       "  </thead>\n",
       "  <tbody>\n",
       "    <tr>\n",
       "      <th>0</th>\n",
       "      <td>2012-11-19</td>\n",
       "      <td>up</td>\n",
       "    </tr>\n",
       "    <tr>\n",
       "      <th>1</th>\n",
       "      <td>2012-11-20</td>\n",
       "      <td>stay</td>\n",
       "    </tr>\n",
       "    <tr>\n",
       "      <th>2</th>\n",
       "      <td>2012-11-21</td>\n",
       "      <td>stay</td>\n",
       "    </tr>\n",
       "    <tr>\n",
       "      <th>3</th>\n",
       "      <td>2012-11-22</td>\n",
       "      <td>down</td>\n",
       "    </tr>\n",
       "    <tr>\n",
       "      <th>4</th>\n",
       "      <td>2012-11-23</td>\n",
       "      <td>down</td>\n",
       "    </tr>\n",
       "  </tbody>\n",
       "</table>\n",
       "</div>"
      ],
      "text/plain": [
       "         Date signal\n",
       "0  2012-11-19     up\n",
       "1  2012-11-20   stay\n",
       "2  2012-11-21   stay\n",
       "3  2012-11-22   down\n",
       "4  2012-11-23   down"
      ]
     },
     "execution_count": 6,
     "metadata": {},
     "output_type": "execute_result"
    }
   ],
   "source": [
    "stock.head()"
   ]
  },
  {
   "cell_type": "code",
   "execution_count": 7,
   "metadata": {},
   "outputs": [
    {
     "data": {
      "text/plain": [
       "(3205, 3859)"
      ]
     },
     "execution_count": 7,
     "metadata": {},
     "output_type": "execute_result"
    }
   ],
   "source": [
    "text.shape"
   ]
  },
  {
   "cell_type": "code",
   "execution_count": 8,
   "metadata": {},
   "outputs": [
    {
     "data": {
      "text/plain": [
       "Index(['Time', 'retweet_from', 'tweet_length', 'encoded_sentiment',\n",
       "       'sentiment', 'polarity', 'tweet', 'ability', 'able', 'aboard',\n",
       "       ...\n",
       "       'you', 'your', 'yours', 'yourself', 'yr', 'yup', 'zero', 'zip', 'zone',\n",
       "       'zoo'],\n",
       "      dtype='object', length=3859)"
      ]
     },
     "execution_count": 8,
     "metadata": {},
     "output_type": "execute_result"
    }
   ],
   "source": [
    "text.columns"
   ]
  },
  {
   "cell_type": "code",
   "execution_count": 9,
   "metadata": {},
   "outputs": [
    {
     "data": {
      "text/html": [
       "<div>\n",
       "<style scoped>\n",
       "    .dataframe tbody tr th:only-of-type {\n",
       "        vertical-align: middle;\n",
       "    }\n",
       "\n",
       "    .dataframe tbody tr th {\n",
       "        vertical-align: top;\n",
       "    }\n",
       "\n",
       "    .dataframe thead th {\n",
       "        text-align: right;\n",
       "    }\n",
       "</style>\n",
       "<table border=\"1\" class=\"dataframe\">\n",
       "  <thead>\n",
       "    <tr style=\"text-align: right;\">\n",
       "      <th></th>\n",
       "      <th>Time</th>\n",
       "      <th>retweet_from</th>\n",
       "      <th>tweet_length</th>\n",
       "      <th>encoded_sentiment</th>\n",
       "      <th>sentiment</th>\n",
       "      <th>polarity</th>\n",
       "      <th>tweet</th>\n",
       "      <th>ability</th>\n",
       "      <th>able</th>\n",
       "      <th>aboard</th>\n",
       "      <th>...</th>\n",
       "      <th>you</th>\n",
       "      <th>your</th>\n",
       "      <th>yours</th>\n",
       "      <th>yourself</th>\n",
       "      <th>yr</th>\n",
       "      <th>yup</th>\n",
       "      <th>zero</th>\n",
       "      <th>zip</th>\n",
       "      <th>zone</th>\n",
       "      <th>zoo</th>\n",
       "    </tr>\n",
       "  </thead>\n",
       "  <tbody>\n",
       "    <tr>\n",
       "      <th>0</th>\n",
       "      <td>2017-09-29</td>\n",
       "      <td>NaN</td>\n",
       "      <td>105</td>\n",
       "      <td>1</td>\n",
       "      <td>positive</td>\n",
       "      <td>0.366667</td>\n",
       "      <td>Assuming max acceleration of 2 to 3 g's, but i...</td>\n",
       "      <td>0.0</td>\n",
       "      <td>0.0</td>\n",
       "      <td>0.0</td>\n",
       "      <td>...</td>\n",
       "      <td>0.0</td>\n",
       "      <td>0.0</td>\n",
       "      <td>0.0</td>\n",
       "      <td>0.0</td>\n",
       "      <td>0.0</td>\n",
       "      <td>0.0</td>\n",
       "      <td>0.0</td>\n",
       "      <td>0.0</td>\n",
       "      <td>0.0</td>\n",
       "      <td>0.0</td>\n",
       "    </tr>\n",
       "    <tr>\n",
       "      <th>1</th>\n",
       "      <td>2017-09-29</td>\n",
       "      <td>SpaceX</td>\n",
       "      <td>113</td>\n",
       "      <td>1</td>\n",
       "      <td>positive</td>\n",
       "      <td>0.200000</td>\n",
       "      <td>BFR is capable of transporting satellites to o...</td>\n",
       "      <td>0.0</td>\n",
       "      <td>0.0</td>\n",
       "      <td>0.0</td>\n",
       "      <td>...</td>\n",
       "      <td>0.0</td>\n",
       "      <td>0.0</td>\n",
       "      <td>0.0</td>\n",
       "      <td>0.0</td>\n",
       "      <td>0.0</td>\n",
       "      <td>0.0</td>\n",
       "      <td>0.0</td>\n",
       "      <td>0.0</td>\n",
       "      <td>0.0</td>\n",
       "      <td>0.0</td>\n",
       "    </tr>\n",
       "    <tr>\n",
       "      <th>2</th>\n",
       "      <td>2017-09-29</td>\n",
       "      <td>NaN</td>\n",
       "      <td>6</td>\n",
       "      <td>0</td>\n",
       "      <td>neutral</td>\n",
       "      <td>0.000000</td>\n",
       "      <td>Yup :)</td>\n",
       "      <td>0.0</td>\n",
       "      <td>0.0</td>\n",
       "      <td>0.0</td>\n",
       "      <td>...</td>\n",
       "      <td>0.0</td>\n",
       "      <td>0.0</td>\n",
       "      <td>0.0</td>\n",
       "      <td>0.0</td>\n",
       "      <td>0.0</td>\n",
       "      <td>1.0</td>\n",
       "      <td>0.0</td>\n",
       "      <td>0.0</td>\n",
       "      <td>0.0</td>\n",
       "      <td>0.0</td>\n",
       "    </tr>\n",
       "    <tr>\n",
       "      <th>3</th>\n",
       "      <td>2017-09-29</td>\n",
       "      <td>NaN</td>\n",
       "      <td>7</td>\n",
       "      <td>0</td>\n",
       "      <td>neutral</td>\n",
       "      <td>0.000000</td>\n",
       "      <td>Part 2</td>\n",
       "      <td>0.0</td>\n",
       "      <td>0.0</td>\n",
       "      <td>0.0</td>\n",
       "      <td>...</td>\n",
       "      <td>0.0</td>\n",
       "      <td>0.0</td>\n",
       "      <td>0.0</td>\n",
       "      <td>0.0</td>\n",
       "      <td>0.0</td>\n",
       "      <td>0.0</td>\n",
       "      <td>0.0</td>\n",
       "      <td>0.0</td>\n",
       "      <td>0.0</td>\n",
       "      <td>0.0</td>\n",
       "    </tr>\n",
       "    <tr>\n",
       "      <th>4</th>\n",
       "      <td>2017-09-29</td>\n",
       "      <td>NaN</td>\n",
       "      <td>96</td>\n",
       "      <td>1</td>\n",
       "      <td>positive</td>\n",
       "      <td>0.650000</td>\n",
       "      <td>Fly to most places on Earth in under 30 mins a...</td>\n",
       "      <td>0.0</td>\n",
       "      <td>0.0</td>\n",
       "      <td>0.0</td>\n",
       "      <td>...</td>\n",
       "      <td>0.0</td>\n",
       "      <td>0.0</td>\n",
       "      <td>0.0</td>\n",
       "      <td>0.0</td>\n",
       "      <td>0.0</td>\n",
       "      <td>0.0</td>\n",
       "      <td>0.0</td>\n",
       "      <td>0.0</td>\n",
       "      <td>0.0</td>\n",
       "      <td>0.0</td>\n",
       "    </tr>\n",
       "  </tbody>\n",
       "</table>\n",
       "<p>5 rows × 3859 columns</p>\n",
       "</div>"
      ],
      "text/plain": [
       "         Time retweet_from  tweet_length  encoded_sentiment sentiment  \\\n",
       "0  2017-09-29          NaN           105                  1  positive   \n",
       "1  2017-09-29       SpaceX           113                  1  positive   \n",
       "2  2017-09-29          NaN             6                  0   neutral   \n",
       "3  2017-09-29          NaN             7                  0   neutral   \n",
       "4  2017-09-29          NaN            96                  1  positive   \n",
       "\n",
       "   polarity                                              tweet  ability  able  \\\n",
       "0  0.366667  Assuming max acceleration of 2 to 3 g's, but i...      0.0   0.0   \n",
       "1  0.200000  BFR is capable of transporting satellites to o...      0.0   0.0   \n",
       "2  0.000000                                             Yup :)      0.0   0.0   \n",
       "3  0.000000                                            Part 2       0.0   0.0   \n",
       "4  0.650000  Fly to most places on Earth in under 30 mins a...      0.0   0.0   \n",
       "\n",
       "   aboard ...   you  your  yours  yourself   yr  yup  zero  zip  zone  zoo  \n",
       "0     0.0 ...   0.0   0.0    0.0       0.0  0.0  0.0   0.0  0.0   0.0  0.0  \n",
       "1     0.0 ...   0.0   0.0    0.0       0.0  0.0  0.0   0.0  0.0   0.0  0.0  \n",
       "2     0.0 ...   0.0   0.0    0.0       0.0  0.0  1.0   0.0  0.0   0.0  0.0  \n",
       "3     0.0 ...   0.0   0.0    0.0       0.0  0.0  0.0   0.0  0.0   0.0  0.0  \n",
       "4     0.0 ...   0.0   0.0    0.0       0.0  0.0  0.0   0.0  0.0   0.0  0.0  \n",
       "\n",
       "[5 rows x 3859 columns]"
      ]
     },
     "execution_count": 9,
     "metadata": {},
     "output_type": "execute_result"
    }
   ],
   "source": [
    "text.head()"
   ]
  },
  {
   "cell_type": "code",
   "execution_count": 10,
   "metadata": {
    "scrolled": true
   },
   "outputs": [],
   "source": [
    "stock.set_index('Date', inplace=True)"
   ]
  },
  {
   "cell_type": "code",
   "execution_count": 11,
   "metadata": {},
   "outputs": [],
   "source": [
    "idx = pd.date_range('2012-11-19', '2017-09-29')\n",
    "\n",
    "# s = pd.Series({'09-02-2013': 2,\n",
    "#                '09-03-2013': 10,\n",
    "#                '09-06-2013': 5,\n",
    "#                '09-07-2013': 1})\n",
    "\n",
    "# s.index = pd.DatetimeIndex(s.index)\n",
    "# s = s.reindex(idx, fill_value='NaN')\n",
    "# print(s)"
   ]
  },
  {
   "cell_type": "code",
   "execution_count": 12,
   "metadata": {},
   "outputs": [],
   "source": [
    "stock.index = pd.DatetimeIndex(stock.index)"
   ]
  },
  {
   "cell_type": "code",
   "execution_count": 13,
   "metadata": {},
   "outputs": [],
   "source": [
    "stock = stock.reindex(idx, fill_value='NaN')"
   ]
  },
  {
   "cell_type": "code",
   "execution_count": 22,
   "metadata": {},
   "outputs": [],
   "source": [
    "stock.index.name = 'Date'"
   ]
  },
  {
   "cell_type": "markdown",
   "metadata": {},
   "source": [
    "---"
   ]
  },
  {
   "cell_type": "code",
   "execution_count": 15,
   "metadata": {
    "scrolled": false
   },
   "outputs": [],
   "source": [
    "text.rename(columns={'Time':'Date'}, inplace=True)"
   ]
  },
  {
   "cell_type": "code",
   "execution_count": 25,
   "metadata": {},
   "outputs": [],
   "source": [
    "text = text.set_index('Date')"
   ]
  },
  {
   "cell_type": "code",
   "execution_count": 28,
   "metadata": {},
   "outputs": [],
   "source": [
    "text.index = pd.DatetimeIndex(text.index)"
   ]
  },
  {
   "cell_type": "code",
   "execution_count": 29,
   "metadata": {},
   "outputs": [
    {
     "data": {
      "text/html": [
       "<div>\n",
       "<style scoped>\n",
       "    .dataframe tbody tr th:only-of-type {\n",
       "        vertical-align: middle;\n",
       "    }\n",
       "\n",
       "    .dataframe tbody tr th {\n",
       "        vertical-align: top;\n",
       "    }\n",
       "\n",
       "    .dataframe thead th {\n",
       "        text-align: right;\n",
       "    }\n",
       "</style>\n",
       "<table border=\"1\" class=\"dataframe\">\n",
       "  <thead>\n",
       "    <tr style=\"text-align: right;\">\n",
       "      <th></th>\n",
       "      <th>signal</th>\n",
       "    </tr>\n",
       "    <tr>\n",
       "      <th>Date</th>\n",
       "      <th></th>\n",
       "    </tr>\n",
       "  </thead>\n",
       "  <tbody>\n",
       "    <tr>\n",
       "      <th>2012-11-19</th>\n",
       "      <td>up</td>\n",
       "    </tr>\n",
       "    <tr>\n",
       "      <th>2012-11-20</th>\n",
       "      <td>stay</td>\n",
       "    </tr>\n",
       "    <tr>\n",
       "      <th>2012-11-21</th>\n",
       "      <td>stay</td>\n",
       "    </tr>\n",
       "    <tr>\n",
       "      <th>2012-11-22</th>\n",
       "      <td>down</td>\n",
       "    </tr>\n",
       "    <tr>\n",
       "      <th>2012-11-23</th>\n",
       "      <td>down</td>\n",
       "    </tr>\n",
       "  </tbody>\n",
       "</table>\n",
       "</div>"
      ],
      "text/plain": [
       "           signal\n",
       "Date             \n",
       "2012-11-19     up\n",
       "2012-11-20   stay\n",
       "2012-11-21   stay\n",
       "2012-11-22   down\n",
       "2012-11-23   down"
      ]
     },
     "execution_count": 29,
     "metadata": {},
     "output_type": "execute_result"
    }
   ],
   "source": [
    "stock.head()"
   ]
  },
  {
   "cell_type": "code",
   "execution_count": 30,
   "metadata": {},
   "outputs": [],
   "source": [
    "take_2 = pd.merge(text, stock, on='Date', how='left')"
   ]
  },
  {
   "cell_type": "code",
   "execution_count": 31,
   "metadata": {},
   "outputs": [
    {
     "data": {
      "text/plain": [
       "(3205, 3859)"
      ]
     },
     "execution_count": 31,
     "metadata": {},
     "output_type": "execute_result"
    }
   ],
   "source": [
    "take_2.shape"
   ]
  },
  {
   "cell_type": "code",
   "execution_count": 32,
   "metadata": {},
   "outputs": [
    {
     "data": {
      "text/html": [
       "<div>\n",
       "<style scoped>\n",
       "    .dataframe tbody tr th:only-of-type {\n",
       "        vertical-align: middle;\n",
       "    }\n",
       "\n",
       "    .dataframe tbody tr th {\n",
       "        vertical-align: top;\n",
       "    }\n",
       "\n",
       "    .dataframe thead th {\n",
       "        text-align: right;\n",
       "    }\n",
       "</style>\n",
       "<table border=\"1\" class=\"dataframe\">\n",
       "  <thead>\n",
       "    <tr style=\"text-align: right;\">\n",
       "      <th></th>\n",
       "      <th>retweet_from</th>\n",
       "      <th>tweet_length</th>\n",
       "      <th>encoded_sentiment</th>\n",
       "      <th>sentiment</th>\n",
       "      <th>polarity</th>\n",
       "      <th>tweet</th>\n",
       "      <th>ability</th>\n",
       "      <th>able</th>\n",
       "      <th>aboard</th>\n",
       "      <th>abort</th>\n",
       "      <th>...</th>\n",
       "      <th>your</th>\n",
       "      <th>yours</th>\n",
       "      <th>yourself</th>\n",
       "      <th>yr</th>\n",
       "      <th>yup</th>\n",
       "      <th>zero</th>\n",
       "      <th>zip</th>\n",
       "      <th>zone</th>\n",
       "      <th>zoo</th>\n",
       "      <th>signal_y</th>\n",
       "    </tr>\n",
       "    <tr>\n",
       "      <th>Date</th>\n",
       "      <th></th>\n",
       "      <th></th>\n",
       "      <th></th>\n",
       "      <th></th>\n",
       "      <th></th>\n",
       "      <th></th>\n",
       "      <th></th>\n",
       "      <th></th>\n",
       "      <th></th>\n",
       "      <th></th>\n",
       "      <th></th>\n",
       "      <th></th>\n",
       "      <th></th>\n",
       "      <th></th>\n",
       "      <th></th>\n",
       "      <th></th>\n",
       "      <th></th>\n",
       "      <th></th>\n",
       "      <th></th>\n",
       "      <th></th>\n",
       "      <th></th>\n",
       "    </tr>\n",
       "  </thead>\n",
       "  <tbody>\n",
       "    <tr>\n",
       "      <th>2017-09-29</th>\n",
       "      <td>NaN</td>\n",
       "      <td>105</td>\n",
       "      <td>1</td>\n",
       "      <td>positive</td>\n",
       "      <td>0.366667</td>\n",
       "      <td>Assuming max acceleration of 2 to 3 g's, but i...</td>\n",
       "      <td>0.0</td>\n",
       "      <td>0.0</td>\n",
       "      <td>0.0</td>\n",
       "      <td>0.0</td>\n",
       "      <td>...</td>\n",
       "      <td>0.0</td>\n",
       "      <td>0.0</td>\n",
       "      <td>0.0</td>\n",
       "      <td>0.0</td>\n",
       "      <td>0.0</td>\n",
       "      <td>0.0</td>\n",
       "      <td>0.0</td>\n",
       "      <td>0.0</td>\n",
       "      <td>0.0</td>\n",
       "      <td>stay</td>\n",
       "    </tr>\n",
       "    <tr>\n",
       "      <th>2017-09-29</th>\n",
       "      <td>SpaceX</td>\n",
       "      <td>113</td>\n",
       "      <td>1</td>\n",
       "      <td>positive</td>\n",
       "      <td>0.200000</td>\n",
       "      <td>BFR is capable of transporting satellites to o...</td>\n",
       "      <td>0.0</td>\n",
       "      <td>0.0</td>\n",
       "      <td>0.0</td>\n",
       "      <td>0.0</td>\n",
       "      <td>...</td>\n",
       "      <td>0.0</td>\n",
       "      <td>0.0</td>\n",
       "      <td>0.0</td>\n",
       "      <td>0.0</td>\n",
       "      <td>0.0</td>\n",
       "      <td>0.0</td>\n",
       "      <td>0.0</td>\n",
       "      <td>0.0</td>\n",
       "      <td>0.0</td>\n",
       "      <td>stay</td>\n",
       "    </tr>\n",
       "    <tr>\n",
       "      <th>2017-09-29</th>\n",
       "      <td>NaN</td>\n",
       "      <td>6</td>\n",
       "      <td>0</td>\n",
       "      <td>neutral</td>\n",
       "      <td>0.000000</td>\n",
       "      <td>Yup :)</td>\n",
       "      <td>0.0</td>\n",
       "      <td>0.0</td>\n",
       "      <td>0.0</td>\n",
       "      <td>0.0</td>\n",
       "      <td>...</td>\n",
       "      <td>0.0</td>\n",
       "      <td>0.0</td>\n",
       "      <td>0.0</td>\n",
       "      <td>0.0</td>\n",
       "      <td>1.0</td>\n",
       "      <td>0.0</td>\n",
       "      <td>0.0</td>\n",
       "      <td>0.0</td>\n",
       "      <td>0.0</td>\n",
       "      <td>stay</td>\n",
       "    </tr>\n",
       "    <tr>\n",
       "      <th>2017-09-29</th>\n",
       "      <td>NaN</td>\n",
       "      <td>7</td>\n",
       "      <td>0</td>\n",
       "      <td>neutral</td>\n",
       "      <td>0.000000</td>\n",
       "      <td>Part 2</td>\n",
       "      <td>0.0</td>\n",
       "      <td>0.0</td>\n",
       "      <td>0.0</td>\n",
       "      <td>0.0</td>\n",
       "      <td>...</td>\n",
       "      <td>0.0</td>\n",
       "      <td>0.0</td>\n",
       "      <td>0.0</td>\n",
       "      <td>0.0</td>\n",
       "      <td>0.0</td>\n",
       "      <td>0.0</td>\n",
       "      <td>0.0</td>\n",
       "      <td>0.0</td>\n",
       "      <td>0.0</td>\n",
       "      <td>stay</td>\n",
       "    </tr>\n",
       "    <tr>\n",
       "      <th>2017-09-29</th>\n",
       "      <td>NaN</td>\n",
       "      <td>96</td>\n",
       "      <td>1</td>\n",
       "      <td>positive</td>\n",
       "      <td>0.650000</td>\n",
       "      <td>Fly to most places on Earth in under 30 mins a...</td>\n",
       "      <td>0.0</td>\n",
       "      <td>0.0</td>\n",
       "      <td>0.0</td>\n",
       "      <td>0.0</td>\n",
       "      <td>...</td>\n",
       "      <td>0.0</td>\n",
       "      <td>0.0</td>\n",
       "      <td>0.0</td>\n",
       "      <td>0.0</td>\n",
       "      <td>0.0</td>\n",
       "      <td>0.0</td>\n",
       "      <td>0.0</td>\n",
       "      <td>0.0</td>\n",
       "      <td>0.0</td>\n",
       "      <td>stay</td>\n",
       "    </tr>\n",
       "    <tr>\n",
       "      <th>2017-09-29</th>\n",
       "      <td>SpaceX</td>\n",
       "      <td>80</td>\n",
       "      <td>1</td>\n",
       "      <td>positive</td>\n",
       "      <td>0.125000</td>\n",
       "      <td>Supporting the creation of a permanent, self-s...</td>\n",
       "      <td>0.0</td>\n",
       "      <td>0.0</td>\n",
       "      <td>0.0</td>\n",
       "      <td>0.0</td>\n",
       "      <td>...</td>\n",
       "      <td>0.0</td>\n",
       "      <td>0.0</td>\n",
       "      <td>0.0</td>\n",
       "      <td>0.0</td>\n",
       "      <td>0.0</td>\n",
       "      <td>0.0</td>\n",
       "      <td>0.0</td>\n",
       "      <td>0.0</td>\n",
       "      <td>0.0</td>\n",
       "      <td>stay</td>\n",
       "    </tr>\n",
       "    <tr>\n",
       "      <th>2017-09-29</th>\n",
       "      <td>NaN</td>\n",
       "      <td>57</td>\n",
       "      <td>-1</td>\n",
       "      <td>negative</td>\n",
       "      <td>-0.166667</td>\n",
       "      <td>BFR will take you anywhere on Earth in less th...</td>\n",
       "      <td>0.0</td>\n",
       "      <td>0.0</td>\n",
       "      <td>0.0</td>\n",
       "      <td>0.0</td>\n",
       "      <td>...</td>\n",
       "      <td>0.0</td>\n",
       "      <td>0.0</td>\n",
       "      <td>0.0</td>\n",
       "      <td>0.0</td>\n",
       "      <td>0.0</td>\n",
       "      <td>0.0</td>\n",
       "      <td>0.0</td>\n",
       "      <td>0.0</td>\n",
       "      <td>0.0</td>\n",
       "      <td>stay</td>\n",
       "    </tr>\n",
       "    <tr>\n",
       "      <th>2017-09-29</th>\n",
       "      <td>NaN</td>\n",
       "      <td>84</td>\n",
       "      <td>0</td>\n",
       "      <td>neutral</td>\n",
       "      <td>0.000000</td>\n",
       "      <td>Mars City Opposite of Earth. Dawn and dusk sky...</td>\n",
       "      <td>0.0</td>\n",
       "      <td>0.0</td>\n",
       "      <td>0.0</td>\n",
       "      <td>0.0</td>\n",
       "      <td>...</td>\n",
       "      <td>0.0</td>\n",
       "      <td>0.0</td>\n",
       "      <td>0.0</td>\n",
       "      <td>0.0</td>\n",
       "      <td>0.0</td>\n",
       "      <td>0.0</td>\n",
       "      <td>0.0</td>\n",
       "      <td>0.0</td>\n",
       "      <td>0.0</td>\n",
       "      <td>stay</td>\n",
       "    </tr>\n",
       "    <tr>\n",
       "      <th>2017-09-29</th>\n",
       "      <td>NaN</td>\n",
       "      <td>16</td>\n",
       "      <td>-1</td>\n",
       "      <td>negative</td>\n",
       "      <td>-0.800000</td>\n",
       "      <td>Moon Base Alpha</td>\n",
       "      <td>0.0</td>\n",
       "      <td>0.0</td>\n",
       "      <td>0.0</td>\n",
       "      <td>0.0</td>\n",
       "      <td>...</td>\n",
       "      <td>0.0</td>\n",
       "      <td>0.0</td>\n",
       "      <td>0.0</td>\n",
       "      <td>0.0</td>\n",
       "      <td>0.0</td>\n",
       "      <td>0.0</td>\n",
       "      <td>0.0</td>\n",
       "      <td>0.0</td>\n",
       "      <td>0.0</td>\n",
       "      <td>stay</td>\n",
       "    </tr>\n",
       "    <tr>\n",
       "      <th>2017-09-29</th>\n",
       "      <td>NaN</td>\n",
       "      <td>60</td>\n",
       "      <td>1</td>\n",
       "      <td>positive</td>\n",
       "      <td>0.357143</td>\n",
       "      <td>Will be announcing something really special at...</td>\n",
       "      <td>0.0</td>\n",
       "      <td>0.0</td>\n",
       "      <td>0.0</td>\n",
       "      <td>0.0</td>\n",
       "      <td>...</td>\n",
       "      <td>0.0</td>\n",
       "      <td>0.0</td>\n",
       "      <td>0.0</td>\n",
       "      <td>0.0</td>\n",
       "      <td>0.0</td>\n",
       "      <td>0.0</td>\n",
       "      <td>0.0</td>\n",
       "      <td>0.0</td>\n",
       "      <td>0.0</td>\n",
       "      <td>stay</td>\n",
       "    </tr>\n",
       "  </tbody>\n",
       "</table>\n",
       "<p>10 rows × 3859 columns</p>\n",
       "</div>"
      ],
      "text/plain": [
       "           retweet_from  tweet_length  encoded_sentiment sentiment  polarity  \\\n",
       "Date                                                                           \n",
       "2017-09-29          NaN           105                  1  positive  0.366667   \n",
       "2017-09-29       SpaceX           113                  1  positive  0.200000   \n",
       "2017-09-29          NaN             6                  0   neutral  0.000000   \n",
       "2017-09-29          NaN             7                  0   neutral  0.000000   \n",
       "2017-09-29          NaN            96                  1  positive  0.650000   \n",
       "2017-09-29       SpaceX            80                  1  positive  0.125000   \n",
       "2017-09-29          NaN            57                 -1  negative -0.166667   \n",
       "2017-09-29          NaN            84                  0   neutral  0.000000   \n",
       "2017-09-29          NaN            16                 -1  negative -0.800000   \n",
       "2017-09-29          NaN            60                  1  positive  0.357143   \n",
       "\n",
       "                                                        tweet  ability  able  \\\n",
       "Date                                                                           \n",
       "2017-09-29  Assuming max acceleration of 2 to 3 g's, but i...      0.0   0.0   \n",
       "2017-09-29  BFR is capable of transporting satellites to o...      0.0   0.0   \n",
       "2017-09-29                                             Yup :)      0.0   0.0   \n",
       "2017-09-29                                            Part 2       0.0   0.0   \n",
       "2017-09-29  Fly to most places on Earth in under 30 mins a...      0.0   0.0   \n",
       "2017-09-29  Supporting the creation of a permanent, self-s...      0.0   0.0   \n",
       "2017-09-29  BFR will take you anywhere on Earth in less th...      0.0   0.0   \n",
       "2017-09-29  Mars City Opposite of Earth. Dawn and dusk sky...      0.0   0.0   \n",
       "2017-09-29                                   Moon Base Alpha       0.0   0.0   \n",
       "2017-09-29  Will be announcing something really special at...      0.0   0.0   \n",
       "\n",
       "            aboard  abort    ...     your  yours  yourself   yr  yup  zero  \\\n",
       "Date                         ...                                             \n",
       "2017-09-29     0.0    0.0    ...      0.0    0.0       0.0  0.0  0.0   0.0   \n",
       "2017-09-29     0.0    0.0    ...      0.0    0.0       0.0  0.0  0.0   0.0   \n",
       "2017-09-29     0.0    0.0    ...      0.0    0.0       0.0  0.0  1.0   0.0   \n",
       "2017-09-29     0.0    0.0    ...      0.0    0.0       0.0  0.0  0.0   0.0   \n",
       "2017-09-29     0.0    0.0    ...      0.0    0.0       0.0  0.0  0.0   0.0   \n",
       "2017-09-29     0.0    0.0    ...      0.0    0.0       0.0  0.0  0.0   0.0   \n",
       "2017-09-29     0.0    0.0    ...      0.0    0.0       0.0  0.0  0.0   0.0   \n",
       "2017-09-29     0.0    0.0    ...      0.0    0.0       0.0  0.0  0.0   0.0   \n",
       "2017-09-29     0.0    0.0    ...      0.0    0.0       0.0  0.0  0.0   0.0   \n",
       "2017-09-29     0.0    0.0    ...      0.0    0.0       0.0  0.0  0.0   0.0   \n",
       "\n",
       "            zip  zone  zoo  signal_y  \n",
       "Date                                  \n",
       "2017-09-29  0.0   0.0  0.0      stay  \n",
       "2017-09-29  0.0   0.0  0.0      stay  \n",
       "2017-09-29  0.0   0.0  0.0      stay  \n",
       "2017-09-29  0.0   0.0  0.0      stay  \n",
       "2017-09-29  0.0   0.0  0.0      stay  \n",
       "2017-09-29  0.0   0.0  0.0      stay  \n",
       "2017-09-29  0.0   0.0  0.0      stay  \n",
       "2017-09-29  0.0   0.0  0.0      stay  \n",
       "2017-09-29  0.0   0.0  0.0      stay  \n",
       "2017-09-29  0.0   0.0  0.0      stay  \n",
       "\n",
       "[10 rows x 3859 columns]"
      ]
     },
     "execution_count": 32,
     "metadata": {},
     "output_type": "execute_result"
    }
   ],
   "source": [
    "take_2.head(10)"
   ]
  },
  {
   "cell_type": "code",
   "execution_count": 33,
   "metadata": {},
   "outputs": [
    {
     "data": {
      "text/plain": [
       "stay    1311\n",
       "up       993\n",
       "down     900\n",
       "Name: signal_y, dtype: int64"
      ]
     },
     "execution_count": 33,
     "metadata": {},
     "output_type": "execute_result"
    }
   ],
   "source": [
    "take_2.signal_y.value_counts()"
   ]
  },
  {
   "cell_type": "markdown",
   "metadata": {},
   "source": [
    "---"
   ]
  },
  {
   "cell_type": "markdown",
   "metadata": {},
   "source": [
    "#### PCAAAAAAAA"
   ]
  },
  {
   "cell_type": "code",
   "execution_count": 34,
   "metadata": {},
   "outputs": [],
   "source": [
    "from sklearn.decomposition import PCA"
   ]
  },
  {
   "cell_type": "code",
   "execution_count": 64,
   "metadata": {},
   "outputs": [],
   "source": [
    "pca = PCA(n_components=800)"
   ]
  },
  {
   "cell_type": "code",
   "execution_count": null,
   "metadata": {},
   "outputs": [],
   "source": []
  },
  {
   "cell_type": "code",
   "execution_count": 65,
   "metadata": {},
   "outputs": [],
   "source": [
    "tfidf_df = take_2.iloc[:, 7:-1]"
   ]
  },
  {
   "cell_type": "code",
   "execution_count": 66,
   "metadata": {},
   "outputs": [
    {
     "data": {
      "text/html": [
       "<div>\n",
       "<style scoped>\n",
       "    .dataframe tbody tr th:only-of-type {\n",
       "        vertical-align: middle;\n",
       "    }\n",
       "\n",
       "    .dataframe tbody tr th {\n",
       "        vertical-align: top;\n",
       "    }\n",
       "\n",
       "    .dataframe thead th {\n",
       "        text-align: right;\n",
       "    }\n",
       "</style>\n",
       "<table border=\"1\" class=\"dataframe\">\n",
       "  <thead>\n",
       "    <tr style=\"text-align: right;\">\n",
       "      <th></th>\n",
       "      <th>able</th>\n",
       "      <th>aboard</th>\n",
       "      <th>abort</th>\n",
       "      <th>aborted</th>\n",
       "      <th>about</th>\n",
       "      <th>above</th>\n",
       "      <th>absolutely</th>\n",
       "      <th>absorb</th>\n",
       "      <th>absorbed</th>\n",
       "      <th>absorption</th>\n",
       "      <th>...</th>\n",
       "      <th>you</th>\n",
       "      <th>your</th>\n",
       "      <th>yours</th>\n",
       "      <th>yourself</th>\n",
       "      <th>yr</th>\n",
       "      <th>yup</th>\n",
       "      <th>zero</th>\n",
       "      <th>zip</th>\n",
       "      <th>zone</th>\n",
       "      <th>zoo</th>\n",
       "    </tr>\n",
       "    <tr>\n",
       "      <th>Date</th>\n",
       "      <th></th>\n",
       "      <th></th>\n",
       "      <th></th>\n",
       "      <th></th>\n",
       "      <th></th>\n",
       "      <th></th>\n",
       "      <th></th>\n",
       "      <th></th>\n",
       "      <th></th>\n",
       "      <th></th>\n",
       "      <th></th>\n",
       "      <th></th>\n",
       "      <th></th>\n",
       "      <th></th>\n",
       "      <th></th>\n",
       "      <th></th>\n",
       "      <th></th>\n",
       "      <th></th>\n",
       "      <th></th>\n",
       "      <th></th>\n",
       "      <th></th>\n",
       "    </tr>\n",
       "  </thead>\n",
       "  <tbody>\n",
       "    <tr>\n",
       "      <th>2017-09-29</th>\n",
       "      <td>0.0</td>\n",
       "      <td>0.0</td>\n",
       "      <td>0.0</td>\n",
       "      <td>0.0</td>\n",
       "      <td>0.0</td>\n",
       "      <td>0.0</td>\n",
       "      <td>0.0</td>\n",
       "      <td>0.0</td>\n",
       "      <td>0.0</td>\n",
       "      <td>0.0</td>\n",
       "      <td>...</td>\n",
       "      <td>0.0</td>\n",
       "      <td>0.0</td>\n",
       "      <td>0.0</td>\n",
       "      <td>0.0</td>\n",
       "      <td>0.0</td>\n",
       "      <td>0.0</td>\n",
       "      <td>0.0</td>\n",
       "      <td>0.0</td>\n",
       "      <td>0.0</td>\n",
       "      <td>0.0</td>\n",
       "    </tr>\n",
       "    <tr>\n",
       "      <th>2017-09-29</th>\n",
       "      <td>0.0</td>\n",
       "      <td>0.0</td>\n",
       "      <td>0.0</td>\n",
       "      <td>0.0</td>\n",
       "      <td>0.0</td>\n",
       "      <td>0.0</td>\n",
       "      <td>0.0</td>\n",
       "      <td>0.0</td>\n",
       "      <td>0.0</td>\n",
       "      <td>0.0</td>\n",
       "      <td>...</td>\n",
       "      <td>0.0</td>\n",
       "      <td>0.0</td>\n",
       "      <td>0.0</td>\n",
       "      <td>0.0</td>\n",
       "      <td>0.0</td>\n",
       "      <td>0.0</td>\n",
       "      <td>0.0</td>\n",
       "      <td>0.0</td>\n",
       "      <td>0.0</td>\n",
       "      <td>0.0</td>\n",
       "    </tr>\n",
       "    <tr>\n",
       "      <th>2017-09-29</th>\n",
       "      <td>0.0</td>\n",
       "      <td>0.0</td>\n",
       "      <td>0.0</td>\n",
       "      <td>0.0</td>\n",
       "      <td>0.0</td>\n",
       "      <td>0.0</td>\n",
       "      <td>0.0</td>\n",
       "      <td>0.0</td>\n",
       "      <td>0.0</td>\n",
       "      <td>0.0</td>\n",
       "      <td>...</td>\n",
       "      <td>0.0</td>\n",
       "      <td>0.0</td>\n",
       "      <td>0.0</td>\n",
       "      <td>0.0</td>\n",
       "      <td>0.0</td>\n",
       "      <td>1.0</td>\n",
       "      <td>0.0</td>\n",
       "      <td>0.0</td>\n",
       "      <td>0.0</td>\n",
       "      <td>0.0</td>\n",
       "    </tr>\n",
       "    <tr>\n",
       "      <th>2017-09-29</th>\n",
       "      <td>0.0</td>\n",
       "      <td>0.0</td>\n",
       "      <td>0.0</td>\n",
       "      <td>0.0</td>\n",
       "      <td>0.0</td>\n",
       "      <td>0.0</td>\n",
       "      <td>0.0</td>\n",
       "      <td>0.0</td>\n",
       "      <td>0.0</td>\n",
       "      <td>0.0</td>\n",
       "      <td>...</td>\n",
       "      <td>0.0</td>\n",
       "      <td>0.0</td>\n",
       "      <td>0.0</td>\n",
       "      <td>0.0</td>\n",
       "      <td>0.0</td>\n",
       "      <td>0.0</td>\n",
       "      <td>0.0</td>\n",
       "      <td>0.0</td>\n",
       "      <td>0.0</td>\n",
       "      <td>0.0</td>\n",
       "    </tr>\n",
       "    <tr>\n",
       "      <th>2017-09-29</th>\n",
       "      <td>0.0</td>\n",
       "      <td>0.0</td>\n",
       "      <td>0.0</td>\n",
       "      <td>0.0</td>\n",
       "      <td>0.0</td>\n",
       "      <td>0.0</td>\n",
       "      <td>0.0</td>\n",
       "      <td>0.0</td>\n",
       "      <td>0.0</td>\n",
       "      <td>0.0</td>\n",
       "      <td>...</td>\n",
       "      <td>0.0</td>\n",
       "      <td>0.0</td>\n",
       "      <td>0.0</td>\n",
       "      <td>0.0</td>\n",
       "      <td>0.0</td>\n",
       "      <td>0.0</td>\n",
       "      <td>0.0</td>\n",
       "      <td>0.0</td>\n",
       "      <td>0.0</td>\n",
       "      <td>0.0</td>\n",
       "    </tr>\n",
       "  </tbody>\n",
       "</table>\n",
       "<p>5 rows × 3851 columns</p>\n",
       "</div>"
      ],
      "text/plain": [
       "            able  aboard  abort  aborted  about  above  absolutely  absorb  \\\n",
       "Date                                                                         \n",
       "2017-09-29   0.0     0.0    0.0      0.0    0.0    0.0         0.0     0.0   \n",
       "2017-09-29   0.0     0.0    0.0      0.0    0.0    0.0         0.0     0.0   \n",
       "2017-09-29   0.0     0.0    0.0      0.0    0.0    0.0         0.0     0.0   \n",
       "2017-09-29   0.0     0.0    0.0      0.0    0.0    0.0         0.0     0.0   \n",
       "2017-09-29   0.0     0.0    0.0      0.0    0.0    0.0         0.0     0.0   \n",
       "\n",
       "            absorbed  absorption ...   you  your  yours  yourself   yr  yup  \\\n",
       "Date                             ...                                          \n",
       "2017-09-29       0.0         0.0 ...   0.0   0.0    0.0       0.0  0.0  0.0   \n",
       "2017-09-29       0.0         0.0 ...   0.0   0.0    0.0       0.0  0.0  0.0   \n",
       "2017-09-29       0.0         0.0 ...   0.0   0.0    0.0       0.0  0.0  1.0   \n",
       "2017-09-29       0.0         0.0 ...   0.0   0.0    0.0       0.0  0.0  0.0   \n",
       "2017-09-29       0.0         0.0 ...   0.0   0.0    0.0       0.0  0.0  0.0   \n",
       "\n",
       "            zero  zip  zone  zoo  \n",
       "Date                              \n",
       "2017-09-29   0.0  0.0   0.0  0.0  \n",
       "2017-09-29   0.0  0.0   0.0  0.0  \n",
       "2017-09-29   0.0  0.0   0.0  0.0  \n",
       "2017-09-29   0.0  0.0   0.0  0.0  \n",
       "2017-09-29   0.0  0.0   0.0  0.0  \n",
       "\n",
       "[5 rows x 3851 columns]"
      ]
     },
     "execution_count": 66,
     "metadata": {},
     "output_type": "execute_result"
    }
   ],
   "source": [
    "tfidf_df.head()"
   ]
  },
  {
   "cell_type": "code",
   "execution_count": 67,
   "metadata": {},
   "outputs": [
    {
     "data": {
      "text/plain": [
       "PCA(copy=True, iterated_power='auto', n_components=800, random_state=None,\n",
       "  svd_solver='auto', tol=0.0, whiten=False)"
      ]
     },
     "execution_count": 67,
     "metadata": {},
     "output_type": "execute_result"
    }
   ],
   "source": [
    "pca.fit(tfidf_df)"
   ]
  },
  {
   "cell_type": "code",
   "execution_count": 68,
   "metadata": {},
   "outputs": [
    {
     "data": {
      "text/plain": [
       "array([[-0.03175036, -0.02885961, -0.03027349, ..., -0.00589298,\n",
       "         0.02021594, -0.02442969],\n",
       "       [-0.05933081, -0.09982727, -0.15475698, ...,  0.01911102,\n",
       "        -0.01190816,  0.00038602],\n",
       "       [-0.00233025,  0.0339694 ,  0.06957776, ..., -0.00258265,\n",
       "        -0.00109961,  0.00062738],\n",
       "       ...,\n",
       "       [-0.02647321, -0.01465776,  0.02605385, ...,  0.00165889,\n",
       "        -0.01636098, -0.00567281],\n",
       "       [-0.02481626, -0.00748991,  0.0050595 , ...,  0.00048641,\n",
       "         0.01166383, -0.02173949],\n",
       "       [-0.02823683, -0.01386954,  0.00580379, ...,  0.02967191,\n",
       "        -0.00637943,  0.02213245]])"
      ]
     },
     "execution_count": 68,
     "metadata": {},
     "output_type": "execute_result"
    }
   ],
   "source": [
    "x_pca = pca.transform(tfidf_df)\n",
    "x_pca"
   ]
  },
  {
   "cell_type": "code",
   "execution_count": 69,
   "metadata": {},
   "outputs": [
    {
     "data": {
      "text/plain": [
       "0.7904432190368588"
      ]
     },
     "execution_count": 69,
     "metadata": {},
     "output_type": "execute_result"
    }
   ],
   "source": [
    "sum(pca.explained_variance_ratio_)"
   ]
  },
  {
   "cell_type": "code",
   "execution_count": null,
   "metadata": {},
   "outputs": [],
   "source": []
  },
  {
   "cell_type": "code",
   "execution_count": null,
   "metadata": {},
   "outputs": [],
   "source": []
  },
  {
   "cell_type": "code",
   "execution_count": null,
   "metadata": {},
   "outputs": [],
   "source": []
  },
  {
   "cell_type": "code",
   "execution_count": 70,
   "metadata": {},
   "outputs": [],
   "source": [
    "pca_df = pd.DataFrame(x_pca)"
   ]
  },
  {
   "cell_type": "code",
   "execution_count": 71,
   "metadata": {
    "scrolled": true
   },
   "outputs": [
    {
     "data": {
      "text/html": [
       "<div>\n",
       "<style scoped>\n",
       "    .dataframe tbody tr th:only-of-type {\n",
       "        vertical-align: middle;\n",
       "    }\n",
       "\n",
       "    .dataframe tbody tr th {\n",
       "        vertical-align: top;\n",
       "    }\n",
       "\n",
       "    .dataframe thead th {\n",
       "        text-align: right;\n",
       "    }\n",
       "</style>\n",
       "<table border=\"1\" class=\"dataframe\">\n",
       "  <thead>\n",
       "    <tr style=\"text-align: right;\">\n",
       "      <th></th>\n",
       "      <th>0</th>\n",
       "      <th>1</th>\n",
       "      <th>2</th>\n",
       "      <th>3</th>\n",
       "      <th>4</th>\n",
       "      <th>5</th>\n",
       "      <th>6</th>\n",
       "      <th>7</th>\n",
       "      <th>8</th>\n",
       "      <th>9</th>\n",
       "      <th>...</th>\n",
       "      <th>790</th>\n",
       "      <th>791</th>\n",
       "      <th>792</th>\n",
       "      <th>793</th>\n",
       "      <th>794</th>\n",
       "      <th>795</th>\n",
       "      <th>796</th>\n",
       "      <th>797</th>\n",
       "      <th>798</th>\n",
       "      <th>799</th>\n",
       "    </tr>\n",
       "  </thead>\n",
       "  <tbody>\n",
       "    <tr>\n",
       "      <th>0</th>\n",
       "      <td>-0.031750</td>\n",
       "      <td>-0.028860</td>\n",
       "      <td>-0.030273</td>\n",
       "      <td>-0.018769</td>\n",
       "      <td>-0.060676</td>\n",
       "      <td>0.057752</td>\n",
       "      <td>-0.124476</td>\n",
       "      <td>0.116654</td>\n",
       "      <td>0.059117</td>\n",
       "      <td>-0.029701</td>\n",
       "      <td>...</td>\n",
       "      <td>-0.014750</td>\n",
       "      <td>0.006987</td>\n",
       "      <td>-0.018947</td>\n",
       "      <td>0.003795</td>\n",
       "      <td>0.021159</td>\n",
       "      <td>0.007026</td>\n",
       "      <td>-0.077665</td>\n",
       "      <td>-0.005893</td>\n",
       "      <td>0.020216</td>\n",
       "      <td>-0.024430</td>\n",
       "    </tr>\n",
       "    <tr>\n",
       "      <th>1</th>\n",
       "      <td>-0.059331</td>\n",
       "      <td>-0.099827</td>\n",
       "      <td>-0.154757</td>\n",
       "      <td>-0.040344</td>\n",
       "      <td>0.072303</td>\n",
       "      <td>0.209183</td>\n",
       "      <td>-0.080122</td>\n",
       "      <td>0.077753</td>\n",
       "      <td>-0.073507</td>\n",
       "      <td>-0.089249</td>\n",
       "      <td>...</td>\n",
       "      <td>0.003511</td>\n",
       "      <td>-0.017758</td>\n",
       "      <td>-0.007694</td>\n",
       "      <td>0.003239</td>\n",
       "      <td>0.015531</td>\n",
       "      <td>0.019036</td>\n",
       "      <td>0.019721</td>\n",
       "      <td>0.019111</td>\n",
       "      <td>-0.011908</td>\n",
       "      <td>0.000386</td>\n",
       "    </tr>\n",
       "    <tr>\n",
       "      <th>2</th>\n",
       "      <td>-0.002330</td>\n",
       "      <td>0.033969</td>\n",
       "      <td>0.069578</td>\n",
       "      <td>-0.014138</td>\n",
       "      <td>-0.037713</td>\n",
       "      <td>-0.071401</td>\n",
       "      <td>0.007006</td>\n",
       "      <td>-0.015473</td>\n",
       "      <td>-0.033879</td>\n",
       "      <td>0.008302</td>\n",
       "      <td>...</td>\n",
       "      <td>0.000253</td>\n",
       "      <td>0.001255</td>\n",
       "      <td>-0.001372</td>\n",
       "      <td>-0.001781</td>\n",
       "      <td>0.001782</td>\n",
       "      <td>0.001916</td>\n",
       "      <td>-0.002330</td>\n",
       "      <td>-0.002583</td>\n",
       "      <td>-0.001100</td>\n",
       "      <td>0.000627</td>\n",
       "    </tr>\n",
       "    <tr>\n",
       "      <th>3</th>\n",
       "      <td>-0.005050</td>\n",
       "      <td>0.024121</td>\n",
       "      <td>0.043358</td>\n",
       "      <td>-0.001800</td>\n",
       "      <td>-0.016294</td>\n",
       "      <td>-0.051990</td>\n",
       "      <td>-0.001818</td>\n",
       "      <td>-0.001254</td>\n",
       "      <td>-0.008862</td>\n",
       "      <td>-0.027695</td>\n",
       "      <td>...</td>\n",
       "      <td>-0.001174</td>\n",
       "      <td>-0.005936</td>\n",
       "      <td>-0.005910</td>\n",
       "      <td>0.017547</td>\n",
       "      <td>-0.001422</td>\n",
       "      <td>-0.002220</td>\n",
       "      <td>0.004902</td>\n",
       "      <td>0.000039</td>\n",
       "      <td>0.011071</td>\n",
       "      <td>0.011174</td>\n",
       "    </tr>\n",
       "    <tr>\n",
       "      <th>4</th>\n",
       "      <td>-0.031167</td>\n",
       "      <td>-0.027728</td>\n",
       "      <td>-0.012323</td>\n",
       "      <td>-0.039920</td>\n",
       "      <td>-0.070452</td>\n",
       "      <td>0.019524</td>\n",
       "      <td>-0.127557</td>\n",
       "      <td>-0.070038</td>\n",
       "      <td>0.074605</td>\n",
       "      <td>0.034145</td>\n",
       "      <td>...</td>\n",
       "      <td>0.003524</td>\n",
       "      <td>0.002561</td>\n",
       "      <td>-0.003482</td>\n",
       "      <td>0.002877</td>\n",
       "      <td>-0.018114</td>\n",
       "      <td>-0.014788</td>\n",
       "      <td>-0.011140</td>\n",
       "      <td>0.006785</td>\n",
       "      <td>0.002626</td>\n",
       "      <td>0.015714</td>\n",
       "    </tr>\n",
       "  </tbody>\n",
       "</table>\n",
       "<p>5 rows × 800 columns</p>\n",
       "</div>"
      ],
      "text/plain": [
       "        0         1         2         3         4         5         6    \\\n",
       "0 -0.031750 -0.028860 -0.030273 -0.018769 -0.060676  0.057752 -0.124476   \n",
       "1 -0.059331 -0.099827 -0.154757 -0.040344  0.072303  0.209183 -0.080122   \n",
       "2 -0.002330  0.033969  0.069578 -0.014138 -0.037713 -0.071401  0.007006   \n",
       "3 -0.005050  0.024121  0.043358 -0.001800 -0.016294 -0.051990 -0.001818   \n",
       "4 -0.031167 -0.027728 -0.012323 -0.039920 -0.070452  0.019524 -0.127557   \n",
       "\n",
       "        7         8         9      ...          790       791       792  \\\n",
       "0  0.116654  0.059117 -0.029701    ...    -0.014750  0.006987 -0.018947   \n",
       "1  0.077753 -0.073507 -0.089249    ...     0.003511 -0.017758 -0.007694   \n",
       "2 -0.015473 -0.033879  0.008302    ...     0.000253  0.001255 -0.001372   \n",
       "3 -0.001254 -0.008862 -0.027695    ...    -0.001174 -0.005936 -0.005910   \n",
       "4 -0.070038  0.074605  0.034145    ...     0.003524  0.002561 -0.003482   \n",
       "\n",
       "        793       794       795       796       797       798       799  \n",
       "0  0.003795  0.021159  0.007026 -0.077665 -0.005893  0.020216 -0.024430  \n",
       "1  0.003239  0.015531  0.019036  0.019721  0.019111 -0.011908  0.000386  \n",
       "2 -0.001781  0.001782  0.001916 -0.002330 -0.002583 -0.001100  0.000627  \n",
       "3  0.017547 -0.001422 -0.002220  0.004902  0.000039  0.011071  0.011174  \n",
       "4  0.002877 -0.018114 -0.014788 -0.011140  0.006785  0.002626  0.015714  \n",
       "\n",
       "[5 rows x 800 columns]"
      ]
     },
     "execution_count": 71,
     "metadata": {},
     "output_type": "execute_result"
    }
   ],
   "source": [
    "pca_df.head()"
   ]
  },
  {
   "cell_type": "code",
   "execution_count": null,
   "metadata": {},
   "outputs": [],
   "source": []
  },
  {
   "cell_type": "code",
   "execution_count": 73,
   "metadata": {
    "scrolled": true
   },
   "outputs": [
    {
     "ename": "FileNotFoundError",
     "evalue": "[Errno 2] No such file or directory: 'r/Users/sproul/Desktop/ds-projects/project_mod4_AAR/pca_updated_data.csv'",
     "output_type": "error",
     "traceback": [
      "\u001b[0;31m---------------------------------------------------------------------------\u001b[0m",
      "\u001b[0;31mFileNotFoundError\u001b[0m                         Traceback (most recent call last)",
      "\u001b[0;32m<ipython-input-73-6cfdbe0a66c6>\u001b[0m in \u001b[0;36m<module>\u001b[0;34m\u001b[0m\n\u001b[0;32m----> 1\u001b[0;31m \u001b[0mpca_df\u001b[0m\u001b[0;34m.\u001b[0m\u001b[0mto_csv\u001b[0m\u001b[0;34m(\u001b[0m\u001b[0;34m'r/Users/sproul/Desktop/ds-projects/project_mod4_AAR/pca_updated_data.csv'\u001b[0m\u001b[0;34m)\u001b[0m\u001b[0;34m\u001b[0m\u001b[0;34m\u001b[0m\u001b[0m\n\u001b[0m",
      "\u001b[0;32m/anaconda3/lib/python3.6/site-packages/pandas/core/frame.py\u001b[0m in \u001b[0;36mto_csv\u001b[0;34m(self, path_or_buf, sep, na_rep, float_format, columns, header, index, index_label, mode, encoding, compression, quoting, quotechar, line_terminator, chunksize, tupleize_cols, date_format, doublequote, escapechar, decimal)\u001b[0m\n\u001b[1;32m   1743\u001b[0m                                  \u001b[0mdoublequote\u001b[0m\u001b[0;34m=\u001b[0m\u001b[0mdoublequote\u001b[0m\u001b[0;34m,\u001b[0m\u001b[0;34m\u001b[0m\u001b[0;34m\u001b[0m\u001b[0m\n\u001b[1;32m   1744\u001b[0m                                  escapechar=escapechar, decimal=decimal)\n\u001b[0;32m-> 1745\u001b[0;31m         \u001b[0mformatter\u001b[0m\u001b[0;34m.\u001b[0m\u001b[0msave\u001b[0m\u001b[0;34m(\u001b[0m\u001b[0;34m)\u001b[0m\u001b[0;34m\u001b[0m\u001b[0;34m\u001b[0m\u001b[0m\n\u001b[0m\u001b[1;32m   1746\u001b[0m \u001b[0;34m\u001b[0m\u001b[0m\n\u001b[1;32m   1747\u001b[0m         \u001b[0;32mif\u001b[0m \u001b[0mpath_or_buf\u001b[0m \u001b[0;32mis\u001b[0m \u001b[0;32mNone\u001b[0m\u001b[0;34m:\u001b[0m\u001b[0;34m\u001b[0m\u001b[0;34m\u001b[0m\u001b[0m\n",
      "\u001b[0;32m/anaconda3/lib/python3.6/site-packages/pandas/io/formats/csvs.py\u001b[0m in \u001b[0;36msave\u001b[0;34m(self)\u001b[0m\n\u001b[1;32m    154\u001b[0m             f, handles = _get_handle(self.path_or_buf, self.mode,\n\u001b[1;32m    155\u001b[0m                                      \u001b[0mencoding\u001b[0m\u001b[0;34m=\u001b[0m\u001b[0mencoding\u001b[0m\u001b[0;34m,\u001b[0m\u001b[0;34m\u001b[0m\u001b[0;34m\u001b[0m\u001b[0m\n\u001b[0;32m--> 156\u001b[0;31m                                      compression=self.compression)\n\u001b[0m\u001b[1;32m    157\u001b[0m             \u001b[0mclose\u001b[0m \u001b[0;34m=\u001b[0m \u001b[0;32mTrue\u001b[0m\u001b[0;34m\u001b[0m\u001b[0;34m\u001b[0m\u001b[0m\n\u001b[1;32m    158\u001b[0m \u001b[0;34m\u001b[0m\u001b[0m\n",
      "\u001b[0;32m/anaconda3/lib/python3.6/site-packages/pandas/io/common.py\u001b[0m in \u001b[0;36m_get_handle\u001b[0;34m(path_or_buf, mode, encoding, compression, memory_map, is_text)\u001b[0m\n\u001b[1;32m    398\u001b[0m         \u001b[0;32melif\u001b[0m \u001b[0mencoding\u001b[0m\u001b[0;34m:\u001b[0m\u001b[0;34m\u001b[0m\u001b[0;34m\u001b[0m\u001b[0m\n\u001b[1;32m    399\u001b[0m             \u001b[0;31m# Python 3 and encoding\u001b[0m\u001b[0;34m\u001b[0m\u001b[0;34m\u001b[0m\u001b[0;34m\u001b[0m\u001b[0m\n\u001b[0;32m--> 400\u001b[0;31m             \u001b[0mf\u001b[0m \u001b[0;34m=\u001b[0m \u001b[0mopen\u001b[0m\u001b[0;34m(\u001b[0m\u001b[0mpath_or_buf\u001b[0m\u001b[0;34m,\u001b[0m \u001b[0mmode\u001b[0m\u001b[0;34m,\u001b[0m \u001b[0mencoding\u001b[0m\u001b[0;34m=\u001b[0m\u001b[0mencoding\u001b[0m\u001b[0;34m)\u001b[0m\u001b[0;34m\u001b[0m\u001b[0;34m\u001b[0m\u001b[0m\n\u001b[0m\u001b[1;32m    401\u001b[0m         \u001b[0;32melif\u001b[0m \u001b[0mis_text\u001b[0m\u001b[0;34m:\u001b[0m\u001b[0;34m\u001b[0m\u001b[0;34m\u001b[0m\u001b[0m\n\u001b[1;32m    402\u001b[0m             \u001b[0;31m# Python 3 and no explicit encoding\u001b[0m\u001b[0;34m\u001b[0m\u001b[0;34m\u001b[0m\u001b[0;34m\u001b[0m\u001b[0m\n",
      "\u001b[0;31mFileNotFoundError\u001b[0m: [Errno 2] No such file or directory: 'r/Users/sproul/Desktop/ds-projects/project_mod4_AAR/pca_updated_data.csv'"
     ]
    }
   ],
   "source": [
    "pca_df.to_csv('r/Users/sproul/Desktop/ds-projects/project_mod4_AAR/pca_updated_data.csv')"
   ]
  },
  {
   "cell_type": "code",
   "execution_count": null,
   "metadata": {},
   "outputs": [],
   "source": []
  },
  {
   "cell_type": "code",
   "execution_count": null,
   "metadata": {},
   "outputs": [],
   "source": []
  },
  {
   "cell_type": "code",
   "execution_count": null,
   "metadata": {},
   "outputs": [],
   "source": [
    "# pd.get_dummies(stock)"
   ]
  },
  {
   "cell_type": "code",
   "execution_count": null,
   "metadata": {},
   "outputs": [],
   "source": [
    "labels = []\n",
    "\n",
    "for i in range(1, 39):\n",
    "    labels.append('pc_' + str(i))"
   ]
  },
  {
   "cell_type": "code",
   "execution_count": null,
   "metadata": {},
   "outputs": [],
   "source": [
    "# labels"
   ]
  },
  {
   "cell_type": "code",
   "execution_count": null,
   "metadata": {},
   "outputs": [],
   "source": [
    "pca_df.columns = labels"
   ]
  },
  {
   "cell_type": "code",
   "execution_count": null,
   "metadata": {},
   "outputs": [],
   "source": [
    "df_with_tfidf_pca = pd.concat([take_2.iloc[:, :7], pca_df], axis=1)"
   ]
  },
  {
   "cell_type": "code",
   "execution_count": null,
   "metadata": {},
   "outputs": [],
   "source": [
    "df_with_tfidf_pca"
   ]
  },
  {
   "cell_type": "code",
   "execution_count": null,
   "metadata": {},
   "outputs": [],
   "source": [
    "df_with_tfidf_pca['retweet_from'] = df_with_tfidf_pca['retweet_from'].fillna('not')"
   ]
  },
  {
   "cell_type": "code",
   "execution_count": null,
   "metadata": {},
   "outputs": [],
   "source": [
    "df_with_tfidf_pca['retweet_from'] = le.fit_transform(df_with_tfidf_pca['retweet_from'])"
   ]
  },
  {
   "cell_type": "code",
   "execution_count": null,
   "metadata": {},
   "outputs": [],
   "source": [
    "df_with_tfidf_pca.drop(columns = ['sentiment', 'Date'], inplace= True)"
   ]
  },
  {
   "cell_type": "code",
   "execution_count": null,
   "metadata": {
    "scrolled": true
   },
   "outputs": [],
   "source": [
    "df_with_tfidf_pca.info()"
   ]
  },
  {
   "cell_type": "code",
   "execution_count": null,
   "metadata": {},
   "outputs": [],
   "source": [
    "# take_23 = pd.merge(stock, text, on ='Date')   \n",
    "# 2012-11-19   2017-09-29"
   ]
  },
  {
   "cell_type": "code",
   "execution_count": null,
   "metadata": {},
   "outputs": [],
   "source": [
    "# this is without weekends\n",
    "# take_23.shape"
   ]
  },
  {
   "cell_type": "code",
   "execution_count": null,
   "metadata": {},
   "outputs": [],
   "source": [
    "# take_23"
   ]
  },
  {
   "cell_type": "code",
   "execution_count": null,
   "metadata": {},
   "outputs": [],
   "source": [
    "# take_23['retweet_from'] = take_23['retweet_from'].fillna('not')"
   ]
  },
  {
   "cell_type": "code",
   "execution_count": null,
   "metadata": {},
   "outputs": [],
   "source": [
    "# take_23.shape"
   ]
  },
  {
   "cell_type": "code",
   "execution_count": null,
   "metadata": {},
   "outputs": [],
   "source": [
    "# take_23.head()"
   ]
  },
  {
   "cell_type": "code",
   "execution_count": null,
   "metadata": {},
   "outputs": [],
   "source": [
    "from sklearn.preprocessing import LabelEncoder"
   ]
  },
  {
   "cell_type": "code",
   "execution_count": null,
   "metadata": {},
   "outputs": [],
   "source": [
    "le = LabelEncoder()"
   ]
  },
  {
   "cell_type": "code",
   "execution_count": null,
   "metadata": {},
   "outputs": [],
   "source": [
    "take_23['retweet_from'] = le.fit_transform(take_23['retweet_from'])"
   ]
  },
  {
   "cell_type": "code",
   "execution_count": null,
   "metadata": {},
   "outputs": [],
   "source": [
    "take_23.drop(columns = ['sentiment'], inplace= True)"
   ]
  },
  {
   "cell_type": "code",
   "execution_count": null,
   "metadata": {},
   "outputs": [],
   "source": [
    "#Same but with no date\n",
    "take_23.drop(columns = ['Date'], inplace= True)"
   ]
  },
  {
   "cell_type": "markdown",
   "metadata": {},
   "source": [
    "#### fixing the tweet column to match cleaned tweets"
   ]
  },
  {
   "cell_type": "code",
   "execution_count": null,
   "metadata": {},
   "outputs": [],
   "source": [
    "tweets = df_with_tfidf_pca['tweet'].tolist()"
   ]
  },
  {
   "cell_type": "code",
   "execution_count": null,
   "metadata": {},
   "outputs": [],
   "source": [
    "wordnet_lemmatizer = WordNetLemmatizer()\n",
    "english = set(nltk.corpus.words.words()+ ['yup'])"
   ]
  },
  {
   "cell_type": "code",
   "execution_count": null,
   "metadata": {},
   "outputs": [],
   "source": [
    "def lemmadata(doc):\n",
    "        pattern = \"([a-zA-Z]+(?:'[a-z]+)?)\"\n",
    "        raw_tokens = nltk.regexp_tokenize(doc, pattern)\n",
    "        tokens = [i.lower() for i in raw_tokens]\n",
    "        lemmatized = [wordnet_lemmatizer.lemmatize(word) for word in tokens]\n",
    "        words = list(filter(lambda w: w in english, lemmatized))\n",
    "        return words"
   ]
  },
  {
   "cell_type": "code",
   "execution_count": null,
   "metadata": {},
   "outputs": [],
   "source": [
    "lemma = [lemmadata(post) for post in tweets]"
   ]
  },
  {
   "cell_type": "code",
   "execution_count": null,
   "metadata": {},
   "outputs": [],
   "source": [
    "process_lems = list(map(lemmadata, df_with_tfidf_pca['tweet']))"
   ]
  },
  {
   "cell_type": "code",
   "execution_count": null,
   "metadata": {},
   "outputs": [],
   "source": [
    "# process_lems[:3]"
   ]
  },
  {
   "cell_type": "code",
   "execution_count": null,
   "metadata": {},
   "outputs": [],
   "source": [
    "clean_tweets_lem = []\n",
    "\n",
    "for i in range(0, len(process_lems)):\n",
    "    clean = ' '.join(process_lems[i])\n",
    "    clean_tweets_lem.append(clean)"
   ]
  },
  {
   "cell_type": "code",
   "execution_count": null,
   "metadata": {},
   "outputs": [],
   "source": [
    "# df['B'] = df1['E'].values"
   ]
  },
  {
   "cell_type": "code",
   "execution_count": null,
   "metadata": {},
   "outputs": [],
   "source": [
    "clean_tweet_df = pd.DataFrame(clean_tweets_lem)"
   ]
  },
  {
   "cell_type": "code",
   "execution_count": null,
   "metadata": {},
   "outputs": [],
   "source": [
    "# clean_tweet_df.head()"
   ]
  },
  {
   "cell_type": "code",
   "execution_count": null,
   "metadata": {
    "scrolled": true
   },
   "outputs": [],
   "source": [
    "clean_tweet_df[0][0]"
   ]
  },
  {
   "cell_type": "code",
   "execution_count": null,
   "metadata": {},
   "outputs": [],
   "source": [
    "df_with_tfidf_pca['tweet'] = clean_tweet_df[0].values"
   ]
  },
  {
   "cell_type": "code",
   "execution_count": null,
   "metadata": {},
   "outputs": [],
   "source": [
    "# we added signal to the dataframe\n",
    "df_with_tfidf_pca = pd.concat([df_with_tfidf_pca, take_2.iloc[:,-1]], axis=1)"
   ]
  },
  {
   "cell_type": "code",
   "execution_count": 197,
   "metadata": {},
   "outputs": [
    {
     "data": {
      "text/html": [
       "<div>\n",
       "<style scoped>\n",
       "    .dataframe tbody tr th:only-of-type {\n",
       "        vertical-align: middle;\n",
       "    }\n",
       "\n",
       "    .dataframe tbody tr th {\n",
       "        vertical-align: top;\n",
       "    }\n",
       "\n",
       "    .dataframe thead th {\n",
       "        text-align: right;\n",
       "    }\n",
       "</style>\n",
       "<table border=\"1\" class=\"dataframe\">\n",
       "  <thead>\n",
       "    <tr style=\"text-align: right;\">\n",
       "      <th></th>\n",
       "      <th>retweet_from</th>\n",
       "      <th>tweet_length</th>\n",
       "      <th>encoded_sentiment</th>\n",
       "      <th>polarity</th>\n",
       "      <th>tweet</th>\n",
       "      <th>pc_1</th>\n",
       "      <th>pc_2</th>\n",
       "      <th>pc_3</th>\n",
       "      <th>pc_4</th>\n",
       "      <th>pc_5</th>\n",
       "      <th>...</th>\n",
       "      <th>pc_30</th>\n",
       "      <th>pc_31</th>\n",
       "      <th>pc_32</th>\n",
       "      <th>pc_33</th>\n",
       "      <th>pc_34</th>\n",
       "      <th>pc_35</th>\n",
       "      <th>pc_36</th>\n",
       "      <th>pc_37</th>\n",
       "      <th>pc_38</th>\n",
       "      <th>signal_y</th>\n",
       "    </tr>\n",
       "  </thead>\n",
       "  <tbody>\n",
       "    <tr>\n",
       "      <th>0</th>\n",
       "      <td>171</td>\n",
       "      <td>105</td>\n",
       "      <td>1</td>\n",
       "      <td>0.366667</td>\n",
       "      <td>assuming acceleration of to but in a comfortab...</td>\n",
       "      <td>-0.031750</td>\n",
       "      <td>-0.028850</td>\n",
       "      <td>-0.030290</td>\n",
       "      <td>-0.018736</td>\n",
       "      <td>-0.060675</td>\n",
       "      <td>...</td>\n",
       "      <td>0.017885</td>\n",
       "      <td>0.045822</td>\n",
       "      <td>-0.006862</td>\n",
       "      <td>-0.012954</td>\n",
       "      <td>-0.005468</td>\n",
       "      <td>-0.100572</td>\n",
       "      <td>-0.029374</td>\n",
       "      <td>0.041363</td>\n",
       "      <td>0.035932</td>\n",
       "      <td>stay</td>\n",
       "    </tr>\n",
       "    <tr>\n",
       "      <th>1</th>\n",
       "      <td>77</td>\n",
       "      <td>113</td>\n",
       "      <td>1</td>\n",
       "      <td>0.200000</td>\n",
       "      <td>is capable of transporting satellite to orbit ...</td>\n",
       "      <td>-0.059331</td>\n",
       "      <td>-0.099826</td>\n",
       "      <td>-0.154772</td>\n",
       "      <td>-0.040355</td>\n",
       "      <td>0.072285</td>\n",
       "      <td>...</td>\n",
       "      <td>-0.011667</td>\n",
       "      <td>0.003882</td>\n",
       "      <td>0.018002</td>\n",
       "      <td>-0.019813</td>\n",
       "      <td>-0.035809</td>\n",
       "      <td>-0.034079</td>\n",
       "      <td>-0.014687</td>\n",
       "      <td>-0.008986</td>\n",
       "      <td>-0.019845</td>\n",
       "      <td>stay</td>\n",
       "    </tr>\n",
       "    <tr>\n",
       "      <th>2</th>\n",
       "      <td>171</td>\n",
       "      <td>6</td>\n",
       "      <td>0</td>\n",
       "      <td>0.000000</td>\n",
       "      <td>yup</td>\n",
       "      <td>-0.002330</td>\n",
       "      <td>0.033983</td>\n",
       "      <td>0.069531</td>\n",
       "      <td>-0.014177</td>\n",
       "      <td>-0.037774</td>\n",
       "      <td>...</td>\n",
       "      <td>0.015722</td>\n",
       "      <td>-0.025726</td>\n",
       "      <td>0.065735</td>\n",
       "      <td>0.041686</td>\n",
       "      <td>-0.021751</td>\n",
       "      <td>-0.014138</td>\n",
       "      <td>-0.037047</td>\n",
       "      <td>-0.050031</td>\n",
       "      <td>-0.084722</td>\n",
       "      <td>stay</td>\n",
       "    </tr>\n",
       "    <tr>\n",
       "      <th>3</th>\n",
       "      <td>171</td>\n",
       "      <td>7</td>\n",
       "      <td>0</td>\n",
       "      <td>0.000000</td>\n",
       "      <td>part</td>\n",
       "      <td>-0.005050</td>\n",
       "      <td>0.024117</td>\n",
       "      <td>0.043362</td>\n",
       "      <td>-0.001804</td>\n",
       "      <td>-0.016279</td>\n",
       "      <td>...</td>\n",
       "      <td>-0.009052</td>\n",
       "      <td>-0.008601</td>\n",
       "      <td>0.001285</td>\n",
       "      <td>-0.007619</td>\n",
       "      <td>-0.005289</td>\n",
       "      <td>-0.025700</td>\n",
       "      <td>-0.008989</td>\n",
       "      <td>-0.011967</td>\n",
       "      <td>-0.004665</td>\n",
       "      <td>stay</td>\n",
       "    </tr>\n",
       "    <tr>\n",
       "      <th>4</th>\n",
       "      <td>171</td>\n",
       "      <td>96</td>\n",
       "      <td>1</td>\n",
       "      <td>0.650000</td>\n",
       "      <td>fly to most place on earth in under min and an...</td>\n",
       "      <td>-0.031167</td>\n",
       "      <td>-0.027725</td>\n",
       "      <td>-0.012331</td>\n",
       "      <td>-0.039909</td>\n",
       "      <td>-0.070462</td>\n",
       "      <td>...</td>\n",
       "      <td>0.020042</td>\n",
       "      <td>0.030526</td>\n",
       "      <td>-0.039462</td>\n",
       "      <td>0.088186</td>\n",
       "      <td>-0.012277</td>\n",
       "      <td>0.033849</td>\n",
       "      <td>0.040576</td>\n",
       "      <td>0.051975</td>\n",
       "      <td>-0.031236</td>\n",
       "      <td>stay</td>\n",
       "    </tr>\n",
       "  </tbody>\n",
       "</table>\n",
       "<p>5 rows × 44 columns</p>\n",
       "</div>"
      ],
      "text/plain": [
       "   retweet_from  tweet_length  encoded_sentiment  polarity  \\\n",
       "0           171           105                  1  0.366667   \n",
       "1            77           113                  1  0.200000   \n",
       "2           171             6                  0  0.000000   \n",
       "3           171             7                  0  0.000000   \n",
       "4           171            96                  1  0.650000   \n",
       "\n",
       "                                               tweet      pc_1      pc_2  \\\n",
       "0  assuming acceleration of to but in a comfortab... -0.031750 -0.028850   \n",
       "1  is capable of transporting satellite to orbit ... -0.059331 -0.099826   \n",
       "2                                                yup -0.002330  0.033983   \n",
       "3                                               part -0.005050  0.024117   \n",
       "4  fly to most place on earth in under min and an... -0.031167 -0.027725   \n",
       "\n",
       "       pc_3      pc_4      pc_5    ...        pc_30     pc_31     pc_32  \\\n",
       "0 -0.030290 -0.018736 -0.060675    ...     0.017885  0.045822 -0.006862   \n",
       "1 -0.154772 -0.040355  0.072285    ...    -0.011667  0.003882  0.018002   \n",
       "2  0.069531 -0.014177 -0.037774    ...     0.015722 -0.025726  0.065735   \n",
       "3  0.043362 -0.001804 -0.016279    ...    -0.009052 -0.008601  0.001285   \n",
       "4 -0.012331 -0.039909 -0.070462    ...     0.020042  0.030526 -0.039462   \n",
       "\n",
       "      pc_33     pc_34     pc_35     pc_36     pc_37     pc_38  signal_y  \n",
       "0 -0.012954 -0.005468 -0.100572 -0.029374  0.041363  0.035932      stay  \n",
       "1 -0.019813 -0.035809 -0.034079 -0.014687 -0.008986 -0.019845      stay  \n",
       "2  0.041686 -0.021751 -0.014138 -0.037047 -0.050031 -0.084722      stay  \n",
       "3 -0.007619 -0.005289 -0.025700 -0.008989 -0.011967 -0.004665      stay  \n",
       "4  0.088186 -0.012277  0.033849  0.040576  0.051975 -0.031236      stay  \n",
       "\n",
       "[5 rows x 44 columns]"
      ]
     },
     "execution_count": 197,
     "metadata": {},
     "output_type": "execute_result"
    }
   ],
   "source": [
    "df_with_tfidf_pca.head()"
   ]
  },
  {
   "cell_type": "code",
   "execution_count": 199,
   "metadata": {},
   "outputs": [
    {
     "name": "stdout",
     "output_type": "stream",
     "text": [
      "<class 'pandas.core.frame.DataFrame'>\n",
      "Int64Index: 3205 entries, 0 to 3204\n",
      "Data columns (total 44 columns):\n",
      "retweet_from         3205 non-null int64\n",
      "tweet_length         3205 non-null int64\n",
      "encoded_sentiment    3205 non-null int64\n",
      "polarity             3205 non-null float64\n",
      "tweet                3205 non-null object\n",
      "pc_1                 3205 non-null float64\n",
      "pc_2                 3205 non-null float64\n",
      "pc_3                 3205 non-null float64\n",
      "pc_4                 3205 non-null float64\n",
      "pc_5                 3205 non-null float64\n",
      "pc_6                 3205 non-null float64\n",
      "pc_7                 3205 non-null float64\n",
      "pc_8                 3205 non-null float64\n",
      "pc_9                 3205 non-null float64\n",
      "pc_10                3205 non-null float64\n",
      "pc_11                3205 non-null float64\n",
      "pc_12                3205 non-null float64\n",
      "pc_13                3205 non-null float64\n",
      "pc_14                3205 non-null float64\n",
      "pc_15                3205 non-null float64\n",
      "pc_16                3205 non-null float64\n",
      "pc_17                3205 non-null float64\n",
      "pc_18                3205 non-null float64\n",
      "pc_19                3205 non-null float64\n",
      "pc_20                3205 non-null float64\n",
      "pc_21                3205 non-null float64\n",
      "pc_22                3205 non-null float64\n",
      "pc_23                3205 non-null float64\n",
      "pc_24                3205 non-null float64\n",
      "pc_25                3205 non-null float64\n",
      "pc_26                3205 non-null float64\n",
      "pc_27                3205 non-null float64\n",
      "pc_28                3205 non-null float64\n",
      "pc_29                3205 non-null float64\n",
      "pc_30                3205 non-null float64\n",
      "pc_31                3205 non-null float64\n",
      "pc_32                3205 non-null float64\n",
      "pc_33                3205 non-null float64\n",
      "pc_34                3205 non-null float64\n",
      "pc_35                3205 non-null float64\n",
      "pc_36                3205 non-null float64\n",
      "pc_37                3205 non-null float64\n",
      "pc_38                3205 non-null float64\n",
      "signal_y             3204 non-null object\n",
      "dtypes: float64(39), int64(3), object(2)\n",
      "memory usage: 1.3+ MB\n"
     ]
    }
   ],
   "source": [
    "df_with_tfidf_pca.info()"
   ]
  },
  {
   "cell_type": "code",
   "execution_count": null,
   "metadata": {},
   "outputs": [],
   "source": [
    "# take_23.to_csv(r'/Users/sproul/Desktop/ds-projects/project_mod4_AAR/CLEAN_EDIT_model_data.csv')"
   ]
  },
  {
   "cell_type": "code",
   "execution_count": 200,
   "metadata": {},
   "outputs": [],
   "source": [
    "df_with_tfidf_pca.to_csv(r'/Users/sproul/Desktop/ds-projects/project_mod4_AAR/updated_merged_data.csv')"
   ]
  },
  {
   "cell_type": "code",
   "execution_count": null,
   "metadata": {},
   "outputs": [],
   "source": []
  }
 ],
 "metadata": {
  "kernelspec": {
   "display_name": "Python 3",
   "language": "python",
   "name": "python3"
  },
  "language_info": {
   "codemirror_mode": {
    "name": "ipython",
    "version": 3
   },
   "file_extension": ".py",
   "mimetype": "text/x-python",
   "name": "python",
   "nbconvert_exporter": "python",
   "pygments_lexer": "ipython3",
   "version": "3.6.7"
  },
  "toc": {
   "base_numbering": 1,
   "nav_menu": {},
   "number_sections": true,
   "sideBar": true,
   "skip_h1_title": false,
   "title_cell": "Table of Contents",
   "title_sidebar": "Contents",
   "toc_cell": false,
   "toc_position": {},
   "toc_section_display": true,
   "toc_window_display": false
  }
 },
 "nbformat": 4,
 "nbformat_minor": 2
}
