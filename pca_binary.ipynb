{
 "cells": [
  {
   "cell_type": "code",
   "execution_count": 1,
   "metadata": {},
   "outputs": [
    {
     "name": "stderr",
     "output_type": "stream",
     "text": [
      "Using TensorFlow backend.\n",
      "/Users/roberthillery/anaconda3/envs/venv/lib/python2.7/site-packages/chances/plots.py:7: UserWarning: \n",
      "This call to matplotlib.use() has no effect because the backend has already\n",
      "been chosen; matplotlib.use() must be called *before* pylab, matplotlib.pyplot,\n",
      "or matplotlib.backends is imported for the first time.\n",
      "\n",
      "The backend was *originally* set to 'module://ipykernel.pylab.backend_inline' by the following code:\n",
      "  File \"/Users/roberthillery/anaconda3/envs/venv/lib/python2.7/runpy.py\", line 174, in _run_module_as_main\n",
      "    \"__main__\", fname, loader, pkg_name)\n",
      "  File \"/Users/roberthillery/anaconda3/envs/venv/lib/python2.7/runpy.py\", line 72, in _run_code\n",
      "    exec code in run_globals\n",
      "  File \"/Users/roberthillery/anaconda3/envs/venv/lib/python2.7/site-packages/ipykernel_launcher.py\", line 16, in <module>\n",
      "    app.launch_new_instance()\n",
      "  File \"/Users/roberthillery/anaconda3/envs/venv/lib/python2.7/site-packages/traitlets/config/application.py\", line 658, in launch_instance\n",
      "    app.start()\n",
      "  File \"/Users/roberthillery/anaconda3/envs/venv/lib/python2.7/site-packages/ipykernel/kernelapp.py\", line 499, in start\n",
      "    self.io_loop.start()\n",
      "  File \"/Users/roberthillery/anaconda3/envs/venv/lib/python2.7/site-packages/tornado/ioloop.py\", line 1073, in start\n",
      "    handler_func(fd_obj, events)\n",
      "  File \"/Users/roberthillery/anaconda3/envs/venv/lib/python2.7/site-packages/tornado/stack_context.py\", line 300, in null_wrapper\n",
      "    return fn(*args, **kwargs)\n",
      "  File \"/Users/roberthillery/anaconda3/envs/venv/lib/python2.7/site-packages/zmq/eventloop/zmqstream.py\", line 450, in _handle_events\n",
      "    self._handle_recv()\n",
      "  File \"/Users/roberthillery/anaconda3/envs/venv/lib/python2.7/site-packages/zmq/eventloop/zmqstream.py\", line 480, in _handle_recv\n",
      "    self._run_callback(callback, msg)\n",
      "  File \"/Users/roberthillery/anaconda3/envs/venv/lib/python2.7/site-packages/zmq/eventloop/zmqstream.py\", line 432, in _run_callback\n",
      "    callback(*args, **kwargs)\n",
      "  File \"/Users/roberthillery/anaconda3/envs/venv/lib/python2.7/site-packages/tornado/stack_context.py\", line 300, in null_wrapper\n",
      "    return fn(*args, **kwargs)\n",
      "  File \"/Users/roberthillery/anaconda3/envs/venv/lib/python2.7/site-packages/ipykernel/kernelbase.py\", line 283, in dispatcher\n",
      "    return self.dispatch_shell(stream, msg)\n",
      "  File \"/Users/roberthillery/anaconda3/envs/venv/lib/python2.7/site-packages/ipykernel/kernelbase.py\", line 233, in dispatch_shell\n",
      "    handler(stream, idents, msg)\n",
      "  File \"/Users/roberthillery/anaconda3/envs/venv/lib/python2.7/site-packages/ipykernel/kernelbase.py\", line 399, in execute_request\n",
      "    user_expressions, allow_stdin)\n",
      "  File \"/Users/roberthillery/anaconda3/envs/venv/lib/python2.7/site-packages/ipykernel/ipkernel.py\", line 208, in do_execute\n",
      "    res = shell.run_cell(code, store_history=store_history, silent=silent)\n",
      "  File \"/Users/roberthillery/anaconda3/envs/venv/lib/python2.7/site-packages/ipykernel/zmqshell.py\", line 537, in run_cell\n",
      "    return super(ZMQInteractiveShell, self).run_cell(*args, **kwargs)\n",
      "  File \"/Users/roberthillery/anaconda3/envs/venv/lib/python2.7/site-packages/IPython/core/interactiveshell.py\", line 2714, in run_cell\n",
      "    interactivity=interactivity, compiler=compiler, result=result)\n",
      "  File \"/Users/roberthillery/anaconda3/envs/venv/lib/python2.7/site-packages/IPython/core/interactiveshell.py\", line 2818, in run_ast_nodes\n",
      "    if self.run_code(code, result):\n",
      "  File \"/Users/roberthillery/anaconda3/envs/venv/lib/python2.7/site-packages/IPython/core/interactiveshell.py\", line 2878, in run_code\n",
      "    exec(code_obj, self.user_global_ns, self.user_ns)\n",
      "  File \"<ipython-input-1-e78835113323>\", line 23, in <module>\n",
      "    import talos as ta\n",
      "  File \"/Users/roberthillery/anaconda3/envs/venv/lib/python2.7/site-packages/talos/__init__.py\", line 2, in <module>\n",
      "    from .scan.Scan import Scan\n",
      "  File \"/Users/roberthillery/anaconda3/envs/venv/lib/python2.7/site-packages/talos/scan/Scan.py\", line 1, in <module>\n",
      "    from .scan_prepare import scan_prepare\n",
      "  File \"/Users/roberthillery/anaconda3/envs/venv/lib/python2.7/site-packages/talos/scan/scan_prepare.py\", line 3, in <module>\n",
      "    from ..utils.validation_split import validation_split\n",
      "  File \"/Users/roberthillery/anaconda3/envs/venv/lib/python2.7/site-packages/talos/utils/validation_split.py\", line 2, in <module>\n",
      "    from wrangle import shuffle\n",
      "  File \"/Users/roberthillery/anaconda3/envs/venv/lib/python2.7/site-packages/wrangle/__init__.py\", line 24, in <module>\n",
      "    from .ols_corr import ols_corr as correlation_ols\n",
      "  File \"/Users/roberthillery/anaconda3/envs/venv/lib/python2.7/site-packages/wrangle/ols_corr.py\", line 3, in <module>\n",
      "    import statsmodels.api as sm\n",
      "  File \"/Users/roberthillery/anaconda3/envs/venv/lib/python2.7/site-packages/statsmodels/api.py\", line 40, in <module>\n",
      "    from .multivariate.factor import Factor\n",
      "  File \"/Users/roberthillery/anaconda3/envs/venv/lib/python2.7/site-packages/statsmodels/multivariate/factor.py\", line 15, in <module>\n",
      "    import matplotlib.pyplot\n",
      "  File \"/Users/roberthillery/anaconda3/envs/venv/lib/python2.7/site-packages/matplotlib/pyplot.py\", line 71, in <module>\n",
      "    from matplotlib.backends import pylab_setup\n",
      "  File \"/Users/roberthillery/anaconda3/envs/venv/lib/python2.7/site-packages/matplotlib/backends/__init__.py\", line 16, in <module>\n",
      "    line for line in traceback.format_stack()\n",
      "\n",
      "\n",
      "  matplotlib.use('Agg')\n"
     ]
    }
   ],
   "source": [
    "from sklearn.ensemble import RandomForestClassifier\n",
    "from sklearn.svm import SVC\n",
    "from sklearn.linear_model import LogisticRegression\n",
    "from sklearn.pipeline import Pipeline\n",
    "from sklearn.model_selection import cross_val_score\n",
    "from sklearn.preprocessing import StandardScaler\n",
    "from sklearn.model_selection import train_test_split\n",
    "import keras\n",
    "from keras.preprocessing.sequence import pad_sequences\n",
    "from keras.layers import Input, Dense, LSTM, Embedding, Conv1D, MaxPooling1D\n",
    "from keras.layers import Dropout, Activation, Bidirectional, GlobalMaxPool1D\n",
    "from keras.models import Model\n",
    "from keras.models import Sequential\n",
    "from keras.layers import Dense\n",
    "from keras import initializers, regularizers, constraints, optimizers, layers\n",
    "from keras.preprocessing import text, sequence\n",
    "from keras.preprocessing.text import Tokenizer\n",
    "import pandas as pd\n",
    "import numpy as np\n",
    "np.random.seed(0)\n",
    "from nltk import word_tokenize\n",
    "from gensim.models import word2vec\n",
    "import talos as ta\n",
    "from keras.layers import Dropout\n",
    "from talos.model.early_stopper import early_stopper\n",
    "from talos.model.normalizers import lr_normalizer\n",
    "from sklearn.metrics import accuracy_score,confusion_matrix,classification_report\n",
    "import seaborn as sns\n",
    "import matplotlib.pyplot as plt\n",
    "\n"
   ]
  },
  {
   "cell_type": "code",
   "execution_count": 2,
   "metadata": {},
   "outputs": [],
   "source": [
    "%matplotlib inline\n",
    "\n"
   ]
  },
  {
   "cell_type": "code",
   "execution_count": 3,
   "metadata": {},
   "outputs": [
    {
     "data": {
      "text/html": [
       "<div>\n",
       "<style scoped>\n",
       "    .dataframe tbody tr th:only-of-type {\n",
       "        vertical-align: middle;\n",
       "    }\n",
       "\n",
       "    .dataframe tbody tr th {\n",
       "        vertical-align: top;\n",
       "    }\n",
       "\n",
       "    .dataframe thead th {\n",
       "        text-align: right;\n",
       "    }\n",
       "</style>\n",
       "<table border=\"1\" class=\"dataframe\">\n",
       "  <thead>\n",
       "    <tr style=\"text-align: right;\">\n",
       "      <th></th>\n",
       "      <th>Date</th>\n",
       "      <th>retweet_from</th>\n",
       "      <th>tweet_length</th>\n",
       "      <th>encoded_sentiment</th>\n",
       "      <th>polarity</th>\n",
       "      <th>tweet</th>\n",
       "      <th>pc_1</th>\n",
       "      <th>pc_2</th>\n",
       "      <th>pc_3</th>\n",
       "      <th>pc_4</th>\n",
       "      <th>...</th>\n",
       "      <th>pc_30</th>\n",
       "      <th>pc_31</th>\n",
       "      <th>pc_32</th>\n",
       "      <th>pc_33</th>\n",
       "      <th>pc_34</th>\n",
       "      <th>pc_35</th>\n",
       "      <th>pc_36</th>\n",
       "      <th>pc_37</th>\n",
       "      <th>pc_38</th>\n",
       "      <th>signal_y</th>\n",
       "    </tr>\n",
       "  </thead>\n",
       "  <tbody>\n",
       "    <tr>\n",
       "      <th>0</th>\n",
       "      <td>2017-09-29</td>\n",
       "      <td>171</td>\n",
       "      <td>105</td>\n",
       "      <td>1</td>\n",
       "      <td>0.366667</td>\n",
       "      <td>assuming acceleration of to but in a comfortab...</td>\n",
       "      <td>-0.031750</td>\n",
       "      <td>-0.028862</td>\n",
       "      <td>-0.030268</td>\n",
       "      <td>-0.018790</td>\n",
       "      <td>...</td>\n",
       "      <td>-0.034915</td>\n",
       "      <td>-0.030453</td>\n",
       "      <td>0.009013</td>\n",
       "      <td>-0.004715</td>\n",
       "      <td>-0.074266</td>\n",
       "      <td>-0.084025</td>\n",
       "      <td>0.019334</td>\n",
       "      <td>-0.004746</td>\n",
       "      <td>0.025779</td>\n",
       "      <td>down</td>\n",
       "    </tr>\n",
       "    <tr>\n",
       "      <th>1</th>\n",
       "      <td>2017-09-29</td>\n",
       "      <td>77</td>\n",
       "      <td>113</td>\n",
       "      <td>1</td>\n",
       "      <td>0.200000</td>\n",
       "      <td>is capable of transporting satellite to orbit ...</td>\n",
       "      <td>-0.059331</td>\n",
       "      <td>-0.099826</td>\n",
       "      <td>-0.154760</td>\n",
       "      <td>-0.040333</td>\n",
       "      <td>...</td>\n",
       "      <td>-0.015897</td>\n",
       "      <td>0.009704</td>\n",
       "      <td>-0.011633</td>\n",
       "      <td>-0.016697</td>\n",
       "      <td>-0.033227</td>\n",
       "      <td>0.000195</td>\n",
       "      <td>0.011908</td>\n",
       "      <td>-0.017864</td>\n",
       "      <td>-0.001426</td>\n",
       "      <td>down</td>\n",
       "    </tr>\n",
       "    <tr>\n",
       "      <th>2</th>\n",
       "      <td>2017-09-29</td>\n",
       "      <td>171</td>\n",
       "      <td>6</td>\n",
       "      <td>0</td>\n",
       "      <td>0.000000</td>\n",
       "      <td>yup</td>\n",
       "      <td>-0.002330</td>\n",
       "      <td>0.033960</td>\n",
       "      <td>0.069607</td>\n",
       "      <td>-0.014126</td>\n",
       "      <td>...</td>\n",
       "      <td>0.012970</td>\n",
       "      <td>-0.008978</td>\n",
       "      <td>-0.013865</td>\n",
       "      <td>0.046525</td>\n",
       "      <td>-0.007867</td>\n",
       "      <td>0.041954</td>\n",
       "      <td>-0.034317</td>\n",
       "      <td>-0.085269</td>\n",
       "      <td>-0.029201</td>\n",
       "      <td>down</td>\n",
       "    </tr>\n",
       "    <tr>\n",
       "      <th>3</th>\n",
       "      <td>2017-09-29</td>\n",
       "      <td>171</td>\n",
       "      <td>7</td>\n",
       "      <td>0</td>\n",
       "      <td>0.000000</td>\n",
       "      <td>part</td>\n",
       "      <td>-0.005050</td>\n",
       "      <td>0.024122</td>\n",
       "      <td>0.043361</td>\n",
       "      <td>-0.001799</td>\n",
       "      <td>...</td>\n",
       "      <td>-0.000544</td>\n",
       "      <td>-0.003106</td>\n",
       "      <td>-0.009162</td>\n",
       "      <td>-0.007540</td>\n",
       "      <td>0.008748</td>\n",
       "      <td>0.016646</td>\n",
       "      <td>-0.003052</td>\n",
       "      <td>-0.056231</td>\n",
       "      <td>-0.018816</td>\n",
       "      <td>down</td>\n",
       "    </tr>\n",
       "    <tr>\n",
       "      <th>4</th>\n",
       "      <td>2017-09-29</td>\n",
       "      <td>171</td>\n",
       "      <td>96</td>\n",
       "      <td>1</td>\n",
       "      <td>0.650000</td>\n",
       "      <td>fly to most place on earth in under min and an...</td>\n",
       "      <td>-0.031167</td>\n",
       "      <td>-0.027728</td>\n",
       "      <td>-0.012339</td>\n",
       "      <td>-0.039902</td>\n",
       "      <td>...</td>\n",
       "      <td>-0.000036</td>\n",
       "      <td>-0.000197</td>\n",
       "      <td>-0.007578</td>\n",
       "      <td>0.083160</td>\n",
       "      <td>-0.010546</td>\n",
       "      <td>-0.022204</td>\n",
       "      <td>-0.059491</td>\n",
       "      <td>0.048438</td>\n",
       "      <td>0.023978</td>\n",
       "      <td>down</td>\n",
       "    </tr>\n",
       "  </tbody>\n",
       "</table>\n",
       "<p>5 rows × 45 columns</p>\n",
       "</div>"
      ],
      "text/plain": [
       "         Date  retweet_from  tweet_length  encoded_sentiment  polarity  \\\n",
       "0  2017-09-29           171           105                  1  0.366667   \n",
       "1  2017-09-29            77           113                  1  0.200000   \n",
       "2  2017-09-29           171             6                  0  0.000000   \n",
       "3  2017-09-29           171             7                  0  0.000000   \n",
       "4  2017-09-29           171            96                  1  0.650000   \n",
       "\n",
       "                                               tweet      pc_1      pc_2  \\\n",
       "0  assuming acceleration of to but in a comfortab... -0.031750 -0.028862   \n",
       "1  is capable of transporting satellite to orbit ... -0.059331 -0.099826   \n",
       "2                                                yup -0.002330  0.033960   \n",
       "3                                               part -0.005050  0.024122   \n",
       "4  fly to most place on earth in under min and an... -0.031167 -0.027728   \n",
       "\n",
       "       pc_3      pc_4    ...        pc_30     pc_31     pc_32     pc_33  \\\n",
       "0 -0.030268 -0.018790    ...    -0.034915 -0.030453  0.009013 -0.004715   \n",
       "1 -0.154760 -0.040333    ...    -0.015897  0.009704 -0.011633 -0.016697   \n",
       "2  0.069607 -0.014126    ...     0.012970 -0.008978 -0.013865  0.046525   \n",
       "3  0.043361 -0.001799    ...    -0.000544 -0.003106 -0.009162 -0.007540   \n",
       "4 -0.012339 -0.039902    ...    -0.000036 -0.000197 -0.007578  0.083160   \n",
       "\n",
       "      pc_34     pc_35     pc_36     pc_37     pc_38  signal_y  \n",
       "0 -0.074266 -0.084025  0.019334 -0.004746  0.025779      down  \n",
       "1 -0.033227  0.000195  0.011908 -0.017864 -0.001426      down  \n",
       "2 -0.007867  0.041954 -0.034317 -0.085269 -0.029201      down  \n",
       "3  0.008748  0.016646 -0.003052 -0.056231 -0.018816      down  \n",
       "4 -0.010546 -0.022204 -0.059491  0.048438  0.023978      down  \n",
       "\n",
       "[5 rows x 45 columns]"
      ]
     },
     "execution_count": 3,
     "metadata": {},
     "output_type": "execute_result"
    }
   ],
   "source": [
    "df = pd.read_csv('updated_target_merged_data.csv')\n",
    "\n",
    "df.head()"
   ]
  },
  {
   "cell_type": "code",
   "execution_count": 4,
   "metadata": {},
   "outputs": [],
   "source": [
    "df_pca = pd.read_csv('pca_updated_data.csv')"
   ]
  },
  {
   "cell_type": "code",
   "execution_count": 5,
   "metadata": {},
   "outputs": [],
   "source": [
    "df_1 = df[['Date', 'retweet_from', 'tweet_length', 'encoded_sentiment', 'polarity', 'tweet', 'signal_y']]\n"
   ]
  },
  {
   "cell_type": "code",
   "execution_count": 6,
   "metadata": {},
   "outputs": [],
   "source": [
    "df_2 = pd.concat([df_1, df_pca], axis=1)"
   ]
  },
  {
   "cell_type": "code",
   "execution_count": 7,
   "metadata": {},
   "outputs": [],
   "source": [
    "df_2 = df_2.drop(columns=['Unnamed: 0'])"
   ]
  },
  {
   "cell_type": "code",
   "execution_count": 9,
   "metadata": {},
   "outputs": [
    {
     "data": {
      "text/html": [
       "<div>\n",
       "<style scoped>\n",
       "    .dataframe tbody tr th:only-of-type {\n",
       "        vertical-align: middle;\n",
       "    }\n",
       "\n",
       "    .dataframe tbody tr th {\n",
       "        vertical-align: top;\n",
       "    }\n",
       "\n",
       "    .dataframe thead th {\n",
       "        text-align: right;\n",
       "    }\n",
       "</style>\n",
       "<table border=\"1\" class=\"dataframe\">\n",
       "  <thead>\n",
       "    <tr style=\"text-align: right;\">\n",
       "      <th></th>\n",
       "      <th>Date</th>\n",
       "      <th>retweet_from</th>\n",
       "      <th>tweet_length</th>\n",
       "      <th>encoded_sentiment</th>\n",
       "      <th>polarity</th>\n",
       "      <th>tweet</th>\n",
       "      <th>signal_y</th>\n",
       "      <th>0</th>\n",
       "      <th>1</th>\n",
       "      <th>2</th>\n",
       "      <th>...</th>\n",
       "      <th>790</th>\n",
       "      <th>791</th>\n",
       "      <th>792</th>\n",
       "      <th>793</th>\n",
       "      <th>794</th>\n",
       "      <th>795</th>\n",
       "      <th>796</th>\n",
       "      <th>797</th>\n",
       "      <th>798</th>\n",
       "      <th>799</th>\n",
       "    </tr>\n",
       "  </thead>\n",
       "  <tbody>\n",
       "    <tr>\n",
       "      <th>0</th>\n",
       "      <td>2017-09-29</td>\n",
       "      <td>171</td>\n",
       "      <td>105</td>\n",
       "      <td>1</td>\n",
       "      <td>0.366667</td>\n",
       "      <td>assuming acceleration of to but in a comfortab...</td>\n",
       "      <td>down</td>\n",
       "      <td>-0.031750</td>\n",
       "      <td>-0.028860</td>\n",
       "      <td>-0.030273</td>\n",
       "      <td>...</td>\n",
       "      <td>-0.014750</td>\n",
       "      <td>0.006987</td>\n",
       "      <td>-0.018947</td>\n",
       "      <td>0.003795</td>\n",
       "      <td>0.021159</td>\n",
       "      <td>0.007026</td>\n",
       "      <td>-0.077665</td>\n",
       "      <td>-0.005893</td>\n",
       "      <td>0.020216</td>\n",
       "      <td>-0.024430</td>\n",
       "    </tr>\n",
       "    <tr>\n",
       "      <th>1</th>\n",
       "      <td>2017-09-29</td>\n",
       "      <td>77</td>\n",
       "      <td>113</td>\n",
       "      <td>1</td>\n",
       "      <td>0.200000</td>\n",
       "      <td>is capable of transporting satellite to orbit ...</td>\n",
       "      <td>down</td>\n",
       "      <td>-0.059331</td>\n",
       "      <td>-0.099827</td>\n",
       "      <td>-0.154757</td>\n",
       "      <td>...</td>\n",
       "      <td>0.003511</td>\n",
       "      <td>-0.017758</td>\n",
       "      <td>-0.007694</td>\n",
       "      <td>0.003239</td>\n",
       "      <td>0.015531</td>\n",
       "      <td>0.019036</td>\n",
       "      <td>0.019721</td>\n",
       "      <td>0.019111</td>\n",
       "      <td>-0.011908</td>\n",
       "      <td>0.000386</td>\n",
       "    </tr>\n",
       "    <tr>\n",
       "      <th>2</th>\n",
       "      <td>2017-09-29</td>\n",
       "      <td>171</td>\n",
       "      <td>6</td>\n",
       "      <td>0</td>\n",
       "      <td>0.000000</td>\n",
       "      <td>yup</td>\n",
       "      <td>down</td>\n",
       "      <td>-0.002330</td>\n",
       "      <td>0.033969</td>\n",
       "      <td>0.069578</td>\n",
       "      <td>...</td>\n",
       "      <td>0.000253</td>\n",
       "      <td>0.001255</td>\n",
       "      <td>-0.001372</td>\n",
       "      <td>-0.001781</td>\n",
       "      <td>0.001782</td>\n",
       "      <td>0.001916</td>\n",
       "      <td>-0.002330</td>\n",
       "      <td>-0.002583</td>\n",
       "      <td>-0.001100</td>\n",
       "      <td>0.000627</td>\n",
       "    </tr>\n",
       "    <tr>\n",
       "      <th>3</th>\n",
       "      <td>2017-09-29</td>\n",
       "      <td>171</td>\n",
       "      <td>7</td>\n",
       "      <td>0</td>\n",
       "      <td>0.000000</td>\n",
       "      <td>part</td>\n",
       "      <td>down</td>\n",
       "      <td>-0.005050</td>\n",
       "      <td>0.024121</td>\n",
       "      <td>0.043358</td>\n",
       "      <td>...</td>\n",
       "      <td>-0.001174</td>\n",
       "      <td>-0.005936</td>\n",
       "      <td>-0.005910</td>\n",
       "      <td>0.017547</td>\n",
       "      <td>-0.001422</td>\n",
       "      <td>-0.002220</td>\n",
       "      <td>0.004902</td>\n",
       "      <td>0.000039</td>\n",
       "      <td>0.011071</td>\n",
       "      <td>0.011174</td>\n",
       "    </tr>\n",
       "    <tr>\n",
       "      <th>4</th>\n",
       "      <td>2017-09-29</td>\n",
       "      <td>171</td>\n",
       "      <td>96</td>\n",
       "      <td>1</td>\n",
       "      <td>0.650000</td>\n",
       "      <td>fly to most place on earth in under min and an...</td>\n",
       "      <td>down</td>\n",
       "      <td>-0.031167</td>\n",
       "      <td>-0.027728</td>\n",
       "      <td>-0.012323</td>\n",
       "      <td>...</td>\n",
       "      <td>0.003524</td>\n",
       "      <td>0.002561</td>\n",
       "      <td>-0.003482</td>\n",
       "      <td>0.002877</td>\n",
       "      <td>-0.018114</td>\n",
       "      <td>-0.014788</td>\n",
       "      <td>-0.011140</td>\n",
       "      <td>0.006785</td>\n",
       "      <td>0.002626</td>\n",
       "      <td>0.015714</td>\n",
       "    </tr>\n",
       "  </tbody>\n",
       "</table>\n",
       "<p>5 rows × 807 columns</p>\n",
       "</div>"
      ],
      "text/plain": [
       "         Date  retweet_from  tweet_length  encoded_sentiment  polarity  \\\n",
       "0  2017-09-29           171           105                  1  0.366667   \n",
       "1  2017-09-29            77           113                  1  0.200000   \n",
       "2  2017-09-29           171             6                  0  0.000000   \n",
       "3  2017-09-29           171             7                  0  0.000000   \n",
       "4  2017-09-29           171            96                  1  0.650000   \n",
       "\n",
       "                                               tweet signal_y         0  \\\n",
       "0  assuming acceleration of to but in a comfortab...     down -0.031750   \n",
       "1  is capable of transporting satellite to orbit ...     down -0.059331   \n",
       "2                                                yup     down -0.002330   \n",
       "3                                               part     down -0.005050   \n",
       "4  fly to most place on earth in under min and an...     down -0.031167   \n",
       "\n",
       "          1         2    ...          790       791       792       793  \\\n",
       "0 -0.028860 -0.030273    ...    -0.014750  0.006987 -0.018947  0.003795   \n",
       "1 -0.099827 -0.154757    ...     0.003511 -0.017758 -0.007694  0.003239   \n",
       "2  0.033969  0.069578    ...     0.000253  0.001255 -0.001372 -0.001781   \n",
       "3  0.024121  0.043358    ...    -0.001174 -0.005936 -0.005910  0.017547   \n",
       "4 -0.027728 -0.012323    ...     0.003524  0.002561 -0.003482  0.002877   \n",
       "\n",
       "        794       795       796       797       798       799  \n",
       "0  0.021159  0.007026 -0.077665 -0.005893  0.020216 -0.024430  \n",
       "1  0.015531  0.019036  0.019721  0.019111 -0.011908  0.000386  \n",
       "2  0.001782  0.001916 -0.002330 -0.002583 -0.001100  0.000627  \n",
       "3 -0.001422 -0.002220  0.004902  0.000039  0.011071  0.011174  \n",
       "4 -0.018114 -0.014788 -0.011140  0.006785  0.002626  0.015714  \n",
       "\n",
       "[5 rows x 807 columns]"
      ]
     },
     "execution_count": 9,
     "metadata": {},
     "output_type": "execute_result"
    }
   ],
   "source": [
    "df_2.head()"
   ]
  },
  {
   "cell_type": "markdown",
   "metadata": {},
   "source": [
    "## Scale the data"
   ]
  },
  {
   "cell_type": "markdown",
   "metadata": {},
   "source": [
    "we are scaling retweets_from and tweet_length"
   ]
  },
  {
   "cell_type": "code",
   "execution_count": 10,
   "metadata": {},
   "outputs": [],
   "source": [
    "scaler = StandardScaler()"
   ]
  },
  {
   "cell_type": "code",
   "execution_count": 11,
   "metadata": {},
   "outputs": [],
   "source": [
    "df_2[['retweet_from', 'tweet_length']] = scaler.fit_transform(df[['retweet_from', 'tweet_length']])\n",
    "\n"
   ]
  },
  {
   "cell_type": "code",
   "execution_count": 12,
   "metadata": {},
   "outputs": [
    {
     "data": {
      "text/html": [
       "<div>\n",
       "<style scoped>\n",
       "    .dataframe tbody tr th:only-of-type {\n",
       "        vertical-align: middle;\n",
       "    }\n",
       "\n",
       "    .dataframe tbody tr th {\n",
       "        vertical-align: top;\n",
       "    }\n",
       "\n",
       "    .dataframe thead th {\n",
       "        text-align: right;\n",
       "    }\n",
       "</style>\n",
       "<table border=\"1\" class=\"dataframe\">\n",
       "  <thead>\n",
       "    <tr style=\"text-align: right;\">\n",
       "      <th></th>\n",
       "      <th>Date</th>\n",
       "      <th>retweet_from</th>\n",
       "      <th>tweet_length</th>\n",
       "      <th>encoded_sentiment</th>\n",
       "      <th>polarity</th>\n",
       "      <th>tweet</th>\n",
       "      <th>signal_y</th>\n",
       "      <th>0</th>\n",
       "      <th>1</th>\n",
       "      <th>2</th>\n",
       "      <th>...</th>\n",
       "      <th>790</th>\n",
       "      <th>791</th>\n",
       "      <th>792</th>\n",
       "      <th>793</th>\n",
       "      <th>794</th>\n",
       "      <th>795</th>\n",
       "      <th>796</th>\n",
       "      <th>797</th>\n",
       "      <th>798</th>\n",
       "      <th>799</th>\n",
       "    </tr>\n",
       "  </thead>\n",
       "  <tbody>\n",
       "    <tr>\n",
       "      <th>0</th>\n",
       "      <td>2017-09-29</td>\n",
       "      <td>0.375794</td>\n",
       "      <td>0.748184</td>\n",
       "      <td>1</td>\n",
       "      <td>0.366667</td>\n",
       "      <td>assuming acceleration of to but in a comfortab...</td>\n",
       "      <td>down</td>\n",
       "      <td>-0.031750</td>\n",
       "      <td>-0.028860</td>\n",
       "      <td>-0.030273</td>\n",
       "      <td>...</td>\n",
       "      <td>-0.014750</td>\n",
       "      <td>0.006987</td>\n",
       "      <td>-0.018947</td>\n",
       "      <td>0.003795</td>\n",
       "      <td>0.021159</td>\n",
       "      <td>0.007026</td>\n",
       "      <td>-0.077665</td>\n",
       "      <td>-0.005893</td>\n",
       "      <td>0.020216</td>\n",
       "      <td>-0.024430</td>\n",
       "    </tr>\n",
       "    <tr>\n",
       "      <th>1</th>\n",
       "      <td>2017-09-29</td>\n",
       "      <td>-2.297408</td>\n",
       "      <td>0.946045</td>\n",
       "      <td>1</td>\n",
       "      <td>0.200000</td>\n",
       "      <td>is capable of transporting satellite to orbit ...</td>\n",
       "      <td>down</td>\n",
       "      <td>-0.059331</td>\n",
       "      <td>-0.099827</td>\n",
       "      <td>-0.154757</td>\n",
       "      <td>...</td>\n",
       "      <td>0.003511</td>\n",
       "      <td>-0.017758</td>\n",
       "      <td>-0.007694</td>\n",
       "      <td>0.003239</td>\n",
       "      <td>0.015531</td>\n",
       "      <td>0.019036</td>\n",
       "      <td>0.019721</td>\n",
       "      <td>0.019111</td>\n",
       "      <td>-0.011908</td>\n",
       "      <td>0.000386</td>\n",
       "    </tr>\n",
       "    <tr>\n",
       "      <th>2</th>\n",
       "      <td>2017-09-29</td>\n",
       "      <td>0.375794</td>\n",
       "      <td>-1.700349</td>\n",
       "      <td>0</td>\n",
       "      <td>0.000000</td>\n",
       "      <td>yup</td>\n",
       "      <td>down</td>\n",
       "      <td>-0.002330</td>\n",
       "      <td>0.033969</td>\n",
       "      <td>0.069578</td>\n",
       "      <td>...</td>\n",
       "      <td>0.000253</td>\n",
       "      <td>0.001255</td>\n",
       "      <td>-0.001372</td>\n",
       "      <td>-0.001781</td>\n",
       "      <td>0.001782</td>\n",
       "      <td>0.001916</td>\n",
       "      <td>-0.002330</td>\n",
       "      <td>-0.002583</td>\n",
       "      <td>-0.001100</td>\n",
       "      <td>0.000627</td>\n",
       "    </tr>\n",
       "    <tr>\n",
       "      <th>3</th>\n",
       "      <td>2017-09-29</td>\n",
       "      <td>0.375794</td>\n",
       "      <td>-1.675616</td>\n",
       "      <td>0</td>\n",
       "      <td>0.000000</td>\n",
       "      <td>part</td>\n",
       "      <td>down</td>\n",
       "      <td>-0.005050</td>\n",
       "      <td>0.024121</td>\n",
       "      <td>0.043358</td>\n",
       "      <td>...</td>\n",
       "      <td>-0.001174</td>\n",
       "      <td>-0.005936</td>\n",
       "      <td>-0.005910</td>\n",
       "      <td>0.017547</td>\n",
       "      <td>-0.001422</td>\n",
       "      <td>-0.002220</td>\n",
       "      <td>0.004902</td>\n",
       "      <td>0.000039</td>\n",
       "      <td>0.011071</td>\n",
       "      <td>0.011174</td>\n",
       "    </tr>\n",
       "    <tr>\n",
       "      <th>4</th>\n",
       "      <td>2017-09-29</td>\n",
       "      <td>0.375794</td>\n",
       "      <td>0.525590</td>\n",
       "      <td>1</td>\n",
       "      <td>0.650000</td>\n",
       "      <td>fly to most place on earth in under min and an...</td>\n",
       "      <td>down</td>\n",
       "      <td>-0.031167</td>\n",
       "      <td>-0.027728</td>\n",
       "      <td>-0.012323</td>\n",
       "      <td>...</td>\n",
       "      <td>0.003524</td>\n",
       "      <td>0.002561</td>\n",
       "      <td>-0.003482</td>\n",
       "      <td>0.002877</td>\n",
       "      <td>-0.018114</td>\n",
       "      <td>-0.014788</td>\n",
       "      <td>-0.011140</td>\n",
       "      <td>0.006785</td>\n",
       "      <td>0.002626</td>\n",
       "      <td>0.015714</td>\n",
       "    </tr>\n",
       "  </tbody>\n",
       "</table>\n",
       "<p>5 rows × 807 columns</p>\n",
       "</div>"
      ],
      "text/plain": [
       "         Date  retweet_from  tweet_length  encoded_sentiment  polarity  \\\n",
       "0  2017-09-29      0.375794      0.748184                  1  0.366667   \n",
       "1  2017-09-29     -2.297408      0.946045                  1  0.200000   \n",
       "2  2017-09-29      0.375794     -1.700349                  0  0.000000   \n",
       "3  2017-09-29      0.375794     -1.675616                  0  0.000000   \n",
       "4  2017-09-29      0.375794      0.525590                  1  0.650000   \n",
       "\n",
       "                                               tweet signal_y         0  \\\n",
       "0  assuming acceleration of to but in a comfortab...     down -0.031750   \n",
       "1  is capable of transporting satellite to orbit ...     down -0.059331   \n",
       "2                                                yup     down -0.002330   \n",
       "3                                               part     down -0.005050   \n",
       "4  fly to most place on earth in under min and an...     down -0.031167   \n",
       "\n",
       "          1         2    ...          790       791       792       793  \\\n",
       "0 -0.028860 -0.030273    ...    -0.014750  0.006987 -0.018947  0.003795   \n",
       "1 -0.099827 -0.154757    ...     0.003511 -0.017758 -0.007694  0.003239   \n",
       "2  0.033969  0.069578    ...     0.000253  0.001255 -0.001372 -0.001781   \n",
       "3  0.024121  0.043358    ...    -0.001174 -0.005936 -0.005910  0.017547   \n",
       "4 -0.027728 -0.012323    ...     0.003524  0.002561 -0.003482  0.002877   \n",
       "\n",
       "        794       795       796       797       798       799  \n",
       "0  0.021159  0.007026 -0.077665 -0.005893  0.020216 -0.024430  \n",
       "1  0.015531  0.019036  0.019721  0.019111 -0.011908  0.000386  \n",
       "2  0.001782  0.001916 -0.002330 -0.002583 -0.001100  0.000627  \n",
       "3 -0.001422 -0.002220  0.004902  0.000039  0.011071  0.011174  \n",
       "4 -0.018114 -0.014788 -0.011140  0.006785  0.002626  0.015714  \n",
       "\n",
       "[5 rows x 807 columns]"
      ]
     },
     "execution_count": 12,
     "metadata": {},
     "output_type": "execute_result"
    }
   ],
   "source": [
    "df_2.head()"
   ]
  },
  {
   "cell_type": "code",
   "execution_count": 13,
   "metadata": {},
   "outputs": [],
   "source": [
    "df_2.tweet = df.tweet.astype(str)"
   ]
  },
  {
   "cell_type": "markdown",
   "metadata": {},
   "source": [
    "## Check the class balance of our target classes"
   ]
  },
  {
   "cell_type": "code",
   "execution_count": 14,
   "metadata": {},
   "outputs": [],
   "source": [
    "target = df.signal_y"
   ]
  },
  {
   "cell_type": "code",
   "execution_count": 15,
   "metadata": {},
   "outputs": [
    {
     "data": {
      "text/plain": [
       "0    down\n",
       "1    down\n",
       "2    down\n",
       "3    down\n",
       "4    down\n",
       "Name: signal_y, dtype: object"
      ]
     },
     "execution_count": 15,
     "metadata": {},
     "output_type": "execute_result"
    }
   ],
   "source": [
    "target.head()"
   ]
  },
  {
   "cell_type": "code",
   "execution_count": 16,
   "metadata": {},
   "outputs": [
    {
     "data": {
      "text/plain": [
       "<matplotlib.axes._subplots.AxesSubplot at 0x1c34cc94d0>"
      ]
     },
     "execution_count": 16,
     "metadata": {},
     "output_type": "execute_result"
    },
    {
     "data": {
      "image/png": "[encoded data removed]",
      "text/plain": [
       "<Figure size 432x288 with 1 Axes>"
      ]
     },
     "metadata": {
      "needs_background": "light"
     },
     "output_type": "display_data"
    }
   ],
   "source": [
    "sns.countplot(df['signal_y'])"
   ]
  },
  {
   "cell_type": "markdown",
   "metadata": {},
   "source": [
    "# Exploratory Data Analysis"
   ]
  },
  {
   "cell_type": "code",
   "execution_count": 17,
   "metadata": {},
   "outputs": [
    {
     "data": {
      "text/html": [
       "<div>\n",
       "<style scoped>\n",
       "    .dataframe tbody tr th:only-of-type {\n",
       "        vertical-align: middle;\n",
       "    }\n",
       "\n",
       "    .dataframe tbody tr th {\n",
       "        vertical-align: top;\n",
       "    }\n",
       "\n",
       "    .dataframe thead th {\n",
       "        text-align: right;\n",
       "    }\n",
       "</style>\n",
       "<table border=\"1\" class=\"dataframe\">\n",
       "  <thead>\n",
       "    <tr style=\"text-align: right;\">\n",
       "      <th></th>\n",
       "      <th>tweet</th>\n",
       "      <th>tweet_length</th>\n",
       "      <th>encoded_sentiment</th>\n",
       "      <th>target</th>\n",
       "    </tr>\n",
       "  </thead>\n",
       "  <tbody>\n",
       "    <tr>\n",
       "      <th>0</th>\n",
       "      <td>assuming acceleration of to but in a comfortab...</td>\n",
       "      <td>83</td>\n",
       "      <td>1</td>\n",
       "      <td>down</td>\n",
       "    </tr>\n",
       "    <tr>\n",
       "      <th>1</th>\n",
       "      <td>is capable of transporting satellite to orbit ...</td>\n",
       "      <td>94</td>\n",
       "      <td>1</td>\n",
       "      <td>down</td>\n",
       "    </tr>\n",
       "    <tr>\n",
       "      <th>2</th>\n",
       "      <td>yup</td>\n",
       "      <td>3</td>\n",
       "      <td>0</td>\n",
       "      <td>down</td>\n",
       "    </tr>\n",
       "    <tr>\n",
       "      <th>3</th>\n",
       "      <td>part</td>\n",
       "      <td>4</td>\n",
       "      <td>0</td>\n",
       "      <td>down</td>\n",
       "    </tr>\n",
       "    <tr>\n",
       "      <th>4</th>\n",
       "      <td>fly to most place on earth in under min and an...</td>\n",
       "      <td>85</td>\n",
       "      <td>1</td>\n",
       "      <td>down</td>\n",
       "    </tr>\n",
       "  </tbody>\n",
       "</table>\n",
       "</div>"
      ],
      "text/plain": [
       "                                               tweet  tweet_length  \\\n",
       "0  assuming acceleration of to but in a comfortab...            83   \n",
       "1  is capable of transporting satellite to orbit ...            94   \n",
       "2                                                yup             3   \n",
       "3                                               part             4   \n",
       "4  fly to most place on earth in under min and an...            85   \n",
       "\n",
       "   encoded_sentiment target  \n",
       "0                  1   down  \n",
       "1                  1   down  \n",
       "2                  0   down  \n",
       "3                  0   down  \n",
       "4                  1   down  "
      ]
     },
     "execution_count": 17,
     "metadata": {},
     "output_type": "execute_result"
    }
   ],
   "source": [
    "df_graph = df_2[['tweet']]\n",
    "\n",
    "df_graph['tweet_length'] = df_2['tweet'].apply(len)\n",
    "\n",
    "df_graph['encoded_sentiment'] = df_2['encoded_sentiment']\n",
    "\n",
    "df_graph['target'] = target\n",
    "\n",
    "df_graph.head()"
   ]
  },
  {
   "cell_type": "code",
   "execution_count": 18,
   "metadata": {},
   "outputs": [
    {
     "data": {
      "text/plain": [
       "count    3205.000000\n",
       "mean       57.876443\n",
       "std        33.344703\n",
       "min         1.000000\n",
       "25%        30.000000\n",
       "50%        59.000000\n",
       "75%        85.000000\n",
       "max       136.000000\n",
       "Name: tweet_length, dtype: float64"
      ]
     },
     "execution_count": 18,
     "metadata": {},
     "output_type": "execute_result"
    }
   ],
   "source": [
    "df_graph['tweet_length'].describe()"
   ]
  },
  {
   "cell_type": "code",
   "execution_count": 19,
   "metadata": {},
   "outputs": [
    {
     "data": {
      "text/plain": [
       "<matplotlib.axes._subplots.AxesSubplot at 0x1c33f21850>"
      ]
     },
     "execution_count": 19,
     "metadata": {},
     "output_type": "execute_result"
    },
    {
     "data": {
      "image/png": "[encoded data removed]",
      "text/plain": [
       "<Figure size 432x288 with 1 Axes>"
      ]
     },
     "metadata": {
      "needs_background": "light"
     },
     "output_type": "display_data"
    }
   ],
   "source": [
    "df['tweet_length'].hist(bins = 25)"
   ]
  },
  {
   "cell_type": "code",
   "execution_count": 20,
   "metadata": {},
   "outputs": [
    {
     "data": {
      "text/plain": [
       "<seaborn.axisgrid.FacetGrid at 0x1c34d67f90>"
      ]
     },
     "execution_count": 20,
     "metadata": {},
     "output_type": "execute_result"
    },
    {
     "data": {
      "image/png": "[encoded data removed]",
      "text/plain": [
       "<Figure size 648x216 with 3 Axes>"
      ]
     },
     "metadata": {
      "needs_background": "light"
     },
     "output_type": "display_data"
    }
   ],
   "source": [
    "sentiment_graph = sns.FacetGrid(df_graph,col='encoded_sentiment')\n",
    "sentiment_graph.map(plt.hist,'tweet_length', color='r')\n",
    "\n"
   ]
  },
  {
   "cell_type": "code",
   "execution_count": 21,
   "metadata": {},
   "outputs": [
    {
     "data": {
      "text/plain": [
       "<seaborn.axisgrid.FacetGrid at 0x1c37652750>"
      ]
     },
     "execution_count": 21,
     "metadata": {},
     "output_type": "execute_result"
    },
    {
     "data": {
      "image/png": "[encoded data removed]",
      "text/plain": [
       "<Figure size 432x216 with 2 Axes>"
      ]
     },
     "metadata": {
      "needs_background": "light"
     },
     "output_type": "display_data"
    }
   ],
   "source": [
    "target_graph = sns.FacetGrid(df_graph,col='target')\n",
    "target_graph.map(plt.hist,'tweet_length', color='seagreen')"
   ]
  },
  {
   "cell_type": "code",
   "execution_count": 22,
   "metadata": {},
   "outputs": [
    {
     "data": {
      "text/plain": [
       "<seaborn.axisgrid.FacetGrid at 0x10826bf90>"
      ]
     },
     "execution_count": 22,
     "metadata": {},
     "output_type": "execute_result"
    },
    {
     "data": {
      "image/png": "[encoded data removed]",
      "text/plain": [
       "<Figure size 432x216 with 2 Axes>"
      ]
     },
     "metadata": {
      "needs_background": "light"
     },
     "output_type": "display_data"
    }
   ],
   "source": [
    "target_sentiment_graph = sns.FacetGrid(df_graph,col='target')\n",
    "target_sentiment_graph.map(plt.hist,'encoded_sentiment')"
   ]
  },
  {
   "cell_type": "markdown",
   "metadata": {},
   "source": [
    "# ANN Model for non tweet features\n",
    "\n",
    "Make the dataframe for not tweet features, which include the tf-idf of the tweets.\n"
   ]
  },
  {
   "cell_type": "code",
   "execution_count": 23,
   "metadata": {},
   "outputs": [],
   "source": [
    "y = pd.get_dummies(target).values"
   ]
  },
  {
   "cell_type": "code",
   "execution_count": 24,
   "metadata": {},
   "outputs": [
    {
     "name": "stdout",
     "output_type": "stream",
     "text": [
      "<type 'numpy.ndarray'>\n"
     ]
    },
    {
     "data": {
      "text/plain": [
       "array([[1, 0],\n",
       "       [1, 0],\n",
       "       [1, 0],\n",
       "       [1, 0]], dtype=uint8)"
      ]
     },
     "execution_count": 24,
     "metadata": {},
     "output_type": "execute_result"
    }
   ],
   "source": [
    "print(type(y))\n",
    "y[:4]"
   ]
  },
  {
   "cell_type": "code",
   "execution_count": 25,
   "metadata": {},
   "outputs": [],
   "source": [
    "df_no_tweet = df_2.drop(['signal_y', 'tweet', 'Date'], axis=1)"
   ]
  },
  {
   "cell_type": "code",
   "execution_count": 26,
   "metadata": {},
   "outputs": [
    {
     "data": {
      "text/html": [
       "<div>\n",
       "<style scoped>\n",
       "    .dataframe tbody tr th:only-of-type {\n",
       "        vertical-align: middle;\n",
       "    }\n",
       "\n",
       "    .dataframe tbody tr th {\n",
       "        vertical-align: top;\n",
       "    }\n",
       "\n",
       "    .dataframe thead th {\n",
       "        text-align: right;\n",
       "    }\n",
       "</style>\n",
       "<table border=\"1\" class=\"dataframe\">\n",
       "  <thead>\n",
       "    <tr style=\"text-align: right;\">\n",
       "      <th></th>\n",
       "      <th>retweet_from</th>\n",
       "      <th>tweet_length</th>\n",
       "      <th>encoded_sentiment</th>\n",
       "      <th>polarity</th>\n",
       "      <th>0</th>\n",
       "      <th>1</th>\n",
       "      <th>2</th>\n",
       "      <th>3</th>\n",
       "      <th>4</th>\n",
       "      <th>5</th>\n",
       "      <th>...</th>\n",
       "      <th>790</th>\n",
       "      <th>791</th>\n",
       "      <th>792</th>\n",
       "      <th>793</th>\n",
       "      <th>794</th>\n",
       "      <th>795</th>\n",
       "      <th>796</th>\n",
       "      <th>797</th>\n",
       "      <th>798</th>\n",
       "      <th>799</th>\n",
       "    </tr>\n",
       "  </thead>\n",
       "  <tbody>\n",
       "    <tr>\n",
       "      <th>0</th>\n",
       "      <td>0.375794</td>\n",
       "      <td>0.748184</td>\n",
       "      <td>1</td>\n",
       "      <td>0.366667</td>\n",
       "      <td>-0.031750</td>\n",
       "      <td>-0.028860</td>\n",
       "      <td>-0.030273</td>\n",
       "      <td>-0.018769</td>\n",
       "      <td>-0.060676</td>\n",
       "      <td>0.057752</td>\n",
       "      <td>...</td>\n",
       "      <td>-0.014750</td>\n",
       "      <td>0.006987</td>\n",
       "      <td>-0.018947</td>\n",
       "      <td>0.003795</td>\n",
       "      <td>0.021159</td>\n",
       "      <td>0.007026</td>\n",
       "      <td>-0.077665</td>\n",
       "      <td>-0.005893</td>\n",
       "      <td>0.020216</td>\n",
       "      <td>-0.024430</td>\n",
       "    </tr>\n",
       "    <tr>\n",
       "      <th>1</th>\n",
       "      <td>-2.297408</td>\n",
       "      <td>0.946045</td>\n",
       "      <td>1</td>\n",
       "      <td>0.200000</td>\n",
       "      <td>-0.059331</td>\n",
       "      <td>-0.099827</td>\n",
       "      <td>-0.154757</td>\n",
       "      <td>-0.040344</td>\n",
       "      <td>0.072303</td>\n",
       "      <td>0.209183</td>\n",
       "      <td>...</td>\n",
       "      <td>0.003511</td>\n",
       "      <td>-0.017758</td>\n",
       "      <td>-0.007694</td>\n",
       "      <td>0.003239</td>\n",
       "      <td>0.015531</td>\n",
       "      <td>0.019036</td>\n",
       "      <td>0.019721</td>\n",
       "      <td>0.019111</td>\n",
       "      <td>-0.011908</td>\n",
       "      <td>0.000386</td>\n",
       "    </tr>\n",
       "    <tr>\n",
       "      <th>2</th>\n",
       "      <td>0.375794</td>\n",
       "      <td>-1.700349</td>\n",
       "      <td>0</td>\n",
       "      <td>0.000000</td>\n",
       "      <td>-0.002330</td>\n",
       "      <td>0.033969</td>\n",
       "      <td>0.069578</td>\n",
       "      <td>-0.014138</td>\n",
       "      <td>-0.037713</td>\n",
       "      <td>-0.071401</td>\n",
       "      <td>...</td>\n",
       "      <td>0.000253</td>\n",
       "      <td>0.001255</td>\n",
       "      <td>-0.001372</td>\n",
       "      <td>-0.001781</td>\n",
       "      <td>0.001782</td>\n",
       "      <td>0.001916</td>\n",
       "      <td>-0.002330</td>\n",
       "      <td>-0.002583</td>\n",
       "      <td>-0.001100</td>\n",
       "      <td>0.000627</td>\n",
       "    </tr>\n",
       "    <tr>\n",
       "      <th>3</th>\n",
       "      <td>0.375794</td>\n",
       "      <td>-1.675616</td>\n",
       "      <td>0</td>\n",
       "      <td>0.000000</td>\n",
       "      <td>-0.005050</td>\n",
       "      <td>0.024121</td>\n",
       "      <td>0.043358</td>\n",
       "      <td>-0.001800</td>\n",
       "      <td>-0.016294</td>\n",
       "      <td>-0.051990</td>\n",
       "      <td>...</td>\n",
       "      <td>-0.001174</td>\n",
       "      <td>-0.005936</td>\n",
       "      <td>-0.005910</td>\n",
       "      <td>0.017547</td>\n",
       "      <td>-0.001422</td>\n",
       "      <td>-0.002220</td>\n",
       "      <td>0.004902</td>\n",
       "      <td>0.000039</td>\n",
       "      <td>0.011071</td>\n",
       "      <td>0.011174</td>\n",
       "    </tr>\n",
       "    <tr>\n",
       "      <th>4</th>\n",
       "      <td>0.375794</td>\n",
       "      <td>0.525590</td>\n",
       "      <td>1</td>\n",
       "      <td>0.650000</td>\n",
       "      <td>-0.031167</td>\n",
       "      <td>-0.027728</td>\n",
       "      <td>-0.012323</td>\n",
       "      <td>-0.039920</td>\n",
       "      <td>-0.070452</td>\n",
       "      <td>0.019524</td>\n",
       "      <td>...</td>\n",
       "      <td>0.003524</td>\n",
       "      <td>0.002561</td>\n",
       "      <td>-0.003482</td>\n",
       "      <td>0.002877</td>\n",
       "      <td>-0.018114</td>\n",
       "      <td>-0.014788</td>\n",
       "      <td>-0.011140</td>\n",
       "      <td>0.006785</td>\n",
       "      <td>0.002626</td>\n",
       "      <td>0.015714</td>\n",
       "    </tr>\n",
       "  </tbody>\n",
       "</table>\n",
       "<p>5 rows × 804 columns</p>\n",
       "</div>"
      ],
      "text/plain": [
       "   retweet_from  tweet_length  encoded_sentiment  polarity         0  \\\n",
       "0      0.375794      0.748184                  1  0.366667 -0.031750   \n",
       "1     -2.297408      0.946045                  1  0.200000 -0.059331   \n",
       "2      0.375794     -1.700349                  0  0.000000 -0.002330   \n",
       "3      0.375794     -1.675616                  0  0.000000 -0.005050   \n",
       "4      0.375794      0.525590                  1  0.650000 -0.031167   \n",
       "\n",
       "          1         2         3         4         5    ...          790  \\\n",
       "0 -0.028860 -0.030273 -0.018769 -0.060676  0.057752    ...    -0.014750   \n",
       "1 -0.099827 -0.154757 -0.040344  0.072303  0.209183    ...     0.003511   \n",
       "2  0.033969  0.069578 -0.014138 -0.037713 -0.071401    ...     0.000253   \n",
       "3  0.024121  0.043358 -0.001800 -0.016294 -0.051990    ...    -0.001174   \n",
       "4 -0.027728 -0.012323 -0.039920 -0.070452  0.019524    ...     0.003524   \n",
       "\n",
       "        791       792       793       794       795       796       797  \\\n",
       "0  0.006987 -0.018947  0.003795  0.021159  0.007026 -0.077665 -0.005893   \n",
       "1 -0.017758 -0.007694  0.003239  0.015531  0.019036  0.019721  0.019111   \n",
       "2  0.001255 -0.001372 -0.001781  0.001782  0.001916 -0.002330 -0.002583   \n",
       "3 -0.005936 -0.005910  0.017547 -0.001422 -0.002220  0.004902  0.000039   \n",
       "4  0.002561 -0.003482  0.002877 -0.018114 -0.014788 -0.011140  0.006785   \n",
       "\n",
       "        798       799  \n",
       "0  0.020216 -0.024430  \n",
       "1 -0.011908  0.000386  \n",
       "2 -0.001100  0.000627  \n",
       "3  0.011071  0.011174  \n",
       "4  0.002626  0.015714  \n",
       "\n",
       "[5 rows x 804 columns]"
      ]
     },
     "execution_count": 26,
     "metadata": {},
     "output_type": "execute_result"
    }
   ],
   "source": [
    "df_no_tweet.head()"
   ]
  },
  {
   "cell_type": "code",
   "execution_count": 27,
   "metadata": {},
   "outputs": [],
   "source": [
    "# these are the features for the no_tweet ANN model\n",
    "X = df_no_tweet.drop(columns=['encoded_sentiment']).as_matrix()"
   ]
  },
  {
   "cell_type": "code",
   "execution_count": 31,
   "metadata": {},
   "outputs": [
    {
     "data": {
      "text/plain": [
       "(803,)"
      ]
     },
     "execution_count": 31,
     "metadata": {},
     "output_type": "execute_result"
    }
   ],
   "source": [
    "X[0].shape"
   ]
  },
  {
   "cell_type": "code",
   "execution_count": 32,
   "metadata": {},
   "outputs": [
    {
     "data": {
      "text/plain": [
       "(3205, 803)"
      ]
     },
     "execution_count": 32,
     "metadata": {},
     "output_type": "execute_result"
    }
   ],
   "source": [
    "X.shape"
   ]
  },
  {
   "cell_type": "code",
   "execution_count": 33,
   "metadata": {},
   "outputs": [
    {
     "data": {
      "text/plain": [
       "array([[ 3.75793919e-01,  7.48184035e-01,  3.66666667e-01, ...,\n",
       "        -5.89298127e-03,  2.02159374e-02, -2.44296936e-02],\n",
       "       [-2.29740768e+00,  9.46045275e-01,  2.00000000e-01, ...,\n",
       "         1.91110158e-02, -1.19081575e-02,  3.86021435e-04],\n",
       "       [ 3.75793919e-01, -1.70034881e+00,  0.00000000e+00, ...,\n",
       "        -2.58264620e-03, -1.09961019e-03,  6.27378001e-04],\n",
       "       ...,\n",
       "       [ 3.75793919e-01,  1.51489634e+00,  0.00000000e+00, ...,\n",
       "         1.65888690e-03, -1.63609806e-02, -5.67280705e-03],\n",
       "       [ 3.75793919e-01,  9.21312620e-01,  4.00000000e-01, ...,\n",
       "         4.86410501e-04,  1.16638269e-02, -2.17394909e-02],\n",
       "       [-3.29274870e+00, -4.63716060e-01,  0.00000000e+00, ...,\n",
       "         2.96719122e-02, -6.37942781e-03,  2.21324532e-02]])"
      ]
     },
     "execution_count": 33,
     "metadata": {},
     "output_type": "execute_result"
    }
   ],
   "source": [
    "X"
   ]
  },
  {
   "cell_type": "code",
   "execution_count": 34,
   "metadata": {},
   "outputs": [
    {
     "name": "stdout",
     "output_type": "stream",
     "text": [
      "<type 'numpy.ndarray'>\n"
     ]
    }
   ],
   "source": [
    "# this is check the target for the Neural Network\n",
    "print(type(y))"
   ]
  },
  {
   "cell_type": "code",
   "execution_count": 35,
   "metadata": {},
   "outputs": [],
   "source": [
    "X_train, X_test, y_train, y_test = train_test_split(X, y, test_size = 0.2, random_state = 0)\n"
   ]
  },
  {
   "cell_type": "code",
   "execution_count": 36,
   "metadata": {},
   "outputs": [
    {
     "name": "stdout",
     "output_type": "stream",
     "text": [
      "Train on 2307 samples, validate on 257 samples\n",
      "Epoch 1/4\n",
      "2307/2307 [==============================] - 2s 890us/step - loss: 0.6933 - acc: 0.5178 - val_loss: 0.6907 - val_acc: 0.5720\n",
      "Epoch 2/4\n",
      "2307/2307 [==============================] - 1s 507us/step - loss: 0.6841 - acc: 0.5494 - val_loss: 0.6892 - val_acc: 0.5409\n",
      "Epoch 3/4\n",
      "2307/2307 [==============================] - 1s 550us/step - loss: 0.6123 - acc: 0.6673 - val_loss: 0.7327 - val_acc: 0.5370\n",
      "Epoch 4/4\n",
      "2307/2307 [==============================] - 1s 512us/step - loss: 0.5527 - acc: 0.7193 - val_loss: 0.8123 - val_acc: 0.5409\n"
     ]
    }
   ],
   "source": [
    "classifier = Sequential()\n",
    "classifier.add(Dense(units = 15, kernel_initializer='uniform', activation = 'tanh'))\n",
    "classifier.add(Dense(units = 15, kernel_initializer='uniform', activation = 'tanh'))\n",
    "classifier.add(Dense(units = 2, kernel_initializer='uniform', activation = 'softmax'))\n",
    "classifier.compile(optimizer = 'adam', loss = 'binary_crossentropy', metrics = ['accuracy'])\n",
    "c = classifier.fit(X_train, y_train, batch_size = 10, epochs = 4, validation_split=0.1)\n"
   ]
  },
  {
   "cell_type": "code",
   "execution_count": 37,
   "metadata": {},
   "outputs": [
    {
     "name": "stdout",
     "output_type": "stream",
     "text": [
      "score for the test data no tweet model: 0.829\n",
      "acc for the test data  no tweet model: 0.4914197\n",
      "score for the training data no tweet model: 0.530\n",
      "acc for the training data no tweet model: 0.7388846\n"
     ]
    }
   ],
   "source": [
    "score_no_tweet, acc_no_tweet = classifier.evaluate(X_test, y_test, verbose = 2, batch_size = 32)\n",
    "print(\"score for the test data no tweet model: %.3f\" % (score_no_tweet))\n",
    "print(\"acc for the test data  no tweet model: %.7f\" % (acc_no_tweet))\n",
    "\n",
    "score_train_no_tweet, acc_train_no_tweet = classifier.evaluate(X_train, y_train, verbose = 2, batch_size = 32)\n",
    "print(\"score for the training data no tweet model: %.3f\" % (score_train_no_tweet))\n",
    "print(\"acc for the training data no tweet model: %.7f\" % (acc_train_no_tweet))"
   ]
  },
  {
   "cell_type": "markdown",
   "metadata": {},
   "source": [
    "The neural network for the non-tweet data has a 73% accuracy rate."
   ]
  },
  {
   "cell_type": "code",
   "execution_count": 38,
   "metadata": {},
   "outputs": [],
   "source": [
    "def plot_train_val(model, label):\n",
    "    plt.plot(model.history[label]) \n",
    "    plt.plot(model.history['val_' +label])\n",
    "    plt.title('model '+label)\n",
    "    plt.ylabel(label)\n",
    "    plt.xlabel('epoch')\n",
    "    plt.gca().legend(('train','val'))\n",
    "    return plt.show()"
   ]
  },
  {
   "cell_type": "code",
   "execution_count": 39,
   "metadata": {},
   "outputs": [
    {
     "data": {
      "image/png": "[encoded data removed]",
      "text/plain": [
       "<Figure size 432x288 with 1 Axes>"
      ]
     },
     "metadata": {
      "needs_background": "light"
     },
     "output_type": "display_data"
    },
    {
     "data": {
      "image/png": "[encoded data removed]",
      "text/plain": [
       "<Figure size 432x288 with 1 Axes>"
      ]
     },
     "metadata": {
      "needs_background": "light"
     },
     "output_type": "display_data"
    },
    {
     "data": {
      "text/plain": [
       "(None, None)"
      ]
     },
     "execution_count": 39,
     "metadata": {},
     "output_type": "execute_result"
    }
   ],
   "source": [
    "plot_train_val(c, 'acc'), plot_train_val(c, 'loss')"
   ]
  },
  {
   "cell_type": "code",
   "execution_count": 40,
   "metadata": {},
   "outputs": [
    {
     "data": {
      "image/png": "[encoded data removed]",
      "text/plain": [
       "<Figure size 288x288 with 1 Axes>"
      ]
     },
     "metadata": {
      "needs_background": "light"
     },
     "output_type": "display_data"
    }
   ],
   "source": [
    "y_pred_test_classifier =  classifier.predict_classes(X_test, batch_size=20, verbose=0)\n",
    "confmat = confusion_matrix(np.argmax(y_test,axis=1), y_pred_test_classifier)\n",
    "\n",
    "fig, ax = plt.subplots(figsize=(4, 4))\n",
    "ax.matshow(confmat, cmap=plt.cm.Blues, alpha=0.3)\n",
    "for i in range(confmat.shape[0]):\n",
    "    for j in range(confmat.shape[1]):\n",
    "        ax.text(x=j, y=i, s=confmat[i, j], va='center', ha='center')\n",
    "plt.xlabel('Predicted label')\n",
    "plt.ylabel('True label')\n",
    "plt.tight_layout()"
   ]
  },
  {
   "cell_type": "markdown",
   "metadata": {},
   "source": [
    "# ANN Model with tweets included\n",
    "\n",
    "First, tokenize the tweets to feed into the model."
   ]
  },
  {
   "cell_type": "code",
   "execution_count": 41,
   "metadata": {},
   "outputs": [],
   "source": [
    "# set the tweet column to a string to account of data type errors\n",
    "df_2.tweet = df_2.tweet.astype(str)"
   ]
  },
  {
   "cell_type": "code",
   "execution_count": 42,
   "metadata": {},
   "outputs": [],
   "source": [
    "tokenizer = text.Tokenizer(num_words=15000)\n",
    "tokenizer.fit_on_texts(list(df_2.tweet))\n",
    "list_tokenized_tweets = tokenizer.texts_to_sequences(df_2.tweet)\n",
    "X_t = sequence.pad_sequences(list_tokenized_tweets) \n"
   ]
  },
  {
   "cell_type": "code",
   "execution_count": 43,
   "metadata": {},
   "outputs": [
    {
     "name": "stdout",
     "output_type": "stream",
     "text": [
      "<type 'numpy.ndarray'>\n",
      "(3205, 28)\n"
     ]
    },
    {
     "data": {
      "text/plain": [
       "array([[   0,    0,    0,    0,    0,    0,    0,    0,    0,    0,    0,\n",
       "           0,    0, 1328,  711,    4,    2,   16,    6,    3, 1633, 1329,\n",
       "          12,  351,   36,    3, 2220,    2],\n",
       "       [   0,    0,    0,    0,    0,    0,    0,    0,    0,    0,    5,\n",
       "         712,    4, 1634,  156,    2,  151,  394,    9,  461,    2,    1,\n",
       "           9,  127,    2,    1,  276,   47],\n",
       "       [   0,    0,    0,    0,    0,    0,    0,    0,    0,    0,    0,\n",
       "           0,    0,    0,    0,    0,    0,    0,    0,    0,    0,    0,\n",
       "           0,    0,    0,    0,    0,  505]], dtype=int32)"
      ]
     },
     "execution_count": 43,
     "metadata": {},
     "output_type": "execute_result"
    }
   ],
   "source": [
    "print(type(X_t))\n",
    "print(X_t.shape)\n",
    "X_t[:3]"
   ]
  },
  {
   "cell_type": "code",
   "execution_count": 45,
   "metadata": {},
   "outputs": [
    {
     "name": "stdout",
     "output_type": "stream",
     "text": [
      "<type 'numpy.ndarray'>\n",
      "(3205, 803)\n"
     ]
    },
    {
     "data": {
      "text/plain": [
       "(1, 803)"
      ]
     },
     "execution_count": 45,
     "metadata": {},
     "output_type": "execute_result"
    }
   ],
   "source": [
    "print(type(X))\n",
    "print(X.shape)\n",
    "X[:1].shape"
   ]
  },
  {
   "cell_type": "code",
   "execution_count": 46,
   "metadata": {},
   "outputs": [],
   "source": [
    "X_try = np.append(X_t, X, axis=1)"
   ]
  },
  {
   "cell_type": "code",
   "execution_count": 47,
   "metadata": {},
   "outputs": [
    {
     "data": {
      "text/plain": [
       "(3205, 831)"
      ]
     },
     "execution_count": 47,
     "metadata": {},
     "output_type": "execute_result"
    }
   ],
   "source": [
    "X_try.shape"
   ]
  },
  {
   "cell_type": "code",
   "execution_count": 48,
   "metadata": {},
   "outputs": [
    {
     "data": {
      "text/plain": [
       "(831,)"
      ]
     },
     "execution_count": 48,
     "metadata": {},
     "output_type": "execute_result"
    }
   ],
   "source": [
    "# use X_try because it combines tweets vectors and pca vectors\n",
    "X_try[0].shape"
   ]
  },
  {
   "cell_type": "code",
   "execution_count": 49,
   "metadata": {},
   "outputs": [],
   "source": [
    "X_train_tweet, X_test_tweet, y_train_tweet, y_test_tweet = train_test_split(X_try, y, test_size = 0.2, random_state = 0)\n",
    "\n"
   ]
  },
  {
   "cell_type": "code",
   "execution_count": 50,
   "metadata": {},
   "outputs": [
    {
     "name": "stdout",
     "output_type": "stream",
     "text": [
      "Train on 2307 samples, validate on 257 samples\n",
      "Epoch 1/4\n",
      "2307/2307 [==============================] - 2s 1ms/step - loss: 0.6985 - acc: 0.4939 - val_loss: 0.6879 - val_acc: 0.5681\n",
      "Epoch 2/4\n",
      "2307/2307 [==============================] - 2s 704us/step - loss: 0.6926 - acc: 0.5100 - val_loss: 0.6862 - val_acc: 0.5875\n",
      "Epoch 3/4\n",
      "2307/2307 [==============================] - 2s 764us/step - loss: 0.6885 - acc: 0.5221 - val_loss: 0.6822 - val_acc: 0.5720\n",
      "Epoch 4/4\n",
      "2307/2307 [==============================] - 1s 555us/step - loss: 0.6866 - acc: 0.5186 - val_loss: 0.6768 - val_acc: 0.6109\n"
     ]
    }
   ],
   "source": [
    "classifier = Sequential()\n",
    "classifier.add(Dense(units = 15, kernel_initializer='uniform', activation = 'relu'))\n",
    "classifier.add(Dense(units = 15, kernel_initializer='uniform', activation = 'relu'))\n",
    "classifier.add(Dense(units = 2, kernel_initializer='uniform', activation = 'softmax'))\n",
    "classifier.compile(optimizer = 'adam', loss = 'binary_crossentropy', metrics = ['accuracy'])\n",
    "ann = classifier.fit(X_train_tweet, y_train_tweet, batch_size = 10, epochs = 4, validation_split=0.1)\n"
   ]
  },
  {
   "cell_type": "code",
   "execution_count": 51,
   "metadata": {},
   "outputs": [
    {
     "name": "stdout",
     "output_type": "stream",
     "text": [
      "score for train no tweet model: 0.67\n",
      "acc for no train tweet model: 0.55\n"
     ]
    }
   ],
   "source": [
    "score_train_tweet, acc_train_tweet = classifier.evaluate(X_train_tweet, y_train_tweet, verbose = 2, batch_size = 32)\n",
    "print(\"score for train no tweet model: %.2f\" % (score_train_tweet))\n",
    "print(\"acc for no train tweet model: %.2f\" % (acc_train_tweet))"
   ]
  },
  {
   "cell_type": "code",
   "execution_count": 52,
   "metadata": {},
   "outputs": [
    {
     "name": "stdout",
     "output_type": "stream",
     "text": [
      "score: 0.70\n",
      "acc: 0.52\n"
     ]
    }
   ],
   "source": [
    "score_tweet, acc_tweet = classifier.evaluate(X_test_tweet, y_test_tweet, verbose = 2, batch_size = 32)\n",
    "print(\"score: %.2f\" % (score_tweet))\n",
    "print(\"acc: %.2f\" % (acc_tweet))\n"
   ]
  },
  {
   "cell_type": "markdown",
   "metadata": {},
   "source": [
    "The neural network for tweets and pca has a 52% accuracy rate."
   ]
  },
  {
   "cell_type": "code",
   "execution_count": 53,
   "metadata": {},
   "outputs": [
    {
     "data": {
      "image/png": "[encoded data removed]",
      "text/plain": [
       "<Figure size 432x288 with 1 Axes>"
      ]
     },
     "metadata": {
      "needs_background": "light"
     },
     "output_type": "display_data"
    },
    {
     "data": {
      "image/png": "[encoded data removed]",
      "text/plain": [
       "<Figure size 432x288 with 1 Axes>"
      ]
     },
     "metadata": {
      "needs_background": "light"
     },
     "output_type": "display_data"
    },
    {
     "data": {
      "text/plain": [
       "(None, None)"
      ]
     },
     "execution_count": 53,
     "metadata": {},
     "output_type": "execute_result"
    }
   ],
   "source": [
    "plot_train_val(ann, 'acc'), plot_train_val(ann, 'loss')"
   ]
  },
  {
   "cell_type": "code",
   "execution_count": 54,
   "metadata": {},
   "outputs": [
    {
     "data": {
      "image/png": "[encoded data removed]",
      "text/plain": [
       "<Figure size 288x288 with 1 Axes>"
      ]
     },
     "metadata": {
      "needs_background": "light"
     },
     "output_type": "display_data"
    }
   ],
   "source": [
    "y_pred_test_classifier =  classifier.predict_classes(X_test_tweet, batch_size=20, verbose=0)\n",
    "confmat = confusion_matrix(np.argmax(y_test_tweet,axis=1), y_pred_test_classifier)\n",
    "\n",
    "fig, ax = plt.subplots(figsize=(4, 4))\n",
    "ax.matshow(confmat, cmap=plt.cm.Blues, alpha=0.3)\n",
    "for i in range(confmat.shape[0]):\n",
    "    for j in range(confmat.shape[1]):\n",
    "        ax.text(x=j, y=i, s=confmat[i, j], va='center', ha='center')\n",
    "plt.xlabel('Predicted label')\n",
    "plt.ylabel('True label')\n",
    "plt.tight_layout()"
   ]
  },
  {
   "cell_type": "markdown",
   "metadata": {},
   "source": [
    "# A RNN"
   ]
  },
  {
   "cell_type": "code",
   "execution_count": 55,
   "metadata": {},
   "outputs": [],
   "source": [
    "from sklearn.ensemble import RandomForestClassifier\n",
    "from sklearn.svm import SVC\n",
    "from sklearn.linear_model import LogisticRegression\n",
    "from sklearn.pipeline import Pipeline\n",
    "from sklearn.model_selection import cross_val_score, train_test_split\n",
    "from keras.models import Model, Sequential\n",
    "from keras.preprocessing.text import Tokenizer\n",
    "from keras.preprocessing.sequence import pad_sequences\n",
    "from keras.layers import Input, Dense, LSTM, Embedding, SpatialDropout1D, SimpleRNN\n",
    "from keras.layers import Dropout, Activation, Bidirectional, GlobalMaxPool1D, RNN\n",
    "from keras import initializers, regularizers, constraints, optimizers, layers\n",
    "from keras.preprocessing import text, sequence\n",
    "import pandas as pd\n",
    "import numpy as np\n",
    "np.random.seed(0)\n",
    "from nltk import word_tokenize\n",
    "from gensim.models import word2vec"
   ]
  },
  {
   "cell_type": "code",
   "execution_count": 56,
   "metadata": {},
   "outputs": [],
   "source": [
    "max_fatures = 3000\n",
    "tokenizer = Tokenizer(num_words=max_fatures, split=' ')\n",
    "tokenizer.fit_on_texts(df_2['tweet'].values)\n",
    "X = tokenizer.texts_to_sequences(df_2['tweet'].values)\n",
    "X = pad_sequences(X)"
   ]
  },
  {
   "cell_type": "code",
   "execution_count": 57,
   "metadata": {},
   "outputs": [
    {
     "name": "stdout",
     "output_type": "stream",
     "text": [
      "_________________________________________________________________\n",
      "Layer (type)                 Output Shape              Param #   \n",
      "=================================================================\n",
      "embedding_1 (Embedding)      (None, 28, 128)           384000    \n",
      "_________________________________________________________________\n",
      "spatial_dropout1d_1 (Spatial (None, 28, 128)           0         \n",
      "_________________________________________________________________\n",
      "lstm_1 (LSTM)                (None, 196)               254800    \n",
      "_________________________________________________________________\n",
      "dense_7 (Dense)              (None, 2)                 394       \n",
      "=================================================================\n",
      "Total params: 639,194\n",
      "Trainable params: 639,194\n",
      "Non-trainable params: 0\n",
      "_________________________________________________________________\n",
      "None\n"
     ]
    }
   ],
   "source": [
    "embed_dim = 128\n",
    "lstm_out = 196\n",
    "\n",
    "model = Sequential()\n",
    "model.add(Embedding(max_fatures, embed_dim, input_length = X.shape[1]))\n",
    "model.add(SpatialDropout1D(0.4))\n",
    "model.add(LSTM(lstm_out, dropout=0.2, recurrent_dropout=0.2))\n",
    "model.add(Dense(2, activation='softmax'))\n",
    "model.compile(loss = 'binary_crossentropy', optimizer='adam',metrics = ['accuracy'])\n",
    "print(model.summary())"
   ]
  },
  {
   "cell_type": "code",
   "execution_count": 58,
   "metadata": {},
   "outputs": [
    {
     "name": "stdout",
     "output_type": "stream",
     "text": [
      "((2564, 28), (2564, 2))\n",
      "((641, 28), (641, 2))\n"
     ]
    }
   ],
   "source": [
    "y = pd.get_dummies(df['signal_y']).values\n",
    "X_train_2, X_test_2, y_train_2, y_test_2 = train_test_split(X, y, test_size = 0.20, random_state = 42)\n",
    "print(X_train_2.shape, y_train_2.shape)\n",
    "print(X_test_2.shape, y_test_2.shape)"
   ]
  },
  {
   "cell_type": "code",
   "execution_count": 60,
   "metadata": {},
   "outputs": [],
   "source": [
    "#model.fit(X_train_2, y_train_2, epochs=20, validation_split=0.1, batch_size=42, verbose=2)"
   ]
  },
  {
   "cell_type": "code",
   "execution_count": 57,
   "metadata": {},
   "outputs": [
    {
     "name": "stdout",
     "output_type": "stream",
     "text": [
      "score: 2.29\n",
      "acc: 0.51\n"
     ]
    }
   ],
   "source": [
    "score,acc = model.evaluate(X_test_2, y_test_2, verbose = 2, batch_size = 32)\n",
    "print(\"score: %.2f\" % (score))\n",
    "print(\"acc: %.2f\" % (acc))"
   ]
  },
  {
   "cell_type": "code",
   "execution_count": 61,
   "metadata": {},
   "outputs": [],
   "source": [
    "# plot_train_val(model, 'acc'), plot_train_val(model, 'loss')"
   ]
  },
  {
   "cell_type": "code",
   "execution_count": 59,
   "metadata": {},
   "outputs": [
    {
     "data": {
      "image/png": "[encoded data removed]",
      "text/plain": [
       "<Figure size 288x288 with 1 Axes>"
      ]
     },
     "metadata": {
      "needs_background": "light"
     },
     "output_type": "display_data"
    }
   ],
   "source": [
    "y_pred_test_model =  model.predict_classes(X_test_2, batch_size=20, verbose=0)\n",
    "confmat = confusion_matrix(np.argmax(y_test,axis=1), y_pred_test_model)\n",
    "\n",
    "fig, ax = plt.subplots(figsize=(4, 4))\n",
    "ax.matshow(confmat, cmap=plt.cm.Blues, alpha=0.3)\n",
    "for i in range(confmat.shape[0]):\n",
    "    for j in range(confmat.shape[1]):\n",
    "        ax.text(x=j, y=i, s=confmat[i, j], va='center', ha='center')\n",
    "plt.xlabel('Predicted label')\n",
    "plt.ylabel('True label')\n",
    "plt.tight_layout()"
   ]
  },
  {
   "cell_type": "markdown",
   "metadata": {},
   "source": [
    "# Next NN"
   ]
  },
  {
   "cell_type": "code",
   "execution_count": 62,
   "metadata": {},
   "outputs": [
    {
     "name": "stdout",
     "output_type": "stream",
     "text": [
      "_________________________________________________________________\n",
      "Layer (type)                 Output Shape              Param #   \n",
      "=================================================================\n",
      "dense_8 (Dense)              (None, 20)                16080     \n",
      "_________________________________________________________________\n",
      "dense_9 (Dense)              (None, 20)                420       \n",
      "_________________________________________________________________\n",
      "dropout_1 (Dropout)          (None, 20)                0         \n",
      "_________________________________________________________________\n",
      "dense_10 (Dense)             (None, 20)                420       \n",
      "_________________________________________________________________\n",
      "dropout_2 (Dropout)          (None, 20)                0         \n",
      "_________________________________________________________________\n",
      "dense_11 (Dense)             (None, 20)                420       \n",
      "_________________________________________________________________\n",
      "dropout_3 (Dropout)          (None, 20)                0         \n",
      "_________________________________________________________________\n",
      "dense_12 (Dense)             (None, 20)                420       \n",
      "_________________________________________________________________\n",
      "dense_13 (Dense)             (None, 10)                210       \n",
      "_________________________________________________________________\n",
      "dense_14 (Dense)             (None, 10)                110       \n",
      "_________________________________________________________________\n",
      "dense_15 (Dense)             (None, 2)                 22        \n",
      "=================================================================\n",
      "Total params: 18,102\n",
      "Trainable params: 18,102\n",
      "Non-trainable params: 0\n",
      "_________________________________________________________________\n",
      "None\n"
     ]
    }
   ],
   "source": [
    "# delete kernel_initializer\n",
    "model2 = Sequential()\n",
    "model2.add(Dense(20, input_dim=803, kernel_initializer='normal', activation='tanh'))\n",
    "model2.add(Dense(20, kernel_initializer='normal', activation='tanh'))\n",
    "model2.add(Dropout(0.01))\n",
    "model2.add(Dense(20, kernel_initializer='normal', activation='tanh'))\n",
    "model2.add(Dropout(0.01))\n",
    "model2.add(Dense(20, kernel_initializer='normal', activation='tanh'))\n",
    "model2.add(Dropout(0.01))\n",
    "model2.add(Dense(20, kernel_initializer='normal', activation='tanh'))\n",
    "model2.add(Dense(10, activation='tanh'))\n",
    "model2.add(Dense(10, activation='tanh'))\n",
    "model2.add(Dense(2, activation='softmax'))\n",
    "adam2 = optimizers.Adam(lr=.05, decay=0.0005)\n",
    "model2.compile(loss='binary_crossentropy', optimizer=adam2, metrics=['accuracy'])\n",
    "print(model2.summary())"
   ]
  },
  {
   "cell_type": "code",
   "execution_count": 63,
   "metadata": {},
   "outputs": [
    {
     "data": {
      "text/plain": [
       "array([[ 3.75793919e-01, -1.77454677e+00,  0.00000000e+00, ...,\n",
       "         4.94559878e-04,  5.32328272e-04, -2.12158806e-04],\n",
       "       [-2.01302453e+00, -2.16389510e-01,  0.00000000e+00, ...,\n",
       "         1.92538368e-02,  9.05187287e-03,  7.82657489e-03],\n",
       "       [-2.41116094e+00,  3.77194210e-01,  0.00000000e+00, ...,\n",
       "         1.27178124e-02,  4.41299629e-03,  1.39968074e-02],\n",
       "       ...,\n",
       "       [-2.29740768e+00,  9.70777930e-01,  3.18750000e-01, ...,\n",
       "        -1.17874800e-03,  1.87006026e-02, -1.64434519e-02],\n",
       "       [ 3.75793919e-01,  4.51392175e-01,  0.00000000e+00, ...,\n",
       "        -2.61378840e-03,  3.95667890e-03,  1.16051891e-02],\n",
       "       [ 3.75793919e-01,  5.56696952e-02, -6.25000000e-02, ...,\n",
       "        -2.63154701e-02,  6.95727437e-04,  1.16607184e-02]])"
      ]
     },
     "execution_count": 63,
     "metadata": {},
     "output_type": "execute_result"
    }
   ],
   "source": [
    "X_train"
   ]
  },
  {
   "cell_type": "code",
   "execution_count": 64,
   "metadata": {
    "scrolled": false
   },
   "outputs": [
    {
     "name": "stdout",
     "output_type": "stream",
     "text": [
      "Train on 2307 samples, validate on 257 samples\n",
      "Epoch 1/7\n",
      "2307/2307 [==============================] - 3s 1ms/step - loss: 0.7081 - acc: 0.5087 - val_loss: 0.7197 - val_acc: 0.5642\n",
      "Epoch 2/7\n",
      "2307/2307 [==============================] - 1s 494us/step - loss: 0.7060 - acc: 0.5017 - val_loss: 0.7329 - val_acc: 0.4358\n",
      "Epoch 3/7\n",
      "2307/2307 [==============================] - 1s 538us/step - loss: 0.7005 - acc: 0.4957 - val_loss: 0.6927 - val_acc: 0.5642\n",
      "Epoch 4/7\n",
      "2307/2307 [==============================] - 1s 513us/step - loss: 0.7312 - acc: 0.4931 - val_loss: 0.7009 - val_acc: 0.5642\n",
      "Epoch 5/7\n",
      "2307/2307 [==============================] - 1s 583us/step - loss: 0.7220 - acc: 0.4905 - val_loss: 0.7303 - val_acc: 0.4358\n",
      "Epoch 6/7\n",
      "2307/2307 [==============================] - 1s 465us/step - loss: 0.7200 - acc: 0.5061 - val_loss: 0.6869 - val_acc: 0.5720\n",
      "Epoch 7/7\n",
      "2307/2307 [==============================] - 1s 459us/step - loss: 0.7230 - acc: 0.4905 - val_loss: 0.6851 - val_acc: 0.5642\n"
     ]
    }
   ],
   "source": [
    "m2 = model2.fit(X_train, y_train, epochs=7, validation_split=.1, batch_size=20, verbose=1)\n",
    "\n",
    "\n"
   ]
  },
  {
   "cell_type": "code",
   "execution_count": 63,
   "metadata": {},
   "outputs": [],
   "source": [
    "# score for the test data no tweet model: 0.6923892\n",
    "# acc for the test data  no tweet model: 0.5195008\n",
    "# score for the training data no tweet model: 0.6919532\n",
    "# acc for the training data no tweet model: 0.5247660"
   ]
  },
  {
   "cell_type": "code",
   "execution_count": 65,
   "metadata": {},
   "outputs": [
    {
     "name": "stdout",
     "output_type": "stream",
     "text": [
      "score for the test data no tweet model: 0.6937866\n",
      "acc for the test data  no tweet model: 0.5163807\n",
      "score for the training data no tweet model: 0.6939996\n",
      "acc for the training data no tweet model: 0.5138456\n"
     ]
    }
   ],
   "source": [
    "model_2_score_no_tweet, model_2_acc_no_tweet = model2.evaluate(X_test, y_test, verbose = 2, batch_size = 32)\n",
    "print(\"score for the test data no tweet model: %.7f\" % (model_2_score_no_tweet))\n",
    "print(\"acc for the test data  no tweet model: %.7f\" % (model_2_acc_no_tweet))\n",
    "\n",
    "model_2_score_train_no_tweet, model_2_acc_train_no_tweet = model2.evaluate(X_train, y_train, verbose = 2, batch_size = 32)\n",
    "print(\"score for the training data no tweet model: %.7f\" % (model_2_score_train_no_tweet))\n",
    "print(\"acc for the training data no tweet model: %.7f\" % (model_2_acc_train_no_tweet))"
   ]
  },
  {
   "cell_type": "code",
   "execution_count": 66,
   "metadata": {},
   "outputs": [
    {
     "data": {
      "image/png": "[encoded data removed]",
      "text/plain": [
       "<Figure size 432x288 with 1 Axes>"
      ]
     },
     "metadata": {
      "needs_background": "light"
     },
     "output_type": "display_data"
    },
    {
     "data": {
      "image/png": "[encoded data removed]",
      "text/plain": [
       "<Figure size 432x288 with 1 Axes>"
      ]
     },
     "metadata": {
      "needs_background": "light"
     },
     "output_type": "display_data"
    },
    {
     "data": {
      "text/plain": [
       "(None, None)"
      ]
     },
     "execution_count": 66,
     "metadata": {},
     "output_type": "execute_result"
    }
   ],
   "source": [
    "plot_train_val(m2, 'acc'), plot_train_val(m2, 'loss')"
   ]
  },
  {
   "cell_type": "code",
   "execution_count": 67,
   "metadata": {},
   "outputs": [],
   "source": [
    "y_pred_test_model2 =  model2.predict_classes(X_test, batch_size=20, verbose=0)"
   ]
  },
  {
   "cell_type": "code",
   "execution_count": 68,
   "metadata": {},
   "outputs": [
    {
     "data": {
      "image/png": "[encoded data removed]",
      "text/plain": [
       "<Figure size 288x288 with 1 Axes>"
      ]
     },
     "metadata": {
      "needs_background": "light"
     },
     "output_type": "display_data"
    }
   ],
   "source": [
    "confmat = confusion_matrix(np.argmax(y_test,axis=1), y_pred_test_model2)\n",
    "\n",
    "fig, ax = plt.subplots(figsize=(4, 4))\n",
    "ax.matshow(confmat, cmap=plt.cm.Blues, alpha=0.3)\n",
    "for i in range(confmat.shape[0]):\n",
    "    for j in range(confmat.shape[1]):\n",
    "        ax.text(x=j, y=i, s=confmat[i, j], va='center', ha='center')\n",
    "plt.xlabel('Predicted label')\n",
    "plt.ylabel('True label')\n",
    "plt.tight_layout()"
   ]
  },
  {
   "cell_type": "markdown",
   "metadata": {},
   "source": [
    "# Another NN"
   ]
  },
  {
   "cell_type": "code",
   "execution_count": 68,
   "metadata": {},
   "outputs": [],
   "source": [
    "# classifier2 = Sequential()\n",
    "# randuni = initializers.VarianceScaling(scale=.375, distribution='normal', seed=None) # RandomUniform(minval=-0.05, maxval=0.05, seed=None)\n",
    "# classifier2.add(Dense(15, kernel_initializer=randuni, activation = 'tanh'))\n",
    "# classifier2.add(Dense(20, activation = 'tanh'))\n",
    "# # classifier2.add(Dense(15, activation = 'tanh'))\n",
    "# # classifier2.add(Dense(50, kernel_regularizer=regularizers.l1(0.05), activation='tanh'))\n",
    "# # classifier2.add(Dense(10, kernel_regularizer=regularizers.l1(0.05), activation='tanh'))\n",
    "# classifier.add(Dense(5, kernel_regularizer=regularizers.l1(0.05), activation='relu'))\n",
    "# classifier.add(Dense(5, activation = 'tanh'))\n",
    "# classifier.add(Dense(5, activation = 'tanh'))\n",
    "# classifier2.add(Dense(2, activation = 'softmax'))\n",
    "# adam = optimizers.Adam(lr=.0001)\n",
    "# classifier2.compile(optimizer = adam, loss = 'binary_crossentropy', metrics = ['accuracy']) "
   ]
  },
  {
   "cell_type": "code",
   "execution_count": 69,
   "metadata": {},
   "outputs": [],
   "source": [
    "classifier2 = Sequential()\n",
    "randuni = initializers.VarianceScaling(scale=.375, distribution='normal', seed=None) # RandomUniform(minval=-0.05, maxval=0.05, seed=None)\n",
    "classifier2.add(Dense(15, kernel_initializer=randuni, activation = 'tanh'))\n",
    "classifier2.add(Dense(15, activation = 'tanh'))\n",
    "classifier2.add(Dense(10, activation = 'tanh'))\n",
    "# classifier2.add(Dense(50, kernel_regularizer=regularizers.l1(0.05), activation='tanh'))\n",
    "# classifier2.add(Dense(10, kernel_regularizer=regularizers.l1(0.05), activation='tanh'))\n",
    "classifier2.add(Dense(5, kernel_regularizer=regularizers.l1(0.05), activation='relu'))\n",
    "classifier2.add(Dense(5, activation = 'tanh'))\n",
    "# classifier.add(Dense(5, activation = 'tanh'))\n",
    "classifier2.add(Dense(2, activation = 'softmax'))\n",
    "adam = optimizers.Adam(lr=.0001)\n",
    "classifier2.compile(optimizer = adam, loss = 'binary_crossentropy', metrics = ['accuracy']) "
   ]
  },
  {
   "cell_type": "code",
   "execution_count": 70,
   "metadata": {},
   "outputs": [],
   "source": [
    "# print(classifier2.summary())"
   ]
  },
  {
   "cell_type": "code",
   "execution_count": 70,
   "metadata": {},
   "outputs": [
    {
     "name": "stdout",
     "output_type": "stream",
     "text": [
      "Train on 2307 samples, validate on 257 samples\n",
      "Epoch 1/15\n",
      "2307/2307 [==============================] - 2s 704us/step - loss: 1.5182 - acc: 0.5173 - val_loss: 1.5162 - val_acc: 0.5759\n",
      "Epoch 2/15\n",
      "2307/2307 [==============================] - 0s 83us/step - loss: 1.5150 - acc: 0.5191 - val_loss: 1.5130 - val_acc: 0.5720\n",
      "Epoch 3/15\n",
      "2307/2307 [==============================] - 0s 95us/step - loss: 1.5119 - acc: 0.5195 - val_loss: 1.5099 - val_acc: 0.5720\n",
      "Epoch 4/15\n",
      "2307/2307 [==============================] - 0s 98us/step - loss: 1.5087 - acc: 0.5195 - val_loss: 1.5066 - val_acc: 0.5720\n",
      "Epoch 5/15\n",
      "2307/2307 [==============================] - 0s 100us/step - loss: 1.5055 - acc: 0.5195 - val_loss: 1.5034 - val_acc: 0.5720\n",
      "Epoch 6/15\n",
      "2307/2307 [==============================] - 0s 98us/step - loss: 1.5023 - acc: 0.5195 - val_loss: 1.5001 - val_acc: 0.5720\n",
      "Epoch 7/15\n",
      "2307/2307 [==============================] - 0s 103us/step - loss: 1.4991 - acc: 0.5195 - val_loss: 1.4969 - val_acc: 0.5720\n",
      "Epoch 8/15\n",
      "2307/2307 [==============================] - 0s 95us/step - loss: 1.4959 - acc: 0.5195 - val_loss: 1.4937 - val_acc: 0.5720\n",
      "Epoch 9/15\n",
      "2307/2307 [==============================] - 0s 95us/step - loss: 1.4927 - acc: 0.5195 - val_loss: 1.4905 - val_acc: 0.5720\n",
      "Epoch 10/15\n",
      "2307/2307 [==============================] - 0s 102us/step - loss: 1.4895 - acc: 0.5195 - val_loss: 1.4874 - val_acc: 0.5720\n",
      "Epoch 11/15\n",
      "2307/2307 [==============================] - 0s 96us/step - loss: 1.4863 - acc: 0.5195 - val_loss: 1.4841 - val_acc: 0.5720\n",
      "Epoch 12/15\n",
      "2307/2307 [==============================] - 0s 101us/step - loss: 1.4831 - acc: 0.5195 - val_loss: 1.4810 - val_acc: 0.5720\n",
      "Epoch 13/15\n",
      "2307/2307 [==============================] - 0s 183us/step - loss: 1.4799 - acc: 0.5195 - val_loss: 1.4779 - val_acc: 0.5720\n",
      "Epoch 14/15\n",
      "2307/2307 [==============================] - 0s 141us/step - loss: 1.4766 - acc: 0.5195 - val_loss: 1.4748 - val_acc: 0.5720\n",
      "Epoch 15/15\n",
      "2307/2307 [==============================] - 0s 141us/step - loss: 1.4734 - acc: 0.5195 - val_loss: 1.4717 - val_acc: 0.5720\n"
     ]
    }
   ],
   "source": [
    "c2 = classifier2.fit(X_train, y_train, epochs=15, validation_split=.1, batch_size=200, verbose=1)\n"
   ]
  },
  {
   "cell_type": "code",
   "execution_count": 71,
   "metadata": {},
   "outputs": [
    {
     "name": "stdout",
     "output_type": "stream",
     "text": [
      "score for the test data no tweet model: 1.4742213\n",
      "acc for the test data  no tweet model: 0.5195008\n",
      "score for the training data no tweet model: 1.4715661\n",
      "acc for the training data no tweet model: 0.5247660\n"
     ]
    }
   ],
   "source": [
    "classifier2_score_no_tweet, classifier2_acc_no_tweet = classifier2.evaluate(X_test, y_test, verbose = 2, batch_size = 32)\n",
    "print(\"score for the test data no tweet model: %.7f\" % (classifier2_score_no_tweet))\n",
    "print(\"acc for the test data  no tweet model: %.7f\" % (classifier2_acc_no_tweet))\n",
    "\n",
    "classifier2_score_train_no_tweet, classifier2_acc_train_no_tweet = classifier2.evaluate(X_train, y_train, verbose = 2, batch_size = 32)\n",
    "print(\"score for the training data no tweet model: %.7f\" % (classifier2_score_train_no_tweet))\n",
    "print(\"acc for the training data no tweet model: %.7f\" % (classifier2_acc_train_no_tweet))"
   ]
  },
  {
   "cell_type": "code",
   "execution_count": 73,
   "metadata": {},
   "outputs": [],
   "source": [
    "# score for the test data no tweet model: 0.692\n",
    "# acc for the test data  no tweet model: 0.5195008\n",
    "# score for the training data no tweet model: 0.692\n",
    "# acc for the training data no tweet model: 0.5247660"
   ]
  },
  {
   "cell_type": "code",
   "execution_count": 72,
   "metadata": {},
   "outputs": [
    {
     "data": {
      "image/png": "[encoded data removed]",
      "text/plain": [
       "<Figure size 432x288 with 1 Axes>"
      ]
     },
     "metadata": {
      "needs_background": "light"
     },
     "output_type": "display_data"
    },
    {
     "data": {
      "image/png": "[encoded data removed]",
      "text/plain": [
       "<Figure size 432x288 with 1 Axes>"
      ]
     },
     "metadata": {
      "needs_background": "light"
     },
     "output_type": "display_data"
    },
    {
     "data": {
      "text/plain": [
       "(None, None)"
      ]
     },
     "execution_count": 72,
     "metadata": {},
     "output_type": "execute_result"
    }
   ],
   "source": [
    "plot_train_val(c2, 'acc'), plot_train_val(c2, 'loss')"
   ]
  },
  {
   "cell_type": "code",
   "execution_count": 73,
   "metadata": {},
   "outputs": [],
   "source": [
    "y_pred_test =  classifier2.predict_classes(X_test, batch_size=20, verbose=0)"
   ]
  },
  {
   "cell_type": "code",
   "execution_count": 74,
   "metadata": {},
   "outputs": [
    {
     "data": {
      "image/png": "[encoded data removed]",
      "text/plain": [
       "<Figure size 288x288 with 1 Axes>"
      ]
     },
     "metadata": {
      "needs_background": "light"
     },
     "output_type": "display_data"
    }
   ],
   "source": [
    "confmat = confusion_matrix(np.argmax(y_test,axis=1), y_pred_test)\n",
    "\n",
    "fig, ax = plt.subplots(figsize=(4, 4))\n",
    "ax.matshow(confmat, cmap=plt.cm.Blues, alpha=0.3)\n",
    "for i in range(confmat.shape[0]):\n",
    "    for j in range(confmat.shape[1]):\n",
    "        ax.text(x=j, y=i, s=confmat[i, j], va='center', ha='center')\n",
    "plt.xlabel('Predicted label')\n",
    "plt.ylabel('True label')\n",
    "plt.tight_layout()\n"
   ]
  },
  {
   "cell_type": "markdown",
   "metadata": {},
   "source": [
    "# Possible Tuning"
   ]
  },
  {
   "cell_type": "code",
   "execution_count": 76,
   "metadata": {},
   "outputs": [],
   "source": [
    "import numpy\n",
    "from sklearn.model_selection import GridSearchCV\n",
    "from keras.models import Sequential\n",
    "from keras.layers import Dense\n",
    "from keras.wrappers.scikit_learn import KerasClassifier\n",
    "from keras.optimizers import SGD\n",
    "\n",
    "# Function to create model, required for KerasClassifier\n",
    "def create_model(learn_rate=0.01, momentum=0):\n",
    "    # create model\n",
    "    model = Sequential()\n",
    "    model.add(Dense(12, input_dim=803, activation='tanh'))\n",
    "    model.add(Dense(2, activation='softmax'))\n",
    "    # Compile model\n",
    "    optimizer = SGD(lr=learn_rate, momentum=momentum)\n",
    "    model.compile(loss='binary_crossentropy', optimizer=optimizer, metrics=['accuracy'])\n",
    "    return model\n",
    "# fix random seed for reproducibility\n",
    "seed = 7\n",
    "numpy.random.seed(seed)\n",
    "\n",
    "\n",
    "\n",
    "# create model\n",
    "model = KerasClassifier(build_fn=create_model, epochs=20, batch_size=20, verbose=0)\n",
    "\n",
    "# define the grid search parameters\n",
    "learn_rate = [0.001, 0.01, 0.1, 0.2, 0.3]\n",
    "momentum = [0.0, 0.2, 0.4, 0.6, 0.8, 0.9]\n",
    "\n",
    "param_grid = dict(learn_rate=learn_rate, momentum=momentum)\n",
    "\n",
    "grid = GridSearchCV(estimator=model, param_grid=param_grid, n_jobs=-1)\n",
    "\n",
    "grid_result = grid.fit(X_train, y_train)\n",
    "\n",
    "\n",
    "# summarize results\n",
    "print(\"Best: %f using %s\" % (grid_result.best_score_, grid_result.best_params_))\n",
    "means = grid_result.cv_results_['mean_test_score']\n",
    "stds = grid_result.cv_results_['std_test_score']\n",
    "params = grid_result.cv_results_['params']\n",
    "for mean, stdev, param in zip(means, stds, params):\n",
    "    print(\"%f (%f) with: %r\" % (mean, stdev, param))"
   ]
  },
  {
   "cell_type": "code",
   "execution_count": 78,
   "metadata": {},
   "outputs": [
    {
     "name": "stdout",
     "output_type": "stream",
     "text": [
      "Best: 0.506825 using {'neurons': 2}\n",
      "0.506825 (0.015448) with: {'neurons': 2}\n",
      "0.500975 (0.011525) with: {'neurons': 5}\n",
      "0.506435 (0.005984) with: {'neurons': 10}\n",
      "0.500195 (0.012871) with: {'neurons': 15}\n",
      "0.504095 (0.018953) with: {'neurons': 20}\n",
      "0.504095 (0.012186) with: {'neurons': 25}\n",
      "0.499025 (0.016688) with: {'neurons': 30}\n"
     ]
    }
   ],
   "source": [
    "from sklearn.model_selection import GridSearchCV\n",
    "from keras.models import Sequential\n",
    "from keras.layers import Dense\n",
    "from keras.layers import Dropout\n",
    "from keras.wrappers.scikit_learn import KerasClassifier\n",
    "from keras.constraints import maxnorm\n",
    "# Function to create model, required for KerasClassifier\n",
    "def create_model(neurons=1):\n",
    "# create model\n",
    "    model = Sequential()\n",
    "    model.add(Dense(neurons, input_dim=803, kernel_initializer='uniform', activation='tanh', kernel_constraint=maxnorm(4)))\n",
    "    model.add(Dropout(0.2))\n",
    "#     model.add(Dense(neurons, kernel_initializer='uniform', activation='tanh', kernel_constraint=maxnorm(4)))\n",
    "#     model.add(Dropout(0.1))    \n",
    "    model.add(Dense(2, kernel_initializer='uniform', activation='softmax'))\n",
    "# Compile model\n",
    "    adam = optimizers.Adam(lr=.01)\n",
    "    model.compile(loss='binary_crossentropy', optimizer=adam, metrics=['accuracy'])\n",
    "    return model\n",
    "# fix random seed for reproducibility\n",
    "seed = 7\n",
    "numpy.random.seed(seed)\n",
    "\n",
    "\n",
    "# split into input (X) and output (Y) variables\n",
    "\n",
    "\n",
    "# create model\n",
    "model = KerasClassifier(build_fn=create_model, epochs=100, batch_size=10, verbose=0)\n",
    "# define the grid search parameters\n",
    "neurons = [2, 5, 10, 15, 20, 25, 30]\n",
    "param_grid = dict(neurons=neurons)\n",
    "grid = GridSearchCV(estimator=model, param_grid=param_grid, n_jobs=-1)\n",
    "grid_result = grid.fit(X_train, y_train)\n",
    "# summarize results\n",
    "print(\"Best: %f using %s\" % (grid_result.best_score_, grid_result.best_params_))\n",
    "means = grid_result.cv_results_['mean_test_score']\n",
    "stds = grid_result.cv_results_['std_test_score']\n",
    "params = grid_result.cv_results_['params']\n",
    "for mean, stdev, param in zip(means, stds, params):\n",
    "    print(\"%f (%f) with: %r\" % (mean, stdev, param))"
   ]
  },
  {
   "cell_type": "markdown",
   "metadata": {},
   "source": [
    "### Only polarity model"
   ]
  },
  {
   "cell_type": "code",
   "execution_count": 132,
   "metadata": {},
   "outputs": [
    {
     "data": {
      "text/plain": [
       "3"
      ]
     },
     "execution_count": 132,
     "metadata": {},
     "output_type": "execute_result"
    }
   ],
   "source": [
    "len(X_pol)"
   ]
  },
  {
   "cell_type": "code",
   "execution_count": 125,
   "metadata": {},
   "outputs": [],
   "source": [
    "s1 = df_2.polarity.values\n",
    "s2 = df_2.retweet_from.values\n",
    "s3 = df_2.tweet_length.values\n",
    "X_pol = pd.DataFrame([s1,s2,s3]).as_matrix()"
   ]
  },
  {
   "cell_type": "code",
   "execution_count": 133,
   "metadata": {},
   "outputs": [],
   "source": [
    "X_train_pol, X_test_pol, y_train, y_test = train_test_split(X_pol.T, y, test_size = 0.20, random_state = 42)"
   ]
  },
  {
   "cell_type": "code",
   "execution_count": 136,
   "metadata": {},
   "outputs": [],
   "source": [
    "classifier3 = Sequential()\n",
    "# randuni = initializers.VarianceScaling(scale=.3, distribution='normal', seed=None) # RandomUniform(minval=-0.05, maxval=0.05, seed=None)\n",
    "classifier3.add(Dense(5, input_dim=3, kernel_initializer='normal', activation = 'tanh'))\n",
    "# classifier3.add(Dense(15, activation = 'tanh'))\n",
    "# classifier3.add(Dense(5, activation = 'tanh'))\n",
    "# classifier2.add(Dense(50, kernel_regularizer=regularizers.l1(0.05), activation='tanh'))\n",
    "# classifier2.add(Dense(10, kernel_regularizer=regularizers.l1(0.05), activation='tanh'))\n",
    "# classifier3.add(Dense(5, kernel_regularizer=regularizers.l1(0.05), activation='relu'))\n",
    "# classifier3.add(Dense(5, activation = 'tanh'))\n",
    "# classifier.add(Dense(5, activation = 'tanh'))\n",
    "classifier3.add(Dense(2, activation = 'softmax'))\n",
    "adam = optimizers.Adam(lr=.001)\n",
    "classifier3.compile(optimizer = adam, loss = 'binary_crossentropy', metrics = ['accuracy']) "
   ]
  },
  {
   "cell_type": "code",
   "execution_count": 137,
   "metadata": {},
   "outputs": [
    {
     "name": "stdout",
     "output_type": "stream",
     "text": [
      "Train on 2307 samples, validate on 257 samples\n",
      "Epoch 1/15\n",
      "2307/2307 [==============================] - 1s 461us/step - loss: 0.6946 - acc: 0.4840 - val_loss: 0.6883 - val_acc: 0.5992\n",
      "Epoch 2/15\n",
      "2307/2307 [==============================] - 0s 79us/step - loss: 0.6926 - acc: 0.5130 - val_loss: 0.6885 - val_acc: 0.5992\n",
      "Epoch 3/15\n",
      "2307/2307 [==============================] - 0s 73us/step - loss: 0.6926 - acc: 0.5074 - val_loss: 0.6907 - val_acc: 0.5292\n",
      "Epoch 4/15\n",
      "2307/2307 [==============================] - 0s 71us/step - loss: 0.6927 - acc: 0.4991 - val_loss: 0.6897 - val_acc: 0.5370\n",
      "Epoch 5/15\n",
      "2307/2307 [==============================] - 0s 65us/step - loss: 0.6926 - acc: 0.5117 - val_loss: 0.6923 - val_acc: 0.5331\n",
      "Epoch 6/15\n",
      "2307/2307 [==============================] - 0s 66us/step - loss: 0.6925 - acc: 0.5113 - val_loss: 0.6901 - val_acc: 0.5447\n",
      "Epoch 7/15\n",
      "2307/2307 [==============================] - 0s 61us/step - loss: 0.6926 - acc: 0.5139 - val_loss: 0.6900 - val_acc: 0.5409\n",
      "Epoch 8/15\n",
      "2307/2307 [==============================] - 0s 78us/step - loss: 0.6925 - acc: 0.5035 - val_loss: 0.6904 - val_acc: 0.5525\n",
      "Epoch 9/15\n",
      "2307/2307 [==============================] - 0s 62us/step - loss: 0.6925 - acc: 0.5104 - val_loss: 0.6903 - val_acc: 0.5370\n",
      "Epoch 10/15\n",
      "2307/2307 [==============================] - 0s 63us/step - loss: 0.6927 - acc: 0.5009 - val_loss: 0.6892 - val_acc: 0.5409\n",
      "Epoch 11/15\n",
      "2307/2307 [==============================] - 0s 72us/step - loss: 0.6923 - acc: 0.5074 - val_loss: 0.6890 - val_acc: 0.5525\n",
      "Epoch 12/15\n",
      "2307/2307 [==============================] - 0s 68us/step - loss: 0.6926 - acc: 0.5091 - val_loss: 0.6911 - val_acc: 0.5447\n",
      "Epoch 13/15\n",
      "2307/2307 [==============================] - 0s 70us/step - loss: 0.6924 - acc: 0.5069 - val_loss: 0.6916 - val_acc: 0.5486\n",
      "Epoch 14/15\n",
      "2307/2307 [==============================] - 0s 60us/step - loss: 0.6927 - acc: 0.5104 - val_loss: 0.6911 - val_acc: 0.5486\n",
      "Epoch 15/15\n",
      "2307/2307 [==============================] - 0s 67us/step - loss: 0.6924 - acc: 0.5091 - val_loss: 0.6916 - val_acc: 0.5525\n"
     ]
    }
   ],
   "source": [
    "c3 = classifier3.fit(X_train_pol, y_train, epochs=15, validation_split=.1,\n",
    "                     batch_size=20, verbose=1)"
   ]
  },
  {
   "cell_type": "code",
   "execution_count": 138,
   "metadata": {},
   "outputs": [
    {
     "name": "stdout",
     "output_type": "stream",
     "text": [
      "score for the test data polarity model: 0.6923573\n",
      "acc for the test data polarity model: 0.5304212\n",
      "score for the training data polarity model: 0.6919562\n",
      "acc for the training data polarity model: 0.5177457\n"
     ]
    }
   ],
   "source": [
    "classifier3_score_no_tweet, classifier3_acc_no_tweet = classifier3.evaluate(X_test_pol, y_test, verbose = 2, batch_size = 32)\n",
    "print(\"score for the test data polarity model: %.7f\" % (classifier3_score_no_tweet))\n",
    "print(\"acc for the test data polarity model: %.7f\" % (classifier3_acc_no_tweet))\n",
    "\n",
    "classifier3_score_train_no_tweet, classifier3_acc_train_no_tweet = classifier3.evaluate(X_train_pol, y_train, verbose = 2, batch_size = 32)\n",
    "print(\"score for the training data polarity model: %.7f\" % (classifier3_score_train_no_tweet))\n",
    "print(\"acc for the training data polarity model: %.7f\" % (classifier3_acc_train_no_tweet))"
   ]
  },
  {
   "cell_type": "code",
   "execution_count": 139,
   "metadata": {},
   "outputs": [
    {
     "data": {
      "image/png": "[encoded data removed]",
      "text/plain": [
       "<Figure size 432x288 with 1 Axes>"
      ]
     },
     "metadata": {
      "needs_background": "light"
     },
     "output_type": "display_data"
    },
    {
     "data": {
      "image/png": "[encoded data removed]",
      "text/plain": [
       "<Figure size 432x288 with 1 Axes>"
      ]
     },
     "metadata": {
      "needs_background": "light"
     },
     "output_type": "display_data"
    },
    {
     "data": {
      "text/plain": [
       "(None, None)"
      ]
     },
     "execution_count": 139,
     "metadata": {},
     "output_type": "execute_result"
    }
   ],
   "source": [
    "plot_train_val(c3, 'acc'), plot_train_val(c3, 'loss')"
   ]
  },
  {
   "cell_type": "code",
   "execution_count": 140,
   "metadata": {},
   "outputs": [],
   "source": [
    "y_pred_test3 =  classifier3.predict_classes(X_test_pol, batch_size=20, verbose=0)"
   ]
  },
  {
   "cell_type": "code",
   "execution_count": 141,
   "metadata": {},
   "outputs": [
    {
     "data": {
      "image/png": "[encoded data removed]",
      "text/plain": [
       "<Figure size 288x288 with 1 Axes>"
      ]
     },
     "metadata": {
      "needs_background": "light"
     },
     "output_type": "display_data"
    }
   ],
   "source": [
    "confmat = confusion_matrix(np.argmax(y_test, axis=1), y_pred_test3)\n",
    "\n",
    "fig, ax = plt.subplots(figsize=(4, 4))\n",
    "ax.matshow(confmat, cmap=plt.cm.Blues, alpha=0.3)\n",
    "for i in range(confmat.shape[0]):\n",
    "    for j in range(confmat.shape[1]):\n",
    "        ax.text(x=j, y=i, s=confmat[i, j], va='center', ha='center')\n",
    "plt.xlabel('Predicted label')\n",
    "plt.ylabel('True label')\n",
    "plt.tight_layout()"
   ]
  },
  {
   "cell_type": "code",
   "execution_count": 127,
   "metadata": {},
   "outputs": [],
   "source": [
    "# X_pol"
   ]
  },
  {
   "cell_type": "code",
   "execution_count": 128,
   "metadata": {
    "scrolled": true
   },
   "outputs": [],
   "source": [
    "# df_2.head()"
   ]
  }
 ],
 "metadata": {
  "kernelspec": {
   "display_name": "Python 3",
   "language": "python",
   "name": "python3"
  },
  "language_info": {
   "codemirror_mode": {
    "name": "ipython",
    "version": 2
   },
   "file_extension": ".py",
   "mimetype": "text/x-python",
   "name": "python",
   "nbconvert_exporter": "python",
   "pygments_lexer": "ipython2",
   "version": "2.7.15"
  }
 },
 "nbformat": 4,
 "nbformat_minor": 2
}
