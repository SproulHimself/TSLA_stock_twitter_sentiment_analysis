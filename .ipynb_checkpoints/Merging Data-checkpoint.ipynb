{
 "cells": [
  {
   "cell_type": "code",
   "execution_count": 170,
   "metadata": {},
   "outputs": [],
   "source": [
    "from nltk.corpus import stopwords\n",
    "import nltk\n",
    "from nltk import word_tokenize, FreqDist\n",
    "from nltk.stem import WordNetLemmatizer\n",
    "from sklearn.decomposition import PCA\n",
    "from matplotlib import pyplot as plt\n",
    "from gensim.models import Word2Vec\n",
    "import pandas as pd"
   ]
  },
  {
   "cell_type": "code",
   "execution_count": 171,
   "metadata": {},
   "outputs": [],
   "source": [
    "text = pd.read_csv('combined_text_data.csv')\n",
    "stock_orignial = pd.read_csv('stock_data.csv')\n",
    "stock = pd.read_csv('interpolated_stock_data.csv')"
   ]
  },
  {
   "cell_type": "code",
   "execution_count": 172,
   "metadata": {
    "scrolled": true
   },
   "outputs": [],
   "source": [
    "# stock = stock.iloc[::-1]"
   ]
  },
  {
   "cell_type": "code",
   "execution_count": 173,
   "metadata": {},
   "outputs": [],
   "source": [
    "stock.rename(columns={'Unnamed: 0':'Date'}, inplace=True)"
   ]
  },
  {
   "cell_type": "code",
   "execution_count": 174,
   "metadata": {},
   "outputs": [
    {
     "data": {
      "text/plain": [
       "(1776, 2)"
      ]
     },
     "execution_count": 174,
     "metadata": {},
     "output_type": "execute_result"
    }
   ],
   "source": [
    "stock.shape"
   ]
  },
  {
   "cell_type": "code",
   "execution_count": 175,
   "metadata": {},
   "outputs": [
    {
     "data": {
      "text/html": [
       "<div>\n",
       "<style scoped>\n",
       "    .dataframe tbody tr th:only-of-type {\n",
       "        vertical-align: middle;\n",
       "    }\n",
       "\n",
       "    .dataframe tbody tr th {\n",
       "        vertical-align: top;\n",
       "    }\n",
       "\n",
       "    .dataframe thead th {\n",
       "        text-align: right;\n",
       "    }\n",
       "</style>\n",
       "<table border=\"1\" class=\"dataframe\">\n",
       "  <thead>\n",
       "    <tr style=\"text-align: right;\">\n",
       "      <th></th>\n",
       "      <th>Date</th>\n",
       "      <th>signal</th>\n",
       "    </tr>\n",
       "  </thead>\n",
       "  <tbody>\n",
       "    <tr>\n",
       "      <th>0</th>\n",
       "      <td>2012-11-19</td>\n",
       "      <td>up</td>\n",
       "    </tr>\n",
       "    <tr>\n",
       "      <th>1</th>\n",
       "      <td>2012-11-20</td>\n",
       "      <td>stay</td>\n",
       "    </tr>\n",
       "    <tr>\n",
       "      <th>2</th>\n",
       "      <td>2012-11-21</td>\n",
       "      <td>stay</td>\n",
       "    </tr>\n",
       "    <tr>\n",
       "      <th>3</th>\n",
       "      <td>2012-11-22</td>\n",
       "      <td>down</td>\n",
       "    </tr>\n",
       "    <tr>\n",
       "      <th>4</th>\n",
       "      <td>2012-11-23</td>\n",
       "      <td>down</td>\n",
       "    </tr>\n",
       "  </tbody>\n",
       "</table>\n",
       "</div>"
      ],
      "text/plain": [
       "         Date signal\n",
       "0  2012-11-19     up\n",
       "1  2012-11-20   stay\n",
       "2  2012-11-21   stay\n",
       "3  2012-11-22   down\n",
       "4  2012-11-23   down"
      ]
     },
     "execution_count": 175,
     "metadata": {},
     "output_type": "execute_result"
    }
   ],
   "source": [
    "stock.head()"
   ]
  },
  {
   "cell_type": "code",
   "execution_count": 176,
   "metadata": {},
   "outputs": [
    {
     "data": {
      "text/plain": [
       "(3205, 3859)"
      ]
     },
     "execution_count": 176,
     "metadata": {},
     "output_type": "execute_result"
    }
   ],
   "source": [
    "text.shape"
   ]
  },
  {
   "cell_type": "code",
   "execution_count": 177,
   "metadata": {},
   "outputs": [
    {
     "data": {
      "text/plain": [
       "Index(['Time', 'retweet_from', 'tweet_length', 'encoded_sentiment',\n",
       "       'sentiment', 'polarity', 'tweet', 'ability', 'able', 'aboard',\n",
       "       ...\n",
       "       'you', 'your', 'yours', 'yourself', 'yr', 'yup', 'zero', 'zip', 'zone',\n",
       "       'zoo'],\n",
       "      dtype='object', length=3859)"
      ]
     },
     "execution_count": 177,
     "metadata": {},
     "output_type": "execute_result"
    }
   ],
   "source": [
    "text.columns"
   ]
  },
  {
   "cell_type": "code",
   "execution_count": 178,
   "metadata": {},
   "outputs": [
    {
     "data": {
      "text/html": [
       "<div>\n",
       "<style scoped>\n",
       "    .dataframe tbody tr th:only-of-type {\n",
       "        vertical-align: middle;\n",
       "    }\n",
       "\n",
       "    .dataframe tbody tr th {\n",
       "        vertical-align: top;\n",
       "    }\n",
       "\n",
       "    .dataframe thead th {\n",
       "        text-align: right;\n",
       "    }\n",
       "</style>\n",
       "<table border=\"1\" class=\"dataframe\">\n",
       "  <thead>\n",
       "    <tr style=\"text-align: right;\">\n",
       "      <th></th>\n",
       "      <th>Time</th>\n",
       "      <th>retweet_from</th>\n",
       "      <th>tweet_length</th>\n",
       "      <th>encoded_sentiment</th>\n",
       "      <th>sentiment</th>\n",
       "      <th>polarity</th>\n",
       "      <th>tweet</th>\n",
       "      <th>ability</th>\n",
       "      <th>able</th>\n",
       "      <th>aboard</th>\n",
       "      <th>...</th>\n",
       "      <th>you</th>\n",
       "      <th>your</th>\n",
       "      <th>yours</th>\n",
       "      <th>yourself</th>\n",
       "      <th>yr</th>\n",
       "      <th>yup</th>\n",
       "      <th>zero</th>\n",
       "      <th>zip</th>\n",
       "      <th>zone</th>\n",
       "      <th>zoo</th>\n",
       "    </tr>\n",
       "  </thead>\n",
       "  <tbody>\n",
       "    <tr>\n",
       "      <th>0</th>\n",
       "      <td>2017-09-29</td>\n",
       "      <td>NaN</td>\n",
       "      <td>105</td>\n",
       "      <td>1</td>\n",
       "      <td>positive</td>\n",
       "      <td>0.366667</td>\n",
       "      <td>Assuming max acceleration of 2 to 3 g's, but i...</td>\n",
       "      <td>0.0</td>\n",
       "      <td>0.0</td>\n",
       "      <td>0.0</td>\n",
       "      <td>...</td>\n",
       "      <td>0.0</td>\n",
       "      <td>0.0</td>\n",
       "      <td>0.0</td>\n",
       "      <td>0.0</td>\n",
       "      <td>0.0</td>\n",
       "      <td>0.0</td>\n",
       "      <td>0.0</td>\n",
       "      <td>0.0</td>\n",
       "      <td>0.0</td>\n",
       "      <td>0.0</td>\n",
       "    </tr>\n",
       "    <tr>\n",
       "      <th>1</th>\n",
       "      <td>2017-09-29</td>\n",
       "      <td>SpaceX</td>\n",
       "      <td>113</td>\n",
       "      <td>1</td>\n",
       "      <td>positive</td>\n",
       "      <td>0.200000</td>\n",
       "      <td>BFR is capable of transporting satellites to o...</td>\n",
       "      <td>0.0</td>\n",
       "      <td>0.0</td>\n",
       "      <td>0.0</td>\n",
       "      <td>...</td>\n",
       "      <td>0.0</td>\n",
       "      <td>0.0</td>\n",
       "      <td>0.0</td>\n",
       "      <td>0.0</td>\n",
       "      <td>0.0</td>\n",
       "      <td>0.0</td>\n",
       "      <td>0.0</td>\n",
       "      <td>0.0</td>\n",
       "      <td>0.0</td>\n",
       "      <td>0.0</td>\n",
       "    </tr>\n",
       "    <tr>\n",
       "      <th>2</th>\n",
       "      <td>2017-09-29</td>\n",
       "      <td>NaN</td>\n",
       "      <td>6</td>\n",
       "      <td>0</td>\n",
       "      <td>neutral</td>\n",
       "      <td>0.000000</td>\n",
       "      <td>Yup :)</td>\n",
       "      <td>0.0</td>\n",
       "      <td>0.0</td>\n",
       "      <td>0.0</td>\n",
       "      <td>...</td>\n",
       "      <td>0.0</td>\n",
       "      <td>0.0</td>\n",
       "      <td>0.0</td>\n",
       "      <td>0.0</td>\n",
       "      <td>0.0</td>\n",
       "      <td>1.0</td>\n",
       "      <td>0.0</td>\n",
       "      <td>0.0</td>\n",
       "      <td>0.0</td>\n",
       "      <td>0.0</td>\n",
       "    </tr>\n",
       "    <tr>\n",
       "      <th>3</th>\n",
       "      <td>2017-09-29</td>\n",
       "      <td>NaN</td>\n",
       "      <td>7</td>\n",
       "      <td>0</td>\n",
       "      <td>neutral</td>\n",
       "      <td>0.000000</td>\n",
       "      <td>Part 2</td>\n",
       "      <td>0.0</td>\n",
       "      <td>0.0</td>\n",
       "      <td>0.0</td>\n",
       "      <td>...</td>\n",
       "      <td>0.0</td>\n",
       "      <td>0.0</td>\n",
       "      <td>0.0</td>\n",
       "      <td>0.0</td>\n",
       "      <td>0.0</td>\n",
       "      <td>0.0</td>\n",
       "      <td>0.0</td>\n",
       "      <td>0.0</td>\n",
       "      <td>0.0</td>\n",
       "      <td>0.0</td>\n",
       "    </tr>\n",
       "    <tr>\n",
       "      <th>4</th>\n",
       "      <td>2017-09-29</td>\n",
       "      <td>NaN</td>\n",
       "      <td>96</td>\n",
       "      <td>1</td>\n",
       "      <td>positive</td>\n",
       "      <td>0.650000</td>\n",
       "      <td>Fly to most places on Earth in under 30 mins a...</td>\n",
       "      <td>0.0</td>\n",
       "      <td>0.0</td>\n",
       "      <td>0.0</td>\n",
       "      <td>...</td>\n",
       "      <td>0.0</td>\n",
       "      <td>0.0</td>\n",
       "      <td>0.0</td>\n",
       "      <td>0.0</td>\n",
       "      <td>0.0</td>\n",
       "      <td>0.0</td>\n",
       "      <td>0.0</td>\n",
       "      <td>0.0</td>\n",
       "      <td>0.0</td>\n",
       "      <td>0.0</td>\n",
       "    </tr>\n",
       "  </tbody>\n",
       "</table>\n",
       "<p>5 rows × 3859 columns</p>\n",
       "</div>"
      ],
      "text/plain": [
       "         Time retweet_from  tweet_length  encoded_sentiment sentiment  \\\n",
       "0  2017-09-29          NaN           105                  1  positive   \n",
       "1  2017-09-29       SpaceX           113                  1  positive   \n",
       "2  2017-09-29          NaN             6                  0   neutral   \n",
       "3  2017-09-29          NaN             7                  0   neutral   \n",
       "4  2017-09-29          NaN            96                  1  positive   \n",
       "\n",
       "   polarity                                              tweet  ability  able  \\\n",
       "0  0.366667  Assuming max acceleration of 2 to 3 g's, but i...      0.0   0.0   \n",
       "1  0.200000  BFR is capable of transporting satellites to o...      0.0   0.0   \n",
       "2  0.000000                                             Yup :)      0.0   0.0   \n",
       "3  0.000000                                            Part 2       0.0   0.0   \n",
       "4  0.650000  Fly to most places on Earth in under 30 mins a...      0.0   0.0   \n",
       "\n",
       "   aboard ...   you  your  yours  yourself   yr  yup  zero  zip  zone  zoo  \n",
       "0     0.0 ...   0.0   0.0    0.0       0.0  0.0  0.0   0.0  0.0   0.0  0.0  \n",
       "1     0.0 ...   0.0   0.0    0.0       0.0  0.0  0.0   0.0  0.0   0.0  0.0  \n",
       "2     0.0 ...   0.0   0.0    0.0       0.0  0.0  1.0   0.0  0.0   0.0  0.0  \n",
       "3     0.0 ...   0.0   0.0    0.0       0.0  0.0  0.0   0.0  0.0   0.0  0.0  \n",
       "4     0.0 ...   0.0   0.0    0.0       0.0  0.0  0.0   0.0  0.0   0.0  0.0  \n",
       "\n",
       "[5 rows x 3859 columns]"
      ]
     },
     "execution_count": 178,
     "metadata": {},
     "output_type": "execute_result"
    }
   ],
   "source": [
    "text.head()"
   ]
  },
  {
   "cell_type": "code",
   "execution_count": 179,
   "metadata": {
    "scrolled": true
   },
   "outputs": [],
   "source": [
    "stock.set_index('Date', inplace=True)"
   ]
  },
  {
   "cell_type": "code",
   "execution_count": 180,
   "metadata": {},
   "outputs": [],
   "source": [
    "idx = pd.date_range('2012-11-19', '2017-09-29')\n",
    "\n",
    "# s = pd.Series({'09-02-2013': 2,\n",
    "#                '09-03-2013': 10,\n",
    "#                '09-06-2013': 5,\n",
    "#                '09-07-2013': 1})\n",
    "\n",
    "# s.index = pd.DatetimeIndex(s.index)\n",
    "# s = s.reindex(idx, fill_value='NaN')\n",
    "# print(s)"
   ]
  },
  {
   "cell_type": "code",
   "execution_count": 181,
   "metadata": {},
   "outputs": [],
   "source": [
    "stock.index = pd.DatetimeIndex(stock.index)"
   ]
  },
  {
   "cell_type": "code",
   "execution_count": 182,
   "metadata": {},
   "outputs": [],
   "source": [
    "stock = stock.reindex(idx, fill_value='NaN')"
   ]
  },
  {
   "cell_type": "code",
   "execution_count": 196,
   "metadata": {},
   "outputs": [],
   "source": [
    "# stock.index.name = 'Date'"
   ]
  },
  {
   "cell_type": "markdown",
   "metadata": {},
   "source": [
    "---"
   ]
  },
  {
   "cell_type": "code",
   "execution_count": 189,
   "metadata": {
    "scrolled": false
   },
   "outputs": [],
   "source": [
    "text.rename(columns={'Time':'Date'}, inplace=True)"
   ]
  },
  {
   "cell_type": "code",
   "execution_count": 195,
   "metadata": {},
   "outputs": [],
   "source": [
    "# text.set_index('Date')"
   ]
  },
  {
   "cell_type": "code",
   "execution_count": 191,
   "metadata": {},
   "outputs": [
    {
     "data": {
      "text/html": [
       "<div>\n",
       "<style scoped>\n",
       "    .dataframe tbody tr th:only-of-type {\n",
       "        vertical-align: middle;\n",
       "    }\n",
       "\n",
       "    .dataframe tbody tr th {\n",
       "        vertical-align: top;\n",
       "    }\n",
       "\n",
       "    .dataframe thead th {\n",
       "        text-align: right;\n",
       "    }\n",
       "</style>\n",
       "<table border=\"1\" class=\"dataframe\">\n",
       "  <thead>\n",
       "    <tr style=\"text-align: right;\">\n",
       "      <th></th>\n",
       "      <th>signal</th>\n",
       "    </tr>\n",
       "    <tr>\n",
       "      <th>Date</th>\n",
       "      <th></th>\n",
       "    </tr>\n",
       "  </thead>\n",
       "  <tbody>\n",
       "    <tr>\n",
       "      <th>2012-11-19</th>\n",
       "      <td>up</td>\n",
       "    </tr>\n",
       "    <tr>\n",
       "      <th>2012-11-20</th>\n",
       "      <td>stay</td>\n",
       "    </tr>\n",
       "    <tr>\n",
       "      <th>2012-11-21</th>\n",
       "      <td>stay</td>\n",
       "    </tr>\n",
       "    <tr>\n",
       "      <th>2012-11-22</th>\n",
       "      <td>down</td>\n",
       "    </tr>\n",
       "    <tr>\n",
       "      <th>2012-11-23</th>\n",
       "      <td>down</td>\n",
       "    </tr>\n",
       "  </tbody>\n",
       "</table>\n",
       "</div>"
      ],
      "text/plain": [
       "           signal\n",
       "Date             \n",
       "2012-11-19     up\n",
       "2012-11-20   stay\n",
       "2012-11-21   stay\n",
       "2012-11-22   down\n",
       "2012-11-23   down"
      ]
     },
     "execution_count": 191,
     "metadata": {},
     "output_type": "execute_result"
    }
   ],
   "source": [
    "stock.head()"
   ]
  },
  {
   "cell_type": "code",
   "execution_count": 198,
   "metadata": {},
   "outputs": [],
   "source": [
    "# take_2 = pd.merge(text, stock, on='Date', how='left')"
   ]
  },
  {
   "cell_type": "code",
   "execution_count": 193,
   "metadata": {},
   "outputs": [
    {
     "data": {
      "text/plain": [
       "(3205, 3860)"
      ]
     },
     "execution_count": 193,
     "metadata": {},
     "output_type": "execute_result"
    }
   ],
   "source": [
    "take_2.shape"
   ]
  },
  {
   "cell_type": "code",
   "execution_count": 194,
   "metadata": {},
   "outputs": [
    {
     "data": {
      "text/html": [
       "<div>\n",
       "<style scoped>\n",
       "    .dataframe tbody tr th:only-of-type {\n",
       "        vertical-align: middle;\n",
       "    }\n",
       "\n",
       "    .dataframe tbody tr th {\n",
       "        vertical-align: top;\n",
       "    }\n",
       "\n",
       "    .dataframe thead th {\n",
       "        text-align: right;\n",
       "    }\n",
       "</style>\n",
       "<table border=\"1\" class=\"dataframe\">\n",
       "  <thead>\n",
       "    <tr style=\"text-align: right;\">\n",
       "      <th></th>\n",
       "      <th>Date</th>\n",
       "      <th>retweet_from</th>\n",
       "      <th>tweet_length</th>\n",
       "      <th>encoded_sentiment</th>\n",
       "      <th>sentiment</th>\n",
       "      <th>polarity</th>\n",
       "      <th>tweet</th>\n",
       "      <th>ability</th>\n",
       "      <th>able</th>\n",
       "      <th>aboard</th>\n",
       "      <th>...</th>\n",
       "      <th>your</th>\n",
       "      <th>yours</th>\n",
       "      <th>yourself</th>\n",
       "      <th>yr</th>\n",
       "      <th>yup</th>\n",
       "      <th>zero</th>\n",
       "      <th>zip</th>\n",
       "      <th>zone</th>\n",
       "      <th>zoo</th>\n",
       "      <th>signal_y</th>\n",
       "    </tr>\n",
       "  </thead>\n",
       "  <tbody>\n",
       "    <tr>\n",
       "      <th>0</th>\n",
       "      <td>2017-09-29</td>\n",
       "      <td>NaN</td>\n",
       "      <td>105</td>\n",
       "      <td>1</td>\n",
       "      <td>positive</td>\n",
       "      <td>0.366667</td>\n",
       "      <td>Assuming max acceleration of 2 to 3 g's, but i...</td>\n",
       "      <td>0.0</td>\n",
       "      <td>0.0</td>\n",
       "      <td>0.0</td>\n",
       "      <td>...</td>\n",
       "      <td>0.0</td>\n",
       "      <td>0.0</td>\n",
       "      <td>0.0</td>\n",
       "      <td>0.0</td>\n",
       "      <td>0.0</td>\n",
       "      <td>0.0</td>\n",
       "      <td>0.0</td>\n",
       "      <td>0.0</td>\n",
       "      <td>0.0</td>\n",
       "      <td>stay</td>\n",
       "    </tr>\n",
       "    <tr>\n",
       "      <th>1</th>\n",
       "      <td>2017-09-29</td>\n",
       "      <td>SpaceX</td>\n",
       "      <td>113</td>\n",
       "      <td>1</td>\n",
       "      <td>positive</td>\n",
       "      <td>0.200000</td>\n",
       "      <td>BFR is capable of transporting satellites to o...</td>\n",
       "      <td>0.0</td>\n",
       "      <td>0.0</td>\n",
       "      <td>0.0</td>\n",
       "      <td>...</td>\n",
       "      <td>0.0</td>\n",
       "      <td>0.0</td>\n",
       "      <td>0.0</td>\n",
       "      <td>0.0</td>\n",
       "      <td>0.0</td>\n",
       "      <td>0.0</td>\n",
       "      <td>0.0</td>\n",
       "      <td>0.0</td>\n",
       "      <td>0.0</td>\n",
       "      <td>stay</td>\n",
       "    </tr>\n",
       "    <tr>\n",
       "      <th>2</th>\n",
       "      <td>2017-09-29</td>\n",
       "      <td>NaN</td>\n",
       "      <td>6</td>\n",
       "      <td>0</td>\n",
       "      <td>neutral</td>\n",
       "      <td>0.000000</td>\n",
       "      <td>Yup :)</td>\n",
       "      <td>0.0</td>\n",
       "      <td>0.0</td>\n",
       "      <td>0.0</td>\n",
       "      <td>...</td>\n",
       "      <td>0.0</td>\n",
       "      <td>0.0</td>\n",
       "      <td>0.0</td>\n",
       "      <td>0.0</td>\n",
       "      <td>1.0</td>\n",
       "      <td>0.0</td>\n",
       "      <td>0.0</td>\n",
       "      <td>0.0</td>\n",
       "      <td>0.0</td>\n",
       "      <td>stay</td>\n",
       "    </tr>\n",
       "    <tr>\n",
       "      <th>3</th>\n",
       "      <td>2017-09-29</td>\n",
       "      <td>NaN</td>\n",
       "      <td>7</td>\n",
       "      <td>0</td>\n",
       "      <td>neutral</td>\n",
       "      <td>0.000000</td>\n",
       "      <td>Part 2</td>\n",
       "      <td>0.0</td>\n",
       "      <td>0.0</td>\n",
       "      <td>0.0</td>\n",
       "      <td>...</td>\n",
       "      <td>0.0</td>\n",
       "      <td>0.0</td>\n",
       "      <td>0.0</td>\n",
       "      <td>0.0</td>\n",
       "      <td>0.0</td>\n",
       "      <td>0.0</td>\n",
       "      <td>0.0</td>\n",
       "      <td>0.0</td>\n",
       "      <td>0.0</td>\n",
       "      <td>stay</td>\n",
       "    </tr>\n",
       "    <tr>\n",
       "      <th>4</th>\n",
       "      <td>2017-09-29</td>\n",
       "      <td>NaN</td>\n",
       "      <td>96</td>\n",
       "      <td>1</td>\n",
       "      <td>positive</td>\n",
       "      <td>0.650000</td>\n",
       "      <td>Fly to most places on Earth in under 30 mins a...</td>\n",
       "      <td>0.0</td>\n",
       "      <td>0.0</td>\n",
       "      <td>0.0</td>\n",
       "      <td>...</td>\n",
       "      <td>0.0</td>\n",
       "      <td>0.0</td>\n",
       "      <td>0.0</td>\n",
       "      <td>0.0</td>\n",
       "      <td>0.0</td>\n",
       "      <td>0.0</td>\n",
       "      <td>0.0</td>\n",
       "      <td>0.0</td>\n",
       "      <td>0.0</td>\n",
       "      <td>stay</td>\n",
       "    </tr>\n",
       "    <tr>\n",
       "      <th>5</th>\n",
       "      <td>2017-09-29</td>\n",
       "      <td>SpaceX</td>\n",
       "      <td>80</td>\n",
       "      <td>1</td>\n",
       "      <td>positive</td>\n",
       "      <td>0.125000</td>\n",
       "      <td>Supporting the creation of a permanent, self-s...</td>\n",
       "      <td>0.0</td>\n",
       "      <td>0.0</td>\n",
       "      <td>0.0</td>\n",
       "      <td>...</td>\n",
       "      <td>0.0</td>\n",
       "      <td>0.0</td>\n",
       "      <td>0.0</td>\n",
       "      <td>0.0</td>\n",
       "      <td>0.0</td>\n",
       "      <td>0.0</td>\n",
       "      <td>0.0</td>\n",
       "      <td>0.0</td>\n",
       "      <td>0.0</td>\n",
       "      <td>stay</td>\n",
       "    </tr>\n",
       "    <tr>\n",
       "      <th>6</th>\n",
       "      <td>2017-09-29</td>\n",
       "      <td>NaN</td>\n",
       "      <td>57</td>\n",
       "      <td>-1</td>\n",
       "      <td>negative</td>\n",
       "      <td>-0.166667</td>\n",
       "      <td>BFR will take you anywhere on Earth in less th...</td>\n",
       "      <td>0.0</td>\n",
       "      <td>0.0</td>\n",
       "      <td>0.0</td>\n",
       "      <td>...</td>\n",
       "      <td>0.0</td>\n",
       "      <td>0.0</td>\n",
       "      <td>0.0</td>\n",
       "      <td>0.0</td>\n",
       "      <td>0.0</td>\n",
       "      <td>0.0</td>\n",
       "      <td>0.0</td>\n",
       "      <td>0.0</td>\n",
       "      <td>0.0</td>\n",
       "      <td>stay</td>\n",
       "    </tr>\n",
       "    <tr>\n",
       "      <th>7</th>\n",
       "      <td>2017-09-29</td>\n",
       "      <td>NaN</td>\n",
       "      <td>84</td>\n",
       "      <td>0</td>\n",
       "      <td>neutral</td>\n",
       "      <td>0.000000</td>\n",
       "      <td>Mars City Opposite of Earth. Dawn and dusk sky...</td>\n",
       "      <td>0.0</td>\n",
       "      <td>0.0</td>\n",
       "      <td>0.0</td>\n",
       "      <td>...</td>\n",
       "      <td>0.0</td>\n",
       "      <td>0.0</td>\n",
       "      <td>0.0</td>\n",
       "      <td>0.0</td>\n",
       "      <td>0.0</td>\n",
       "      <td>0.0</td>\n",
       "      <td>0.0</td>\n",
       "      <td>0.0</td>\n",
       "      <td>0.0</td>\n",
       "      <td>stay</td>\n",
       "    </tr>\n",
       "    <tr>\n",
       "      <th>8</th>\n",
       "      <td>2017-09-29</td>\n",
       "      <td>NaN</td>\n",
       "      <td>16</td>\n",
       "      <td>-1</td>\n",
       "      <td>negative</td>\n",
       "      <td>-0.800000</td>\n",
       "      <td>Moon Base Alpha</td>\n",
       "      <td>0.0</td>\n",
       "      <td>0.0</td>\n",
       "      <td>0.0</td>\n",
       "      <td>...</td>\n",
       "      <td>0.0</td>\n",
       "      <td>0.0</td>\n",
       "      <td>0.0</td>\n",
       "      <td>0.0</td>\n",
       "      <td>0.0</td>\n",
       "      <td>0.0</td>\n",
       "      <td>0.0</td>\n",
       "      <td>0.0</td>\n",
       "      <td>0.0</td>\n",
       "      <td>stay</td>\n",
       "    </tr>\n",
       "    <tr>\n",
       "      <th>9</th>\n",
       "      <td>2017-09-29</td>\n",
       "      <td>NaN</td>\n",
       "      <td>60</td>\n",
       "      <td>1</td>\n",
       "      <td>positive</td>\n",
       "      <td>0.357143</td>\n",
       "      <td>Will be announcing something really special at...</td>\n",
       "      <td>0.0</td>\n",
       "      <td>0.0</td>\n",
       "      <td>0.0</td>\n",
       "      <td>...</td>\n",
       "      <td>0.0</td>\n",
       "      <td>0.0</td>\n",
       "      <td>0.0</td>\n",
       "      <td>0.0</td>\n",
       "      <td>0.0</td>\n",
       "      <td>0.0</td>\n",
       "      <td>0.0</td>\n",
       "      <td>0.0</td>\n",
       "      <td>0.0</td>\n",
       "      <td>stay</td>\n",
       "    </tr>\n",
       "  </tbody>\n",
       "</table>\n",
       "<p>10 rows × 3860 columns</p>\n",
       "</div>"
      ],
      "text/plain": [
       "         Date retweet_from  tweet_length  encoded_sentiment sentiment  \\\n",
       "0  2017-09-29          NaN           105                  1  positive   \n",
       "1  2017-09-29       SpaceX           113                  1  positive   \n",
       "2  2017-09-29          NaN             6                  0   neutral   \n",
       "3  2017-09-29          NaN             7                  0   neutral   \n",
       "4  2017-09-29          NaN            96                  1  positive   \n",
       "5  2017-09-29       SpaceX            80                  1  positive   \n",
       "6  2017-09-29          NaN            57                 -1  negative   \n",
       "7  2017-09-29          NaN            84                  0   neutral   \n",
       "8  2017-09-29          NaN            16                 -1  negative   \n",
       "9  2017-09-29          NaN            60                  1  positive   \n",
       "\n",
       "   polarity                                              tweet  ability  able  \\\n",
       "0  0.366667  Assuming max acceleration of 2 to 3 g's, but i...      0.0   0.0   \n",
       "1  0.200000  BFR is capable of transporting satellites to o...      0.0   0.0   \n",
       "2  0.000000                                             Yup :)      0.0   0.0   \n",
       "3  0.000000                                            Part 2       0.0   0.0   \n",
       "4  0.650000  Fly to most places on Earth in under 30 mins a...      0.0   0.0   \n",
       "5  0.125000  Supporting the creation of a permanent, self-s...      0.0   0.0   \n",
       "6 -0.166667  BFR will take you anywhere on Earth in less th...      0.0   0.0   \n",
       "7  0.000000  Mars City Opposite of Earth. Dawn and dusk sky...      0.0   0.0   \n",
       "8 -0.800000                                   Moon Base Alpha       0.0   0.0   \n",
       "9  0.357143  Will be announcing something really special at...      0.0   0.0   \n",
       "\n",
       "   aboard    ...     your  yours  yourself   yr  yup  zero  zip  zone  zoo  \\\n",
       "0     0.0    ...      0.0    0.0       0.0  0.0  0.0   0.0  0.0   0.0  0.0   \n",
       "1     0.0    ...      0.0    0.0       0.0  0.0  0.0   0.0  0.0   0.0  0.0   \n",
       "2     0.0    ...      0.0    0.0       0.0  0.0  1.0   0.0  0.0   0.0  0.0   \n",
       "3     0.0    ...      0.0    0.0       0.0  0.0  0.0   0.0  0.0   0.0  0.0   \n",
       "4     0.0    ...      0.0    0.0       0.0  0.0  0.0   0.0  0.0   0.0  0.0   \n",
       "5     0.0    ...      0.0    0.0       0.0  0.0  0.0   0.0  0.0   0.0  0.0   \n",
       "6     0.0    ...      0.0    0.0       0.0  0.0  0.0   0.0  0.0   0.0  0.0   \n",
       "7     0.0    ...      0.0    0.0       0.0  0.0  0.0   0.0  0.0   0.0  0.0   \n",
       "8     0.0    ...      0.0    0.0       0.0  0.0  0.0   0.0  0.0   0.0  0.0   \n",
       "9     0.0    ...      0.0    0.0       0.0  0.0  0.0   0.0  0.0   0.0  0.0   \n",
       "\n",
       "   signal_y  \n",
       "0      stay  \n",
       "1      stay  \n",
       "2      stay  \n",
       "3      stay  \n",
       "4      stay  \n",
       "5      stay  \n",
       "6      stay  \n",
       "7      stay  \n",
       "8      stay  \n",
       "9      stay  \n",
       "\n",
       "[10 rows x 3860 columns]"
      ]
     },
     "execution_count": 194,
     "metadata": {},
     "output_type": "execute_result"
    }
   ],
   "source": [
    "take_2.head(10)"
   ]
  },
  {
   "cell_type": "code",
   "execution_count": null,
   "metadata": {},
   "outputs": [],
   "source": [
    "take_2.signal_y.value_counts()"
   ]
  },
  {
   "cell_type": "markdown",
   "metadata": {},
   "source": [
    "---"
   ]
  },
  {
   "cell_type": "markdown",
   "metadata": {},
   "source": [
    "#### PCAAAAAAAA"
   ]
  },
  {
   "cell_type": "code",
   "execution_count": null,
   "metadata": {},
   "outputs": [],
   "source": [
    "from sklearn.decomposition import PCA"
   ]
  },
  {
   "cell_type": "code",
   "execution_count": null,
   "metadata": {},
   "outputs": [],
   "source": [
    "pca = PCA(n_components=38)"
   ]
  },
  {
   "cell_type": "code",
   "execution_count": null,
   "metadata": {},
   "outputs": [],
   "source": [
    "tfidf_df = take_2.iloc[:, 7:-1]"
   ]
  },
  {
   "cell_type": "code",
   "execution_count": null,
   "metadata": {},
   "outputs": [],
   "source": [
    "tfidf_df.head()"
   ]
  },
  {
   "cell_type": "code",
   "execution_count": null,
   "metadata": {},
   "outputs": [],
   "source": [
    "pca.fit(tfidf_df)"
   ]
  },
  {
   "cell_type": "code",
   "execution_count": null,
   "metadata": {},
   "outputs": [],
   "source": [
    "x_pca = pca.transform(tfidf_df)\n",
    "x_pca"
   ]
  },
  {
   "cell_type": "code",
   "execution_count": null,
   "metadata": {},
   "outputs": [],
   "source": [
    "x_pca.shape"
   ]
  },
  {
   "cell_type": "code",
   "execution_count": null,
   "metadata": {},
   "outputs": [],
   "source": [
    "pca_df = pd.DataFrame(x_pca)"
   ]
  },
  {
   "cell_type": "code",
   "execution_count": null,
   "metadata": {},
   "outputs": [],
   "source": [
    "pca_df.head()"
   ]
  },
  {
   "cell_type": "code",
   "execution_count": null,
   "metadata": {},
   "outputs": [],
   "source": [
    "# pd.get_dummies(stock)"
   ]
  },
  {
   "cell_type": "code",
   "execution_count": null,
   "metadata": {},
   "outputs": [],
   "source": [
    "labels = []\n",
    "\n",
    "for i in range(1, 39):\n",
    "    labels.append('pc_' + str(i))"
   ]
  },
  {
   "cell_type": "code",
   "execution_count": null,
   "metadata": {},
   "outputs": [],
   "source": [
    "# labels"
   ]
  },
  {
   "cell_type": "code",
   "execution_count": null,
   "metadata": {},
   "outputs": [],
   "source": [
    "pca_df.columns = labels"
   ]
  },
  {
   "cell_type": "code",
   "execution_count": null,
   "metadata": {},
   "outputs": [],
   "source": [
    "df_with_tfidf_pca = pd.concat([take_2.iloc[:, :7], pca_df], axis=1)"
   ]
  },
  {
   "cell_type": "code",
   "execution_count": null,
   "metadata": {},
   "outputs": [],
   "source": [
    "df_with_tfidf_pca"
   ]
  },
  {
   "cell_type": "code",
   "execution_count": null,
   "metadata": {},
   "outputs": [],
   "source": [
    "df_with_tfidf_pca['retweet_from'] = df_with_tfidf_pca['retweet_from'].fillna('not')"
   ]
  },
  {
   "cell_type": "code",
   "execution_count": null,
   "metadata": {},
   "outputs": [],
   "source": [
    "df_with_tfidf_pca['retweet_from'] = le.fit_transform(df_with_tfidf_pca['retweet_from'])"
   ]
  },
  {
   "cell_type": "code",
   "execution_count": null,
   "metadata": {},
   "outputs": [],
   "source": [
    "df_with_tfidf_pca.drop(columns = ['sentiment', 'Date'], inplace= True)"
   ]
  },
  {
   "cell_type": "code",
   "execution_count": null,
   "metadata": {
    "scrolled": true
   },
   "outputs": [],
   "source": [
    "df_with_tfidf_pca.info()"
   ]
  },
  {
   "cell_type": "code",
   "execution_count": null,
   "metadata": {},
   "outputs": [],
   "source": [
    "# take_23 = pd.merge(stock, text, on ='Date')   \n",
    "# 2012-11-19   2017-09-29"
   ]
  },
  {
   "cell_type": "code",
   "execution_count": null,
   "metadata": {},
   "outputs": [],
   "source": [
    "# this is without weekends\n",
    "# take_23.shape"
   ]
  },
  {
   "cell_type": "code",
   "execution_count": null,
   "metadata": {},
   "outputs": [],
   "source": [
    "# take_23"
   ]
  },
  {
   "cell_type": "code",
   "execution_count": null,
   "metadata": {},
   "outputs": [],
   "source": [
    "# take_23['retweet_from'] = take_23['retweet_from'].fillna('not')"
   ]
  },
  {
   "cell_type": "code",
   "execution_count": null,
   "metadata": {},
   "outputs": [],
   "source": [
    "# take_23.shape"
   ]
  },
  {
   "cell_type": "code",
   "execution_count": null,
   "metadata": {},
   "outputs": [],
   "source": [
    "# take_23.head()"
   ]
  },
  {
   "cell_type": "code",
   "execution_count": null,
   "metadata": {},
   "outputs": [],
   "source": [
    "from sklearn.preprocessing import LabelEncoder"
   ]
  },
  {
   "cell_type": "code",
   "execution_count": null,
   "metadata": {},
   "outputs": [],
   "source": [
    "le = LabelEncoder()"
   ]
  },
  {
   "cell_type": "code",
   "execution_count": null,
   "metadata": {},
   "outputs": [],
   "source": [
    "take_23['retweet_from'] = le.fit_transform(take_23['retweet_from'])"
   ]
  },
  {
   "cell_type": "code",
   "execution_count": null,
   "metadata": {},
   "outputs": [],
   "source": [
    "take_23.drop(columns = ['sentiment'], inplace= True)"
   ]
  },
  {
   "cell_type": "code",
   "execution_count": null,
   "metadata": {},
   "outputs": [],
   "source": [
    "#Same but with no date\n",
    "take_23.drop(columns = ['Date'], inplace= True)"
   ]
  },
  {
   "cell_type": "markdown",
   "metadata": {},
   "source": [
    "#### fixing the tweet column to match cleaned tweets"
   ]
  },
  {
   "cell_type": "code",
   "execution_count": null,
   "metadata": {},
   "outputs": [],
   "source": [
    "tweets = df_with_tfidf_pca['tweet'].tolist()"
   ]
  },
  {
   "cell_type": "code",
   "execution_count": null,
   "metadata": {},
   "outputs": [],
   "source": [
    "wordnet_lemmatizer = WordNetLemmatizer()\n",
    "english = set(nltk.corpus.words.words()+ ['yup'])"
   ]
  },
  {
   "cell_type": "code",
   "execution_count": null,
   "metadata": {},
   "outputs": [],
   "source": [
    "def lemmadata(doc):\n",
    "        pattern = \"([a-zA-Z]+(?:'[a-z]+)?)\"\n",
    "        raw_tokens = nltk.regexp_tokenize(doc, pattern)\n",
    "        tokens = [i.lower() for i in raw_tokens]\n",
    "        lemmatized = [wordnet_lemmatizer.lemmatize(word) for word in tokens]\n",
    "        words = list(filter(lambda w: w in english, lemmatized))\n",
    "        return words"
   ]
  },
  {
   "cell_type": "code",
   "execution_count": null,
   "metadata": {},
   "outputs": [],
   "source": [
    "lemma = [lemmadata(post) for post in tweets]"
   ]
  },
  {
   "cell_type": "code",
   "execution_count": null,
   "metadata": {},
   "outputs": [],
   "source": [
    "process_lems = list(map(lemmadata, df_with_tfidf_pca['tweet']))"
   ]
  },
  {
   "cell_type": "code",
   "execution_count": null,
   "metadata": {},
   "outputs": [],
   "source": [
    "# process_lems[:3]"
   ]
  },
  {
   "cell_type": "code",
   "execution_count": null,
   "metadata": {},
   "outputs": [],
   "source": [
    "clean_tweets_lem = []\n",
    "\n",
    "for i in range(0, len(process_lems)):\n",
    "    clean = ' '.join(process_lems[i])\n",
    "    clean_tweets_lem.append(clean)"
   ]
  },
  {
   "cell_type": "code",
   "execution_count": null,
   "metadata": {},
   "outputs": [],
   "source": [
    "# df['B'] = df1['E'].values"
   ]
  },
  {
   "cell_type": "code",
   "execution_count": null,
   "metadata": {},
   "outputs": [],
   "source": [
    "clean_tweet_df = pd.DataFrame(clean_tweets_lem)"
   ]
  },
  {
   "cell_type": "code",
   "execution_count": null,
   "metadata": {},
   "outputs": [],
   "source": [
    "# clean_tweet_df.head()"
   ]
  },
  {
   "cell_type": "code",
   "execution_count": null,
   "metadata": {
    "scrolled": true
   },
   "outputs": [],
   "source": [
    "clean_tweet_df[0][0]"
   ]
  },
  {
   "cell_type": "code",
   "execution_count": null,
   "metadata": {},
   "outputs": [],
   "source": [
    "df_with_tfidf_pca['tweet'] = clean_tweet_df[0].values"
   ]
  },
  {
   "cell_type": "code",
   "execution_count": null,
   "metadata": {},
   "outputs": [],
   "source": [
    "# we added signal to the dataframe\n",
    "df_with_tfidf_pca = pd.concat([df_with_tfidf_pca, take_2.iloc[:,-1]], axis=1)"
   ]
  },
  {
   "cell_type": "code",
   "execution_count": 197,
   "metadata": {},
   "outputs": [
    {
     "data": {
      "text/html": [
       "<div>\n",
       "<style scoped>\n",
       "    .dataframe tbody tr th:only-of-type {\n",
       "        vertical-align: middle;\n",
       "    }\n",
       "\n",
       "    .dataframe tbody tr th {\n",
       "        vertical-align: top;\n",
       "    }\n",
       "\n",
       "    .dataframe thead th {\n",
       "        text-align: right;\n",
       "    }\n",
       "</style>\n",
       "<table border=\"1\" class=\"dataframe\">\n",
       "  <thead>\n",
       "    <tr style=\"text-align: right;\">\n",
       "      <th></th>\n",
       "      <th>retweet_from</th>\n",
       "      <th>tweet_length</th>\n",
       "      <th>encoded_sentiment</th>\n",
       "      <th>polarity</th>\n",
       "      <th>tweet</th>\n",
       "      <th>pc_1</th>\n",
       "      <th>pc_2</th>\n",
       "      <th>pc_3</th>\n",
       "      <th>pc_4</th>\n",
       "      <th>pc_5</th>\n",
       "      <th>...</th>\n",
       "      <th>pc_30</th>\n",
       "      <th>pc_31</th>\n",
       "      <th>pc_32</th>\n",
       "      <th>pc_33</th>\n",
       "      <th>pc_34</th>\n",
       "      <th>pc_35</th>\n",
       "      <th>pc_36</th>\n",
       "      <th>pc_37</th>\n",
       "      <th>pc_38</th>\n",
       "      <th>signal_y</th>\n",
       "    </tr>\n",
       "  </thead>\n",
       "  <tbody>\n",
       "    <tr>\n",
       "      <th>0</th>\n",
       "      <td>171</td>\n",
       "      <td>105</td>\n",
       "      <td>1</td>\n",
       "      <td>0.366667</td>\n",
       "      <td>assuming acceleration of to but in a comfortab...</td>\n",
       "      <td>-0.031750</td>\n",
       "      <td>-0.028850</td>\n",
       "      <td>-0.030290</td>\n",
       "      <td>-0.018736</td>\n",
       "      <td>-0.060675</td>\n",
       "      <td>...</td>\n",
       "      <td>0.017885</td>\n",
       "      <td>0.045822</td>\n",
       "      <td>-0.006862</td>\n",
       "      <td>-0.012954</td>\n",
       "      <td>-0.005468</td>\n",
       "      <td>-0.100572</td>\n",
       "      <td>-0.029374</td>\n",
       "      <td>0.041363</td>\n",
       "      <td>0.035932</td>\n",
       "      <td>stay</td>\n",
       "    </tr>\n",
       "    <tr>\n",
       "      <th>1</th>\n",
       "      <td>77</td>\n",
       "      <td>113</td>\n",
       "      <td>1</td>\n",
       "      <td>0.200000</td>\n",
       "      <td>is capable of transporting satellite to orbit ...</td>\n",
       "      <td>-0.059331</td>\n",
       "      <td>-0.099826</td>\n",
       "      <td>-0.154772</td>\n",
       "      <td>-0.040355</td>\n",
       "      <td>0.072285</td>\n",
       "      <td>...</td>\n",
       "      <td>-0.011667</td>\n",
       "      <td>0.003882</td>\n",
       "      <td>0.018002</td>\n",
       "      <td>-0.019813</td>\n",
       "      <td>-0.035809</td>\n",
       "      <td>-0.034079</td>\n",
       "      <td>-0.014687</td>\n",
       "      <td>-0.008986</td>\n",
       "      <td>-0.019845</td>\n",
       "      <td>stay</td>\n",
       "    </tr>\n",
       "    <tr>\n",
       "      <th>2</th>\n",
       "      <td>171</td>\n",
       "      <td>6</td>\n",
       "      <td>0</td>\n",
       "      <td>0.000000</td>\n",
       "      <td>yup</td>\n",
       "      <td>-0.002330</td>\n",
       "      <td>0.033983</td>\n",
       "      <td>0.069531</td>\n",
       "      <td>-0.014177</td>\n",
       "      <td>-0.037774</td>\n",
       "      <td>...</td>\n",
       "      <td>0.015722</td>\n",
       "      <td>-0.025726</td>\n",
       "      <td>0.065735</td>\n",
       "      <td>0.041686</td>\n",
       "      <td>-0.021751</td>\n",
       "      <td>-0.014138</td>\n",
       "      <td>-0.037047</td>\n",
       "      <td>-0.050031</td>\n",
       "      <td>-0.084722</td>\n",
       "      <td>stay</td>\n",
       "    </tr>\n",
       "    <tr>\n",
       "      <th>3</th>\n",
       "      <td>171</td>\n",
       "      <td>7</td>\n",
       "      <td>0</td>\n",
       "      <td>0.000000</td>\n",
       "      <td>part</td>\n",
       "      <td>-0.005050</td>\n",
       "      <td>0.024117</td>\n",
       "      <td>0.043362</td>\n",
       "      <td>-0.001804</td>\n",
       "      <td>-0.016279</td>\n",
       "      <td>...</td>\n",
       "      <td>-0.009052</td>\n",
       "      <td>-0.008601</td>\n",
       "      <td>0.001285</td>\n",
       "      <td>-0.007619</td>\n",
       "      <td>-0.005289</td>\n",
       "      <td>-0.025700</td>\n",
       "      <td>-0.008989</td>\n",
       "      <td>-0.011967</td>\n",
       "      <td>-0.004665</td>\n",
       "      <td>stay</td>\n",
       "    </tr>\n",
       "    <tr>\n",
       "      <th>4</th>\n",
       "      <td>171</td>\n",
       "      <td>96</td>\n",
       "      <td>1</td>\n",
       "      <td>0.650000</td>\n",
       "      <td>fly to most place on earth in under min and an...</td>\n",
       "      <td>-0.031167</td>\n",
       "      <td>-0.027725</td>\n",
       "      <td>-0.012331</td>\n",
       "      <td>-0.039909</td>\n",
       "      <td>-0.070462</td>\n",
       "      <td>...</td>\n",
       "      <td>0.020042</td>\n",
       "      <td>0.030526</td>\n",
       "      <td>-0.039462</td>\n",
       "      <td>0.088186</td>\n",
       "      <td>-0.012277</td>\n",
       "      <td>0.033849</td>\n",
       "      <td>0.040576</td>\n",
       "      <td>0.051975</td>\n",
       "      <td>-0.031236</td>\n",
       "      <td>stay</td>\n",
       "    </tr>\n",
       "  </tbody>\n",
       "</table>\n",
       "<p>5 rows × 44 columns</p>\n",
       "</div>"
      ],
      "text/plain": [
       "   retweet_from  tweet_length  encoded_sentiment  polarity  \\\n",
       "0           171           105                  1  0.366667   \n",
       "1            77           113                  1  0.200000   \n",
       "2           171             6                  0  0.000000   \n",
       "3           171             7                  0  0.000000   \n",
       "4           171            96                  1  0.650000   \n",
       "\n",
       "                                               tweet      pc_1      pc_2  \\\n",
       "0  assuming acceleration of to but in a comfortab... -0.031750 -0.028850   \n",
       "1  is capable of transporting satellite to orbit ... -0.059331 -0.099826   \n",
       "2                                                yup -0.002330  0.033983   \n",
       "3                                               part -0.005050  0.024117   \n",
       "4  fly to most place on earth in under min and an... -0.031167 -0.027725   \n",
       "\n",
       "       pc_3      pc_4      pc_5    ...        pc_30     pc_31     pc_32  \\\n",
       "0 -0.030290 -0.018736 -0.060675    ...     0.017885  0.045822 -0.006862   \n",
       "1 -0.154772 -0.040355  0.072285    ...    -0.011667  0.003882  0.018002   \n",
       "2  0.069531 -0.014177 -0.037774    ...     0.015722 -0.025726  0.065735   \n",
       "3  0.043362 -0.001804 -0.016279    ...    -0.009052 -0.008601  0.001285   \n",
       "4 -0.012331 -0.039909 -0.070462    ...     0.020042  0.030526 -0.039462   \n",
       "\n",
       "      pc_33     pc_34     pc_35     pc_36     pc_37     pc_38  signal_y  \n",
       "0 -0.012954 -0.005468 -0.100572 -0.029374  0.041363  0.035932      stay  \n",
       "1 -0.019813 -0.035809 -0.034079 -0.014687 -0.008986 -0.019845      stay  \n",
       "2  0.041686 -0.021751 -0.014138 -0.037047 -0.050031 -0.084722      stay  \n",
       "3 -0.007619 -0.005289 -0.025700 -0.008989 -0.011967 -0.004665      stay  \n",
       "4  0.088186 -0.012277  0.033849  0.040576  0.051975 -0.031236      stay  \n",
       "\n",
       "[5 rows x 44 columns]"
      ]
     },
     "execution_count": 197,
     "metadata": {},
     "output_type": "execute_result"
    }
   ],
   "source": [
    "df_with_tfidf_pca.head()"
   ]
  },
  {
   "cell_type": "code",
   "execution_count": 199,
   "metadata": {},
   "outputs": [
    {
     "name": "stdout",
     "output_type": "stream",
     "text": [
      "<class 'pandas.core.frame.DataFrame'>\n",
      "Int64Index: 3205 entries, 0 to 3204\n",
      "Data columns (total 44 columns):\n",
      "retweet_from         3205 non-null int64\n",
      "tweet_length         3205 non-null int64\n",
      "encoded_sentiment    3205 non-null int64\n",
      "polarity             3205 non-null float64\n",
      "tweet                3205 non-null object\n",
      "pc_1                 3205 non-null float64\n",
      "pc_2                 3205 non-null float64\n",
      "pc_3                 3205 non-null float64\n",
      "pc_4                 3205 non-null float64\n",
      "pc_5                 3205 non-null float64\n",
      "pc_6                 3205 non-null float64\n",
      "pc_7                 3205 non-null float64\n",
      "pc_8                 3205 non-null float64\n",
      "pc_9                 3205 non-null float64\n",
      "pc_10                3205 non-null float64\n",
      "pc_11                3205 non-null float64\n",
      "pc_12                3205 non-null float64\n",
      "pc_13                3205 non-null float64\n",
      "pc_14                3205 non-null float64\n",
      "pc_15                3205 non-null float64\n",
      "pc_16                3205 non-null float64\n",
      "pc_17                3205 non-null float64\n",
      "pc_18                3205 non-null float64\n",
      "pc_19                3205 non-null float64\n",
      "pc_20                3205 non-null float64\n",
      "pc_21                3205 non-null float64\n",
      "pc_22                3205 non-null float64\n",
      "pc_23                3205 non-null float64\n",
      "pc_24                3205 non-null float64\n",
      "pc_25                3205 non-null float64\n",
      "pc_26                3205 non-null float64\n",
      "pc_27                3205 non-null float64\n",
      "pc_28                3205 non-null float64\n",
      "pc_29                3205 non-null float64\n",
      "pc_30                3205 non-null float64\n",
      "pc_31                3205 non-null float64\n",
      "pc_32                3205 non-null float64\n",
      "pc_33                3205 non-null float64\n",
      "pc_34                3205 non-null float64\n",
      "pc_35                3205 non-null float64\n",
      "pc_36                3205 non-null float64\n",
      "pc_37                3205 non-null float64\n",
      "pc_38                3205 non-null float64\n",
      "signal_y             3204 non-null object\n",
      "dtypes: float64(39), int64(3), object(2)\n",
      "memory usage: 1.3+ MB\n"
     ]
    }
   ],
   "source": [
    "df_with_tfidf_pca.info()"
   ]
  },
  {
   "cell_type": "code",
   "execution_count": null,
   "metadata": {},
   "outputs": [],
   "source": [
    "# take_23.to_csv(r'/Users/sproul/Desktop/ds-projects/project_mod4_AAR/CLEAN_EDIT_model_data.csv')"
   ]
  },
  {
   "cell_type": "code",
   "execution_count": 200,
   "metadata": {},
   "outputs": [],
   "source": [
    "df_with_tfidf_pca.to_csv(r'/Users/sproul/Desktop/ds-projects/project_mod4_AAR/updated_merged_data.csv')"
   ]
  },
  {
   "cell_type": "code",
   "execution_count": null,
   "metadata": {},
   "outputs": [],
   "source": []
  }
 ],
 "metadata": {
  "kernelspec": {
   "display_name": "Python 3",
   "language": "python",
   "name": "python3"
  },
  "language_info": {
   "codemirror_mode": {
    "name": "ipython",
    "version": 3
   },
   "file_extension": ".py",
   "mimetype": "text/x-python",
   "name": "python",
   "nbconvert_exporter": "python",
   "pygments_lexer": "ipython3",
   "version": "3.6.7"
  },
  "toc": {
   "base_numbering": 1,
   "nav_menu": {},
   "number_sections": true,
   "sideBar": true,
   "skip_h1_title": false,
   "title_cell": "Table of Contents",
   "title_sidebar": "Contents",
   "toc_cell": false,
   "toc_position": {},
   "toc_section_display": true,
   "toc_window_display": false
  }
 },
 "nbformat": 4,
 "nbformat_minor": 2
}
