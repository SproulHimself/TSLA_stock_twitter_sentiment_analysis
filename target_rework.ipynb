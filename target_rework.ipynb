{
 "cells": [
  {
   "cell_type": "code",
   "execution_count": 1,
   "metadata": {},
   "outputs": [
    {
     "name": "stderr",
     "output_type": "stream",
     "text": [
      "Using TensorFlow backend.\n"
     ]
    }
   ],
   "source": [
    "from sklearn.ensemble import RandomForestClassifier\n",
    "from sklearn.svm import SVC\n",
    "from sklearn.linear_model import LogisticRegression\n",
    "from sklearn.pipeline import Pipeline\n",
    "from sklearn.model_selection import cross_val_score, train_test_split\n",
    "from keras.models import Model, Sequential\n",
    "from keras.preprocessing.text import Tokenizer\n",
    "from keras.preprocessing.sequence import pad_sequences\n",
    "from keras.layers import Input, Dense, LSTM, Embedding, SpatialDropout1D, SimpleRNN\n",
    "from keras.layers import Dropout, Activation, Bidirectional, GlobalMaxPool1D, RNN\n",
    "from keras import initializers, regularizers, constraints, optimizers, layers\n",
    "from keras.preprocessing import text, sequence\n",
    "import pandas as pd\n",
    "import numpy as np\n",
    "np.random.seed(0)\n",
    "from nltk import word_tokenize\n",
    "from gensim.models import word2vec\n",
    "from alpha_vantage.timeseries import TimeSeries\n",
    "from pprint import pprint"
   ]
  },
  {
   "cell_type": "code",
   "execution_count": 7,
   "metadata": {},
   "outputs": [],
   "source": [
    "ts = TimeSeries(key='X5AYBIDIH2EVGNW9', output_format='pandas')\n",
    "data, meta_data = ts.get_daily(symbol='TSLA', outputsize='full')\n",
    "\n",
    "data = data.drop(['2. high', '3. low', '5. volume'], axis=1)\n",
    "data.columns = ['open', 'close']"
   ]
  },
  {
   "cell_type": "code",
   "execution_count": 8,
   "metadata": {},
   "outputs": [],
   "source": [
    "def calculate_pct_change(open, close):\n",
    "    pct_change = (close - open) / open\n",
    "    pct_change = round(pct_change,4) * 100\n",
    "    return pct_change"
   ]
  },
  {
   "cell_type": "code",
   "execution_count": 9,
   "metadata": {},
   "outputs": [],
   "source": [
    "#S&P 500 data\n",
    "sdata, smeta_data = ts.get_daily(symbol='SPY', outputsize='full')\n",
    "\n",
    "sdata = sdata.drop(['2. high', '3. low', '5. volume'], axis=1)\n",
    "sdata.columns = ['open', 'close']"
   ]
  },
  {
   "cell_type": "code",
   "execution_count": 5,
   "metadata": {},
   "outputs": [],
   "source": [
    "data = calculate_pct_change(data.open, data.close) - calculate_pct_change(sdata.open, sdata.close)\n",
    "data = pd.DataFrame({'Date': data.index, 'price_change': data.values})\n",
    "data = data.set_index('Date')\n",
    "# data[\"signal\"] = data['price_change'].map(lambda x: \"stay\" if -1<x<1 else (\"up\" if x>1 else \"down\"))\n",
    "# data = data.drop(['price_change'], axis = 1)"
   ]
  },
  {
   "cell_type": "code",
   "execution_count": null,
   "metadata": {},
   "outputs": [],
   "source": [
    "data = data.loc[(data.index > '2012-11-16') & ('2017-09-29' >= data.index)]"
   ]
  },
  {
   "cell_type": "code",
   "execution_count": null,
   "metadata": {},
   "outputs": [],
   "source": [
    "data['signal'].value_counts()"
   ]
  },
  {
   "cell_type": "code",
   "execution_count": null,
   "metadata": {},
   "outputs": [],
   "source": [
    "data.info()"
   ]
  },
  {
   "cell_type": "code",
   "execution_count": null,
   "metadata": {},
   "outputs": [],
   "source": [
    "data.tail()"
   ]
  },
  {
   "cell_type": "markdown",
   "metadata": {},
   "source": [
    "---"
   ]
  },
  {
   "cell_type": "code",
   "execution_count": null,
   "metadata": {},
   "outputs": [],
   "source": []
  },
  {
   "cell_type": "code",
   "execution_count": 10,
   "metadata": {},
   "outputs": [],
   "source": [
    "df = calculate_pct_change(data.open, data.close) - calculate_pct_change(sdata.open, sdata.close)\n",
    "df = pd.DataFrame({'Date': df.index, 'price_change': df.values})\n",
    "df = df.set_index('Date')\n",
    "# df[\"signal\"] = data['price_change'].map(lambda x: \"stay\" if -1<x<1 else (\"up\" if x>1 else \"down\"))\n",
    "# df = data.drop(['price_change'], axis = 1)"
   ]
  },
  {
   "cell_type": "code",
   "execution_count": 11,
   "metadata": {},
   "outputs": [],
   "source": [
    "df = df.loc[(df.index > '2012-11-16') & ('2017-09-29' >= df.index)]"
   ]
  },
  {
   "cell_type": "code",
   "execution_count": 12,
   "metadata": {},
   "outputs": [
    {
     "name": "stdout",
     "output_type": "stream",
     "text": [
      "<class 'pandas.core.frame.DataFrame'>\n",
      "Index: 1225 entries, 2012-11-19 to 2017-09-29\n",
      "Data columns (total 1 columns):\n",
      "price_change    1225 non-null float64\n",
      "dtypes: float64(1)\n",
      "memory usage: 19.1+ KB\n"
     ]
    }
   ],
   "source": [
    "df.info()"
   ]
  },
  {
   "cell_type": "code",
   "execution_count": 13,
   "metadata": {},
   "outputs": [],
   "source": [
    "idx = pd.date_range('2012-11-19', '2017-09-29')"
   ]
  },
  {
   "cell_type": "code",
   "execution_count": 14,
   "metadata": {},
   "outputs": [],
   "source": [
    "df.index = pd.DatetimeIndex(df.index)\n",
    "df = df.reindex(idx, fill_value=np.nan)"
   ]
  },
  {
   "cell_type": "code",
   "execution_count": 15,
   "metadata": {},
   "outputs": [
    {
     "name": "stdout",
     "output_type": "stream",
     "text": [
      "<class 'pandas.core.frame.DataFrame'>\n",
      "DatetimeIndex: 1776 entries, 2012-11-19 to 2017-09-29\n",
      "Freq: D\n",
      "Data columns (total 1 columns):\n",
      "price_change    1225 non-null float64\n",
      "dtypes: float64(1)\n",
      "memory usage: 27.8 KB\n"
     ]
    }
   ],
   "source": [
    "df.info()"
   ]
  },
  {
   "cell_type": "code",
   "execution_count": 16,
   "metadata": {},
   "outputs": [],
   "source": [
    "# df = df.astype(float)"
   ]
  },
  {
   "cell_type": "code",
   "execution_count": 17,
   "metadata": {},
   "outputs": [],
   "source": [
    "df['update_price_change'] = df['price_change'].interpolate(method='linear')"
   ]
  },
  {
   "cell_type": "code",
   "execution_count": 18,
   "metadata": {},
   "outputs": [
    {
     "name": "stdout",
     "output_type": "stream",
     "text": [
      "<class 'pandas.core.frame.DataFrame'>\n",
      "DatetimeIndex: 1776 entries, 2012-11-19 to 2017-09-29\n",
      "Freq: D\n",
      "Data columns (total 2 columns):\n",
      "price_change           1225 non-null float64\n",
      "update_price_change    1776 non-null float64\n",
      "dtypes: float64(2)\n",
      "memory usage: 41.6 KB\n"
     ]
    }
   ],
   "source": [
    "df.info()"
   ]
  },
  {
   "cell_type": "code",
   "execution_count": 19,
   "metadata": {},
   "outputs": [
    {
     "data": {
      "text/html": [
       "<div>\n",
       "<style scoped>\n",
       "    .dataframe tbody tr th:only-of-type {\n",
       "        vertical-align: middle;\n",
       "    }\n",
       "\n",
       "    .dataframe tbody tr th {\n",
       "        vertical-align: top;\n",
       "    }\n",
       "\n",
       "    .dataframe thead th {\n",
       "        text-align: right;\n",
       "    }\n",
       "</style>\n",
       "<table border=\"1\" class=\"dataframe\">\n",
       "  <thead>\n",
       "    <tr style=\"text-align: right;\">\n",
       "      <th></th>\n",
       "      <th>price_change</th>\n",
       "      <th>update_price_change</th>\n",
       "    </tr>\n",
       "  </thead>\n",
       "  <tbody>\n",
       "    <tr>\n",
       "      <th>2012-11-19</th>\n",
       "      <td>1.76</td>\n",
       "      <td>1.76</td>\n",
       "    </tr>\n",
       "    <tr>\n",
       "      <th>2012-11-20</th>\n",
       "      <td>0.41</td>\n",
       "      <td>0.41</td>\n",
       "    </tr>\n",
       "    <tr>\n",
       "      <th>2012-11-21</th>\n",
       "      <td>-0.53</td>\n",
       "      <td>-0.53</td>\n",
       "    </tr>\n",
       "    <tr>\n",
       "      <th>2012-11-22</th>\n",
       "      <td>NaN</td>\n",
       "      <td>-1.42</td>\n",
       "    </tr>\n",
       "    <tr>\n",
       "      <th>2012-11-23</th>\n",
       "      <td>-2.31</td>\n",
       "      <td>-2.31</td>\n",
       "    </tr>\n",
       "  </tbody>\n",
       "</table>\n",
       "</div>"
      ],
      "text/plain": [
       "            price_change  update_price_change\n",
       "2012-11-19          1.76                 1.76\n",
       "2012-11-20          0.41                 0.41\n",
       "2012-11-21         -0.53                -0.53\n",
       "2012-11-22           NaN                -1.42\n",
       "2012-11-23         -2.31                -2.31"
      ]
     },
     "execution_count": 19,
     "metadata": {},
     "output_type": "execute_result"
    }
   ],
   "source": [
    "df.head()"
   ]
  },
  {
   "cell_type": "code",
   "execution_count": 20,
   "metadata": {},
   "outputs": [],
   "source": [
    "df = df.drop(columns=['price_change'])"
   ]
  },
  {
   "cell_type": "code",
   "execution_count": 21,
   "metadata": {},
   "outputs": [],
   "source": [
    "df.columns = ['price_change']"
   ]
  },
  {
   "cell_type": "code",
   "execution_count": 22,
   "metadata": {},
   "outputs": [
    {
     "data": {
      "text/html": [
       "<div>\n",
       "<style scoped>\n",
       "    .dataframe tbody tr th:only-of-type {\n",
       "        vertical-align: middle;\n",
       "    }\n",
       "\n",
       "    .dataframe tbody tr th {\n",
       "        vertical-align: top;\n",
       "    }\n",
       "\n",
       "    .dataframe thead th {\n",
       "        text-align: right;\n",
       "    }\n",
       "</style>\n",
       "<table border=\"1\" class=\"dataframe\">\n",
       "  <thead>\n",
       "    <tr style=\"text-align: right;\">\n",
       "      <th></th>\n",
       "      <th>price_change</th>\n",
       "    </tr>\n",
       "  </thead>\n",
       "  <tbody>\n",
       "    <tr>\n",
       "      <th>2012-11-19</th>\n",
       "      <td>1.76</td>\n",
       "    </tr>\n",
       "    <tr>\n",
       "      <th>2012-11-20</th>\n",
       "      <td>0.41</td>\n",
       "    </tr>\n",
       "    <tr>\n",
       "      <th>2012-11-21</th>\n",
       "      <td>-0.53</td>\n",
       "    </tr>\n",
       "    <tr>\n",
       "      <th>2012-11-22</th>\n",
       "      <td>-1.42</td>\n",
       "    </tr>\n",
       "    <tr>\n",
       "      <th>2012-11-23</th>\n",
       "      <td>-2.31</td>\n",
       "    </tr>\n",
       "  </tbody>\n",
       "</table>\n",
       "</div>"
      ],
      "text/plain": [
       "            price_change\n",
       "2012-11-19          1.76\n",
       "2012-11-20          0.41\n",
       "2012-11-21         -0.53\n",
       "2012-11-22         -1.42\n",
       "2012-11-23         -2.31"
      ]
     },
     "execution_count": 22,
     "metadata": {},
     "output_type": "execute_result"
    }
   ],
   "source": [
    "df.head()"
   ]
  },
  {
   "cell_type": "code",
   "execution_count": 28,
   "metadata": {},
   "outputs": [],
   "source": [
    "df[\"signal\"] = df['price_change'].map(lambda x: \"up\" if x>=0 else \"down\")\n",
    "df = df.drop(['price_change'], axis = 1)"
   ]
  },
  {
   "cell_type": "code",
   "execution_count": 29,
   "metadata": {},
   "outputs": [
    {
     "data": {
      "text/html": [
       "<div>\n",
       "<style scoped>\n",
       "    .dataframe tbody tr th:only-of-type {\n",
       "        vertical-align: middle;\n",
       "    }\n",
       "\n",
       "    .dataframe tbody tr th {\n",
       "        vertical-align: top;\n",
       "    }\n",
       "\n",
       "    .dataframe thead th {\n",
       "        text-align: right;\n",
       "    }\n",
       "</style>\n",
       "<table border=\"1\" class=\"dataframe\">\n",
       "  <thead>\n",
       "    <tr style=\"text-align: right;\">\n",
       "      <th></th>\n",
       "      <th>signal</th>\n",
       "    </tr>\n",
       "  </thead>\n",
       "  <tbody>\n",
       "    <tr>\n",
       "      <th>2017-09-25</th>\n",
       "      <td>down</td>\n",
       "    </tr>\n",
       "    <tr>\n",
       "      <th>2017-09-26</th>\n",
       "      <td>down</td>\n",
       "    </tr>\n",
       "    <tr>\n",
       "      <th>2017-09-27</th>\n",
       "      <td>down</td>\n",
       "    </tr>\n",
       "    <tr>\n",
       "      <th>2017-09-28</th>\n",
       "      <td>down</td>\n",
       "    </tr>\n",
       "    <tr>\n",
       "      <th>2017-09-29</th>\n",
       "      <td>down</td>\n",
       "    </tr>\n",
       "  </tbody>\n",
       "</table>\n",
       "</div>"
      ],
      "text/plain": [
       "           signal\n",
       "2017-09-25   down\n",
       "2017-09-26   down\n",
       "2017-09-27   down\n",
       "2017-09-28   down\n",
       "2017-09-29   down"
      ]
     },
     "execution_count": 29,
     "metadata": {},
     "output_type": "execute_result"
    }
   ],
   "source": [
    "df.tail()"
   ]
  },
  {
   "cell_type": "code",
   "execution_count": 32,
   "metadata": {},
   "outputs": [
    {
     "data": {
      "text/plain": [
       "up      892\n",
       "down    884\n",
       "Name: signal, dtype: int64"
      ]
     },
     "execution_count": 32,
     "metadata": {},
     "output_type": "execute_result"
    }
   ],
   "source": [
    "df.signal.value_counts()"
   ]
  },
  {
   "cell_type": "code",
   "execution_count": 34,
   "metadata": {},
   "outputs": [],
   "source": [
    "# df.to_csv(r'/Users/sproul/Desktop/ds-projects/project_mod4_AAR/binary_target.csv')"
   ]
  },
  {
   "cell_type": "code",
   "execution_count": 75,
   "metadata": {},
   "outputs": [],
   "source": [
    "text = pd.read_csv('combined_text_data.csv')"
   ]
  },
  {
   "cell_type": "code",
   "execution_count": 76,
   "metadata": {},
   "outputs": [],
   "source": [
    "stock = pd.read_csv('binary_target.csv')"
   ]
  },
  {
   "cell_type": "code",
   "execution_count": 77,
   "metadata": {
    "scrolled": true
   },
   "outputs": [
    {
     "name": "stdout",
     "output_type": "stream",
     "text": [
      "<class 'pandas.core.frame.DataFrame'>\n",
      "RangeIndex: 1776 entries, 0 to 1775\n",
      "Data columns (total 2 columns):\n",
      "Unnamed: 0    1776 non-null object\n",
      "signal        1776 non-null object\n",
      "dtypes: object(2)\n",
      "memory usage: 27.8+ KB\n"
     ]
    }
   ],
   "source": [
    "stock.info()"
   ]
  },
  {
   "cell_type": "code",
   "execution_count": 78,
   "metadata": {},
   "outputs": [
    {
     "name": "stdout",
     "output_type": "stream",
     "text": [
      "<class 'pandas.core.frame.DataFrame'>\n",
      "RangeIndex: 3205 entries, 0 to 3204\n",
      "Columns: 3859 entries, Time to zoo\n",
      "dtypes: float64(3853), int64(2), object(4)\n",
      "memory usage: 94.4+ MB\n"
     ]
    }
   ],
   "source": [
    "text.info()"
   ]
  },
  {
   "cell_type": "code",
   "execution_count": 86,
   "metadata": {
    "scrolled": true
   },
   "outputs": [
    {
     "data": {
      "text/html": [
       "<div>\n",
       "<style scoped>\n",
       "    .dataframe tbody tr th:only-of-type {\n",
       "        vertical-align: middle;\n",
       "    }\n",
       "\n",
       "    .dataframe tbody tr th {\n",
       "        vertical-align: top;\n",
       "    }\n",
       "\n",
       "    .dataframe thead th {\n",
       "        text-align: right;\n",
       "    }\n",
       "</style>\n",
       "<table border=\"1\" class=\"dataframe\">\n",
       "  <thead>\n",
       "    <tr style=\"text-align: right;\">\n",
       "      <th></th>\n",
       "      <th>Time</th>\n",
       "      <th>retweet_from</th>\n",
       "      <th>tweet_length</th>\n",
       "      <th>encoded_sentiment</th>\n",
       "      <th>sentiment</th>\n",
       "      <th>polarity</th>\n",
       "      <th>tweet</th>\n",
       "      <th>ability</th>\n",
       "      <th>able</th>\n",
       "      <th>aboard</th>\n",
       "      <th>...</th>\n",
       "      <th>you</th>\n",
       "      <th>your</th>\n",
       "      <th>yours</th>\n",
       "      <th>yourself</th>\n",
       "      <th>yr</th>\n",
       "      <th>yup</th>\n",
       "      <th>zero</th>\n",
       "      <th>zip</th>\n",
       "      <th>zone</th>\n",
       "      <th>zoo</th>\n",
       "    </tr>\n",
       "  </thead>\n",
       "  <tbody>\n",
       "    <tr>\n",
       "      <th>0</th>\n",
       "      <td>2017-09-29</td>\n",
       "      <td>NaN</td>\n",
       "      <td>105</td>\n",
       "      <td>1</td>\n",
       "      <td>positive</td>\n",
       "      <td>0.366667</td>\n",
       "      <td>Assuming max acceleration of 2 to 3 g's, but i...</td>\n",
       "      <td>0.0</td>\n",
       "      <td>0.0</td>\n",
       "      <td>0.0</td>\n",
       "      <td>...</td>\n",
       "      <td>0.0</td>\n",
       "      <td>0.0</td>\n",
       "      <td>0.0</td>\n",
       "      <td>0.0</td>\n",
       "      <td>0.0</td>\n",
       "      <td>0.0</td>\n",
       "      <td>0.0</td>\n",
       "      <td>0.0</td>\n",
       "      <td>0.0</td>\n",
       "      <td>0.0</td>\n",
       "    </tr>\n",
       "    <tr>\n",
       "      <th>1</th>\n",
       "      <td>2017-09-29</td>\n",
       "      <td>SpaceX</td>\n",
       "      <td>113</td>\n",
       "      <td>1</td>\n",
       "      <td>positive</td>\n",
       "      <td>0.200000</td>\n",
       "      <td>BFR is capable of transporting satellites to o...</td>\n",
       "      <td>0.0</td>\n",
       "      <td>0.0</td>\n",
       "      <td>0.0</td>\n",
       "      <td>...</td>\n",
       "      <td>0.0</td>\n",
       "      <td>0.0</td>\n",
       "      <td>0.0</td>\n",
       "      <td>0.0</td>\n",
       "      <td>0.0</td>\n",
       "      <td>0.0</td>\n",
       "      <td>0.0</td>\n",
       "      <td>0.0</td>\n",
       "      <td>0.0</td>\n",
       "      <td>0.0</td>\n",
       "    </tr>\n",
       "    <tr>\n",
       "      <th>2</th>\n",
       "      <td>2017-09-29</td>\n",
       "      <td>NaN</td>\n",
       "      <td>6</td>\n",
       "      <td>0</td>\n",
       "      <td>neutral</td>\n",
       "      <td>0.000000</td>\n",
       "      <td>Yup :)</td>\n",
       "      <td>0.0</td>\n",
       "      <td>0.0</td>\n",
       "      <td>0.0</td>\n",
       "      <td>...</td>\n",
       "      <td>0.0</td>\n",
       "      <td>0.0</td>\n",
       "      <td>0.0</td>\n",
       "      <td>0.0</td>\n",
       "      <td>0.0</td>\n",
       "      <td>1.0</td>\n",
       "      <td>0.0</td>\n",
       "      <td>0.0</td>\n",
       "      <td>0.0</td>\n",
       "      <td>0.0</td>\n",
       "    </tr>\n",
       "    <tr>\n",
       "      <th>3</th>\n",
       "      <td>2017-09-29</td>\n",
       "      <td>NaN</td>\n",
       "      <td>7</td>\n",
       "      <td>0</td>\n",
       "      <td>neutral</td>\n",
       "      <td>0.000000</td>\n",
       "      <td>Part 2</td>\n",
       "      <td>0.0</td>\n",
       "      <td>0.0</td>\n",
       "      <td>0.0</td>\n",
       "      <td>...</td>\n",
       "      <td>0.0</td>\n",
       "      <td>0.0</td>\n",
       "      <td>0.0</td>\n",
       "      <td>0.0</td>\n",
       "      <td>0.0</td>\n",
       "      <td>0.0</td>\n",
       "      <td>0.0</td>\n",
       "      <td>0.0</td>\n",
       "      <td>0.0</td>\n",
       "      <td>0.0</td>\n",
       "    </tr>\n",
       "    <tr>\n",
       "      <th>4</th>\n",
       "      <td>2017-09-29</td>\n",
       "      <td>NaN</td>\n",
       "      <td>96</td>\n",
       "      <td>1</td>\n",
       "      <td>positive</td>\n",
       "      <td>0.650000</td>\n",
       "      <td>Fly to most places on Earth in under 30 mins a...</td>\n",
       "      <td>0.0</td>\n",
       "      <td>0.0</td>\n",
       "      <td>0.0</td>\n",
       "      <td>...</td>\n",
       "      <td>0.0</td>\n",
       "      <td>0.0</td>\n",
       "      <td>0.0</td>\n",
       "      <td>0.0</td>\n",
       "      <td>0.0</td>\n",
       "      <td>0.0</td>\n",
       "      <td>0.0</td>\n",
       "      <td>0.0</td>\n",
       "      <td>0.0</td>\n",
       "      <td>0.0</td>\n",
       "    </tr>\n",
       "  </tbody>\n",
       "</table>\n",
       "<p>5 rows × 3859 columns</p>\n",
       "</div>"
      ],
      "text/plain": [
       "         Time retweet_from  tweet_length  encoded_sentiment sentiment  \\\n",
       "0  2017-09-29          NaN           105                  1  positive   \n",
       "1  2017-09-29       SpaceX           113                  1  positive   \n",
       "2  2017-09-29          NaN             6                  0   neutral   \n",
       "3  2017-09-29          NaN             7                  0   neutral   \n",
       "4  2017-09-29          NaN            96                  1  positive   \n",
       "\n",
       "   polarity                                              tweet  ability  able  \\\n",
       "0  0.366667  Assuming max acceleration of 2 to 3 g's, but i...      0.0   0.0   \n",
       "1  0.200000  BFR is capable of transporting satellites to o...      0.0   0.0   \n",
       "2  0.000000                                             Yup :)      0.0   0.0   \n",
       "3  0.000000                                            Part 2       0.0   0.0   \n",
       "4  0.650000  Fly to most places on Earth in under 30 mins a...      0.0   0.0   \n",
       "\n",
       "   aboard ...   you  your  yours  yourself   yr  yup  zero  zip  zone  zoo  \n",
       "0     0.0 ...   0.0   0.0    0.0       0.0  0.0  0.0   0.0  0.0   0.0  0.0  \n",
       "1     0.0 ...   0.0   0.0    0.0       0.0  0.0  0.0   0.0  0.0   0.0  0.0  \n",
       "2     0.0 ...   0.0   0.0    0.0       0.0  0.0  1.0   0.0  0.0   0.0  0.0  \n",
       "3     0.0 ...   0.0   0.0    0.0       0.0  0.0  0.0   0.0  0.0   0.0  0.0  \n",
       "4     0.0 ...   0.0   0.0    0.0       0.0  0.0  0.0   0.0  0.0   0.0  0.0  \n",
       "\n",
       "[5 rows x 3859 columns]"
      ]
     },
     "execution_count": 86,
     "metadata": {},
     "output_type": "execute_result"
    }
   ],
   "source": [
    "text.head()"
   ]
  },
  {
   "cell_type": "code",
   "execution_count": 84,
   "metadata": {},
   "outputs": [],
   "source": [
    "# stock.rename(columns={'Unnamed: 0':'Date'}, inplace=True)\n",
    "\n",
    "# stock.set_index('Date', inplace=True)\n",
    "\n",
    "# stock.index = pd.DatetimeIndex(stock.index)\n",
    "\n",
    "stock = stock.reindex(idx, fill_value='NaN')\n",
    "\n",
    "# stock.index.name = 'Date'"
   ]
  },
  {
   "cell_type": "code",
   "execution_count": 87,
   "metadata": {},
   "outputs": [],
   "source": [
    "text.rename(columns={'Time':'Date'}, inplace=True)"
   ]
  },
  {
   "cell_type": "code",
   "execution_count": 94,
   "metadata": {
    "scrolled": true
   },
   "outputs": [
    {
     "name": "stdout",
     "output_type": "stream",
     "text": [
      "<class 'pandas.core.frame.DataFrame'>\n",
      "Index: 3205 entries, 2017-09-29 to 2012-11-16\n",
      "Columns: 3858 entries, retweet_from to zoo\n",
      "dtypes: float64(3853), int64(2), object(3)\n",
      "memory usage: 94.4+ MB\n"
     ]
    }
   ],
   "source": [
    "text.info()"
   ]
  },
  {
   "cell_type": "code",
   "execution_count": 89,
   "metadata": {},
   "outputs": [
    {
     "name": "stdout",
     "output_type": "stream",
     "text": [
      "<class 'pandas.core.frame.DataFrame'>\n",
      "DatetimeIndex: 1776 entries, 2012-11-19 to 2017-09-29\n",
      "Freq: D\n",
      "Data columns (total 1 columns):\n",
      "signal    1776 non-null object\n",
      "dtypes: object(1)\n",
      "memory usage: 27.8+ KB\n"
     ]
    }
   ],
   "source": [
    "stock.info()"
   ]
  },
  {
   "cell_type": "code",
   "execution_count": 92,
   "metadata": {},
   "outputs": [],
   "source": [
    "text = text.set_index('Date')"
   ]
  },
  {
   "cell_type": "code",
   "execution_count": 95,
   "metadata": {},
   "outputs": [],
   "source": [
    "text.index = pd.DatetimeIndex(text.index)"
   ]
  },
  {
   "cell_type": "code",
   "execution_count": 96,
   "metadata": {},
   "outputs": [
    {
     "data": {
      "text/plain": [
       "up      1678\n",
       "down    1526\n",
       "Name: signal_y, dtype: int64"
      ]
     },
     "execution_count": 96,
     "metadata": {},
     "output_type": "execute_result"
    }
   ],
   "source": [
    "take_2 = pd.merge(text, stock, on='Date', how='left')\n",
    "\n",
    "# take_2.shape\n",
    "\n",
    "# take_2.head(10)\n",
    "\n",
    "take_2.signal_y.value_counts()"
   ]
  },
  {
   "cell_type": "code",
   "execution_count": 99,
   "metadata": {
    "scrolled": true
   },
   "outputs": [
    {
     "name": "stdout",
     "output_type": "stream",
     "text": [
      "<class 'pandas.core.frame.DataFrame'>\n",
      "DatetimeIndex: 3205 entries, 2017-09-29 to 2012-11-16\n",
      "Columns: 3859 entries, retweet_from to signal_y\n",
      "dtypes: float64(3853), int64(2), object(4)\n",
      "memory usage: 94.4+ MB\n"
     ]
    }
   ],
   "source": [
    "take_2.info()"
   ]
  },
  {
   "cell_type": "code",
   "execution_count": 100,
   "metadata": {},
   "outputs": [],
   "source": [
    "from sklearn.preprocessing import LabelEncoder\n",
    "from sklearn.decomposition import PCA"
   ]
  },
  {
   "cell_type": "code",
   "execution_count": 115,
   "metadata": {},
   "outputs": [],
   "source": [
    "le = LabelEncoder()"
   ]
  },
  {
   "cell_type": "code",
   "execution_count": 111,
   "metadata": {
    "scrolled": true
   },
   "outputs": [
    {
     "name": "stdout",
     "output_type": "stream",
     "text": [
      "<class 'pandas.core.frame.DataFrame'>\n",
      "DatetimeIndex: 3205 entries, 2017-09-29 to 2012-11-16\n",
      "Data columns (total 6 columns):\n",
      "retweet_from         523 non-null object\n",
      "tweet_length         3205 non-null int64\n",
      "encoded_sentiment    3205 non-null int64\n",
      "sentiment            3205 non-null object\n",
      "polarity             3205 non-null float64\n",
      "tweet                3205 non-null object\n",
      "dtypes: float64(1), int64(2), object(3)\n",
      "memory usage: 175.3+ KB\n"
     ]
    }
   ],
   "source": [
    "take_2.iloc[:, :6].info()"
   ]
  },
  {
   "cell_type": "code",
   "execution_count": 118,
   "metadata": {},
   "outputs": [
    {
     "data": {
      "text/html": [
       "<div>\n",
       "<style scoped>\n",
       "    .dataframe tbody tr th:only-of-type {\n",
       "        vertical-align: middle;\n",
       "    }\n",
       "\n",
       "    .dataframe tbody tr th {\n",
       "        vertical-align: top;\n",
       "    }\n",
       "\n",
       "    .dataframe thead th {\n",
       "        text-align: right;\n",
       "    }\n",
       "</style>\n",
       "<table border=\"1\" class=\"dataframe\">\n",
       "  <thead>\n",
       "    <tr style=\"text-align: right;\">\n",
       "      <th></th>\n",
       "      <th>retweet_from</th>\n",
       "      <th>tweet_length</th>\n",
       "      <th>encoded_sentiment</th>\n",
       "      <th>sentiment</th>\n",
       "      <th>polarity</th>\n",
       "      <th>tweet</th>\n",
       "      <th>pc_1</th>\n",
       "      <th>pc_2</th>\n",
       "      <th>pc_3</th>\n",
       "      <th>pc_4</th>\n",
       "      <th>...</th>\n",
       "      <th>pc_29</th>\n",
       "      <th>pc_30</th>\n",
       "      <th>pc_31</th>\n",
       "      <th>pc_32</th>\n",
       "      <th>pc_33</th>\n",
       "      <th>pc_34</th>\n",
       "      <th>pc_35</th>\n",
       "      <th>pc_36</th>\n",
       "      <th>pc_37</th>\n",
       "      <th>pc_38</th>\n",
       "    </tr>\n",
       "    <tr>\n",
       "      <th>Date</th>\n",
       "      <th></th>\n",
       "      <th></th>\n",
       "      <th></th>\n",
       "      <th></th>\n",
       "      <th></th>\n",
       "      <th></th>\n",
       "      <th></th>\n",
       "      <th></th>\n",
       "      <th></th>\n",
       "      <th></th>\n",
       "      <th></th>\n",
       "      <th></th>\n",
       "      <th></th>\n",
       "      <th></th>\n",
       "      <th></th>\n",
       "      <th></th>\n",
       "      <th></th>\n",
       "      <th></th>\n",
       "      <th></th>\n",
       "      <th></th>\n",
       "      <th></th>\n",
       "    </tr>\n",
       "  </thead>\n",
       "  <tbody>\n",
       "    <tr>\n",
       "      <th>2017-09-29</th>\n",
       "      <td>171</td>\n",
       "      <td>105</td>\n",
       "      <td>1</td>\n",
       "      <td>positive</td>\n",
       "      <td>0.366667</td>\n",
       "      <td>Assuming max acceleration of 2 to 3 g's, but i...</td>\n",
       "      <td>-0.031750</td>\n",
       "      <td>-0.028862</td>\n",
       "      <td>-0.030268</td>\n",
       "      <td>-0.018790</td>\n",
       "      <td>...</td>\n",
       "      <td>-0.022715</td>\n",
       "      <td>-0.034915</td>\n",
       "      <td>-0.030453</td>\n",
       "      <td>0.009013</td>\n",
       "      <td>-0.004715</td>\n",
       "      <td>-0.074266</td>\n",
       "      <td>-0.084025</td>\n",
       "      <td>0.019334</td>\n",
       "      <td>-0.004746</td>\n",
       "      <td>0.025779</td>\n",
       "    </tr>\n",
       "    <tr>\n",
       "      <th>2017-09-29</th>\n",
       "      <td>77</td>\n",
       "      <td>113</td>\n",
       "      <td>1</td>\n",
       "      <td>positive</td>\n",
       "      <td>0.200000</td>\n",
       "      <td>BFR is capable of transporting satellites to o...</td>\n",
       "      <td>-0.059331</td>\n",
       "      <td>-0.099826</td>\n",
       "      <td>-0.154760</td>\n",
       "      <td>-0.040333</td>\n",
       "      <td>...</td>\n",
       "      <td>-0.030242</td>\n",
       "      <td>-0.015897</td>\n",
       "      <td>0.009704</td>\n",
       "      <td>-0.011633</td>\n",
       "      <td>-0.016697</td>\n",
       "      <td>-0.033227</td>\n",
       "      <td>0.000195</td>\n",
       "      <td>0.011908</td>\n",
       "      <td>-0.017864</td>\n",
       "      <td>-0.001426</td>\n",
       "    </tr>\n",
       "    <tr>\n",
       "      <th>2017-09-29</th>\n",
       "      <td>171</td>\n",
       "      <td>6</td>\n",
       "      <td>0</td>\n",
       "      <td>neutral</td>\n",
       "      <td>0.000000</td>\n",
       "      <td>Yup :)</td>\n",
       "      <td>-0.002330</td>\n",
       "      <td>0.033960</td>\n",
       "      <td>0.069607</td>\n",
       "      <td>-0.014126</td>\n",
       "      <td>...</td>\n",
       "      <td>0.106281</td>\n",
       "      <td>0.012970</td>\n",
       "      <td>-0.008978</td>\n",
       "      <td>-0.013865</td>\n",
       "      <td>0.046525</td>\n",
       "      <td>-0.007867</td>\n",
       "      <td>0.041954</td>\n",
       "      <td>-0.034317</td>\n",
       "      <td>-0.085269</td>\n",
       "      <td>-0.029201</td>\n",
       "    </tr>\n",
       "    <tr>\n",
       "      <th>2017-09-29</th>\n",
       "      <td>171</td>\n",
       "      <td>7</td>\n",
       "      <td>0</td>\n",
       "      <td>neutral</td>\n",
       "      <td>0.000000</td>\n",
       "      <td>Part 2</td>\n",
       "      <td>-0.005050</td>\n",
       "      <td>0.024122</td>\n",
       "      <td>0.043361</td>\n",
       "      <td>-0.001799</td>\n",
       "      <td>...</td>\n",
       "      <td>0.022552</td>\n",
       "      <td>-0.000544</td>\n",
       "      <td>-0.003106</td>\n",
       "      <td>-0.009162</td>\n",
       "      <td>-0.007540</td>\n",
       "      <td>0.008748</td>\n",
       "      <td>0.016646</td>\n",
       "      <td>-0.003052</td>\n",
       "      <td>-0.056231</td>\n",
       "      <td>-0.018816</td>\n",
       "    </tr>\n",
       "    <tr>\n",
       "      <th>2017-09-29</th>\n",
       "      <td>171</td>\n",
       "      <td>96</td>\n",
       "      <td>1</td>\n",
       "      <td>positive</td>\n",
       "      <td>0.650000</td>\n",
       "      <td>Fly to most places on Earth in under 30 mins a...</td>\n",
       "      <td>-0.031167</td>\n",
       "      <td>-0.027728</td>\n",
       "      <td>-0.012339</td>\n",
       "      <td>-0.039902</td>\n",
       "      <td>...</td>\n",
       "      <td>-0.089746</td>\n",
       "      <td>-0.000036</td>\n",
       "      <td>-0.000197</td>\n",
       "      <td>-0.007578</td>\n",
       "      <td>0.083160</td>\n",
       "      <td>-0.010546</td>\n",
       "      <td>-0.022204</td>\n",
       "      <td>-0.059491</td>\n",
       "      <td>0.048438</td>\n",
       "      <td>0.023978</td>\n",
       "    </tr>\n",
       "  </tbody>\n",
       "</table>\n",
       "<p>5 rows × 44 columns</p>\n",
       "</div>"
      ],
      "text/plain": [
       "            retweet_from  tweet_length  encoded_sentiment sentiment  polarity  \\\n",
       "Date                                                                            \n",
       "2017-09-29           171           105                  1  positive  0.366667   \n",
       "2017-09-29            77           113                  1  positive  0.200000   \n",
       "2017-09-29           171             6                  0   neutral  0.000000   \n",
       "2017-09-29           171             7                  0   neutral  0.000000   \n",
       "2017-09-29           171            96                  1  positive  0.650000   \n",
       "\n",
       "                                                        tweet      pc_1  \\\n",
       "Date                                                                      \n",
       "2017-09-29  Assuming max acceleration of 2 to 3 g's, but i... -0.031750   \n",
       "2017-09-29  BFR is capable of transporting satellites to o... -0.059331   \n",
       "2017-09-29                                             Yup :) -0.002330   \n",
       "2017-09-29                                            Part 2  -0.005050   \n",
       "2017-09-29  Fly to most places on Earth in under 30 mins a... -0.031167   \n",
       "\n",
       "                pc_2      pc_3      pc_4    ...        pc_29     pc_30  \\\n",
       "Date                                        ...                          \n",
       "2017-09-29 -0.028862 -0.030268 -0.018790    ...    -0.022715 -0.034915   \n",
       "2017-09-29 -0.099826 -0.154760 -0.040333    ...    -0.030242 -0.015897   \n",
       "2017-09-29  0.033960  0.069607 -0.014126    ...     0.106281  0.012970   \n",
       "2017-09-29  0.024122  0.043361 -0.001799    ...     0.022552 -0.000544   \n",
       "2017-09-29 -0.027728 -0.012339 -0.039902    ...    -0.089746 -0.000036   \n",
       "\n",
       "               pc_31     pc_32     pc_33     pc_34     pc_35     pc_36  \\\n",
       "Date                                                                     \n",
       "2017-09-29 -0.030453  0.009013 -0.004715 -0.074266 -0.084025  0.019334   \n",
       "2017-09-29  0.009704 -0.011633 -0.016697 -0.033227  0.000195  0.011908   \n",
       "2017-09-29 -0.008978 -0.013865  0.046525 -0.007867  0.041954 -0.034317   \n",
       "2017-09-29 -0.003106 -0.009162 -0.007540  0.008748  0.016646 -0.003052   \n",
       "2017-09-29 -0.000197 -0.007578  0.083160 -0.010546 -0.022204 -0.059491   \n",
       "\n",
       "               pc_37     pc_38  \n",
       "Date                            \n",
       "2017-09-29 -0.004746  0.025779  \n",
       "2017-09-29 -0.017864 -0.001426  \n",
       "2017-09-29 -0.085269 -0.029201  \n",
       "2017-09-29 -0.056231 -0.018816  \n",
       "2017-09-29  0.048438  0.023978  \n",
       "\n",
       "[5 rows x 44 columns]"
      ]
     },
     "execution_count": 118,
     "metadata": {},
     "output_type": "execute_result"
    }
   ],
   "source": [
    "df_with_tfidf_pca.head()"
   ]
  },
  {
   "cell_type": "code",
   "execution_count": 123,
   "metadata": {},
   "outputs": [],
   "source": [
    "from nltk.corpus import stopwords\n",
    "import nltk\n",
    "from nltk import word_tokenize, FreqDist\n",
    "from nltk.stem import WordNetLemmatizer\n",
    "from sklearn.decomposition import PCA\n",
    "from matplotlib import pyplot as plt\n",
    "from gensim.models import Word2Vec\n",
    "import pandas as pd"
   ]
  },
  {
   "cell_type": "code",
   "execution_count": 124,
   "metadata": {},
   "outputs": [
    {
     "name": "stdout",
     "output_type": "stream",
     "text": [
      "<class 'pandas.core.frame.DataFrame'>\n",
      "DatetimeIndex: 3205 entries, 2017-09-29 to 2012-11-16\n",
      "Data columns (total 44 columns):\n",
      "retweet_from         3205 non-null int64\n",
      "tweet_length         3205 non-null int64\n",
      "encoded_sentiment    3205 non-null int64\n",
      "polarity             3205 non-null float64\n",
      "tweet                3205 non-null object\n",
      "pc_1                 3205 non-null float64\n",
      "pc_2                 3205 non-null float64\n",
      "pc_3                 3205 non-null float64\n",
      "pc_4                 3205 non-null float64\n",
      "pc_5                 3205 non-null float64\n",
      "pc_6                 3205 non-null float64\n",
      "pc_7                 3205 non-null float64\n",
      "pc_8                 3205 non-null float64\n",
      "pc_9                 3205 non-null float64\n",
      "pc_10                3205 non-null float64\n",
      "pc_11                3205 non-null float64\n",
      "pc_12                3205 non-null float64\n",
      "pc_13                3205 non-null float64\n",
      "pc_14                3205 non-null float64\n",
      "pc_15                3205 non-null float64\n",
      "pc_16                3205 non-null float64\n",
      "pc_17                3205 non-null float64\n",
      "pc_18                3205 non-null float64\n",
      "pc_19                3205 non-null float64\n",
      "pc_20                3205 non-null float64\n",
      "pc_21                3205 non-null float64\n",
      "pc_22                3205 non-null float64\n",
      "pc_23                3205 non-null float64\n",
      "pc_24                3205 non-null float64\n",
      "pc_25                3205 non-null float64\n",
      "pc_26                3205 non-null float64\n",
      "pc_27                3205 non-null float64\n",
      "pc_28                3205 non-null float64\n",
      "pc_29                3205 non-null float64\n",
      "pc_30                3205 non-null float64\n",
      "pc_31                3205 non-null float64\n",
      "pc_32                3205 non-null float64\n",
      "pc_33                3205 non-null float64\n",
      "pc_34                3205 non-null float64\n",
      "pc_35                3205 non-null float64\n",
      "pc_36                3205 non-null float64\n",
      "pc_37                3205 non-null float64\n",
      "pc_38                3205 non-null float64\n",
      "signal_y             3204 non-null object\n",
      "dtypes: float64(39), int64(3), object(2)\n",
      "memory usage: 1.1+ MB\n"
     ]
    }
   ],
   "source": [
    "# pca = PCA(n_components=38)\n",
    "\n",
    "# tfidf_df = take_2.iloc[:, 6:-1]\n",
    "\n",
    "# tfidf_df.head()\n",
    "\n",
    "# pca.fit(tfidf_df)\n",
    "\n",
    "# x_pca = pca.transform(tfidf_df)\n",
    "# x_pca\n",
    "\n",
    "# x_pca.shape\n",
    "\n",
    "# pca_df = pd.DataFrame(x_pca)\n",
    "\n",
    "# pca_df.head()\n",
    "\n",
    "# labels = []\n",
    "\n",
    "# for i in range(1, 39):\n",
    "#     labels.append('pc_' + str(i))\n",
    "\n",
    "# # labels\n",
    "\n",
    "# pca_df.columns = labels\n",
    "\n",
    "\n",
    "\n",
    "\n",
    "# df_with_tfidf_pca = pd.concat([take_2.iloc[:, :6], pca_df], axis=1)\n",
    "\n",
    "# df_with_tfidf_pca['retweet_from'] = df_with_tfidf_pca['retweet_from'].fillna('not')\n",
    "\n",
    "# df_with_tfidf_pca['retweet_from'] = le.fit_transform(df_with_tfidf_pca['retweet_from'])\n",
    "\n",
    "\n",
    "\n",
    "\n",
    "\n",
    "\n",
    "# df_with_tfidf_pca.drop(columns = ['sentiment'], inplace= True)\n",
    "\n",
    "# df_with_tfidf_pca.info()\n",
    "\n",
    "\n",
    "# le = LabelEncoder()\n",
    "\n",
    "# take_23['retweet_from'] = le.fit_transform(take_23['retweet_from'])\n",
    "\n",
    "# take_23.drop(columns = ['sentiment'], inplace= True)\n",
    "\n",
    "# #Same but with no date\n",
    "# take_23.drop(columns = ['Date'], inplace= True)\n",
    "\n",
    "# #### fixing the tweet column to match cleaned tweets\n",
    "\n",
    "tweets = df_with_tfidf_pca['tweet'].tolist()\n",
    "\n",
    "wordnet_lemmatizer = WordNetLemmatizer()\n",
    "english = set(nltk.corpus.words.words()+ ['yup'])\n",
    "\n",
    "def lemmadata(doc):\n",
    "        pattern = \"([a-zA-Z]+(?:'[a-z]+)?)\"\n",
    "        raw_tokens = nltk.regexp_tokenize(doc, pattern)\n",
    "        tokens = [i.lower() for i in raw_tokens]\n",
    "        lemmatized = [wordnet_lemmatizer.lemmatize(word) for word in tokens]\n",
    "        words = list(filter(lambda w: w in english, lemmatized))\n",
    "        return words\n",
    "\n",
    "lemma = [lemmadata(post) for post in tweets]\n",
    "\n",
    "process_lems = list(map(lemmadata, df_with_tfidf_pca['tweet']))\n",
    "\n",
    "# process_lems[:3]\n",
    "\n",
    "clean_tweets_lem = []\n",
    "\n",
    "for i in range(0, len(process_lems)):\n",
    "    clean = ' '.join(process_lems[i])\n",
    "    clean_tweets_lem.append(clean)\n",
    "\n",
    "# df['B'] = df1['E'].values\n",
    "\n",
    "clean_tweet_df = pd.DataFrame(clean_tweets_lem)\n",
    "\n",
    "# clean_tweet_df.head()\n",
    "\n",
    "clean_tweet_df[0][0]\n",
    "\n",
    "df_with_tfidf_pca['tweet'] = clean_tweet_df[0].values\n",
    "\n",
    "# we added signal to the dataframe\n",
    "df_with_tfidf_pca = pd.concat([df_with_tfidf_pca, take_2.iloc[:,-1]], axis=1)\n",
    "\n",
    "df_with_tfidf_pca.info()"
   ]
  },
  {
   "cell_type": "code",
   "execution_count": 125,
   "metadata": {},
   "outputs": [
    {
     "data": {
      "text/html": [
       "<div>\n",
       "<style scoped>\n",
       "    .dataframe tbody tr th:only-of-type {\n",
       "        vertical-align: middle;\n",
       "    }\n",
       "\n",
       "    .dataframe tbody tr th {\n",
       "        vertical-align: top;\n",
       "    }\n",
       "\n",
       "    .dataframe thead th {\n",
       "        text-align: right;\n",
       "    }\n",
       "</style>\n",
       "<table border=\"1\" class=\"dataframe\">\n",
       "  <thead>\n",
       "    <tr style=\"text-align: right;\">\n",
       "      <th></th>\n",
       "      <th>retweet_from</th>\n",
       "      <th>tweet_length</th>\n",
       "      <th>encoded_sentiment</th>\n",
       "      <th>polarity</th>\n",
       "      <th>tweet</th>\n",
       "      <th>pc_1</th>\n",
       "      <th>pc_2</th>\n",
       "      <th>pc_3</th>\n",
       "      <th>pc_4</th>\n",
       "      <th>pc_5</th>\n",
       "      <th>...</th>\n",
       "      <th>pc_30</th>\n",
       "      <th>pc_31</th>\n",
       "      <th>pc_32</th>\n",
       "      <th>pc_33</th>\n",
       "      <th>pc_34</th>\n",
       "      <th>pc_35</th>\n",
       "      <th>pc_36</th>\n",
       "      <th>pc_37</th>\n",
       "      <th>pc_38</th>\n",
       "      <th>signal_y</th>\n",
       "    </tr>\n",
       "    <tr>\n",
       "      <th>Date</th>\n",
       "      <th></th>\n",
       "      <th></th>\n",
       "      <th></th>\n",
       "      <th></th>\n",
       "      <th></th>\n",
       "      <th></th>\n",
       "      <th></th>\n",
       "      <th></th>\n",
       "      <th></th>\n",
       "      <th></th>\n",
       "      <th></th>\n",
       "      <th></th>\n",
       "      <th></th>\n",
       "      <th></th>\n",
       "      <th></th>\n",
       "      <th></th>\n",
       "      <th></th>\n",
       "      <th></th>\n",
       "      <th></th>\n",
       "      <th></th>\n",
       "      <th></th>\n",
       "    </tr>\n",
       "  </thead>\n",
       "  <tbody>\n",
       "    <tr>\n",
       "      <th>2017-09-29</th>\n",
       "      <td>171</td>\n",
       "      <td>105</td>\n",
       "      <td>1</td>\n",
       "      <td>0.366667</td>\n",
       "      <td>assuming acceleration of to but in a comfortab...</td>\n",
       "      <td>-0.031750</td>\n",
       "      <td>-0.028862</td>\n",
       "      <td>-0.030268</td>\n",
       "      <td>-0.018790</td>\n",
       "      <td>-0.060722</td>\n",
       "      <td>...</td>\n",
       "      <td>-0.034915</td>\n",
       "      <td>-0.030453</td>\n",
       "      <td>0.009013</td>\n",
       "      <td>-0.004715</td>\n",
       "      <td>-0.074266</td>\n",
       "      <td>-0.084025</td>\n",
       "      <td>0.019334</td>\n",
       "      <td>-0.004746</td>\n",
       "      <td>0.025779</td>\n",
       "      <td>down</td>\n",
       "    </tr>\n",
       "    <tr>\n",
       "      <th>2017-09-29</th>\n",
       "      <td>77</td>\n",
       "      <td>113</td>\n",
       "      <td>1</td>\n",
       "      <td>0.200000</td>\n",
       "      <td>is capable of transporting satellite to orbit ...</td>\n",
       "      <td>-0.059331</td>\n",
       "      <td>-0.099826</td>\n",
       "      <td>-0.154760</td>\n",
       "      <td>-0.040333</td>\n",
       "      <td>0.072308</td>\n",
       "      <td>...</td>\n",
       "      <td>-0.015897</td>\n",
       "      <td>0.009704</td>\n",
       "      <td>-0.011633</td>\n",
       "      <td>-0.016697</td>\n",
       "      <td>-0.033227</td>\n",
       "      <td>0.000195</td>\n",
       "      <td>0.011908</td>\n",
       "      <td>-0.017864</td>\n",
       "      <td>-0.001426</td>\n",
       "      <td>down</td>\n",
       "    </tr>\n",
       "    <tr>\n",
       "      <th>2017-09-29</th>\n",
       "      <td>171</td>\n",
       "      <td>6</td>\n",
       "      <td>0</td>\n",
       "      <td>0.000000</td>\n",
       "      <td>yup</td>\n",
       "      <td>-0.002330</td>\n",
       "      <td>0.033960</td>\n",
       "      <td>0.069607</td>\n",
       "      <td>-0.014126</td>\n",
       "      <td>-0.037830</td>\n",
       "      <td>...</td>\n",
       "      <td>0.012970</td>\n",
       "      <td>-0.008978</td>\n",
       "      <td>-0.013865</td>\n",
       "      <td>0.046525</td>\n",
       "      <td>-0.007867</td>\n",
       "      <td>0.041954</td>\n",
       "      <td>-0.034317</td>\n",
       "      <td>-0.085269</td>\n",
       "      <td>-0.029201</td>\n",
       "      <td>down</td>\n",
       "    </tr>\n",
       "    <tr>\n",
       "      <th>2017-09-29</th>\n",
       "      <td>171</td>\n",
       "      <td>7</td>\n",
       "      <td>0</td>\n",
       "      <td>0.000000</td>\n",
       "      <td>part</td>\n",
       "      <td>-0.005050</td>\n",
       "      <td>0.024122</td>\n",
       "      <td>0.043361</td>\n",
       "      <td>-0.001799</td>\n",
       "      <td>-0.016304</td>\n",
       "      <td>...</td>\n",
       "      <td>-0.000544</td>\n",
       "      <td>-0.003106</td>\n",
       "      <td>-0.009162</td>\n",
       "      <td>-0.007540</td>\n",
       "      <td>0.008748</td>\n",
       "      <td>0.016646</td>\n",
       "      <td>-0.003052</td>\n",
       "      <td>-0.056231</td>\n",
       "      <td>-0.018816</td>\n",
       "      <td>down</td>\n",
       "    </tr>\n",
       "    <tr>\n",
       "      <th>2017-09-29</th>\n",
       "      <td>171</td>\n",
       "      <td>96</td>\n",
       "      <td>1</td>\n",
       "      <td>0.650000</td>\n",
       "      <td>fly to most place on earth in under min and an...</td>\n",
       "      <td>-0.031167</td>\n",
       "      <td>-0.027728</td>\n",
       "      <td>-0.012339</td>\n",
       "      <td>-0.039902</td>\n",
       "      <td>-0.070430</td>\n",
       "      <td>...</td>\n",
       "      <td>-0.000036</td>\n",
       "      <td>-0.000197</td>\n",
       "      <td>-0.007578</td>\n",
       "      <td>0.083160</td>\n",
       "      <td>-0.010546</td>\n",
       "      <td>-0.022204</td>\n",
       "      <td>-0.059491</td>\n",
       "      <td>0.048438</td>\n",
       "      <td>0.023978</td>\n",
       "      <td>down</td>\n",
       "    </tr>\n",
       "  </tbody>\n",
       "</table>\n",
       "<p>5 rows × 44 columns</p>\n",
       "</div>"
      ],
      "text/plain": [
       "            retweet_from  tweet_length  encoded_sentiment  polarity  \\\n",
       "Date                                                                  \n",
       "2017-09-29           171           105                  1  0.366667   \n",
       "2017-09-29            77           113                  1  0.200000   \n",
       "2017-09-29           171             6                  0  0.000000   \n",
       "2017-09-29           171             7                  0  0.000000   \n",
       "2017-09-29           171            96                  1  0.650000   \n",
       "\n",
       "                                                        tweet      pc_1  \\\n",
       "Date                                                                      \n",
       "2017-09-29  assuming acceleration of to but in a comfortab... -0.031750   \n",
       "2017-09-29  is capable of transporting satellite to orbit ... -0.059331   \n",
       "2017-09-29                                                yup -0.002330   \n",
       "2017-09-29                                               part -0.005050   \n",
       "2017-09-29  fly to most place on earth in under min and an... -0.031167   \n",
       "\n",
       "                pc_2      pc_3      pc_4      pc_5    ...        pc_30  \\\n",
       "Date                                                  ...                \n",
       "2017-09-29 -0.028862 -0.030268 -0.018790 -0.060722    ...    -0.034915   \n",
       "2017-09-29 -0.099826 -0.154760 -0.040333  0.072308    ...    -0.015897   \n",
       "2017-09-29  0.033960  0.069607 -0.014126 -0.037830    ...     0.012970   \n",
       "2017-09-29  0.024122  0.043361 -0.001799 -0.016304    ...    -0.000544   \n",
       "2017-09-29 -0.027728 -0.012339 -0.039902 -0.070430    ...    -0.000036   \n",
       "\n",
       "               pc_31     pc_32     pc_33     pc_34     pc_35     pc_36  \\\n",
       "Date                                                                     \n",
       "2017-09-29 -0.030453  0.009013 -0.004715 -0.074266 -0.084025  0.019334   \n",
       "2017-09-29  0.009704 -0.011633 -0.016697 -0.033227  0.000195  0.011908   \n",
       "2017-09-29 -0.008978 -0.013865  0.046525 -0.007867  0.041954 -0.034317   \n",
       "2017-09-29 -0.003106 -0.009162 -0.007540  0.008748  0.016646 -0.003052   \n",
       "2017-09-29 -0.000197 -0.007578  0.083160 -0.010546 -0.022204 -0.059491   \n",
       "\n",
       "               pc_37     pc_38  signal_y  \n",
       "Date                                      \n",
       "2017-09-29 -0.004746  0.025779      down  \n",
       "2017-09-29 -0.017864 -0.001426      down  \n",
       "2017-09-29 -0.085269 -0.029201      down  \n",
       "2017-09-29 -0.056231 -0.018816      down  \n",
       "2017-09-29  0.048438  0.023978      down  \n",
       "\n",
       "[5 rows x 44 columns]"
      ]
     },
     "execution_count": 125,
     "metadata": {},
     "output_type": "execute_result"
    }
   ],
   "source": [
    "df_with_tfidf_pca.head()"
   ]
  },
  {
   "cell_type": "code",
   "execution_count": 126,
   "metadata": {},
   "outputs": [],
   "source": [
    "# df_with_tfidf_pca.to_csv(r'/Users/sproul/Desktop/ds-projects/project_mod4_AAR/updated_target_merged_data.csv')"
   ]
  },
  {
   "cell_type": "code",
   "execution_count": 127,
   "metadata": {},
   "outputs": [
    {
     "data": {
      "text/plain": [
       "up      1678\n",
       "down    1526\n",
       "Name: signal_y, dtype: int64"
      ]
     },
     "execution_count": 127,
     "metadata": {},
     "output_type": "execute_result"
    }
   ],
   "source": [
    "df_with_tfidf_pca.signal_y.value_counts()"
   ]
  },
  {
   "cell_type": "code",
   "execution_count": null,
   "metadata": {},
   "outputs": [],
   "source": []
  },
  {
   "cell_type": "code",
   "execution_count": null,
   "metadata": {},
   "outputs": [],
   "source": []
  },
  {
   "cell_type": "code",
   "execution_count": null,
   "metadata": {},
   "outputs": [],
   "source": []
  },
  {
   "cell_type": "code",
   "execution_count": null,
   "metadata": {},
   "outputs": [],
   "source": []
  },
  {
   "cell_type": "code",
   "execution_count": null,
   "metadata": {},
   "outputs": [],
   "source": []
  },
  {
   "cell_type": "code",
   "execution_count": null,
   "metadata": {},
   "outputs": [],
   "source": []
  },
  {
   "cell_type": "code",
   "execution_count": null,
   "metadata": {},
   "outputs": [],
   "source": []
  },
  {
   "cell_type": "code",
   "execution_count": null,
   "metadata": {},
   "outputs": [],
   "source": []
  },
  {
   "cell_type": "code",
   "execution_count": null,
   "metadata": {},
   "outputs": [],
   "source": []
  },
  {
   "cell_type": "code",
   "execution_count": null,
   "metadata": {},
   "outputs": [],
   "source": []
  },
  {
   "cell_type": "code",
   "execution_count": null,
   "metadata": {},
   "outputs": [],
   "source": []
  },
  {
   "cell_type": "code",
   "execution_count": null,
   "metadata": {},
   "outputs": [],
   "source": []
  },
  {
   "cell_type": "code",
   "execution_count": null,
   "metadata": {},
   "outputs": [],
   "source": []
  },
  {
   "cell_type": "code",
   "execution_count": null,
   "metadata": {},
   "outputs": [],
   "source": []
  },
  {
   "cell_type": "code",
   "execution_count": null,
   "metadata": {},
   "outputs": [],
   "source": []
  },
  {
   "cell_type": "code",
   "execution_count": null,
   "metadata": {},
   "outputs": [],
   "source": []
  },
  {
   "cell_type": "code",
   "execution_count": null,
   "metadata": {},
   "outputs": [],
   "source": []
  },
  {
   "cell_type": "code",
   "execution_count": null,
   "metadata": {},
   "outputs": [],
   "source": []
  },
  {
   "cell_type": "code",
   "execution_count": null,
   "metadata": {},
   "outputs": [],
   "source": []
  },
  {
   "cell_type": "code",
   "execution_count": null,
   "metadata": {},
   "outputs": [],
   "source": []
  },
  {
   "cell_type": "code",
   "execution_count": null,
   "metadata": {},
   "outputs": [],
   "source": []
  },
  {
   "cell_type": "code",
   "execution_count": null,
   "metadata": {},
   "outputs": [],
   "source": [
    "# stock.rename(columns={'Unnamed: 0':'Date'}, inplace=True)\n",
    "\n",
    "# stock.shape\n",
    "\n",
    "# stock.head()\n",
    "\n",
    "# text.shape\n",
    "\n",
    "# text.columns\n",
    "\n",
    "# text.head()\n",
    "\n",
    "# stock.set_index('Date', inplace=True)\n",
    "\n",
    "# idx = pd.date_range('2012-11-19', '2017-09-29')\n",
    "\n",
    "# s = pd.Series({'09-02-2013': 2,\n",
    "#                '09-03-2013': 10,\n",
    "#                '09-06-2013': 5,\n",
    "#                '09-07-2013': 1})\n",
    "\n",
    "# s.index = pd.DatetimeIndex(s.index)\n",
    "# s = s.reindex(idx, fill_value='NaN')\n",
    "# print(s)\n",
    "\n",
    "# stock.index = pd.DatetimeIndex(stock.index)\n",
    "\n",
    "# stock = stock.reindex(idx, fill_value='NaN')\n",
    "\n",
    "# stock.index.name = 'Date'\n",
    "\n",
    "\n",
    "# text.rename(columns={'Time':'Date'}, inplace=True)\n",
    "\n",
    "# text.set_index('Date')\n",
    "\n",
    "# stock.head()\n",
    "\n",
    "# take_2 = pd.merge(text, stock, on='Date', how='left')\n",
    "\n",
    "# take_2.shape\n",
    "\n",
    "# take_2.head(10)\n",
    "\n",
    "# take_2.signal_y.value_counts()"
   ]
  }
 ],
 "metadata": {
  "kernelspec": {
   "display_name": "Python 3",
   "language": "python",
   "name": "python3"
  },
  "language_info": {
   "codemirror_mode": {
    "name": "ipython",
    "version": 3
   },
   "file_extension": ".py",
   "mimetype": "text/x-python",
   "name": "python",
   "nbconvert_exporter": "python",
   "pygments_lexer": "ipython3",
   "version": "3.6.7"
  }
 },
 "nbformat": 4,
 "nbformat_minor": 2
}
