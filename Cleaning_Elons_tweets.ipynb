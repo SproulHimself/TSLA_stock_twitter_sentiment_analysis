{
 "cells": [
  {
   "cell_type": "code",
   "execution_count": 92,
   "metadata": {},
   "outputs": [],
   "source": [
    "from sklearn.preprocessing import LabelEncoder\n",
    "from textblob import TextBlob\n",
    "import pandas as pd\n",
    "import numpy as np\n",
    "import re"
   ]
  },
  {
   "cell_type": "code",
   "execution_count": 2,
   "metadata": {},
   "outputs": [],
   "source": [
    "df = pd.read_csv('data_elonmusk.csv', encoding ='latin1')"
   ]
  },
  {
   "cell_type": "code",
   "execution_count": 3,
   "metadata": {},
   "outputs": [],
   "source": [
    "pd.set_option('display.max_colwidth', 1000)"
   ]
  },
  {
   "cell_type": "code",
   "execution_count": 4,
   "metadata": {
    "scrolled": true
   },
   "outputs": [
    {
     "data": {
      "text/html": [
       "<div>\n",
       "<style scoped>\n",
       "    .dataframe tbody tr th:only-of-type {\n",
       "        vertical-align: middle;\n",
       "    }\n",
       "\n",
       "    .dataframe tbody tr th {\n",
       "        vertical-align: top;\n",
       "    }\n",
       "\n",
       "    .dataframe thead th {\n",
       "        text-align: right;\n",
       "    }\n",
       "</style>\n",
       "<table border=\"1\" class=\"dataframe\">\n",
       "  <thead>\n",
       "    <tr style=\"text-align: right;\">\n",
       "      <th></th>\n",
       "      <th>row ID</th>\n",
       "      <th>Tweet</th>\n",
       "      <th>Time</th>\n",
       "      <th>Retweet from</th>\n",
       "      <th>User</th>\n",
       "    </tr>\n",
       "  </thead>\n",
       "  <tbody>\n",
       "    <tr>\n",
       "      <th>0</th>\n",
       "      <td>Row0</td>\n",
       "      <td>@MeltingIce Assuming max acceleration of 2 to 3 g's, but in a comfortable direction. Will feel like a mild to moder? https://t.co/fpjmEgrHfC</td>\n",
       "      <td>2017-09-29 17:39:19</td>\n",
       "      <td>NaN</td>\n",
       "      <td>elonmusk</td>\n",
       "    </tr>\n",
       "    <tr>\n",
       "      <th>1</th>\n",
       "      <td>Row1</td>\n",
       "      <td>RT @SpaceX: BFR is capable of transporting satellites to orbit, crew and cargo to the @Space_Station and completing missions to the Moon an?</td>\n",
       "      <td>2017-09-29 10:44:54</td>\n",
       "      <td>SpaceX</td>\n",
       "      <td>elonmusk</td>\n",
       "    </tr>\n",
       "    <tr>\n",
       "      <th>2</th>\n",
       "      <td>Row2</td>\n",
       "      <td>@bigajm Yup :)</td>\n",
       "      <td>2017-09-29 10:39:57</td>\n",
       "      <td>NaN</td>\n",
       "      <td>elonmusk</td>\n",
       "    </tr>\n",
       "    <tr>\n",
       "      <th>3</th>\n",
       "      <td>Row3</td>\n",
       "      <td>Part 2 https://t.co/8Fvu57muhM</td>\n",
       "      <td>2017-09-29 09:56:12</td>\n",
       "      <td>NaN</td>\n",
       "      <td>elonmusk</td>\n",
       "    </tr>\n",
       "    <tr>\n",
       "      <th>4</th>\n",
       "      <td>Row4</td>\n",
       "      <td>Fly to most places on Earth in under 30 mins and anywhere in under 60. Cost per seat should be? https://t.co/dGYDdGttYd</td>\n",
       "      <td>2017-09-29 09:19:21</td>\n",
       "      <td>NaN</td>\n",
       "      <td>elonmusk</td>\n",
       "    </tr>\n",
       "  </tbody>\n",
       "</table>\n",
       "</div>"
      ],
      "text/plain": [
       "  row ID  \\\n",
       "0   Row0   \n",
       "1   Row1   \n",
       "2   Row2   \n",
       "3   Row3   \n",
       "4   Row4   \n",
       "\n",
       "                                                                                                                                          Tweet  \\\n",
       "0  @MeltingIce Assuming max acceleration of 2 to 3 g's, but in a comfortable direction. Will feel like a mild to moder? https://t.co/fpjmEgrHfC   \n",
       "1  RT @SpaceX: BFR is capable of transporting satellites to orbit, crew and cargo to the @Space_Station and completing missions to the Moon an?   \n",
       "2                                                                                                                                @bigajm Yup :)   \n",
       "3                                                                                                                Part 2 https://t.co/8Fvu57muhM   \n",
       "4                       Fly to most places on Earth in under 30 mins and anywhere in under 60. Cost per seat should be? https://t.co/dGYDdGttYd   \n",
       "\n",
       "                  Time Retweet from      User  \n",
       "0  2017-09-29 17:39:19          NaN  elonmusk  \n",
       "1  2017-09-29 10:44:54       SpaceX  elonmusk  \n",
       "2  2017-09-29 10:39:57          NaN  elonmusk  \n",
       "3  2017-09-29 09:56:12          NaN  elonmusk  \n",
       "4  2017-09-29 09:19:21          NaN  elonmusk  "
      ]
     },
     "execution_count": 4,
     "metadata": {},
     "output_type": "execute_result"
    }
   ],
   "source": [
    "df.head()"
   ]
  },
  {
   "cell_type": "code",
   "execution_count": 5,
   "metadata": {},
   "outputs": [],
   "source": [
    "df.Tweet = df.Tweet.astype(str)"
   ]
  },
  {
   "cell_type": "code",
   "execution_count": 6,
   "metadata": {},
   "outputs": [],
   "source": [
    "tweet_lens = []\n",
    "for tweet in df.Tweet:\n",
    "    tweet_lens.append(len(tweet))"
   ]
  },
  {
   "cell_type": "code",
   "execution_count": 7,
   "metadata": {},
   "outputs": [],
   "source": [
    "df_tweet_len = pd.DataFrame(tweet_lens)"
   ]
  },
  {
   "cell_type": "code",
   "execution_count": 8,
   "metadata": {},
   "outputs": [],
   "source": [
    "df_tweet_len.columns = ['tweet_length']"
   ]
  },
  {
   "cell_type": "code",
   "execution_count": 9,
   "metadata": {},
   "outputs": [
    {
     "data": {
      "text/html": [
       "<div>\n",
       "<style scoped>\n",
       "    .dataframe tbody tr th:only-of-type {\n",
       "        vertical-align: middle;\n",
       "    }\n",
       "\n",
       "    .dataframe tbody tr th {\n",
       "        vertical-align: top;\n",
       "    }\n",
       "\n",
       "    .dataframe thead th {\n",
       "        text-align: right;\n",
       "    }\n",
       "</style>\n",
       "<table border=\"1\" class=\"dataframe\">\n",
       "  <thead>\n",
       "    <tr style=\"text-align: right;\">\n",
       "      <th></th>\n",
       "      <th>tweet_length</th>\n",
       "    </tr>\n",
       "  </thead>\n",
       "  <tbody>\n",
       "    <tr>\n",
       "      <th>0</th>\n",
       "      <td>140</td>\n",
       "    </tr>\n",
       "    <tr>\n",
       "      <th>1</th>\n",
       "      <td>140</td>\n",
       "    </tr>\n",
       "    <tr>\n",
       "      <th>2</th>\n",
       "      <td>14</td>\n",
       "    </tr>\n",
       "    <tr>\n",
       "      <th>3</th>\n",
       "      <td>30</td>\n",
       "    </tr>\n",
       "    <tr>\n",
       "      <th>4</th>\n",
       "      <td>119</td>\n",
       "    </tr>\n",
       "  </tbody>\n",
       "</table>\n",
       "</div>"
      ],
      "text/plain": [
       "   tweet_length\n",
       "0           140\n",
       "1           140\n",
       "2            14\n",
       "3            30\n",
       "4           119"
      ]
     },
     "execution_count": 9,
     "metadata": {},
     "output_type": "execute_result"
    }
   ],
   "source": [
    "df_tweet_len.head()"
   ]
  },
  {
   "cell_type": "code",
   "execution_count": 10,
   "metadata": {},
   "outputs": [],
   "source": [
    "df1 = pd.concat([df, df_tweet_len], axis=1)"
   ]
  },
  {
   "cell_type": "code",
   "execution_count": 11,
   "metadata": {
    "scrolled": true
   },
   "outputs": [
    {
     "data": {
      "text/html": [
       "<div>\n",
       "<style scoped>\n",
       "    .dataframe tbody tr th:only-of-type {\n",
       "        vertical-align: middle;\n",
       "    }\n",
       "\n",
       "    .dataframe tbody tr th {\n",
       "        vertical-align: top;\n",
       "    }\n",
       "\n",
       "    .dataframe thead th {\n",
       "        text-align: right;\n",
       "    }\n",
       "</style>\n",
       "<table border=\"1\" class=\"dataframe\">\n",
       "  <thead>\n",
       "    <tr style=\"text-align: right;\">\n",
       "      <th></th>\n",
       "      <th>row ID</th>\n",
       "      <th>Tweet</th>\n",
       "      <th>Time</th>\n",
       "      <th>Retweet from</th>\n",
       "      <th>User</th>\n",
       "      <th>tweet_length</th>\n",
       "    </tr>\n",
       "  </thead>\n",
       "  <tbody>\n",
       "    <tr>\n",
       "      <th>0</th>\n",
       "      <td>Row0</td>\n",
       "      <td>@MeltingIce Assuming max acceleration of 2 to 3 g's, but in a comfortable direction. Will feel like a mild to moder? https://t.co/fpjmEgrHfC</td>\n",
       "      <td>2017-09-29 17:39:19</td>\n",
       "      <td>NaN</td>\n",
       "      <td>elonmusk</td>\n",
       "      <td>140</td>\n",
       "    </tr>\n",
       "    <tr>\n",
       "      <th>1</th>\n",
       "      <td>Row1</td>\n",
       "      <td>RT @SpaceX: BFR is capable of transporting satellites to orbit, crew and cargo to the @Space_Station and completing missions to the Moon an?</td>\n",
       "      <td>2017-09-29 10:44:54</td>\n",
       "      <td>SpaceX</td>\n",
       "      <td>elonmusk</td>\n",
       "      <td>140</td>\n",
       "    </tr>\n",
       "    <tr>\n",
       "      <th>2</th>\n",
       "      <td>Row2</td>\n",
       "      <td>@bigajm Yup :)</td>\n",
       "      <td>2017-09-29 10:39:57</td>\n",
       "      <td>NaN</td>\n",
       "      <td>elonmusk</td>\n",
       "      <td>14</td>\n",
       "    </tr>\n",
       "    <tr>\n",
       "      <th>3</th>\n",
       "      <td>Row3</td>\n",
       "      <td>Part 2 https://t.co/8Fvu57muhM</td>\n",
       "      <td>2017-09-29 09:56:12</td>\n",
       "      <td>NaN</td>\n",
       "      <td>elonmusk</td>\n",
       "      <td>30</td>\n",
       "    </tr>\n",
       "    <tr>\n",
       "      <th>4</th>\n",
       "      <td>Row4</td>\n",
       "      <td>Fly to most places on Earth in under 30 mins and anywhere in under 60. Cost per seat should be? https://t.co/dGYDdGttYd</td>\n",
       "      <td>2017-09-29 09:19:21</td>\n",
       "      <td>NaN</td>\n",
       "      <td>elonmusk</td>\n",
       "      <td>119</td>\n",
       "    </tr>\n",
       "  </tbody>\n",
       "</table>\n",
       "</div>"
      ],
      "text/plain": [
       "  row ID  \\\n",
       "0   Row0   \n",
       "1   Row1   \n",
       "2   Row2   \n",
       "3   Row3   \n",
       "4   Row4   \n",
       "\n",
       "                                                                                                                                          Tweet  \\\n",
       "0  @MeltingIce Assuming max acceleration of 2 to 3 g's, but in a comfortable direction. Will feel like a mild to moder? https://t.co/fpjmEgrHfC   \n",
       "1  RT @SpaceX: BFR is capable of transporting satellites to orbit, crew and cargo to the @Space_Station and completing missions to the Moon an?   \n",
       "2                                                                                                                                @bigajm Yup :)   \n",
       "3                                                                                                                Part 2 https://t.co/8Fvu57muhM   \n",
       "4                       Fly to most places on Earth in under 30 mins and anywhere in under 60. Cost per seat should be? https://t.co/dGYDdGttYd   \n",
       "\n",
       "                  Time Retweet from      User  tweet_length  \n",
       "0  2017-09-29 17:39:19          NaN  elonmusk           140  \n",
       "1  2017-09-29 10:44:54       SpaceX  elonmusk           140  \n",
       "2  2017-09-29 10:39:57          NaN  elonmusk            14  \n",
       "3  2017-09-29 09:56:12          NaN  elonmusk            30  \n",
       "4  2017-09-29 09:19:21          NaN  elonmusk           119  "
      ]
     },
     "execution_count": 11,
     "metadata": {},
     "output_type": "execute_result"
    }
   ],
   "source": [
    "df1.head()"
   ]
  },
  {
   "cell_type": "code",
   "execution_count": 12,
   "metadata": {},
   "outputs": [],
   "source": [
    "df = df1"
   ]
  },
  {
   "cell_type": "code",
   "execution_count": 13,
   "metadata": {},
   "outputs": [],
   "source": [
    "df.drop(columns=['row ID', 'User'], inplace=True)"
   ]
  },
  {
   "cell_type": "code",
   "execution_count": 14,
   "metadata": {},
   "outputs": [
    {
     "data": {
      "text/html": [
       "<div>\n",
       "<style scoped>\n",
       "    .dataframe tbody tr th:only-of-type {\n",
       "        vertical-align: middle;\n",
       "    }\n",
       "\n",
       "    .dataframe tbody tr th {\n",
       "        vertical-align: top;\n",
       "    }\n",
       "\n",
       "    .dataframe thead th {\n",
       "        text-align: right;\n",
       "    }\n",
       "</style>\n",
       "<table border=\"1\" class=\"dataframe\">\n",
       "  <thead>\n",
       "    <tr style=\"text-align: right;\">\n",
       "      <th></th>\n",
       "      <th>Tweet</th>\n",
       "      <th>Time</th>\n",
       "      <th>Retweet from</th>\n",
       "      <th>tweet_length</th>\n",
       "    </tr>\n",
       "  </thead>\n",
       "  <tbody>\n",
       "    <tr>\n",
       "      <th>0</th>\n",
       "      <td>@MeltingIce Assuming max acceleration of 2 to 3 g's, but in a comfortable direction. Will feel like a mild to moder? https://t.co/fpjmEgrHfC</td>\n",
       "      <td>2017-09-29 17:39:19</td>\n",
       "      <td>NaN</td>\n",
       "      <td>140</td>\n",
       "    </tr>\n",
       "    <tr>\n",
       "      <th>1</th>\n",
       "      <td>RT @SpaceX: BFR is capable of transporting satellites to orbit, crew and cargo to the @Space_Station and completing missions to the Moon an?</td>\n",
       "      <td>2017-09-29 10:44:54</td>\n",
       "      <td>SpaceX</td>\n",
       "      <td>140</td>\n",
       "    </tr>\n",
       "    <tr>\n",
       "      <th>2</th>\n",
       "      <td>@bigajm Yup :)</td>\n",
       "      <td>2017-09-29 10:39:57</td>\n",
       "      <td>NaN</td>\n",
       "      <td>14</td>\n",
       "    </tr>\n",
       "    <tr>\n",
       "      <th>3</th>\n",
       "      <td>Part 2 https://t.co/8Fvu57muhM</td>\n",
       "      <td>2017-09-29 09:56:12</td>\n",
       "      <td>NaN</td>\n",
       "      <td>30</td>\n",
       "    </tr>\n",
       "    <tr>\n",
       "      <th>4</th>\n",
       "      <td>Fly to most places on Earth in under 30 mins and anywhere in under 60. Cost per seat should be? https://t.co/dGYDdGttYd</td>\n",
       "      <td>2017-09-29 09:19:21</td>\n",
       "      <td>NaN</td>\n",
       "      <td>119</td>\n",
       "    </tr>\n",
       "  </tbody>\n",
       "</table>\n",
       "</div>"
      ],
      "text/plain": [
       "                                                                                                                                          Tweet  \\\n",
       "0  @MeltingIce Assuming max acceleration of 2 to 3 g's, but in a comfortable direction. Will feel like a mild to moder? https://t.co/fpjmEgrHfC   \n",
       "1  RT @SpaceX: BFR is capable of transporting satellites to orbit, crew and cargo to the @Space_Station and completing missions to the Moon an?   \n",
       "2                                                                                                                                @bigajm Yup :)   \n",
       "3                                                                                                                Part 2 https://t.co/8Fvu57muhM   \n",
       "4                       Fly to most places on Earth in under 30 mins and anywhere in under 60. Cost per seat should be? https://t.co/dGYDdGttYd   \n",
       "\n",
       "                  Time Retweet from  tweet_length  \n",
       "0  2017-09-29 17:39:19          NaN           140  \n",
       "1  2017-09-29 10:44:54       SpaceX           140  \n",
       "2  2017-09-29 10:39:57          NaN            14  \n",
       "3  2017-09-29 09:56:12          NaN            30  \n",
       "4  2017-09-29 09:19:21          NaN           119  "
      ]
     },
     "execution_count": 14,
     "metadata": {},
     "output_type": "execute_result"
    }
   ],
   "source": [
    "df.head()"
   ]
  },
  {
   "cell_type": "code",
   "execution_count": 15,
   "metadata": {},
   "outputs": [],
   "source": [
    "df = df[['Time', 'Tweet', 'Retweet from', 'tweet_length']]"
   ]
  },
  {
   "cell_type": "code",
   "execution_count": 16,
   "metadata": {},
   "outputs": [
    {
     "data": {
      "text/html": [
       "<div>\n",
       "<style scoped>\n",
       "    .dataframe tbody tr th:only-of-type {\n",
       "        vertical-align: middle;\n",
       "    }\n",
       "\n",
       "    .dataframe tbody tr th {\n",
       "        vertical-align: top;\n",
       "    }\n",
       "\n",
       "    .dataframe thead th {\n",
       "        text-align: right;\n",
       "    }\n",
       "</style>\n",
       "<table border=\"1\" class=\"dataframe\">\n",
       "  <thead>\n",
       "    <tr style=\"text-align: right;\">\n",
       "      <th></th>\n",
       "      <th>Time</th>\n",
       "      <th>Tweet</th>\n",
       "      <th>Retweet from</th>\n",
       "      <th>tweet_length</th>\n",
       "    </tr>\n",
       "  </thead>\n",
       "  <tbody>\n",
       "    <tr>\n",
       "      <th>0</th>\n",
       "      <td>2017-09-29 17:39:19</td>\n",
       "      <td>@MeltingIce Assuming max acceleration of 2 to 3 g's, but in a comfortable direction. Will feel like a mild to moder? https://t.co/fpjmEgrHfC</td>\n",
       "      <td>NaN</td>\n",
       "      <td>140</td>\n",
       "    </tr>\n",
       "    <tr>\n",
       "      <th>1</th>\n",
       "      <td>2017-09-29 10:44:54</td>\n",
       "      <td>RT @SpaceX: BFR is capable of transporting satellites to orbit, crew and cargo to the @Space_Station and completing missions to the Moon an?</td>\n",
       "      <td>SpaceX</td>\n",
       "      <td>140</td>\n",
       "    </tr>\n",
       "    <tr>\n",
       "      <th>2</th>\n",
       "      <td>2017-09-29 10:39:57</td>\n",
       "      <td>@bigajm Yup :)</td>\n",
       "      <td>NaN</td>\n",
       "      <td>14</td>\n",
       "    </tr>\n",
       "    <tr>\n",
       "      <th>3</th>\n",
       "      <td>2017-09-29 09:56:12</td>\n",
       "      <td>Part 2 https://t.co/8Fvu57muhM</td>\n",
       "      <td>NaN</td>\n",
       "      <td>30</td>\n",
       "    </tr>\n",
       "    <tr>\n",
       "      <th>4</th>\n",
       "      <td>2017-09-29 09:19:21</td>\n",
       "      <td>Fly to most places on Earth in under 30 mins and anywhere in under 60. Cost per seat should be? https://t.co/dGYDdGttYd</td>\n",
       "      <td>NaN</td>\n",
       "      <td>119</td>\n",
       "    </tr>\n",
       "  </tbody>\n",
       "</table>\n",
       "</div>"
      ],
      "text/plain": [
       "                  Time  \\\n",
       "0  2017-09-29 17:39:19   \n",
       "1  2017-09-29 10:44:54   \n",
       "2  2017-09-29 10:39:57   \n",
       "3  2017-09-29 09:56:12   \n",
       "4  2017-09-29 09:19:21   \n",
       "\n",
       "                                                                                                                                          Tweet  \\\n",
       "0  @MeltingIce Assuming max acceleration of 2 to 3 g's, but in a comfortable direction. Will feel like a mild to moder? https://t.co/fpjmEgrHfC   \n",
       "1  RT @SpaceX: BFR is capable of transporting satellites to orbit, crew and cargo to the @Space_Station and completing missions to the Moon an?   \n",
       "2                                                                                                                                @bigajm Yup :)   \n",
       "3                                                                                                                Part 2 https://t.co/8Fvu57muhM   \n",
       "4                       Fly to most places on Earth in under 30 mins and anywhere in under 60. Cost per seat should be? https://t.co/dGYDdGttYd   \n",
       "\n",
       "  Retweet from  tweet_length  \n",
       "0          NaN           140  \n",
       "1       SpaceX           140  \n",
       "2          NaN            14  \n",
       "3          NaN            30  \n",
       "4          NaN           119  "
      ]
     },
     "execution_count": 16,
     "metadata": {},
     "output_type": "execute_result"
    }
   ],
   "source": [
    "df.head()"
   ]
  },
  {
   "cell_type": "code",
   "execution_count": 17,
   "metadata": {},
   "outputs": [
    {
     "data": {
      "text/plain": [
       "dtype('O')"
      ]
     },
     "execution_count": 17,
     "metadata": {},
     "output_type": "execute_result"
    }
   ],
   "source": [
    "df.Time.dtypes"
   ]
  },
  {
   "cell_type": "code",
   "execution_count": 18,
   "metadata": {},
   "outputs": [],
   "source": [
    "df['Time'] = pd.to_datetime(df['Time'])"
   ]
  },
  {
   "cell_type": "code",
   "execution_count": 19,
   "metadata": {},
   "outputs": [
    {
     "data": {
      "text/html": [
       "<div>\n",
       "<style scoped>\n",
       "    .dataframe tbody tr th:only-of-type {\n",
       "        vertical-align: middle;\n",
       "    }\n",
       "\n",
       "    .dataframe tbody tr th {\n",
       "        vertical-align: top;\n",
       "    }\n",
       "\n",
       "    .dataframe thead th {\n",
       "        text-align: right;\n",
       "    }\n",
       "</style>\n",
       "<table border=\"1\" class=\"dataframe\">\n",
       "  <thead>\n",
       "    <tr style=\"text-align: right;\">\n",
       "      <th></th>\n",
       "      <th>Time</th>\n",
       "      <th>Tweet</th>\n",
       "      <th>Retweet from</th>\n",
       "      <th>tweet_length</th>\n",
       "    </tr>\n",
       "  </thead>\n",
       "  <tbody>\n",
       "    <tr>\n",
       "      <th>0</th>\n",
       "      <td>2017-09-29 17:39:19</td>\n",
       "      <td>@MeltingIce Assuming max acceleration of 2 to 3 g's, but in a comfortable direction. Will feel like a mild to moder? https://t.co/fpjmEgrHfC</td>\n",
       "      <td>NaN</td>\n",
       "      <td>140</td>\n",
       "    </tr>\n",
       "    <tr>\n",
       "      <th>1</th>\n",
       "      <td>2017-09-29 10:44:54</td>\n",
       "      <td>RT @SpaceX: BFR is capable of transporting satellites to orbit, crew and cargo to the @Space_Station and completing missions to the Moon an?</td>\n",
       "      <td>SpaceX</td>\n",
       "      <td>140</td>\n",
       "    </tr>\n",
       "    <tr>\n",
       "      <th>2</th>\n",
       "      <td>2017-09-29 10:39:57</td>\n",
       "      <td>@bigajm Yup :)</td>\n",
       "      <td>NaN</td>\n",
       "      <td>14</td>\n",
       "    </tr>\n",
       "    <tr>\n",
       "      <th>3</th>\n",
       "      <td>2017-09-29 09:56:12</td>\n",
       "      <td>Part 2 https://t.co/8Fvu57muhM</td>\n",
       "      <td>NaN</td>\n",
       "      <td>30</td>\n",
       "    </tr>\n",
       "    <tr>\n",
       "      <th>4</th>\n",
       "      <td>2017-09-29 09:19:21</td>\n",
       "      <td>Fly to most places on Earth in under 30 mins and anywhere in under 60. Cost per seat should be? https://t.co/dGYDdGttYd</td>\n",
       "      <td>NaN</td>\n",
       "      <td>119</td>\n",
       "    </tr>\n",
       "  </tbody>\n",
       "</table>\n",
       "</div>"
      ],
      "text/plain": [
       "                 Time  \\\n",
       "0 2017-09-29 17:39:19   \n",
       "1 2017-09-29 10:44:54   \n",
       "2 2017-09-29 10:39:57   \n",
       "3 2017-09-29 09:56:12   \n",
       "4 2017-09-29 09:19:21   \n",
       "\n",
       "                                                                                                                                          Tweet  \\\n",
       "0  @MeltingIce Assuming max acceleration of 2 to 3 g's, but in a comfortable direction. Will feel like a mild to moder? https://t.co/fpjmEgrHfC   \n",
       "1  RT @SpaceX: BFR is capable of transporting satellites to orbit, crew and cargo to the @Space_Station and completing missions to the Moon an?   \n",
       "2                                                                                                                                @bigajm Yup :)   \n",
       "3                                                                                                                Part 2 https://t.co/8Fvu57muhM   \n",
       "4                       Fly to most places on Earth in under 30 mins and anywhere in under 60. Cost per seat should be? https://t.co/dGYDdGttYd   \n",
       "\n",
       "  Retweet from  tweet_length  \n",
       "0          NaN           140  \n",
       "1       SpaceX           140  \n",
       "2          NaN            14  \n",
       "3          NaN            30  \n",
       "4          NaN           119  "
      ]
     },
     "execution_count": 19,
     "metadata": {},
     "output_type": "execute_result"
    }
   ],
   "source": [
    "df.head()"
   ]
  },
  {
   "cell_type": "code",
   "execution_count": 20,
   "metadata": {},
   "outputs": [],
   "source": [
    "df.set_index('Time', inplace = True)"
   ]
  },
  {
   "cell_type": "code",
   "execution_count": 21,
   "metadata": {},
   "outputs": [
    {
     "data": {
      "text/html": [
       "<div>\n",
       "<style scoped>\n",
       "    .dataframe tbody tr th:only-of-type {\n",
       "        vertical-align: middle;\n",
       "    }\n",
       "\n",
       "    .dataframe tbody tr th {\n",
       "        vertical-align: top;\n",
       "    }\n",
       "\n",
       "    .dataframe thead th {\n",
       "        text-align: right;\n",
       "    }\n",
       "</style>\n",
       "<table border=\"1\" class=\"dataframe\">\n",
       "  <thead>\n",
       "    <tr style=\"text-align: right;\">\n",
       "      <th></th>\n",
       "      <th>Tweet</th>\n",
       "      <th>Retweet from</th>\n",
       "      <th>tweet_length</th>\n",
       "    </tr>\n",
       "    <tr>\n",
       "      <th>Time</th>\n",
       "      <th></th>\n",
       "      <th></th>\n",
       "      <th></th>\n",
       "    </tr>\n",
       "  </thead>\n",
       "  <tbody>\n",
       "    <tr>\n",
       "      <th>2017-09-29 17:39:19</th>\n",
       "      <td>@MeltingIce Assuming max acceleration of 2 to 3 g's, but in a comfortable direction. Will feel like a mild to moder? https://t.co/fpjmEgrHfC</td>\n",
       "      <td>NaN</td>\n",
       "      <td>140</td>\n",
       "    </tr>\n",
       "    <tr>\n",
       "      <th>2017-09-29 10:44:54</th>\n",
       "      <td>RT @SpaceX: BFR is capable of transporting satellites to orbit, crew and cargo to the @Space_Station and completing missions to the Moon an?</td>\n",
       "      <td>SpaceX</td>\n",
       "      <td>140</td>\n",
       "    </tr>\n",
       "    <tr>\n",
       "      <th>2017-09-29 10:39:57</th>\n",
       "      <td>@bigajm Yup :)</td>\n",
       "      <td>NaN</td>\n",
       "      <td>14</td>\n",
       "    </tr>\n",
       "    <tr>\n",
       "      <th>2017-09-29 09:56:12</th>\n",
       "      <td>Part 2 https://t.co/8Fvu57muhM</td>\n",
       "      <td>NaN</td>\n",
       "      <td>30</td>\n",
       "    </tr>\n",
       "    <tr>\n",
       "      <th>2017-09-29 09:19:21</th>\n",
       "      <td>Fly to most places on Earth in under 30 mins and anywhere in under 60. Cost per seat should be? https://t.co/dGYDdGttYd</td>\n",
       "      <td>NaN</td>\n",
       "      <td>119</td>\n",
       "    </tr>\n",
       "  </tbody>\n",
       "</table>\n",
       "</div>"
      ],
      "text/plain": [
       "                                                                                                                                                            Tweet  \\\n",
       "Time                                                                                                                                                                \n",
       "2017-09-29 17:39:19  @MeltingIce Assuming max acceleration of 2 to 3 g's, but in a comfortable direction. Will feel like a mild to moder? https://t.co/fpjmEgrHfC   \n",
       "2017-09-29 10:44:54  RT @SpaceX: BFR is capable of transporting satellites to orbit, crew and cargo to the @Space_Station and completing missions to the Moon an?   \n",
       "2017-09-29 10:39:57                                                                                                                                @bigajm Yup :)   \n",
       "2017-09-29 09:56:12                                                                                                                Part 2 https://t.co/8Fvu57muhM   \n",
       "2017-09-29 09:19:21                       Fly to most places on Earth in under 30 mins and anywhere in under 60. Cost per seat should be? https://t.co/dGYDdGttYd   \n",
       "\n",
       "                    Retweet from  tweet_length  \n",
       "Time                                            \n",
       "2017-09-29 17:39:19          NaN           140  \n",
       "2017-09-29 10:44:54       SpaceX           140  \n",
       "2017-09-29 10:39:57          NaN            14  \n",
       "2017-09-29 09:56:12          NaN            30  \n",
       "2017-09-29 09:19:21          NaN           119  "
      ]
     },
     "execution_count": 21,
     "metadata": {},
     "output_type": "execute_result"
    }
   ],
   "source": [
    "df.head()"
   ]
  },
  {
   "cell_type": "code",
   "execution_count": 22,
   "metadata": {},
   "outputs": [
    {
     "name": "stdout",
     "output_type": "stream",
     "text": [
      "<class 'pandas.core.frame.DataFrame'>\n",
      "DatetimeIndex: 3218 entries, 2017-09-29 17:39:19 to 2012-11-16 17:59:47\n",
      "Data columns (total 3 columns):\n",
      "Tweet           3218 non-null object\n",
      "Retweet from    525 non-null object\n",
      "tweet_length    3218 non-null int64\n",
      "dtypes: int64(1), object(2)\n",
      "memory usage: 100.6+ KB\n"
     ]
    }
   ],
   "source": [
    "df.info()"
   ]
  },
  {
   "cell_type": "code",
   "execution_count": 23,
   "metadata": {},
   "outputs": [],
   "source": [
    "xxx = df.Tweet[0]"
   ]
  },
  {
   "cell_type": "code",
   "execution_count": 24,
   "metadata": {},
   "outputs": [
    {
     "data": {
      "text/plain": [
       "\"@MeltingIce Assuming max acceleration of 2 to 3 g's, but in a comfortable direction. Will feel like a mild to moder? https://t.co/fpjmEgrHfC\""
      ]
     },
     "execution_count": 24,
     "metadata": {},
     "output_type": "execute_result"
    }
   ],
   "source": [
    "xxx"
   ]
  },
  {
   "cell_type": "code",
   "execution_count": 25,
   "metadata": {},
   "outputs": [],
   "source": [
    "tweet_list = df.Tweet.tolist()"
   ]
  },
  {
   "cell_type": "code",
   "execution_count": 26,
   "metadata": {},
   "outputs": [
    {
     "data": {
      "text/plain": [
       "\"@MeltingIce Assuming max acceleration of 2 to 3 g's, but in a comfortable direction. Will feel like a mild to moder? https://t.co/fpjmEgrHfC\""
      ]
     },
     "execution_count": 26,
     "metadata": {},
     "output_type": "execute_result"
    }
   ],
   "source": [
    "tweet_list[0]"
   ]
  },
  {
   "cell_type": "code",
   "execution_count": 27,
   "metadata": {},
   "outputs": [],
   "source": [
    "def clean_tweet_http(dirty_string):\n",
    "    sep = \"https://\" \n",
    "    if sep in dirty_string:\n",
    "        clean = dirty_string.split(sep, 1)[0]\n",
    "    else:\n",
    "        clean = dirty_string\n",
    "    return clean"
   ]
  },
  {
   "cell_type": "code",
   "execution_count": 28,
   "metadata": {},
   "outputs": [],
   "source": [
    "clean_tweets1 = []\n",
    "\n",
    "for i in range(0, len(tweet_list)):\n",
    "    x = clean_tweet_http(tweet_list[i])\n",
    "    clean_tweets1.append(x)"
   ]
  },
  {
   "cell_type": "code",
   "execution_count": 29,
   "metadata": {},
   "outputs": [
    {
     "data": {
      "text/plain": [
       "[\"@MeltingIce Assuming max acceleration of 2 to 3 g's, but in a comfortable direction. Will feel like a mild to moder? \",\n",
       " 'RT @SpaceX: BFR is capable of transporting satellites to orbit, crew and cargo to the @Space_Station and completing missions to the Moon an?',\n",
       " '@bigajm Yup :)',\n",
       " 'Part 2 ',\n",
       " 'Fly to most places on Earth in under 30 mins and anywhere in under 60. Cost per seat should be? ',\n",
       " 'RT @SpaceX: Supporting the creation of a permanent, self-sustaining human presence on Mars. ',\n",
       " 'BFR will take you anywhere on Earth in less than 60 mins ',\n",
       " 'Mars City\\nOpposite of Earth. Dawn and dusk sky are blue on Mars and day sky is red. ',\n",
       " 'Moon Base Alpha ',\n",
       " \"Will be announcing something really special at today's talk \"]"
      ]
     },
     "execution_count": 29,
     "metadata": {},
     "output_type": "execute_result"
    }
   ],
   "source": [
    "clean_tweets1[:10]"
   ]
  },
  {
   "cell_type": "code",
   "execution_count": 30,
   "metadata": {},
   "outputs": [
    {
     "data": {
      "text/plain": [
       "'BFR is capable of transporting satellites to orbit, crew and cargo to the @Space_Station and completing missions to the Moon an?'"
      ]
     },
     "execution_count": 30,
     "metadata": {},
     "output_type": "execute_result"
    }
   ],
   "source": [
    "# JUST TESTING\n",
    "xxx = clean_tweets1[1]\n",
    "\n",
    "result = re.sub('RT @([A-Za-z0-9_]+\\:) ', '', xxx)\n",
    "result\n",
    "\n",
    "\n",
    "# 'RT @([A-Za-z0-9_]+) '"
   ]
  },
  {
   "cell_type": "code",
   "execution_count": 31,
   "metadata": {},
   "outputs": [
    {
     "data": {
      "text/plain": [
       "'RT @SpaceX: BFR is capable of transporting satellites to orbit, crew and cargo to the and completing missions to the Moon an?'"
      ]
     },
     "execution_count": 31,
     "metadata": {},
     "output_type": "execute_result"
    }
   ],
   "source": [
    "result = re.sub('@([A-Za-z0-9_]+) ', '', xxx)\n",
    "result"
   ]
  },
  {
   "cell_type": "code",
   "execution_count": 32,
   "metadata": {},
   "outputs": [],
   "source": [
    "# def clean_tweet_usernames(dirty_string):\n",
    "#     sep = \"https://\" \n",
    "#     if sep in dirty_string:\n",
    "#         clean = dirty_string.split(sep, 1)[0]\n",
    "#     else:\n",
    "#         clean = dirty_string\n",
    "#     return clean"
   ]
  },
  {
   "cell_type": "code",
   "execution_count": 33,
   "metadata": {},
   "outputs": [],
   "source": [
    "clean_tweets2 = []\n",
    "\n",
    "# for i in range(0, len(clean_tweets1)):\n",
    "for tweet in clean_tweets1:\n",
    "    result = re.sub('@([A-Za-z0-9_]+) ', '', tweet)\n",
    "    clean_tweets2.append(result)"
   ]
  },
  {
   "cell_type": "code",
   "execution_count": 34,
   "metadata": {
    "scrolled": false
   },
   "outputs": [
    {
     "data": {
      "text/plain": [
       "[\"Assuming max acceleration of 2 to 3 g's, but in a comfortable direction. Will feel like a mild to moder? \",\n",
       " 'RT @SpaceX: BFR is capable of transporting satellites to orbit, crew and cargo to the and completing missions to the Moon an?',\n",
       " 'Yup :)',\n",
       " 'Part 2 ',\n",
       " 'Fly to most places on Earth in under 30 mins and anywhere in under 60. Cost per seat should be? ',\n",
       " 'RT @SpaceX: Supporting the creation of a permanent, self-sustaining human presence on Mars. ',\n",
       " 'BFR will take you anywhere on Earth in less than 60 mins ',\n",
       " 'Mars City\\nOpposite of Earth. Dawn and dusk sky are blue on Mars and day sky is red. ',\n",
       " 'Moon Base Alpha ',\n",
       " \"Will be announcing something really special at today's talk \"]"
      ]
     },
     "execution_count": 34,
     "metadata": {},
     "output_type": "execute_result"
    }
   ],
   "source": [
    "clean_tweets2[:10]"
   ]
  },
  {
   "cell_type": "code",
   "execution_count": 35,
   "metadata": {},
   "outputs": [],
   "source": [
    "clean_tweets3 = []\n",
    "\n",
    "# for i in range(0, len(clean_tweets1)):\n",
    "for tweet in clean_tweets2:\n",
    "    result = re.sub('RT @([A-Za-z0-9_]+\\:) ', '', tweet)\n",
    "    clean_tweets3.append(result)"
   ]
  },
  {
   "cell_type": "code",
   "execution_count": 36,
   "metadata": {},
   "outputs": [
    {
     "data": {
      "text/plain": [
       "'Mars City Opposite of Earth. Dawn and dusk sky are blue on Mars and day sky is red. '"
      ]
     },
     "execution_count": 36,
     "metadata": {},
     "output_type": "execute_result"
    }
   ],
   "source": [
    "# JUST TESTING\n",
    "zzz = clean_tweets3[7]\n",
    "\n",
    "result = re.sub('\\n', ' ', zzz)\n",
    "result\n",
    "\n",
    "\n",
    "# 'RT @([A-Za-z0-9_]+) '"
   ]
  },
  {
   "cell_type": "code",
   "execution_count": 37,
   "metadata": {},
   "outputs": [],
   "source": [
    "clean_tweets4 = []\n",
    "\n",
    "for tweet in clean_tweets3:\n",
    "    result = re.sub('\\n', ' ', tweet)\n",
    "    clean_tweets4.append(result)"
   ]
  },
  {
   "cell_type": "code",
   "execution_count": 38,
   "metadata": {
    "scrolled": true
   },
   "outputs": [],
   "source": [
    "# clean_tweets4[:25] ' https:?'"
   ]
  },
  {
   "cell_type": "code",
   "execution_count": 39,
   "metadata": {},
   "outputs": [],
   "source": [
    "clean_tweets5 = []\n",
    "\n",
    "for tweet in clean_tweets4:\n",
    "    result = re.sub(' https:?', '', tweet)\n",
    "    clean_tweets5.append(result)"
   ]
  },
  {
   "cell_type": "code",
   "execution_count": 40,
   "metadata": {},
   "outputs": [
    {
     "data": {
      "text/plain": [
       "'Headed to Adelaide soon to describe new BFR planetary colonizer design in detail . This should be worth seeing. Design feels right.'"
      ]
     },
     "execution_count": 40,
     "metadata": {},
     "output_type": "execute_result"
    }
   ],
   "source": [
    "# JUST TESTING\n",
    "aaa = clean_tweets5[15]\n",
    "result = re.sub('@([A-Za-z0-9_]+)', '', aaa)\n",
    "result"
   ]
  },
  {
   "cell_type": "code",
   "execution_count": 41,
   "metadata": {},
   "outputs": [],
   "source": [
    "clean_tweets6 = []\n",
    "\n",
    "for tweet in clean_tweets5:\n",
    "    result = re.sub('@([A-Za-z0-9_]+)', '', tweet)\n",
    "    clean_tweets6.append(result)"
   ]
  },
  {
   "cell_type": "code",
   "execution_count": 42,
   "metadata": {},
   "outputs": [
    {
     "data": {
      "text/plain": [
       "\".I'm so excited to say that I'm now officially a COVERGIRL, at 69! Beauty is for all ages. \""
      ]
     },
     "execution_count": 42,
     "metadata": {},
     "output_type": "execute_result"
    }
   ],
   "source": [
    "# JUST TESTING\n",
    "qqq = clean_tweets6[13]\n",
    "result = re.sub('\\s([#][\\w_-]+)', '', qqq)\n",
    "result"
   ]
  },
  {
   "cell_type": "code",
   "execution_count": 43,
   "metadata": {},
   "outputs": [],
   "source": [
    "clean_tweets7 = []\n",
    "\n",
    "for tweet in clean_tweets6:\n",
    "    result = re.sub('\\s([#][\\w_-]+)', '', tweet)\n",
    "    clean_tweets7.append(result)"
   ]
  },
  {
   "cell_type": "code",
   "execution_count": 44,
   "metadata": {},
   "outputs": [],
   "source": [
    "clean_tweets8 = []\n",
    "\n",
    "for tweet in clean_tweets7:\n",
    "    result = re.sub('([#][\\w_-]+)', '', tweet)\n",
    "    clean_tweets8.append(result)"
   ]
  },
  {
   "cell_type": "code",
   "execution_count": 45,
   "metadata": {},
   "outputs": [
    {
     "data": {
      "text/plain": [
       "[\"Assuming max acceleration of 2 to 3 g's, but in a comfortable direction. Will feel like a mild to moder? \",\n",
       " 'BFR is capable of transporting satellites to orbit, crew and cargo to the and completing missions to the Moon an?',\n",
       " 'Yup :)',\n",
       " 'Part 2 ',\n",
       " 'Fly to most places on Earth in under 30 mins and anywhere in under 60. Cost per seat should be? ',\n",
       " 'Supporting the creation of a permanent, self-sustaining human presence on Mars. ',\n",
       " 'BFR will take you anywhere on Earth in less than 60 mins ',\n",
       " 'Mars City Opposite of Earth. Dawn and dusk sky are blue on Mars and day sky is red. ',\n",
       " 'Moon Base Alpha ',\n",
       " \"Will be announcing something really special at today's talk \"]"
      ]
     },
     "execution_count": 45,
     "metadata": {},
     "output_type": "execute_result"
    }
   ],
   "source": [
    "clean_tweets8[:10]"
   ]
  },
  {
   "cell_type": "code",
   "execution_count": 46,
   "metadata": {},
   "outputs": [],
   "source": [
    "def clean_tweet(tweet):\n",
    "    return ' '.join(re.sub(\"(@[A-Za-z0-9]+)|([^0-9A-Za-z \\t])|(\\w+:\\/\\/\\S+)\", \" \", tweet).split())"
   ]
  },
  {
   "cell_type": "code",
   "execution_count": 47,
   "metadata": {},
   "outputs": [
    {
     "data": {
      "text/plain": [
       "'My Model S just arrived and I went electric like Dylan! '"
      ]
     },
     "execution_count": 47,
     "metadata": {},
     "output_type": "execute_result"
    }
   ],
   "source": [
    "result"
   ]
  },
  {
   "cell_type": "code",
   "execution_count": 48,
   "metadata": {},
   "outputs": [],
   "source": [
    "x1 = clean_tweet(result.lower())"
   ]
  },
  {
   "cell_type": "code",
   "execution_count": 49,
   "metadata": {},
   "outputs": [],
   "source": [
    "def get_tweet_sentiment(tweet):\n",
    "    \n",
    "    analysis = TextBlob(clean_tweet(tweet.lower())) \n",
    "        # set sentiment \n",
    "    if analysis.sentiment.polarity > 0: \n",
    "        return 'positive', analysis.sentiment.polarity\n",
    "    elif analysis.sentiment.polarity == 0: \n",
    "        return 'neutral', analysis.sentiment.polarity\n",
    "    else: \n",
    "        return 'negative', analysis.sentiment.polarity"
   ]
  },
  {
   "cell_type": "code",
   "execution_count": 50,
   "metadata": {},
   "outputs": [
    {
     "data": {
      "text/plain": [
       "('neutral', 0.0)"
      ]
     },
     "execution_count": 50,
     "metadata": {},
     "output_type": "execute_result"
    }
   ],
   "source": [
    "get_tweet_sentiment(result)"
   ]
  },
  {
   "cell_type": "code",
   "execution_count": 51,
   "metadata": {},
   "outputs": [
    {
     "data": {
      "text/plain": [
       "[\"Assuming max acceleration of 2 to 3 g's, but in a comfortable direction. Will feel like a mild to moder? \",\n",
       " 'BFR is capable of transporting satellites to orbit, crew and cargo to the and completing missions to the Moon an?',\n",
       " 'Yup :)',\n",
       " 'Part 2 ',\n",
       " 'Fly to most places on Earth in under 30 mins and anywhere in under 60. Cost per seat should be? ',\n",
       " 'Supporting the creation of a permanent, self-sustaining human presence on Mars. ',\n",
       " 'BFR will take you anywhere on Earth in less than 60 mins ',\n",
       " 'Mars City Opposite of Earth. Dawn and dusk sky are blue on Mars and day sky is red. ',\n",
       " 'Moon Base Alpha ',\n",
       " \"Will be announcing something really special at today's talk \",\n",
       " 'Nine years ago today, Falcon 1 became the first privately developed liquid fuel rocket to orbit Earth. ',\n",
       " 'Just another day in the office',\n",
       " 'Congrats Mom! I love you.',\n",
       " \".I'm so excited to say that I'm now officially a COVERGIRL, at 69! Beauty is for all ages. \",\n",
       " 'Prev ideas for paying ~$10B dev cost incl. Kickstarter & collecting underpants, which turned out to be um... less lucrative than expected',\n",
       " 'Headed to Adelaide soon to describe new BFR planetary colonizer design in detail . This should be worth seeing. Design feels right.',\n",
       " 'Yes, I did :)',\n",
       " 'Good NYT article from several years ago about the value of fiction ',\n",
       " 'Yes',\n",
       " 'Simulation of how the SpaceX Interplanetary Spaceship and Rocket design would work. Will be? ',\n",
       " 'Good',\n",
       " 'Major improvements & some unexpected applications to be unveiled on Friday at in Australia',\n",
       " 'Presentation of Interplanetary Spaceship & Rocket design from 2016 ',\n",
       " \"That's not a lot of money for a giant like Daimler/Mercedes. Wish they'd do more. Off by a zero.\",\n",
       " \"Shocking winner of our latest, World's Greatest Drag Race 7! Maybe even? \",\n",
       " \"Don't give up if the cause is important enough, even if you believe you are walking into doom. Good friends really matter.\",\n",
       " 'Absolutely. Moreover, we expect to expand the facility significantly over time.',\n",
       " 'Does my hivemind count as me?',\n",
       " 'Def not ok. Just sent a reminder to Tesla stores that we just want people to look forward to their nex? ',\n",
       " 'In discussions with national govt. Just need a temporary reprieve on local content requirements un? ',\n",
       " 'What if we just made a mini version of the Tesla Semi?',\n",
       " 'Of course :)',\n",
       " 'High res version at ',\n",
       " 'Most of it',\n",
       " 'Long road to reusabity of Falcon 9 primary boost stage?When upper stage & fairing also reusable, costs will drop by? ',\n",
       " 'Actually ... yes',\n",
       " \"Tesla Semi truck unveil & test ride tentatively scheduled for Oct 26th in Hawthorne. Worth seeing this beast in person. It's unreal.\",\n",
       " 'Promise to be as boring as possible!',\n",
       " 'During Irma?s power outages, some houses kept the lights on with solar and batteries ',\n",
       " 'Hackers have already started to weaponize artificial intelligence ',\n",
       " 'Yes',\n",
       " 'Supercharging Cities ',\n",
       " 'Exactly',\n",
       " 'Astronaut spacesuit next to Crew Dragon ',\n",
       " 'More photos from today?s Falcon 9 launch and first stage landing ? ',\n",
       " \"Our new Supercharger route in South Australia will soon allow Tesla owners to visit the world's largest battery site?\",\n",
       " 'Fun, exciting tweets coming soon!',\n",
       " \"Sorry about that. You're right. I was depressing myself too :(\",\n",
       " \"Govts don't need to follow normal laws. They will obtain AI developed by companies at gunpoint, if necessary.\",\n",
       " 'Should be low on our list of concerns for civilizational existential risk. NK has no entangling alliances? ',\n",
       " 'NK launching a nuclear missile would be suicide for their leadership, as SK, US and China wd invade and? ',\n",
       " \"May be initiated not by the country leaders, but one of the AI's, if it decides that a prepemptive st? \",\n",
       " 'China, Russia, soon all countries w strong computer science. Competition for AI superiority at national level most likely cause of WW3 imo.',\n",
       " 'Zeroth Law',\n",
       " 'It begins ... ',\n",
       " \"Putting together SpaceX rocket landing blooper reel. We messed up a lot before it finally worked, but there's some epic explosion footage ?\",\n",
       " 'Not a bad idea. For sure, it makes sense to test AI for safety in some kind of open world / sandbox virtual world.',\n",
       " 'In about six months or so. Linked to dual motor config.',\n",
       " 'We took the SpaceX/Tesla Hyperloop pusher pod for a spin by itself a few days ago to see what it? ',\n",
       " 'Tunnels are sealed to 5 atmospheres of water & gas pressure. Just need walls around the apertures.',\n",
       " \"We're hiring strong ML/CV/Roboticists for the Tesla Autopilot Vision team. We ship autonomy at scale. Join us: vision.c?\",\n",
       " 'Not sure, but probably',\n",
       " 'Feature coming soon',\n",
       " \"They're so real. Anyone going to that much trouble must really care. I'd gladly follow their comma? \",\n",
       " \"That's pretty much why we did it\",\n",
       " 'Worth reading Life 3.0 by . AI will be the best or worst thing ever for humanity, so let?s get it right. ',\n",
       " 'Hyperloop (near) vacuum tube runs parallel to SpaceX on Jack Northrop Blvd. It is 0.8 miles long and ju? ',\n",
       " \"To be clear, a Hyperloop passenger version wouldn't have intense light strobe effect (just for testing), nor uncomfortable acceleration\",\n",
       " 'Brakes',\n",
       " '',\n",
       " 'Will run the SpaceX pusher sled later this week and see what it can do',\n",
       " 'Moon base alpha (cheesy show, but I loved it) plus Mars',\n",
       " 'Not that this is remotely equiv to man on the moon, but there is a world? ',\n",
       " 'Actually, no, his architecture was different. Also, thinking of going to? ',\n",
       " 'Hyperloop pod run by team WARR ',\n",
       " \"The AI could def find us there, but maybe it won't care\",\n",
       " 'A Model S in The Boring Company tunnel being dug under Los Angeles (starting in Hawthorne) ',\n",
       " 'Yes, it is',\n",
       " 'A tiny one',\n",
       " 'Btw, high accel only needed because tube is short. For passenger transport, this can be spread over 20+ miles, so no spilt drinks.',\n",
       " 'No such thing as true vacuum, so actually yes',\n",
       " 'Call it ~800mph',\n",
       " \"Might be possible to go supersonic in our test Hyperloop tube, even though it's only 0.8 miles long. Very high accel/decel needed ?\",\n",
       " 'Congratulations to WARR team from Tech Univ Munich for winning 2nd competition! Peak speed of 324 km/h, which is over 200 mph!!',\n",
       " 'Just arrived at the competition final. Student teams have amazing talent!',\n",
       " 'I hope they and any others trying to advance transport technology succeed',\n",
       " \"Exactly. Wouldn't let anyone invest more than a token amount in early rounds? \",\n",
       " '',\n",
       " 'Sorry! Coming next year, along with completing the Trans-Canada Highway and interconnecting US, Mexico and Central America.',\n",
       " 'Funny thing is, whenever I suggest all companies go to zero incentives, room gets very? ',\n",
       " 'Literally zero incentive laws were put into place by my companies. Zero. Others put the? ',\n",
       " \"I'm not an investor. Just believe in putting money into my own companies. Don't think the OPM approach is right.\",\n",
       " 'The latter. There are pretty long gaps betw? ',\n",
       " 'From last year, but still my favorite video of the Falcon 9 rocket booster returning from space? ',\n",
       " 'SpaceX and The Boring Company are running the Hyperloop competition',\n",
       " 'Top 3 teams launching their pods on the ~mile long vacuum track at ?s HQ today: , and WARR H?',\n",
       " \"Tesla does not really have TTunes. That's a joke.\",\n",
       " 'Will be hanging with my little chum, Gary, on Sunday',\n",
       " 'Let me check on that for you. Found the answer right here: ??',\n",
       " 'It was misinterpreted by Rolfe at WSJ as a fundraising effort. Neuralink is not seeking investors.',\n",
       " \"WSJ has been laboriously negative for over a decade. I'm surprised they haven't bored the? \",\n",
       " 'Neuralink is not raising money',\n",
       " 'Max recovered booster velocity was Mach 7.9 (BulgarianSat). Energy is velocity squared, so this is a bigger difference than it appears',\n",
       " 'Max velocity: Mach 6.9 Max altitude: 247 km Highest so far, but velocity matters much more',\n",
       " 'Probably 2m or so',\n",
       " 'Exactly. Yeah.',\n",
       " 'Intentionally? Yes',\n",
       " 'It is approximately the size of a carrot',\n",
       " 'Touchdown: Vertical Velocity (m/s): -1.47  Lateral Velocity  (m/s): -0.15  Tilt (deg):  0.40 ? Lateral position: 0.7m from target center',\n",
       " 'Falcon 9 boost stage on droneship Just Read the Instructions ',\n",
       " 'Successful deployment of FORMOSAT-5 to low-Earth orbit confirmed. ',\n",
       " 'A midnight amendment, followed by a vigorously opposed subpoena. Someone has been naughty ? ',\n",
       " 'I played those games :)',\n",
       " \"That's a SpaceX engineer in there, not me\",\n",
       " 'New Model X SUV now faster than a $500k Lamborghini ',\n",
       " \"Yeah. It's kinda disgusting, but my boys and I love it :)\",\n",
       " 'Tesla unlocks ?Level 2? referral program prize: Drive an electric tunnel boring machine with The Boring Company - ',\n",
       " 'First picture of SpaceX spacesuit. More in days to follow. Worth noting that this actually works? ',\n",
       " 'I would say that is the greatest publication in the history of all conscious beings, living or dead',\n",
       " \"I'm not the CEO of Ball Mason Jars. Also, not judging ?\",\n",
       " \"Was at a friend's party this weekend and drank wine from a mason jar \",\n",
       " \"I can't hide the truth any more ?\",\n",
       " \"Mars is looking pretty good right now, no? Meet the woman ('s right hand ) working to get us there \",\n",
       " 'Yes :)',\n",
       " 'Watching eclipse with sunglasses on through the Model S glass roof. Wow!',\n",
       " 'SpaceX rocket factory as seen from space ',\n",
       " 'Yeah, but not a priority right now',\n",
       " \"I'm not coming for anything. Just digging some tunnels and might draw a vacuum on some of them.\",\n",
       " 'We are going to move all info and settings to the cloud (aka server) so any Tesla you drive in the world? ',\n",
       " 'Pics of SpaceX spacesuit developed for NASA commercial crew program coming out next week. Undergoing ocean landing mobility/safety tests.',\n",
       " 'Totally agree. This was a foolish oversight.',\n",
       " 'At some point. Features are prioritized by importance * number of owners likely to benefit.',\n",
       " \"Yeah. That's been on the future feature list for a while. Need to make sure rain sensor doesn't false positive or drain battery.\",\n",
       " 'Will prob do something like that',\n",
       " 'Problem is possible impact on curbs or ground objects with the car itself or door swing arc',\n",
       " 'Will do. Also, we need to make it a lot easier to adjust the headrest.',\n",
       " 'Yeah, it should probably automatically adjust to the user config of whoever is closest to? ',\n",
       " 'Good point. We will add that to all cars in one of the upcoming software releases.',\n",
       " 'I love Kermit',\n",
       " \"But you can check it out on . Btw, this isn't a video, like cliff diving or fake rocket landings, that matters if it's reversed.\",\n",
       " 'Wigs me out too much. Deleting ...',\n",
       " 'Yes, just that the permitting process is slow',\n",
       " 'I want one too!',\n",
       " 'Tesla Powerwalls can support houses of any size, but the cool thing is we can tow this house around with a Model X! ',\n",
       " 'The danger is def high for South Korea, due to proximity, but much less for distant targets lik? ',\n",
       " \"We certainly could, but, while not suggesting complacency, I'm confident that the US DoD and in? \",\n",
       " 'Quick video recap of Falcon 9 launch of Dragon for its twelfth resupply mission. ',\n",
       " \"Science & supplies are headed to the following the 12:31pm ET launch of 's spacecraft: \",\n",
       " '12th mission of our Dragon robotic space freighter in support of the ',\n",
       " 'First draft animation of the Falcon Heavy three core launch. FH is twice the thrust of the next? ',\n",
       " 'For sure',\n",
       " \"Biggest impediment to recognizing AI danger are those so convinced of their own intelligence they can't? \",\n",
       " 'Would like to express our appreciation to Microsoft for use of their Azure cloud computing platform. This required massive processing power.',\n",
       " 'OpenAI + Dota 2 ',\n",
       " \"It is far too complex for that. Requires a team of the world's best AI researchers with massive computing resources.\",\n",
       " \"Nobody likes being regulated, but everything (cars, planes, food, drugs, etc) that's a danger to the public is regulated. AI should be too.\",\n",
       " \"I sure hope so, but we can't take that for granted\",\n",
       " \"If you're not concerned about AI safety, you should be. Vastly more risk than North Korea. \",\n",
       " \"OpenAI first ever to defeat world's best players in competitive eSports. Vastly more complex than traditional board games like chess & Go.\",\n",
       " \"Our Dota 2 AI is undefeated against the world's best solo players: \",\n",
       " 'In a few minutes, watch our Dota 2 AI play live on main stage at The International: ',\n",
       " 'Coming soon ...',\n",
       " 'Hi Mom!',\n",
       " 'A level 9 orc illusionist and dressmaker',\n",
       " 'This is about as true as TIME being a paragon of great journalism. Please spend at least 8 seconds checking your facts.',\n",
       " \"Just because I have the outfit and the awesome weapons doesn't make me a ninja. That requires years of training.\",\n",
       " \"There are dozens of bogus or half-true anecdotes don't really matter & maybe 5 to 10 t? \",\n",
       " \"One other I'd like to correct from the biography: I never said I was a samurai. Said I was ninja.? \",\n",
       " 'MB was given 52 weeks of salary & stock in appreciation for her great contribution & left to join? ',\n",
       " 'Mary Beth was an amazing assistant for over 10 yrs, but as company complexity grew, the role requi? ',\n",
       " 'Of all the bogus anecdotes, this one troubles me the most. Ashlee never actually ran this story by? ',\n",
       " \"Ashlee Vance's biography is mostly correct, but also rife with errors & never independently fact-c? \",\n",
       " 'Major increases in the Supercharger and Tesla urban charger network happening over the next several months',\n",
       " 'First draft animation of the Falcon Heavy three core launch. FH is twice the thrust of the next? ',\n",
       " 'I agree. Working on it ...',\n",
       " \"It's only a matter of time\",\n",
       " 'y',\n",
       " 'True, although the changemyview subreddit is least likely to be clicked on by people who really should change their? ',\n",
       " 'Arguments, followed, of course, by complaints ',\n",
       " 'Are you complaining that we are not complaining enough?',\n",
       " \"And let's not forget the forum on which we are posting? I've heard - now this is just a r? \",\n",
       " 'Like I said ...',\n",
       " 'It gets really dark',\n",
       " 'True, there are frequent complaint expansion packs',\n",
       " 'Except for complaining. That has remained constant throughout history at 100/100. ',\n",
       " 'Officially verified as the first production electric car to exceed 1000km on a single charge! Congratulations Tesla? ',\n",
       " 'I guess a proof of concept is needed',\n",
       " 'Looking forward to launching astronauts to the International Space Station next year! ',\n",
       " 'Sorry about that. You certainly should have been. Will get you guys in a car right away.',\n",
       " 'No, must brake safely to a halt',\n",
       " 'SpaceX student Hyperloop top speed competition coming up soon! ',\n",
       " 'We poured our heart into the car. Hope you love it. ',\n",
       " 'Sure hope so ',\n",
       " 'Batteries!',\n",
       " 'Thoughtful Model 3 review by , one of the most insightful journalists ',\n",
       " 'There are several dozen ship names in the Culture series, but I liked those best',\n",
       " 'Umm ... ',\n",
       " \"Yeah, it's better than a Model 3. We can put a lot more in a car at a higher price.\",\n",
       " \"I'm sure there are better answers than what I do, which is just take the pain and make s? \",\n",
       " \"If you buy a ticket to hell, it isn't fair to blame hell ...\",\n",
       " 'Maybe not medically tho. Dunno. Bad feelings correlate to bad events, so maybe real pro? ',\n",
       " 'Yeah',\n",
       " \"The reality is great highs, terrible lows and unrelenting stress. Don't think people want to hear about the last two.\",\n",
       " 'Model 3 uses two intersecting planes of air for vertical control & lateral fins hidden within the dashbo? ',\n",
       " 'Model 3 Interior ',\n",
       " 'Yes',\n",
       " 'Probably middle of next year. Focus now is on getting out of Model 3 production hell. More versions = deeper in hell.',\n",
       " 'Yes',\n",
       " 'Sure',\n",
       " 'INTERGALACTIC EXCLUSIVE: FIRST DRIVE OF THE ALL-NEW ',\n",
       " 'S, 3, X on a bridge ',\n",
       " 'Watch a Tesla Model 3 vs. Volvo S60 side-pole impact test ',\n",
       " 'Thank you to all our employees for your hard work making Model 3 a reality ',\n",
       " \"Watched them personally to make sure & I agree with the outcome. Wouldn't have judged differently.? \",\n",
       " \"Couldn't believe how incredibly inspiring and creative they were!!\",\n",
       " 'First! ',\n",
       " 'Second ',\n",
       " 'Third ',\n",
       " 'Project Loveday winners ...',\n",
       " 'Watch the first Model 3 handovers on ',\n",
       " 'Almost 11 years ago shared his master plan for . Tonight he delivers on the final step of it.?',\n",
       " 'Setting up for Model 3 handover tomorrow night ... ',\n",
       " \"If we're lucky\",\n",
       " 'Sides run high thrust, center is lower thrust until sides separate & fly back. C? ',\n",
       " 'Side booster rockets return to Cape Canaveral. Center lands on droneship.',\n",
       " 'Falcon Heavy maiden launch this November ',\n",
       " 'Tesla team will verify',\n",
       " \"Remembering some of our favorite Tesla Project Loveday videos. What's yours?\",\n",
       " 'Watch all 10 Project Loveday finalists and like your favorites on Twitter by 5pm PT Friday: ',\n",
       " 'Britain to ban sale of all diesel and petrol cars and vans from 2040 ',\n",
       " 'Testing The Boring Company car elevator ',\n",
       " 'Love this Tesla P100D drag racing video ',\n",
       " 'Movie on the subject coming soon...',\n",
       " \"Tim's piece on AI is excellent, but we actually face a double exponential rate of improvement. AI hardware & softwa? \",\n",
       " \"I've talked to Mark about this. His understanding of the subject is limited.\",\n",
       " \"A book of the most beautiful classic cars given to me on my 18th birthday on a farm in Saskatchewan. Van Gogh's Starry Night.\",\n",
       " '$US price in $AUD plus import duties and sales tax',\n",
       " \"We can't have too many direct shareholders or we're required to become a public co. Will che? \",\n",
       " 'Often comes as a surprise when people learn that 80% of my time is on engineering/design and just 20% on other stuff ',\n",
       " 'The notion that we can start colonizing Mars within 10 years or so is [a] delusory idea that falls just short of being a joke.?',\n",
       " 'A 9m diameter vehicle fits in our existing factories ...',\n",
       " 'Yes, I postponed publishing in order to present the updated interplanetary rocket & spaceship? ',\n",
       " 'Discussing physics of tunnels with Mayor Vargas (who has a physics background). Hawthorne support for The Boring Co? ',\n",
       " 'SpaceX skipping Red Dragon for ?vastly bigger ships? on Mars ',\n",
       " 'Kinda have to :)',\n",
       " 'LA-SF-Reno/Sparks would be great. Tesla logistics costs for Sparks-Fremont (batteries & motors) and? ',\n",
       " 'Verbal approval was at Federal level. Still a lot of work before formal, written approval, but this o? ',\n",
       " 'Adding Boston and Providence would be the natural extension of the line',\n",
       " 'An underground Hyperloop would mean no disruption above ground and be way faster, so I think it is he right way to go',\n",
       " \"City of Chicago already approached us about doing a high speed tunnel from O'Hare to downtown. They've been great.\",\n",
       " 'If you want this to happen fast, please let your local & federal elected representatives know. Makes a big difference if they hear from you.',\n",
       " 'Still a lot of work needed to receive formal approval, but am optimistic that will occur rapidly',\n",
       " 'For sure. First set of tunnels are to alleviate greater LA urban congestion. Will start NY-DC in par? ',\n",
       " 'Support would be much appreciated!',\n",
       " 'City center to city center in each case, with up to a dozen or more entry/exit elevators in each city',\n",
       " 'Just received verbal govt approval for The Boring Company to build an underground NY-Phil-Balt-DC Hyperloop. NY-DC in 29 mins.',\n",
       " 'Plan is to do powered landings on Mars for sure, but with a vastly bigger ship',\n",
       " 'New MIT Study Suggests Sonic The Hedgehog Might Be Living In Computer Simulation ',\n",
       " 'We want YOU to experience the next cargo launch to ! Apply to attend event in Aug: ',\n",
       " 'Tesla welcomes Linda Johnson Rice and James Murdoch as new independent directors to its board ',\n",
       " 'y',\n",
       " 'True. Need to explain full story of Tesla. So much nonsense out there, amplified by propaganda from some? ',\n",
       " \"Not attacking Electrek. Just making sure people don't have the wrong impression.\",\n",
       " 'Not true. Email from customer. ',\n",
       " \"I should clarify: Tesla stock is obviously high based on past & present, but low if you believe in Tesla's future.? \",\n",
       " 'Yeah, otherwise hard to find them',\n",
       " '20. Because this can never be shared enough: took images as it was landing & the result was AWESOME: ?',\n",
       " 'y',\n",
       " 'It is true, so fine by me',\n",
       " 'Small thing (very small), but I made it this way for those who care and understand. Source and appearance are the same.',\n",
       " \"It's what you don't say\",\n",
       " 'I do have one question. What does GoDaddy mean?',\n",
       " 'Good point',\n",
       " \"Fixed. Now it's good.\",\n",
       " 'Yes',\n",
       " 'Stay tuned',\n",
       " 'I told you it was verbose. Better tomorrow :)',\n",
       " 'Excited to announce the launch of ',\n",
       " 'Just checked and yes',\n",
       " 'True. Also, Ariane primary bay can deliver slightly heavier satellites than Falcon 9. Falcon Heavy is needed ...',\n",
       " 'Commercially procured launches means launches that were openly competed. SpaceX is not allowe? ',\n",
       " 'US Senate hearing on advancing the exploration and settlement of space ',\n",
       " 'We do that too, but for free',\n",
       " 'Hopefully',\n",
       " 'Other orgs shd also develop reusable orbital rockets. If an airplane co had reusable airplanes, buying single use a? ',\n",
       " \"That doesn't sound right\",\n",
       " 'Worth noting that Boeing/Lockheed (Other US on chart) get a billion dollar annual subsidy even if they launch not? ',\n",
       " 'Latest S and X tires have internal acoustic foam',\n",
       " 'Going over the small nuances of Model 3 production. Very important that nothing sounds tinny. ',\n",
       " 'Cool!',\n",
       " 'The very near future, not, like, the far away future',\n",
       " 'You can now drive anywhere in the US (except N Alaska), most of Europe, China & Japan using the Tesla Supercharger? ',\n",
       " 'Of course!',\n",
       " 'On University Ave, above the old bakery',\n",
       " 'One of my sons is named Xavier, after Professor X!',\n",
       " \"That's probably the best use\",\n",
       " 'Cool ?',\n",
       " 'Maybe the upcoming IAC in Adelaide',\n",
       " 'It was a tough negotiation, but they seemed like good guys. I hope they kept the stock. Would be worth a lot today.',\n",
       " 'That pizza looked about as appetizing as drywall. If anything, they were doing peopl? ',\n",
       " \"Wasn't wearing a suit, am def not part of a posse & didn't even know Leo/Orlando were goin? \",\n",
       " 'Thanks PayPal for allowing me to buy back ',\n",
       " '',\n",
       " 'First Production Model 3 ',\n",
       " \"It's who is first to pay full price for the car. Hard rule. I have first Roadster and X, but not first S.\",\n",
       " 'Ira Ehrenpreis had rights to 1st car as he was 1st to place a full deposit, but gave those rights to me as? ',\n",
       " 'Production unit 1 of Model 3 is now built and going through final checkout. Pics soon.',\n",
       " '??! This is a massive win for Australia. No more coal in Parliament. Worlds biggest ?! World leading energy effort. htt?',\n",
       " 'Never heard of them',\n",
       " 'Stop biting my finger dammit  ',\n",
       " \"Tesla to build 'biggest battery' \",\n",
       " \".'s is helping South Australia build the world's largest lithium-ion battery \",\n",
       " 'This will be the highest power battery system in the world by a factor of 3. Australia rocks!! ',\n",
       " \"The world's population is accelerating towards collapse, but few seem to notice or care\",\n",
       " 'Thanks ! Really proud of the rocket and SpaceX team today. Min apogee requirement was 28? ',\n",
       " 'SpaceX team reviewed all systems again late last night. Done our best to ensure all is good. ',\n",
       " \"We're going to spend the 4th doing a full review of rocket & pad systems. Launch no earlier than 5th/6th. O? \",\n",
       " \"Wanted to say thanks to all that own or ordered a Tesla. It matters to us that you took a risk on a new car company. We won't forget.\",\n",
       " 'Looks like we can reach 20,000 Model 3 cars per month in Dec',\n",
       " \"Handover party for first 30 customer Model 3's on the 28th! Production grows exponentially, so Aug should be 100 cars and Sept above 1500.\",\n",
       " 'Model 3 passed all regulatory requirements for production two weeks ahead of schedule. Expecting to complete SN1 on Friday',\n",
       " 'Norway is awesome',\n",
       " \"Actually, China manufacturing quality is excellent. Among other things, that's where iPhones, many Androi? \",\n",
       " 'Another SpaceX launch today if weather is good ',\n",
       " 'Coming later today',\n",
       " 'Sorry to hear about China launch failure today. I know how painful that is to the people who designed & built it. ',\n",
       " 'Suggestions welcome!',\n",
       " 'I think Einstein said that',\n",
       " 'Or does the Earth move up?',\n",
       " 'This is a really great floor',\n",
       " 'Just installed steel skeleton of the car/pod elevator. Should be operating next week. ',\n",
       " 'Across the road and below the ground ',\n",
       " 'Perspective ',\n",
       " \"Nothing to be done, but wait. It's all right here: \",\n",
       " 'News on Sunday',\n",
       " \"Because it's off the wall\",\n",
       " 'Maybe it is time for the man cape to return',\n",
       " \"Didn't read it. Might now though.\",\n",
       " 'Exactly',\n",
       " 'Me too',\n",
       " \"Yes, but arguably that's worse\",\n",
       " \"And I don't care who knows it. Our love will never die.\",\n",
       " \"Just try one. It's way better than you think.\",\n",
       " 'A floor that moves',\n",
       " 'A ceiling is simply a floor from below',\n",
       " 'Not as much as tunnels though',\n",
       " 'They are so underappreciated',\n",
       " 'They will never let you down',\n",
       " 'I love floors',\n",
       " 'Gary (the snail) is a speed demon. Long way to go before we beat him/her.',\n",
       " 'Thanks, but I am',\n",
       " 'No longer waiting for Godot. It has begun boring and just completed the first segment of tunnel in LA.',\n",
       " \"Good summary of rocket landing history. There were two successful water landings much earlier, but they didn't surv? \",\n",
       " 'Several tons of force on each fin at high angles of attack & peak heating is the cube of speed, so a Mach 8 r? ',\n",
       " 'They should on high velocity missions to Geostationary Transfer Orbit',\n",
       " \"Sped up version of today's rocket landing on the Droneship Just Read the Instructions (guess it? \",\n",
       " 'More aero effectiveness to create steep spires on windward side at the grid fin intersections',\n",
       " 'Down the road, they will not even be repainted between launches. Aiming to be able to relaunch sam? ',\n",
       " 'Getting closer to fairing recovery and reuse. Had some problems with the steerable parachute. Should? ',\n",
       " 'New titanium grid fins worked even better than expected. Should be capable of an indefinite number of flights with no service.',\n",
       " 'Still humans',\n",
       " 'Significantly improves control force',\n",
       " 'Launch at 1:25 delivering 10 satellites for Iridium. Droneship repositioned due to extreme weather. Will be tight. ',\n",
       " 'Closeup of the titanium grid fins. Not painted, as they glow red hot during a fast reentry. ',\n",
       " 'We used to have a (lame) open loop hydraulic system, but that was upgraded to closed about 2 years ago',\n",
       " 'Not only that, it has all the wifis and 3G is coming soon',\n",
       " 'Rocket was suddenly slammed sideways right before landing. Heavy gust or something malfunctioned onboard. Reviewing telemetry.',\n",
       " \"True, but that's a minor factor for rockets\",\n",
       " 'No, but shielding got fragged every flight. More control authority is for Falcon Heavy, but also enable? ',\n",
       " 'They will, but the hydraulic system is closed loop, so no fluid lost. They do need more power & energy, but? ',\n",
       " 'Slightly heavier than shielded aluminum, but more control authority and can be reused indefinitely with no touch ups',\n",
       " 'Flying with larger & significantly upgraded hypersonic grid fins. Single piece cast & cut titanium. Can take reentr? ',\n",
       " 'Sticking to 100',\n",
       " \"It's an aluminum honeycomb cartridge, so only a couple of hours to replace\",\n",
       " 'Rocket is extra toasty and hit the deck hard (used almost all of the emergency crush core), but otherwise good',\n",
       " 'Webcast of Falcon 9 launch is now live ? ',\n",
       " \"Falcon 9 will experience its highest ever reentry force and heat in today's launch. Good chance rocket booster doesn't make it back.\",\n",
       " 'Technically, Ironyman',\n",
       " 'Thanks! Looks cool.',\n",
       " 'Falcon 9 and BulgariaSat-1 vertical on Pad 39A. Today?s two-hour launch window opens at 2:10 p.m. EDT, 18:10 UTC. ',\n",
       " 'Damn, I forgot bacon',\n",
       " 'like the quote says:  ?We are our choices.?  ? Jean-Paul Sartre',\n",
       " 'In life, there are no easy choices ?',\n",
       " 'Do want irony on social media?',\n",
       " 'Must remember that irony and social media are not friends. Keep forgetting. Dammit.',\n",
       " 'Radiation',\n",
       " 'Groan',\n",
       " 'But RWD with electric is really good in snow (assuming all weather or winter tires), as traction control is far more precise',\n",
       " 'Will extend',\n",
       " 'Over 1000 km should be possible in a 100D with the right tires ',\n",
       " 'Excited to join Tesla as the Director of AI! ',\n",
       " 'Will be full regen cooled all the way out to the 3 meter (10 ft) nozzle diameter. Heat flux is nuts? ',\n",
       " \"No plans to change 100 kWh pack tech. You'll never worry about running out of range. Model 3 pack is abo? \",\n",
       " 'Static fire test of Falcon 9 at Vandenberg AFB complete?launch of 10 NEXT satellites slated for Sunday, June 25.',\n",
       " 'No need to rely on scientists for global warming -- just use a thermometer ',\n",
       " 'Cool',\n",
       " \"That's because the accurate articles are boringly obvious, so they get no press attention\",\n",
       " 'First approximation of CO2 is production cost, factoring in energy source, so Model 3 obv less CO2 to produc? ',\n",
       " 'Calling this cueless would be generous. Much less energy required for lithium-ion batteries & Gigafactory is? ',\n",
       " 'No plans to change cell form factor for X and S',\n",
       " 'This is crazy, but Max Smart mentions Chaos towards the end. Coincidence?',\n",
       " \"There's a plot!?\",\n",
       " 'ujelly?',\n",
       " 'My real phone is an HTC Droid, which I ordered after seeing this ad ',\n",
       " 'Nothing beats the shoe phone that is also a real shoe  ',\n",
       " 'But then I get paid less',\n",
       " \"Don't be jelly, but I just received a monogrammed iPhone case with a gold-plated chain, cat ears & three-leaved clo? \",\n",
       " 'Backup valve shows no sign of leaking, but yeah',\n",
       " 'If schedule holds there will be two Falcon 9 launches within 48 hours (Cape & Vandenberg) this weekend ',\n",
       " 'Postponing launch to replace fairing pneumatic valve. It is dual redundant, but not worth taking a chance. ',\n",
       " 'Promising conversations with regarding tunnel network that would carry cars, bikes & pedestrians. Permit? ',\n",
       " '',\n",
       " \"It's time they knew ? \",\n",
       " 'Tesla service rescues a kitten stuck in the bumper  ',\n",
       " \"So soon you won't believe it\",\n",
       " 'Colonizing Mars (thanks Prof Hubbard for creating this from my talk). Major changes to the plan coming soon. ',\n",
       " 'Hawthorne, California ',\n",
       " 'Flying through the Falcon Factory ',\n",
       " 'Mars V2 plan coming soon, which I think addresses the most fundamental flaw in V1: how to pay for development & ope? ',\n",
       " \"Radar-only braking on HW1 is getting better with every release. We're hoping to do the demo whe? \",\n",
       " '$300M cost diff between SpaceX and Boeing/Lockheed exceeds avg value of satellite, so flying with SpaceX means sate? ',\n",
       " 'In discussions with the government of India requesting temporary relief on import penalties/restrictions? ',\n",
       " 'The Tesla Model X is the safest SUV ever tested, according to The National Highway Traffic Safety Administration. ',\n",
       " \"Best customer service I've ever received!!!\",\n",
       " 'US govt testing by finds Model X to be the safest SUV in history by significant margin ',\n",
       " 'Using human feedback rather than code to specify a task: ',\n",
       " 'Watch the first Tesla Model X crash tests - 5 stars expected in every category ',\n",
       " 'That would an interesting target. Would, of course, only count if capable of doing so right off the pro? ',\n",
       " \"How'd you know?\",\n",
       " 'Linux kernel update was way harder than anticipated. Giant improvement, but mean? ',\n",
       " 'New kernel goes out next weekend, new web browser next month. Radar-only braking? ',\n",
       " 'HW2 Autopilot release should go wide next weekend with additional smoothness improvements to longitudinal control',\n",
       " 'We are developing the interplanetary rocket and spaceship to allow anyone to travel to the moon, Mars? ',\n",
       " 'Thanks! Everything we make on the expensive cars goes into developing more affordable cars.',\n",
       " 'Thanks for supporting Tesla and the EV mission before anyone had heard of us',\n",
       " 'Heard about it. Our experience doing projects with big car companies w? ',\n",
       " \"I've written two forward-looking master plans, but haven't told the Tesla history of ho? \",\n",
       " 'Mostly right. The feasibility study Martin commissioned about the Lotus Elise was dead? ',\n",
       " 'Slow at first, then very fast. Def not hover.',\n",
       " 'The faster, the better. Gravity losses.',\n",
       " 'Damn Stonecutters!',\n",
       " \"Was no company, just a (wrong) biz plan to commercialize ACP's Tzero car. No tech or IP, no employee? \",\n",
       " 'Disruption certainly. Deep AI is the real risk, though, not automation.',\n",
       " \"We tried 's 'Summon' feature ? where the car comes and picks you up \",\n",
       " 'Exactly',\n",
       " 'Congrats Robb! ',\n",
       " 'So crazy that people were arrested for trying to keep their cars from being destroyed',\n",
       " 'You may have Heard of the person who put it together',\n",
       " 'Worth watching Who Killed the Electric Car? By . Truth is indeed stranger than fiction ? ',\n",
       " \"If Zedd is kind enough to send me a list, it's on\",\n",
       " 'All Superchargers are being converted to solar/battery power. Over time, almost all wi? ',\n",
       " 'I love Norway, which is the world leader in EV adoption! Great example for the rest of the world.',\n",
       " \"Long way to go, but we've convinced most of the auto industry to start EV programs & gave them all o? \",\n",
       " 'Nothing to do w govt incentives or making money. Thought 90% prob of losing it all (almost did many times), but it was the only chance.',\n",
       " 'Since big car companies were killing their EV programs, the only chance was to create an EV company, even tho it was almost certain to fail',\n",
       " 'They was done against the will of their owners, who held a candlelight vigil all night to protest the death of their cars',\n",
       " 'Few people know that we started Tesla when GM forcibly recalled all electric cars from customers in 2003 & then crushed them in a junkyard',\n",
       " 'That is true. Ludicrous mode is like having pure joy on tap. Nothing else (legal) will get you that.',\n",
       " 'Click the left scroll wheel to pause or mute music',\n",
       " 'Good point, will add cancel nav to voice commands',\n",
       " 'Too awesome',\n",
       " 'Must ipso facto half not bee',\n",
       " \"First of all, I cracked a long time ago. That's not news. Second, yes, I can see time. How did you know?\",\n",
       " 'Yeah, car should auto play when it gets an exact match, like it does for directions. Will make that change.',\n",
       " 'Just confirmed the Tesla DJ station works in Canada',\n",
       " 'Cool',\n",
       " \"No, it's not!\",\n",
       " 'Yes',\n",
       " 'Tap cancel on the screen',\n",
       " 'Just tap the voice button on the steering wheel and say Play Monty Python or Navigate home or anything. Voice commands work pretty well.',\n",
       " 'Just depends on whether you like a sedan or SUV. Sedan goes faster, SUV has more room.',\n",
       " 'Yeah, coming back',\n",
       " 'Coming soon!',\n",
       " 'Partly',\n",
       " 'Possibly my favorite skit',\n",
       " 'Might work in Canada too',\n",
       " 'I mean also',\n",
       " 'Not yet',\n",
       " 'Yeah',\n",
       " \"In the US, you can ask your Tesla to play any Monty Python (or other comedy) skit. Doesn't work outside US yet.\",\n",
       " \"It's on the car. Might add it to the Tesla app at some point, so you get it on your phone if you have a Powerwall or Tesla solar.\",\n",
       " 'My favorite for sure',\n",
       " 'Try the new Tesla DJ station on streaming radio',\n",
       " 'The scene where Brian is saved from the Romans by falling off a tower into a spaceship is the best D? ',\n",
       " 'All Falcon Heavy cores should be at the Cape in two to three months, so launch should happen a month after that',\n",
       " 'Love Monty Python so much',\n",
       " '',\n",
       " 'Just wish they would stop sticking pins in voodoo dolls of me. That hurts, ok?',\n",
       " 'Yeah',\n",
       " 'Yeah',\n",
       " 'These guys want us to die so bad they can taste it',\n",
       " 'Could be worse ',\n",
       " 'We can either give up hope & sit in traffic hell forever or try something new. The odds of success may be? ',\n",
       " 'The Boring Company is in Hawthorne and has already approved the permit',\n",
       " 'Thanks :) Such an outrageous lawsuit. People sometimes underestimate strength of US judicia? ',\n",
       " 'Read ',\n",
       " 'Almost. Falcon Heavy was way harder to develop than it seemed at first.',\n",
       " '4K video of Falcon 9 first stage landing after delivering Dragon to orbit for a resupply mission ? ',\n",
       " \"Once you add the vintage record player, it's all good\",\n",
       " \"You're welcome!\",\n",
       " 'A little red wine, vintage record, some Ambien ... and magic!',\n",
       " 'A 7 step facial treatment every morning. The mistake people make is stopping at 6.',\n",
       " 'And um ... not trying to brag or anything, but I think I look good for 500',\n",
       " 'Seems that way',\n",
       " 'Of course. What base-number system were you using?',\n",
       " \"That's why the pic is in black and white. Didn't have color back then.\",\n",
       " 'Yeah, I counted',\n",
       " \"Tesla shareholder meeting today. Can't believe it's been 1000 years since we went public. \",\n",
       " 'SpaceX is the first private company to send the same vehicle into orbit twice ',\n",
       " 'This is a metaphor for transparency. Also, f* underwear.',\n",
       " 'Obviously',\n",
       " 'SEC disclosures, etc',\n",
       " \"I'm not *saying* they're related, but ? \",\n",
       " 'Or is it more about the way you use it? ',\n",
       " \"I hope I'm wrong\",\n",
       " 'Probably closer to 2030 to 2040 imo. 2060 would be a linear extrapolation, but progress is exponential. ',\n",
       " 'Great comedy! They should write for .',\n",
       " 'Most likely',\n",
       " 'Also, we will have a very high headcount around each Gigafactory keeping it running.? ',\n",
       " 'Probably closer to four or five factories. Logistics costs mean you want to be close to the end customer.',\n",
       " 'California Cabernet',\n",
       " 'Wearing anything at all is just a conspiracy by the capitalist running dogs of Big Underwear',\n",
       " 'Send us questions today for Elon to answer at our Shareholders Meeting tomorrow',\n",
       " 'He was great though',\n",
       " '',\n",
       " 'Was just at the DMV & dude had the actual sloth from Zootopia on his desk ',\n",
       " \"Most people don't realize you can see Dragon approach the Space Station from the ground, even in LA\",\n",
       " 'Proud of my Mom ?? ',\n",
       " 'Yeah, pretty much dead center. We painted the target area with radio reflective paint, which helps the radar be more precise.',\n",
       " 'Exactly',\n",
       " \"It's starting to feel kinda normal to reuse rockets. Good. That's how it is for cars & airplanes and how it should be for rockets.\",\n",
       " ', more than 6,000 pounds of science & supplies left planet Earth at 5:07pm ET to head to : ',\n",
       " 'First reflight of a Dragon spacecraft set for later today ',\n",
       " 'Good point :)',\n",
       " \"As a matter of principle, I've resigned from the President's Council over the  withdrawal.\",\n",
       " 'India commits to sell only electric cars by 2030. It is already the largest market for solar power. ',\n",
       " 'Under Paris deal, China committed to produce as much clean electricity by 2030 as the US does from all sources today ',\n",
       " 'Am departing presidential councils. Climate change is real. Leaving Paris is not good for America or the world.',\n",
       " 'Falcon 9 and Dragon on Pad 39A at . Weather is 70% favorable for today?s 5:55 p.m. EDT, 21:55 UTC launch. ',\n",
       " 'Coming soon',\n",
       " 'Tomorrow, SpaceX Will Forever Transform Spaceflight ',\n",
       " 'Yeah :)',\n",
       " 'BREAKING: Exxon Shareholders Approve Climate Resolution: 62% Call for Disclosure in Landmark Vote ',\n",
       " 'Will have no choice but to depart councils in that case',\n",
       " \"Don't know which way Paris will go, but I've done all I can to advise directly to POTUS, through others in WH & via councils, that we remain\",\n",
       " 'And then some',\n",
       " 'Yeah, it was great!',\n",
       " 'Piggyback rides around the Opera House ',\n",
       " 'Sydney is such a beautiful city ',\n",
       " 'A lot',\n",
       " 'I do via my foundation, which is now 16 years old, but my grants are (almost always) anonymous',\n",
       " 'Yes',\n",
       " 'Should finish trans-Canada this year. A stop in Swift Current for sure!',\n",
       " 'Yes',\n",
       " \"We're releasing OpenAI Baselines, reliable implementations of RL algorithms. Today: DQN & 3 variants: \",\n",
       " 'Comparing Model S vs Model 3 ',\n",
       " 'Old-school fidget spinner back when the only things to play with were squirrels and rocks ',\n",
       " 'There will be a combined booster static fire. Maybe a few.',\n",
       " 'Btw, that cloud is almost entirely steam, including dark parts (like a storm). This is what the launch looks like: ',\n",
       " 'Falcon Heavy is this times three. One way or another, launch is guaranteed to be exciting ... ',\n",
       " 'Will shut that down. The point is to provide something special that only existing owners? ',\n",
       " 'Only if you want pure joy mainlined straight into your brain',\n",
       " 'You are right. Going at max speed. Not much time left.',\n",
       " 'Busted',\n",
       " \"Will keep the original Bond Lotus sub as-is. That design can't actually convert from car to sub. Ha? \",\n",
       " 'True :)',\n",
       " 'Feel exactly the same way as A.O. Scott. Particularly loved The Spy Who Loved Me ',\n",
       " 'All Model S and X cars will have an auto raise and lower function for the steering wheel in a few months.',\n",
       " 'I spoke directly with The President three weeks ago about Paris. Many others have too. Cautiously optimis? ',\n",
       " \"Interesting idea. Would give a dynamic 360 deg surround view as you're driving. Have this i? \",\n",
       " \"Early next year. To start with, we're making the simplest Model 3 first, like we did with S. Didn't do? \",\n",
       " 'We could add that function pretty easily from a technical standpoint. Just need to add in the billing software.',\n",
       " 'Can be set higher than that for highways, but limited to +5mph or +8km/h off highway (true avg drive? ',\n",
       " \"Elon Musk's new venture looks anything but boring. \",\n",
       " 'Exactly',\n",
       " 'Still on for end of year. Just software limited. Any Tesla car with HW2 (all cars built since Oct last yea? ',\n",
       " \"There's just no way. Hundreds of parts and most of wiring harness would have to be replaced. W? \",\n",
       " \"HW2. HW1 doesn't have enough sensors and computing power.\",\n",
       " 'Hopefully June for those too',\n",
       " 'S for sure. It is a bigger car.',\n",
       " \"I'd highly recommend upgrading to latest Model S (which is approx version 4). Only if you really want a s? \",\n",
       " \"Maybe I'm misinformed, but I was told that 30% of parts must be locally sourced and the supply doe? \",\n",
       " 'Yeah, control algorithm is safe, but unpleasant. New one is even safer, but super smooth.',\n",
       " 'Almost there, plus much improved web browser',\n",
       " 'That will be tied to deliveries of the first production cars in July',\n",
       " 'Almost there. Probably in a few months.',\n",
       " 'You can easily turn it off in the car via settings, but that would beg the question of why you turned it off :)',\n",
       " 'Something cool for sure',\n",
       " 'Excited about the Tesla Autopilot software release rolling out next month. New control algorithm feels as smooth as silk.',\n",
       " \"Model 3, Model X & Model S will all have same level of Autopilot capability. It's just a matter of r? \",\n",
       " 'Wear underpants',\n",
       " 'Will do',\n",
       " 'Black and textured slate versions will be',\n",
       " 'Good resource for people looking to dedicate themselves to the development of safe AI: ',\n",
       " 'Yes',\n",
       " \"For reason I can't explain, I find especially odd. Also, not a fan of. Has led too many peo? \",\n",
       " \"Still agree with Tim's points. What you are is an evolving, mind-body pattern, but there's still a co? \",\n",
       " \"Heisenberg's uncertainty principle & practical limits of simultaneity in transfer make this exact thoug? \",\n",
       " 'Lady MERA swept in from the sea. First day with the exquisite Amber Heard. (Shot by the talented ) ',\n",
       " 'Volvo credits Tesla for creating EV demand, says they will stop developing diesel engines to focus on EVs ',\n",
       " 'We got stuck',\n",
       " 'All the answers to questions you never asked about holes in the ground ',\n",
       " 'What pun?',\n",
       " 'What I love about The Boring Company are the low expectations. Nowhere to go but down.',\n",
       " 'T-boned in a Model X at 65 mph  ',\n",
       " 'Moonlight Sonata ',\n",
       " 'Robots that learn by example from ',\n",
       " 'Quick video recap of Falcon 9 launch of Inmarsat-5 Flight 4 ',\n",
       " 'Roboschool, open-source software for simulating robots, integrated with OpenAI Gym: ',\n",
       " 'Webcast of Falcon 9 launch is now live ? ',\n",
       " '., Tesla team up on one-of-a-kind energy storage project in has details ',\n",
       " \"It's sort of like a pickaxe if you use the claw side, but has the added advantage of also hammering\",\n",
       " 'Gary the snail is like Speedy Gonzales on meth ... or ambien. One of the two. Either way, Godot, our? ',\n",
       " \"And ... it's done \",\n",
       " 'Worked in Minecraft. Just sayin ...',\n",
       " 'Of course. Why is that even a question?',\n",
       " 'Imma gonna dig that tunnel with this here hammer',\n",
       " 'My grandmother was from Moose Jaw',\n",
       " 'Going to a barn raising!',\n",
       " \"On my cousin's farm in Canada at 17, wearing a hat on a hat \",\n",
       " 'Yeah, worked on the farm when I was 17',\n",
       " 'Family history article. Was born in South Africa, but named after my American great-grandfather. ',\n",
       " 'Yes',\n",
       " '[Warning, this may cause motion sickness or seizures] This is a test run of our electric sled? ',\n",
       " 'The race between Gary, our pet snail who lives in a pineapple, and Godot, our tunnel boring? ',\n",
       " 'Boring machine segments have been lowered into the starter tunnel. Going through final assembly.? ',\n",
       " 'Cutterhead in operation at standard industry speed. Planning to jack this up by a factor of ten? ',\n",
       " 'First tunnel for The Boring Company begins ... Full length of first tunnel will run from LAX to? ',\n",
       " 'Entry hole, staging area and starting tunnel for Boring Machine 1 (aka Godot) now complete ',\n",
       " 'Tesla needs to iterate fast on solar roof prefab/install technology, so all installs will be done by Tesla techs at first',\n",
       " 'Third one will be from Frost. Maybe the second.',\n",
       " 'Yes. Good.',\n",
       " \"First machine is Godot. Still waiting ... Don't know why, when or where.\",\n",
       " 'Naming theme for tunnel boring machines will be poems & plays. Decided against plays & poems. Too obvious.',\n",
       " \"That's how the tiles sit on the roof. There is no difference in strength for the Tesla tile based on or? \",\n",
       " 'This is true. The economics are not yet compelling where housing and utility costs are low and property taxes are high.',\n",
       " 'Slo-mo hail cannonball impacting Tesla solar roof tile ',\n",
       " 'Will do our best. Hopefully, yes.',\n",
       " 'Solar Roof ',\n",
       " \"Tesla just released solar roof prices, and they're cheaper than expected \",\n",
       " \"Tesla releases details of its solar roof tiles: cheaper than regular roof with 'infinity warranty' \",\n",
       " 'Yes',\n",
       " 'Solar roof can be ordered for almost any country. Deployment this year in the US and overseas next year.',\n",
       " 'Black glass smooth and textured will be first. Tuscan and French Slate in about six months.',\n",
       " 'U.K. delivery and installation next year',\n",
       " 'Yes',\n",
       " 'Tesla solar glass roof orders open this afternoon. I think it will be great. More in about 10 hours ...',\n",
       " 'If heat death of the universe is the destination, it really is all about the journey ',\n",
       " \"It's a good one\",\n",
       " 'Thanks for doing it!',\n",
       " 'Headed to see Guardians 2 w my bro and kids. Loved the first one.',\n",
       " 'I do love Banks, but perhaps we should reserve his names for the droneships',\n",
       " 'Simple. I like it.',\n",
       " 'Kinda like Snoop Dug',\n",
       " \"I don't want to be presumptuous\",\n",
       " \"I know what you're thinking ? then why not the Third? Well, I've learned my lesson about 3's.\",\n",
       " 'By calling it the Second, it has more credibility',\n",
       " 'Maybe Ultimate Boring Machine, the Second',\n",
       " 'Boring Not Boring',\n",
       " 'Good one',\n",
       " 'Been done',\n",
       " 'Thinking about a name for our first tunneling machine ?',\n",
       " 'Was just rereading one of my favorites. So beautiful ? ',\n",
       " \"What can I say. P100D is the best car I have ever driven. It's hard to put into words. Ludicrous mode is just nuts. Thank you?\",\n",
       " 'Close-up of rocket stage separation, fast flip, boostback burn in a ring of fire and then? ',\n",
       " 'Landing ',\n",
       " 'Split screen shot of Falcon 9 first stage as it returns to Earth and lands at Landing Zone 1. ',\n",
       " 'Launch and landing of the NRO spy satellite was good. Tough call, as high altitude wind shear was at 98.6% of the t? ',\n",
       " 'Falcon 9 first stage has landed at LZ-1 ',\n",
       " 'Winds aloft are unusually high (still within structural safety bounds). Worrying, but not a showstopper. ',\n",
       " 'Yeah, will probably publish an update in six weeks or so',\n",
       " 'My boring TED talk ',\n",
       " \"Elon Musk says we're only 2 years from being able to nap in self-driving cars \",\n",
       " 'Falcon 9 and NROL-76 vertical on Pad 39-A. Launch window opens tomorrow at 7:00 a.m. EDT, 11:00 UTC. ',\n",
       " 'The in Washington DC is moving through the streets, and it is HUGE. ',\n",
       " \"Couldn't agree more\",\n",
       " 'Extremely',\n",
       " 'Even more boring ',\n",
       " 'Boring ',\n",
       " 'Chinese Vice Premier Wang Yang meets with Tesla CEO Elon Musk in Beijing ',\n",
       " 'We def want to avoid either, particularly Surface Detail ...',\n",
       " 'Charging is our priority. This year we?re doubling our Supercharger network & adding more chargers to existing sites?',\n",
       " 'On it now',\n",
       " 'Great food, great ambience and with great friends. We all really enjoyed the visit.',\n",
       " 'Will definitely do that on my next trip',\n",
       " '',\n",
       " 'Having moo moo at Moo Moo Gold Coast with amberheard, and ',\n",
       " 'That is the aspiration: to avoid AI becoming other.',\n",
       " \"It's finally here: the full story on Neuralink. I knew the future would be nuts but this is a whole other level. \",\n",
       " 'Tesla driver walks away unscathed after ~500-ft fall from a cliff in his Model S. ',\n",
       " '.Model X 75D-Overall Winner of the 2017 AAA Green Car Guide. More info on the winners & car reviews: ',\n",
       " 'Yeah, sorry I missed that. This would only work for 75 kWh pa? ',\n",
       " 'Yes',\n",
       " 'Tesla will soon be offering a compelling means of upgrading a 60 to a 75',\n",
       " 'July',\n",
       " 'Pickup truck unveil in 18 to 24 months',\n",
       " 'Next gen Roadster will be convertible',\n",
       " 'Tesla Semi truck unveil set for September. Team has done an amazing job. Seriously next level.',\n",
       " 'Yeah',\n",
       " \"Besides, I already said we'd add more independent members during SCTY merger. Will announce soon, but this? \",\n",
       " 'This investor group should buy Ford stock. Their governance is amazing ...',\n",
       " 'Autolist survey finds Tesla used car values are highest and sell fastest ',\n",
       " 'Fairing is ~$5M, but that should be reusable this year. Am fairly confident we can reuse upper? ',\n",
       " 'Latency should only be 5 min max. Checking ...',\n",
       " 'Feature coming soon that allows one touch access to all discovered Tesla Easter eggs ',\n",
       " 'A neural network teaches itself to analyze sentiment after only being trained to predict the next character: ',\n",
       " 'And so the robots spared humanity ... ',\n",
       " \"Exactly. Tesla is absurdly overvalued if based on the past, but that's irr? \",\n",
       " 'Et tu, Walt?',\n",
       " 'Stormy weather in Shortville ...',\n",
       " \"Coal is dying due to nat gas fracking. It's basically dead.\",\n",
       " \"It's just a helicopter in helicopter's clothing\",\n",
       " \"It won't matter\",\n",
       " 'Pretty good',\n",
       " \"Why did we waste so much time developing silly rockets? Damn you, aliens! So obtuse! You have all this crazy tech, but can't speak English!?\",\n",
       " 'Technology breakthrough: turns out chemtrails are actually a message from time-traveling aliens describing the secret of teleportation',\n",
       " \"We've created the world's first Spam-detecting AI trained entirely in simulation and deployed on a physical robot: \",\n",
       " 'This is extremely important from and - reusable rockets bring us MUCH closer to becoming a spacefaring?',\n",
       " 'Def P100D with Ludicrous+, although the rocket starts going a lot faster after that',\n",
       " 'We can def bring it back like Dragon. Just a question of how much weight we need to add.',\n",
       " 'Working on it',\n",
       " \"Looks like it could do 20% more with some structural upgrades to handle higher loads. But that's in fully expendable mode.\",\n",
       " 'A lot',\n",
       " 'Silliest thing we can imagine! Secret payload of 1st Dragon flight was a giant wheel of cheese. Inspired b? ',\n",
       " 'Good point, odds go from 0% to >0% :)',\n",
       " 'Falcon Heavy test flight currently scheduled for late summer',\n",
       " 'Considering trying to bring upper stage back on Falcon Heavy demo flight for full reusability. Odds of success low, but maybe worth a shot.',\n",
       " 'Browser is already a little better. Kernel and browser update in prob 6 weeks or so (lots of underlyin? ',\n",
       " 'More photos from today?s Falcon 9 launch and first stage landing ? ',\n",
       " 'Thanks Phil!',\n",
       " 'Incredibly proud of the SpaceX team for achieving this milestone in space! Next goal is reflight within 24 hours.',\n",
       " 'Falcon 9 first stage has landed on Of Course I Still Love You ? world?s first reflight of an orbital class rocket.',\n",
       " '~60 minutes until launch window for SES-10 opens. All systems and weather are go. Watch here ? ',\n",
       " 'Falcon 9 and SES-10 vertical on Kennedy Space Center?s historic Pad 39A. Launch window opens at 6:27pm EDT, 10:27pm UTC.?',\n",
       " 'Made today on Tesla sketch pad ',\n",
       " 'If you just downloaded V8.1, tap the the T on center screen three times',\n",
       " 'On center screen. Also, center screen *will* show speed as an overlay that changes opacity according to relevance.',\n",
       " 'Very few. We have yet to do a China (or Europe) launch of Model 3.',\n",
       " 'Glad to have Tencent as an investor and advisor to Tesla',\n",
       " 'No',\n",
       " \"You won't care\",\n",
       " 'What gave me away?',\n",
       " 'No',\n",
       " 'Here is the latest SpaceX travel ad for the flight around the moon & into deep space. Maybe needs a few edits ... ',\n",
       " 'Long Neuralink piece coming out on in about a week. Difficult to dedicate the time, but existential risk is too high not to.',\n",
       " \"New research release: overcoming many of Reinforcement Learning's limitations with Evolution Strategies: \",\n",
       " 'We cannot make all country versions simultaneously or the production start would be a disaster. You would get first in Norway.',\n",
       " 'Yes',\n",
       " 'Yes',\n",
       " 'I believe so',\n",
       " 'Yup',\n",
       " 'Oh so little faith',\n",
       " 'The shorter wheelbase only allows for a 75 kWh pack in Model 3 at current cell/module energy densities',\n",
       " \"I'm so unbelievably happy with my Model S. When people ask if l like it I respond No, I love it! ? it's amazing!?\",\n",
       " 'Our 85 hit the guardrails at well over 160km/h. Tessi absorbed impact, wife and baby are ok. Best car ever & Member o?',\n",
       " 'Yeah',\n",
       " 'Start taking orders in April',\n",
       " 'Yeah, probably a year from now. S will still win on acceleration though, due to having more space for a larger battery.',\n",
       " 'First batch Model S P85D for me, Grey. Signature Model X P90D for wife, Triple White. Best vehicles in the wor?',\n",
       " 'Only Model S will have the seven seater option, more cargo space, plus higher range, accelera? ',\n",
       " 'we believe so much in Tesla and its goals we have a 100D Model S and 90D Model X and love both. Thank you!?',\n",
       " 'The Model S produced today is arguably version 4. Let me put it this way: it is the car I will keep drivin? ',\n",
       " \"My lil monster Tesla Model X is the best car I've ever used. Thank you Elon. ??\",\n",
       " 'If fate is on our side, it will be amazing. Will talk about that in detail next week.',\n",
       " 'No problem :)',\n",
       " 'Should be summer next year. Sorry, really wish we could get RHD done sooner. We truly are working as fast as we can.',\n",
       " 'Let me just go fetch my magic wand ...',\n",
       " \"My Tesla Model S is the best car I've ever had \",\n",
       " \"my Tesla Roadster is the best car i've ever had\",\n",
       " 'First in line for dual motor as soon as we can make it, which is probably in 6 to 9 months.',\n",
       " 'Damn straight we do! Coming with 8.1 next week.',\n",
       " 'First drive of a release candidate version of Model 3 ',\n",
       " 'It still has one display',\n",
       " \"My model S is the best car I've ever had !!\",\n",
       " 'Nothing majorly new that a consumer would notice. Lots of new tech in the design and production process though.',\n",
       " 'The more autonomous a car is, the less dash info you need. How often do you look at the instrument pane? ',\n",
       " 'How about the video we just took of the first Model 3 release candidate drive?',\n",
       " 'My Model X is the greatest thing I have ever purchased. Period.',\n",
       " 'Yup, machine arrives next month and we start digging the tunnel!',\n",
       " 'I think so',\n",
       " 'No, we are minimizing configuration complexity to keep the production ramp on schedul? ',\n",
       " 'Tues/Wed',\n",
       " \"Because I was a dumb idiot and didn't realize at the time that it would cause confusion\",\n",
       " 'Tues/Wed next week',\n",
       " 'Yes. Model S will always be the fastest Tesla until next gen Roadster, which is a few years away.',\n",
       " 'Yes, but not until next year',\n",
       " 'Yes. Hardware already on all production S and X cars.',\n",
       " 'Sorta. Model 3 is like a BMW 3 series or Audi A4. Model S is like BMW 5 and 6 series, but much faste? ',\n",
       " 'How about now?',\n",
       " 'Oh Model Y is coming too in a few years. Kinda have to.',\n",
       " 'All Tesla cars built since Oct last year will be capable of self-driving as software improves',\n",
       " 'Definitely',\n",
       " 'Model 3 was going to be called Model E, for obvious dumb humor reasons, but Ford sued to block it, so now it is S3X. Totally different :)',\n",
       " 'Yes',\n",
       " 'Model 3 is just a smaller, more affordable version of Model S w less range & power & fewer features. Model S has more advanced technology.',\n",
       " 'Am noticing that many people think Model 3 is the next version of a Tesla, like iPhone 2 vs 3. This is not true.',\n",
       " 'Looking forward to playing the game with my kids!',\n",
       " \"I used to be one. You're welcome. Trying my best, at least. Hope it's a bit useful.\",\n",
       " \"Just because I'm building a spaceship to get back to my home planet doesn't mean I'm an alien\",\n",
       " 'The number of extinct single planet civilizations probably exceeds live civs by at least? ',\n",
       " 'Probably. Either that, simulation, great filter or they are very, very subtle.',\n",
       " \"I hope that didn't work\",\n",
       " '~spawn npc.alien',\n",
       " 'Where are the #%*> aliens? ',\n",
       " 'Looks like Tues/Wed for 8.1 release',\n",
       " \"Except that isn't actually my house ...\",\n",
       " 'Perhaps there will be some future bill that makes a difference for Mars, but this is not it.',\n",
       " 'I am not. This bill changes almost nothing about what NASA is doing. Existing programs stay in place a? ',\n",
       " \"Hope you like my Model X customer story. You're something of a hero of mine. Never give up and thank you!/?\",\n",
       " 'Recovery teams en route to Dragon. ',\n",
       " \"More photos from today's Falcon 9 launch ? \",\n",
       " 'Successful deployment of XXIII to a Geosynchronous Transfer Orbit confirmed. ',\n",
       " 'Back live for final burn and satellite deployment ? ',\n",
       " 'Liftoff! ',\n",
       " '3 is a great car, but definitely Model S',\n",
       " 'Good point',\n",
       " \"I wish. It's so annoying.\",\n",
       " 'Finally, an explanation for daylight savings that makes sense ... ',\n",
       " 'Ok',\n",
       " \"It's been a bear to get done, but prob 10 days or so, depending on full speed autosteer test results\",\n",
       " \"Looking forward to it. I know it's cliche, but LotR is my favorite book ever :) Want t? \",\n",
       " 'Sure. Just check out my prior tweet on pricing ($250 kWh at pack level). W? ',\n",
       " '.Can only happen with your support, and working closely with key govt and utility leaders who are s? ',\n",
       " 'Just wanted to write a note of appreciation to the many Australians who came out in support of the battery plan, especially ',\n",
       " 'I love Wikipedia. Just gets better over time.',\n",
       " 'Answer is complex for electric motors. We use an AC induction motor fed by a DC pack thru an IGBT inve? ',\n",
       " 'High voltage DC is for sure the best way to transmit electricity over long distances. Good explanat? ',\n",
       " 'Ironically, direct current is the right approach today, even though alternating was right in the past. Solar power & electronics both DC.',\n",
       " \"You're most welcome. Very exciting to discuss the future of electricity. Renewables + storage arguably biggest disr? \",\n",
       " 'Just spoke with , Premier of South Australia. Very impressed. Govt is clearly committ? ',\n",
       " 'Yes, but shipping, taxes/tariffs and installation labor vary by country, as those costs are beyond our control',\n",
       " '$250/kWh at the pack level for 100MWh+ systems. Tesla is moving to fixed and open pricing and terms for all products.',\n",
       " 'Tesla will get the system installed and working 100 days from contract signature or it is free. That serious enough for you?',\n",
       " 'Will send you one',\n",
       " 'Self-hatred',\n",
       " 'Thanks JJ!',\n",
       " '',\n",
       " 'Project Loveday ',\n",
       " \"Thank you for the lovely letter. That sounds like a great idea. We'll do it! \",\n",
       " \"SpaceX could not do this without NASA. Can't express enough appreciation. \",\n",
       " \"This is not true. TM works for a lot of people and that's great, but I've maybe done it 7 or 8 times ever.\",\n",
       " 'Fly me to the moon ... Ok ',\n",
       " 'SpaceX announcement tomorrow at 1pm PST',\n",
       " 'of course',\n",
       " 'maybe one of those too',\n",
       " 'Roller coasters are awesome',\n",
       " 'Something on a tristate border might work. Gigafactory plus nearby supporting supply chain needs a very large workforce.',\n",
       " 'Good chance it will',\n",
       " 'Exactly :)',\n",
       " \"I didn't pose for it (hopefully that's obvious) or want me on cover. Tunnel boring machine pic wd be way better\",\n",
       " 'Minor improvements update this weekend. High speed autosteer in about two weeks.',\n",
       " 'Excellent Tesla Model X review ',\n",
       " 'Just posted a video ',\n",
       " '',\n",
       " 'Baby came back ',\n",
       " 'Falcon 9 first stage has landed at LZ-1',\n",
       " 'no',\n",
       " 'Right on schedule, solar arrays have been deployed on cargo spacecraft. Watch: ',\n",
       " 'System was green for launch. I called it off.',\n",
       " 'They are often right, but, in this case, we have already retired so much R&D risk on Dragon 2, that I feel very confident of 2018.',\n",
       " 'Uses high pressure bleed off the fuel side (RP-1 kerosene) turbopump, so no dedicated pump or fluid needed',\n",
       " \"Btw, 99% likely to be fine (closed loop TVC wd overcome error), but that 1% chance isn't worth rolling the dice. Better to wait a day.\",\n",
       " 'Not obviously related to the (very tiny) helium leak, but also not out of the question',\n",
       " \"If this is the only issue, flight would be fine, but need to make sure that it isn't symptomatic of a more significant upstream root cause\",\n",
       " 'All systems go, except the movement trace of an upper stage engine steering hydraulic piston was slightly odd. Standing down to investigate.',\n",
       " '1 hour from launch of Falcon 9 & Dragon to . Rocket & weather are go. Launch at 10:01am ET, 15:01 UTC ',\n",
       " 'Counting down to the first SpaceX launch from the Apollo 11 launch pad tomorrow morning (webcast? ',\n",
       " \"Hear from experts at 5pm ET about the status of tomorrow's 10:01am ET cargo launch to : \",\n",
       " \"spacex's photo \",\n",
       " 'Provided Dragon 2 demo missions go well, SpaceX is highly confident of being able to fly US astronauts in 2018 ',\n",
       " 'Looks like we are go for launch. Added an abort trigger at T-60 secs for pressure decay of upper stage helium spin start system.',\n",
       " 'Investigating a (very small) leak in the upper stage. If ok, will launch tomorrow. ',\n",
       " \"Yes, but only deep in solid rock, where the walls are self-supporting and concrete reinforcements arguably aren't needed\",\n",
       " \"It's much easier to do the CGI that way\",\n",
       " 'Daylight rocket launch & landing at the Cape this weekend. Will be the 1st SpaceX flight from the Apollo launch pad. ',\n",
       " 'I used that one :)',\n",
       " \"Ok, what are some good ones? Will have to meter these out. Hopefully, kids can't die from groaning too much.\",\n",
       " 'They are doing India proud',\n",
       " 'You may come to regret that request :)',\n",
       " 'Yeah, exactly. So that makes it cool, right!?',\n",
       " 'Yeah, awesome achievement by ISRO. Very impressive!',\n",
       " 'Apparently, there is this thing called Dad jokes and I make them',\n",
       " \"You're right, I can't hide any more! I am Irony Man...\",\n",
       " 'they were earlier drafts that I accidentally published. I said the same thing a week already.',\n",
       " 'In appreciation, Tesla is providing all repair costs free of charge and expedited. ',\n",
       " 'Congrats to the Tesla owner who sacrificed damage to his own car to bring a car with an unconscious driver safely to a stop!',\n",
       " 'Best place to watch is on the Cape causeway',\n",
       " 'Sounds like the Tesla Powerwall (consumer) and Powerpack (utility/commercial) might be useful',\n",
       " 'Falcon 9 rocket now vertical at Cape Canaveral on launch complex 39-A. This is the same launch? ',\n",
       " 'Exactly. What this person said is untrue.',\n",
       " 'Please check your facts. Tesla and SpaceX joined as soon as we received the filing, which was Monday.',\n",
       " 'Supercharger availability is now displayed on your Tesla touchscreen so you can see how many stalls are open before you ar?',\n",
       " 'of course it will',\n",
       " 'Should all be uploaded by next month',\n",
       " 'Motor Trend could only achieve 2.4 sec when they tested the Porsche 918',\n",
       " \"I don't know what make you think that's a rocket. It's completely covered in a tarpaulin...\",\n",
       " \"Targeting Feb. 18 for Dragon's next resupply mission to the ? our 1st launch from LC-39A at 's Kennedy Spac?\",\n",
       " 'George Schultz and Jim Baker article in regarding a carbon tax ',\n",
       " 'yes',\n",
       " 'Hoping for summer this year',\n",
       " 'yes, altitude improves performance for electric. Opposite of combustion cars.',\n",
       " \"No, will be lower. Wheelbase can't fit 100.\",\n",
       " \"Also, Tesla service can remove front trunk liner if you don't use it and improve performance further\",\n",
       " 'No plans to take X, S (or 3) above 100 kWh. Semi necessarily and pickup truck maybe will go above.',\n",
       " 'Take out the floor mats and its 2.27. MT said everything had to be standard production.',\n",
       " 'yes',\n",
       " 'Production Tesla Model S P100DL sets Motor Trend all-time world record to 60 mph in 2.27 sec ',\n",
       " 'Millions of Tesla battery cells are powering thousands of LA homes ',\n",
       " 'Signing off now. That was more than enough Twitter trouble for one morning!',\n",
       " 'I agree: ',\n",
       " 'No rare earth metals in battery',\n",
       " 'Almost ready',\n",
       " 'App update is about two weeks out. Linux kernel and browser update probably a month or so. HW2 Autopilot has priority.',\n",
       " 'Yes, but Model 3 is the overwhelming priority',\n",
       " 'I will post an article he wrote half a century ago about flying through Africa and Asia in his plane. One of my favorite things.',\n",
       " 'Almost there. We are just being very careful with the rollout.',\n",
       " \"A lot of terrible things could happen in four years of extremism. Do you really want another war? That's where extremism leads.\",\n",
       " 'Yeah, it is hard to convey complex ideas in 140 chars and tone is lost in text',\n",
       " 'People should push to have as many moderates advising the President as possible. Blind hate is never the right answer.',\n",
       " 'Rolling out a new update today.',\n",
       " 'We should try our best',\n",
       " 'Really? Ok, I will work harder on thinking first and tweeting second. Sorry for anything thoughtless.',\n",
       " 'I just had three coffees :)',\n",
       " 'Mars is critical for the long-term survival of humanity and life on Earth as we know it',\n",
       " 'Numeric',\n",
       " 'Gravimetric energy density of batteries and achieving a high cell mass fraction',\n",
       " \"I love Canada! I'm half Canadian. My Mom was born in Regina. My grandfather (her Dad) was American, born in Minnesota.\",\n",
       " 'Me too. I hope to get back to regularly scheduled programming soon ...',\n",
       " \"I agree, great country! Looking forward to taking my kids for a visit. I've heard it is incredibly beautiful.\",\n",
       " 'Really? I already have both feet in my mouth and am levitating on my own idiocy...',\n",
       " 'True. Me being one of them :)',\n",
       " \"Not perfect & cd be better, but 10th out of 200+ countries with only a 0.08 diff to 1st place means it's essentially on par\",\n",
       " 'Fair point, sorry',\n",
       " 'Activists should be pushing for more moderates to advise President, not fewer. How could having only extremists advise him possibly be good?',\n",
       " 'Needs a major overhaul',\n",
       " 'Exactly',\n",
       " 'Norway is great on all levels. Love Norway!',\n",
       " 'Yeah. And Twitter is a hater Hellscape.',\n",
       " \"Good grief, I'm not working for Trump. I'm trying to provide advice that helps take things in a more positive direction.\",\n",
       " \"Actually, I think it's kinda cool :)\",\n",
       " \"Isn't that basically like having a jury of peers? That is a default option in the US.\",\n",
       " \"Those countries have strong justice systems, but I'd put them roughly on par with US. That rating system conflates many factors.\",\n",
       " 'Did you read my tweets? I attacked it hard. Did not defend.',\n",
       " \"You're right. Politics is a no-win situation. Somebody is going to hate what you say no matter what that is.\",\n",
       " \"Also good. There are several that are on par with US. Just don't think any are better. People confuse laws with courts.\",\n",
       " 'Mostly anti-drug laws',\n",
       " 'Exactly',\n",
       " 'The laws need to change. Judges are responsible for evaluating whether an action breaks the law, not making law.',\n",
       " 'The remedy for that is changing the law',\n",
       " \"Ok, but what's up the wigs?\",\n",
       " \"There are many good legal systems on par with US. Just don't know any that are better.\",\n",
       " 'True!',\n",
       " \"Many in America don't realize how proud they should be of the legal system. Not perfect, but nowhere is the cause of justice better served.\",\n",
       " 'Honored to receive Best Car Award for the third year in a row in Germany. Thank you to all 124,000 of you who voted!?',\n",
       " 'Walking down the street and saw this ',\n",
       " 'Maybe my favorite mug ever',\n",
       " 'I wish!',\n",
       " \"Then so be it. I'd rather do what I believe is right, than do what appears right simply to avoid criticism.\",\n",
       " 'Wow, cool!',\n",
       " \"That's exactly what I thought. Love Half-Life.\",\n",
       " 'Nuances are important :)',\n",
       " 'Rainbows, unicorns and electric cars ',\n",
       " '26 ft diameter tunnel running 2 miles under D.C. ',\n",
       " \"Really don't want to get in politics. I just want to help invent and develop technologies that improve lives. Feels so bizarre.\",\n",
       " 'Yes, for now, but this should be addressed on all fronts: judicial, legislative and executive.',\n",
       " 'In addition, I again raised climate. I believe this is doing good, so will remain on council & keep at it. Doing otherwise would be wrong.',\n",
       " \"At my request, the agenda for yesterday's White House meeting went from not mentioning the travel ban to having it be first and foremost\",\n",
       " \"First I've heard of this meeting. Will find out why.\",\n",
       " 'maybe',\n",
       " \"Video of MIT's entrant into the SpaceX Hyperloop competition. Air has been removed from the  Hyperloop tube to almo? \",\n",
       " 'Minecraft ',\n",
       " 'Yes. Green cards & dual citizens already ok. Work & spousal visas not yet, but hopefully soon. This is separate from judicial action.',\n",
       " 'There has already been and there will be progress on this matter',\n",
       " 'Regarding the meeting at the White House: ',\n",
       " 'yes',\n",
       " \"The AI that beat the world's best poker players mimicked human intuition in a way no other machine ever had \",\n",
       " \"Headline & article is misleading. I said it won't be retracted (ie withdrawn by Pres). It may be? \",\n",
       " 'Yes, I believe that is critical to ensure a good future for humanity',\n",
       " 'Top AI researchers agree on principles for developing benefical AI ',\n",
       " \"Meet the utility grid of the future. Tesla's Powerpack installation at 's substation will reduce the LA Basin's relian?\",\n",
       " 'I agree with creating great jobs, restoring US strength as a great manufacturer of products and anything? ',\n",
       " 'Yeah, sorry about that :)',\n",
       " 'Yes, the order is still bad, but it is always important to read the source material',\n",
       " \"Reading the source material is better than reading other people's opinions about the source material \",\n",
       " \"Congrats to WARR Hyperloop team for fastest pod--flew down entire length of track at the world's first Hyperloop competition?\",\n",
       " 'Watch live replay now of both MIT and WARR Hyperloop test flights at ',\n",
       " 'Watchlive now at ',\n",
       " 'Strategic & Policy Forum',\n",
       " 'Exactly. There is no possibility of retraction, but there is possibility of modification.? ',\n",
       " 'Please read immigration order. Lmk specific amendments. Will seek advisory council consensus & present to President. ',\n",
       " 'It is not',\n",
       " \"Many people negatively affected by this policy are strong supporters of the US. They've done right,not wrong & don't deserve to be rejected.\",\n",
       " 'The blanket entry ban on citizens from certain primarily Muslim countries is not the best way to address the country?s challenges',\n",
       " 'This is silly. If adding lanes actually did make it worse, that would imply removing lanes ma? ',\n",
       " 'And we start digging the tunnel tonight ',\n",
       " \"Here are all the futuristic pods competing in Elon Musk's Hyperloop competition this weekend \",\n",
       " 'Hyperloop pod race happening this weekend at SpaceX HQ (near LAX). We built a ~mile long vacuum tube on our campus big enough to fit people.',\n",
       " \"Yeah, am hearing this from a lot of people & it's getting me down. I'm just trying to make a positi? \",\n",
       " 'Teams arrive today for Testing Week before first-ever Hyperloop Competition at HQ on Jan. 27-29 ? ',\n",
       " 'A brief chat with Elon Musk about climate change, Rex Tillerson, and Donald Trump ',\n",
       " ...]"
      ]
     },
     "execution_count": 51,
     "metadata": {},
     "output_type": "execute_result"
    }
   ],
   "source": [
    "clean_tweets8"
   ]
  },
  {
   "cell_type": "code",
   "execution_count": 52,
   "metadata": {},
   "outputs": [],
   "source": [
    "listy = []\n",
    "for t in clean_tweets8:\n",
    "    listy.append(get_tweet_sentiment(t))"
   ]
  },
  {
   "cell_type": "code",
   "execution_count": 53,
   "metadata": {},
   "outputs": [
    {
     "data": {
      "text/plain": [
       "3218"
      ]
     },
     "execution_count": 53,
     "metadata": {},
     "output_type": "execute_result"
    }
   ],
   "source": [
    "len(listy)"
   ]
  },
  {
   "cell_type": "markdown",
   "metadata": {},
   "source": [
    "---"
   ]
  },
  {
   "cell_type": "code",
   "execution_count": 54,
   "metadata": {},
   "outputs": [],
   "source": [
    "sentiments_list = []\n",
    "polarities_list = []"
   ]
  },
  {
   "cell_type": "code",
   "execution_count": 55,
   "metadata": {},
   "outputs": [],
   "source": [
    "for tweet in listy:\n",
    "    sentiments_list.append(tweet[0])\n",
    "    polarities_list.append(tweet[1])"
   ]
  },
  {
   "cell_type": "code",
   "execution_count": 56,
   "metadata": {},
   "outputs": [],
   "source": [
    "sentiments = pd.DataFrame(sentiments_list)\n",
    "polarities = pd.DataFrame(polarities_list)"
   ]
  },
  {
   "cell_type": "code",
   "execution_count": 57,
   "metadata": {},
   "outputs": [
    {
     "data": {
      "text/plain": [
       "3218"
      ]
     },
     "execution_count": 57,
     "metadata": {},
     "output_type": "execute_result"
    }
   ],
   "source": [
    "len(df)"
   ]
  },
  {
   "cell_type": "code",
   "execution_count": 58,
   "metadata": {},
   "outputs": [
    {
     "data": {
      "text/plain": [
       "3218"
      ]
     },
     "execution_count": 58,
     "metadata": {},
     "output_type": "execute_result"
    }
   ],
   "source": [
    "len(sentiments)"
   ]
  },
  {
   "cell_type": "code",
   "execution_count": 59,
   "metadata": {},
   "outputs": [],
   "source": [
    "df2 = df"
   ]
  },
  {
   "cell_type": "code",
   "execution_count": 60,
   "metadata": {},
   "outputs": [],
   "source": [
    "sentiments.index = df.index"
   ]
  },
  {
   "cell_type": "code",
   "execution_count": 61,
   "metadata": {},
   "outputs": [],
   "source": [
    "polarities.index = df.index"
   ]
  },
  {
   "cell_type": "code",
   "execution_count": 62,
   "metadata": {},
   "outputs": [],
   "source": [
    "df = pd.concat([df2, sentiments, polarities], axis=1)"
   ]
  },
  {
   "cell_type": "code",
   "execution_count": 63,
   "metadata": {},
   "outputs": [
    {
     "data": {
      "text/html": [
       "<div>\n",
       "<style scoped>\n",
       "    .dataframe tbody tr th:only-of-type {\n",
       "        vertical-align: middle;\n",
       "    }\n",
       "\n",
       "    .dataframe tbody tr th {\n",
       "        vertical-align: top;\n",
       "    }\n",
       "\n",
       "    .dataframe thead th {\n",
       "        text-align: right;\n",
       "    }\n",
       "</style>\n",
       "<table border=\"1\" class=\"dataframe\">\n",
       "  <thead>\n",
       "    <tr style=\"text-align: right;\">\n",
       "      <th></th>\n",
       "      <th>Tweet</th>\n",
       "      <th>Retweet from</th>\n",
       "      <th>tweet_length</th>\n",
       "      <th>0</th>\n",
       "      <th>0</th>\n",
       "    </tr>\n",
       "    <tr>\n",
       "      <th>Time</th>\n",
       "      <th></th>\n",
       "      <th></th>\n",
       "      <th></th>\n",
       "      <th></th>\n",
       "      <th></th>\n",
       "    </tr>\n",
       "  </thead>\n",
       "  <tbody>\n",
       "    <tr>\n",
       "      <th>2017-09-29 17:39:19</th>\n",
       "      <td>@MeltingIce Assuming max acceleration of 2 to 3 g's, but in a comfortable direction. Will feel like a mild to moder? https://t.co/fpjmEgrHfC</td>\n",
       "      <td>NaN</td>\n",
       "      <td>140</td>\n",
       "      <td>positive</td>\n",
       "      <td>0.366667</td>\n",
       "    </tr>\n",
       "    <tr>\n",
       "      <th>2017-09-29 10:44:54</th>\n",
       "      <td>RT @SpaceX: BFR is capable of transporting satellites to orbit, crew and cargo to the @Space_Station and completing missions to the Moon an?</td>\n",
       "      <td>SpaceX</td>\n",
       "      <td>140</td>\n",
       "      <td>positive</td>\n",
       "      <td>0.200000</td>\n",
       "    </tr>\n",
       "    <tr>\n",
       "      <th>2017-09-29 10:39:57</th>\n",
       "      <td>@bigajm Yup :)</td>\n",
       "      <td>NaN</td>\n",
       "      <td>14</td>\n",
       "      <td>neutral</td>\n",
       "      <td>0.000000</td>\n",
       "    </tr>\n",
       "    <tr>\n",
       "      <th>2017-09-29 09:56:12</th>\n",
       "      <td>Part 2 https://t.co/8Fvu57muhM</td>\n",
       "      <td>NaN</td>\n",
       "      <td>30</td>\n",
       "      <td>neutral</td>\n",
       "      <td>0.000000</td>\n",
       "    </tr>\n",
       "    <tr>\n",
       "      <th>2017-09-29 09:19:21</th>\n",
       "      <td>Fly to most places on Earth in under 30 mins and anywhere in under 60. Cost per seat should be? https://t.co/dGYDdGttYd</td>\n",
       "      <td>NaN</td>\n",
       "      <td>119</td>\n",
       "      <td>positive</td>\n",
       "      <td>0.650000</td>\n",
       "    </tr>\n",
       "  </tbody>\n",
       "</table>\n",
       "</div>"
      ],
      "text/plain": [
       "                                                                                                                                                            Tweet  \\\n",
       "Time                                                                                                                                                                \n",
       "2017-09-29 17:39:19  @MeltingIce Assuming max acceleration of 2 to 3 g's, but in a comfortable direction. Will feel like a mild to moder? https://t.co/fpjmEgrHfC   \n",
       "2017-09-29 10:44:54  RT @SpaceX: BFR is capable of transporting satellites to orbit, crew and cargo to the @Space_Station and completing missions to the Moon an?   \n",
       "2017-09-29 10:39:57                                                                                                                                @bigajm Yup :)   \n",
       "2017-09-29 09:56:12                                                                                                                Part 2 https://t.co/8Fvu57muhM   \n",
       "2017-09-29 09:19:21                       Fly to most places on Earth in under 30 mins and anywhere in under 60. Cost per seat should be? https://t.co/dGYDdGttYd   \n",
       "\n",
       "                    Retweet from  tweet_length         0         0  \n",
       "Time                                                                \n",
       "2017-09-29 17:39:19          NaN           140  positive  0.366667  \n",
       "2017-09-29 10:44:54       SpaceX           140  positive  0.200000  \n",
       "2017-09-29 10:39:57          NaN            14   neutral  0.000000  \n",
       "2017-09-29 09:56:12          NaN            30   neutral  0.000000  \n",
       "2017-09-29 09:19:21          NaN           119  positive  0.650000  "
      ]
     },
     "execution_count": 63,
     "metadata": {},
     "output_type": "execute_result"
    }
   ],
   "source": [
    "df.head()"
   ]
  },
  {
   "cell_type": "code",
   "execution_count": 64,
   "metadata": {},
   "outputs": [
    {
     "data": {
      "text/plain": [
       "Index(['Tweet', 'Retweet from', 'tweet_length', 0, 0], dtype='object')"
      ]
     },
     "execution_count": 64,
     "metadata": {},
     "output_type": "execute_result"
    }
   ],
   "source": [
    "df.columns"
   ]
  },
  {
   "cell_type": "code",
   "execution_count": 65,
   "metadata": {},
   "outputs": [],
   "source": [
    "df.columns = ['Tweet', 'Retweet from', 'tweet_length', 'sentiment', 'polarity']"
   ]
  },
  {
   "cell_type": "code",
   "execution_count": 66,
   "metadata": {},
   "outputs": [],
   "source": [
    "ct_series = pd.Series(clean_tweets8)"
   ]
  },
  {
   "cell_type": "code",
   "execution_count": 67,
   "metadata": {},
   "outputs": [],
   "source": [
    "ct_series.index = df.index"
   ]
  },
  {
   "cell_type": "code",
   "execution_count": 68,
   "metadata": {},
   "outputs": [
    {
     "data": {
      "text/plain": [
       "\"Assuming max acceleration of 2 to 3 g's, but in a comfortable direction. Will feel like a mild to moder? \""
      ]
     },
     "execution_count": 68,
     "metadata": {},
     "output_type": "execute_result"
    }
   ],
   "source": [
    "ct_series[0]"
   ]
  },
  {
   "cell_type": "code",
   "execution_count": 69,
   "metadata": {},
   "outputs": [
    {
     "data": {
      "text/plain": [
       "DatetimeIndex(['2017-09-29 17:39:19', '2017-09-29 10:44:54',\n",
       "               '2017-09-29 10:39:57', '2017-09-29 09:56:12',\n",
       "               '2017-09-29 09:19:21', '2017-09-29 08:57:29',\n",
       "               '2017-09-29 08:53:00', '2017-09-29 06:03:32',\n",
       "               '2017-09-29 05:44:55', '2017-09-29 02:36:17',\n",
       "               ...\n",
       "               '2012-11-21 07:14:07', '2012-11-21 05:01:08',\n",
       "               '2012-11-21 02:37:03', '2012-11-20 21:32:50',\n",
       "               '2012-11-20 21:22:29', '2012-11-20 08:52:03',\n",
       "               '2012-11-20 08:38:31', '2012-11-20 08:30:44',\n",
       "               '2012-11-19 08:59:46', '2012-11-16 17:59:47'],\n",
       "              dtype='datetime64[ns]', name='Time', length=3218, freq=None)"
      ]
     },
     "execution_count": 69,
     "metadata": {},
     "output_type": "execute_result"
    }
   ],
   "source": [
    "ct_series.index"
   ]
  },
  {
   "cell_type": "code",
   "execution_count": 71,
   "metadata": {
    "scrolled": true
   },
   "outputs": [
    {
     "data": {
      "text/html": [
       "<div>\n",
       "<style scoped>\n",
       "    .dataframe tbody tr th:only-of-type {\n",
       "        vertical-align: middle;\n",
       "    }\n",
       "\n",
       "    .dataframe tbody tr th {\n",
       "        vertical-align: top;\n",
       "    }\n",
       "\n",
       "    .dataframe thead th {\n",
       "        text-align: right;\n",
       "    }\n",
       "</style>\n",
       "<table border=\"1\" class=\"dataframe\">\n",
       "  <thead>\n",
       "    <tr style=\"text-align: right;\">\n",
       "      <th></th>\n",
       "      <th>retweet_from</th>\n",
       "      <th>tweet_length</th>\n",
       "      <th>sentiment</th>\n",
       "      <th>polarity</th>\n",
       "      <th>tweet</th>\n",
       "    </tr>\n",
       "    <tr>\n",
       "      <th>Time</th>\n",
       "      <th></th>\n",
       "      <th></th>\n",
       "      <th></th>\n",
       "      <th></th>\n",
       "      <th></th>\n",
       "    </tr>\n",
       "  </thead>\n",
       "  <tbody>\n",
       "    <tr>\n",
       "      <th>2017-09-29 17:39:19</th>\n",
       "      <td>NaN</td>\n",
       "      <td>140</td>\n",
       "      <td>positive</td>\n",
       "      <td>0.366667</td>\n",
       "      <td>Assuming max acceleration of 2 to 3 g's, but in a comfortable direction. Will feel like a mild to moder?</td>\n",
       "    </tr>\n",
       "    <tr>\n",
       "      <th>2017-09-29 10:44:54</th>\n",
       "      <td>SpaceX</td>\n",
       "      <td>140</td>\n",
       "      <td>positive</td>\n",
       "      <td>0.200000</td>\n",
       "      <td>BFR is capable of transporting satellites to orbit, crew and cargo to the and completing missions to the Moon an?</td>\n",
       "    </tr>\n",
       "    <tr>\n",
       "      <th>2017-09-29 10:39:57</th>\n",
       "      <td>NaN</td>\n",
       "      <td>14</td>\n",
       "      <td>neutral</td>\n",
       "      <td>0.000000</td>\n",
       "      <td>Yup :)</td>\n",
       "    </tr>\n",
       "    <tr>\n",
       "      <th>2017-09-29 09:56:12</th>\n",
       "      <td>NaN</td>\n",
       "      <td>30</td>\n",
       "      <td>neutral</td>\n",
       "      <td>0.000000</td>\n",
       "      <td>Part 2</td>\n",
       "    </tr>\n",
       "    <tr>\n",
       "      <th>2017-09-29 09:19:21</th>\n",
       "      <td>NaN</td>\n",
       "      <td>119</td>\n",
       "      <td>positive</td>\n",
       "      <td>0.650000</td>\n",
       "      <td>Fly to most places on Earth in under 30 mins and anywhere in under 60. Cost per seat should be?</td>\n",
       "    </tr>\n",
       "  </tbody>\n",
       "</table>\n",
       "</div>"
      ],
      "text/plain": [
       "                    retweet_from  tweet_length sentiment  polarity  \\\n",
       "Time                                                                 \n",
       "2017-09-29 17:39:19          NaN           140  positive  0.366667   \n",
       "2017-09-29 10:44:54       SpaceX           140  positive  0.200000   \n",
       "2017-09-29 10:39:57          NaN            14   neutral  0.000000   \n",
       "2017-09-29 09:56:12          NaN            30   neutral  0.000000   \n",
       "2017-09-29 09:19:21          NaN           119  positive  0.650000   \n",
       "\n",
       "                                                                                                                                 tweet  \n",
       "Time                                                                                                                                    \n",
       "2017-09-29 17:39:19          Assuming max acceleration of 2 to 3 g's, but in a comfortable direction. Will feel like a mild to moder?   \n",
       "2017-09-29 10:44:54  BFR is capable of transporting satellites to orbit, crew and cargo to the and completing missions to the Moon an?  \n",
       "2017-09-29 10:39:57                                                                                                             Yup :)  \n",
       "2017-09-29 09:56:12                                                                                                            Part 2   \n",
       "2017-09-29 09:19:21                   Fly to most places on Earth in under 30 mins and anywhere in under 60. Cost per seat should be?   "
      ]
     },
     "execution_count": 71,
     "metadata": {},
     "output_type": "execute_result"
    }
   ],
   "source": [
    "elon_df = pd.concat([df, ct_series], axis=1)\n",
    "elon_df = elon_df.drop(columns=['Tweet'])\n",
    "elon_df.columns = ['retweet_from', 'tweet_length', 'sentiment', 'polarity', 'tweet']\n",
    "elon_df.head()"
   ]
  },
  {
   "cell_type": "code",
   "execution_count": 72,
   "metadata": {},
   "outputs": [],
   "source": [
    "real_lenghts = []\n",
    "\n",
    "for t in elon_df.tweet:\n",
    "    real_lenghts.append(len(t))"
   ]
  },
  {
   "cell_type": "code",
   "execution_count": 73,
   "metadata": {},
   "outputs": [
    {
     "data": {
      "text/plain": [
       "2982"
      ]
     },
     "execution_count": 73,
     "metadata": {},
     "output_type": "execute_result"
    }
   ],
   "source": [
    "np.sum([x >= 10 for x in real_lenghts])"
   ]
  },
  {
   "cell_type": "code",
   "execution_count": 77,
   "metadata": {},
   "outputs": [],
   "source": [
    "clean_t_lens_series = pd.Series(real_lenghts)"
   ]
  },
  {
   "cell_type": "code",
   "execution_count": 79,
   "metadata": {},
   "outputs": [],
   "source": [
    "clean_t_lens_series.index = elon_df.index"
   ]
  },
  {
   "cell_type": "code",
   "execution_count": 80,
   "metadata": {},
   "outputs": [],
   "source": [
    "elon_df1 = pd.concat([elon_df, clean_t_lens_series], axis=1)"
   ]
  },
  {
   "cell_type": "code",
   "execution_count": 83,
   "metadata": {},
   "outputs": [],
   "source": [
    "elon_df = elon_df1.drop(columns=['tweet_length'])"
   ]
  },
  {
   "cell_type": "code",
   "execution_count": 84,
   "metadata": {},
   "outputs": [
    {
     "data": {
      "text/plain": [
       "Index(['retweet_from', 'sentiment', 'polarity', 'tweet', 0], dtype='object')"
      ]
     },
     "execution_count": 84,
     "metadata": {},
     "output_type": "execute_result"
    }
   ],
   "source": [
    "elon_df.columns"
   ]
  },
  {
   "cell_type": "code",
   "execution_count": 87,
   "metadata": {},
   "outputs": [
    {
     "data": {
      "text/html": [
       "<div>\n",
       "<style scoped>\n",
       "    .dataframe tbody tr th:only-of-type {\n",
       "        vertical-align: middle;\n",
       "    }\n",
       "\n",
       "    .dataframe tbody tr th {\n",
       "        vertical-align: top;\n",
       "    }\n",
       "\n",
       "    .dataframe thead th {\n",
       "        text-align: right;\n",
       "    }\n",
       "</style>\n",
       "<table border=\"1\" class=\"dataframe\">\n",
       "  <thead>\n",
       "    <tr style=\"text-align: right;\">\n",
       "      <th></th>\n",
       "      <th>retweet_from</th>\n",
       "      <th>sentiment</th>\n",
       "      <th>polarity</th>\n",
       "      <th>tweet</th>\n",
       "      <th>tweet_length</th>\n",
       "    </tr>\n",
       "    <tr>\n",
       "      <th>Time</th>\n",
       "      <th></th>\n",
       "      <th></th>\n",
       "      <th></th>\n",
       "      <th></th>\n",
       "      <th></th>\n",
       "    </tr>\n",
       "  </thead>\n",
       "  <tbody>\n",
       "    <tr>\n",
       "      <th>2017-09-29 17:39:19</th>\n",
       "      <td>NaN</td>\n",
       "      <td>positive</td>\n",
       "      <td>0.366667</td>\n",
       "      <td>Assuming max acceleration of 2 to 3 g's, but in a comfortable direction. Will feel like a mild to moder?</td>\n",
       "      <td>105</td>\n",
       "    </tr>\n",
       "    <tr>\n",
       "      <th>2017-09-29 10:44:54</th>\n",
       "      <td>SpaceX</td>\n",
       "      <td>positive</td>\n",
       "      <td>0.200000</td>\n",
       "      <td>BFR is capable of transporting satellites to orbit, crew and cargo to the and completing missions to the Moon an?</td>\n",
       "      <td>113</td>\n",
       "    </tr>\n",
       "    <tr>\n",
       "      <th>2017-09-29 10:39:57</th>\n",
       "      <td>NaN</td>\n",
       "      <td>neutral</td>\n",
       "      <td>0.000000</td>\n",
       "      <td>Yup :)</td>\n",
       "      <td>6</td>\n",
       "    </tr>\n",
       "    <tr>\n",
       "      <th>2017-09-29 09:56:12</th>\n",
       "      <td>NaN</td>\n",
       "      <td>neutral</td>\n",
       "      <td>0.000000</td>\n",
       "      <td>Part 2</td>\n",
       "      <td>7</td>\n",
       "    </tr>\n",
       "    <tr>\n",
       "      <th>2017-09-29 09:19:21</th>\n",
       "      <td>NaN</td>\n",
       "      <td>positive</td>\n",
       "      <td>0.650000</td>\n",
       "      <td>Fly to most places on Earth in under 30 mins and anywhere in under 60. Cost per seat should be?</td>\n",
       "      <td>96</td>\n",
       "    </tr>\n",
       "  </tbody>\n",
       "</table>\n",
       "</div>"
      ],
      "text/plain": [
       "                    retweet_from sentiment  polarity  \\\n",
       "Time                                                   \n",
       "2017-09-29 17:39:19          NaN  positive  0.366667   \n",
       "2017-09-29 10:44:54       SpaceX  positive  0.200000   \n",
       "2017-09-29 10:39:57          NaN   neutral  0.000000   \n",
       "2017-09-29 09:56:12          NaN   neutral  0.000000   \n",
       "2017-09-29 09:19:21          NaN  positive  0.650000   \n",
       "\n",
       "                                                                                                                                 tweet  \\\n",
       "Time                                                                                                                                     \n",
       "2017-09-29 17:39:19          Assuming max acceleration of 2 to 3 g's, but in a comfortable direction. Will feel like a mild to moder?    \n",
       "2017-09-29 10:44:54  BFR is capable of transporting satellites to orbit, crew and cargo to the and completing missions to the Moon an?   \n",
       "2017-09-29 10:39:57                                                                                                             Yup :)   \n",
       "2017-09-29 09:56:12                                                                                                            Part 2    \n",
       "2017-09-29 09:19:21                   Fly to most places on Earth in under 30 mins and anywhere in under 60. Cost per seat should be?    \n",
       "\n",
       "                     tweet_length  \n",
       "Time                               \n",
       "2017-09-29 17:39:19           105  \n",
       "2017-09-29 10:44:54           113  \n",
       "2017-09-29 10:39:57             6  \n",
       "2017-09-29 09:56:12             7  \n",
       "2017-09-29 09:19:21            96  "
      ]
     },
     "execution_count": 87,
     "metadata": {},
     "output_type": "execute_result"
    }
   ],
   "source": [
    "# elon_df.columns = ['retweet_from', 'sentiment', 'polarity', 'tweet', 'tweet_length']\n",
    "elon_df = "
   ]
  },
  {
   "cell_type": "code",
   "execution_count": 89,
   "metadata": {},
   "outputs": [],
   "source": [
    "elon_df = elon_df[['retweet_from', 'tweet_length', 'sentiment', 'polarity', 'tweet']]"
   ]
  },
  {
   "cell_type": "code",
   "execution_count": 91,
   "metadata": {},
   "outputs": [
    {
     "data": {
      "text/html": [
       "<div>\n",
       "<style scoped>\n",
       "    .dataframe tbody tr th:only-of-type {\n",
       "        vertical-align: middle;\n",
       "    }\n",
       "\n",
       "    .dataframe tbody tr th {\n",
       "        vertical-align: top;\n",
       "    }\n",
       "\n",
       "    .dataframe thead th {\n",
       "        text-align: right;\n",
       "    }\n",
       "</style>\n",
       "<table border=\"1\" class=\"dataframe\">\n",
       "  <thead>\n",
       "    <tr style=\"text-align: right;\">\n",
       "      <th></th>\n",
       "      <th>retweet_from</th>\n",
       "      <th>tweet_length</th>\n",
       "      <th>sentiment</th>\n",
       "      <th>polarity</th>\n",
       "      <th>tweet</th>\n",
       "    </tr>\n",
       "    <tr>\n",
       "      <th>Time</th>\n",
       "      <th></th>\n",
       "      <th></th>\n",
       "      <th></th>\n",
       "      <th></th>\n",
       "      <th></th>\n",
       "    </tr>\n",
       "  </thead>\n",
       "  <tbody>\n",
       "    <tr>\n",
       "      <th>2017-09-29 17:39:19</th>\n",
       "      <td>NaN</td>\n",
       "      <td>105</td>\n",
       "      <td>positive</td>\n",
       "      <td>0.366667</td>\n",
       "      <td>Assuming max acceleration of 2 to 3 g's, but in a comfortable direction. Will feel like a mild to moder?</td>\n",
       "    </tr>\n",
       "    <tr>\n",
       "      <th>2017-09-29 10:44:54</th>\n",
       "      <td>SpaceX</td>\n",
       "      <td>113</td>\n",
       "      <td>positive</td>\n",
       "      <td>0.200000</td>\n",
       "      <td>BFR is capable of transporting satellites to orbit, crew and cargo to the and completing missions to the Moon an?</td>\n",
       "    </tr>\n",
       "    <tr>\n",
       "      <th>2017-09-29 10:39:57</th>\n",
       "      <td>NaN</td>\n",
       "      <td>6</td>\n",
       "      <td>neutral</td>\n",
       "      <td>0.000000</td>\n",
       "      <td>Yup :)</td>\n",
       "    </tr>\n",
       "    <tr>\n",
       "      <th>2017-09-29 09:56:12</th>\n",
       "      <td>NaN</td>\n",
       "      <td>7</td>\n",
       "      <td>neutral</td>\n",
       "      <td>0.000000</td>\n",
       "      <td>Part 2</td>\n",
       "    </tr>\n",
       "    <tr>\n",
       "      <th>2017-09-29 09:19:21</th>\n",
       "      <td>NaN</td>\n",
       "      <td>96</td>\n",
       "      <td>positive</td>\n",
       "      <td>0.650000</td>\n",
       "      <td>Fly to most places on Earth in under 30 mins and anywhere in under 60. Cost per seat should be?</td>\n",
       "    </tr>\n",
       "  </tbody>\n",
       "</table>\n",
       "</div>"
      ],
      "text/plain": [
       "                    retweet_from  tweet_length sentiment  polarity  \\\n",
       "Time                                                                 \n",
       "2017-09-29 17:39:19          NaN           105  positive  0.366667   \n",
       "2017-09-29 10:44:54       SpaceX           113  positive  0.200000   \n",
       "2017-09-29 10:39:57          NaN             6   neutral  0.000000   \n",
       "2017-09-29 09:56:12          NaN             7   neutral  0.000000   \n",
       "2017-09-29 09:19:21          NaN            96  positive  0.650000   \n",
       "\n",
       "                                                                                                                                 tweet  \n",
       "Time                                                                                                                                    \n",
       "2017-09-29 17:39:19          Assuming max acceleration of 2 to 3 g's, but in a comfortable direction. Will feel like a mild to moder?   \n",
       "2017-09-29 10:44:54  BFR is capable of transporting satellites to orbit, crew and cargo to the and completing missions to the Moon an?  \n",
       "2017-09-29 10:39:57                                                                                                             Yup :)  \n",
       "2017-09-29 09:56:12                                                                                                            Part 2   \n",
       "2017-09-29 09:19:21                   Fly to most places on Earth in under 30 mins and anywhere in under 60. Cost per seat should be?   "
      ]
     },
     "execution_count": 91,
     "metadata": {},
     "output_type": "execute_result"
    }
   ],
   "source": [
    "elon_df.head()"
   ]
  },
  {
   "cell_type": "code",
   "execution_count": 93,
   "metadata": {},
   "outputs": [],
   "source": [
    "le = LabelEncoder()"
   ]
  },
  {
   "cell_type": "code",
   "execution_count": 103,
   "metadata": {},
   "outputs": [],
   "source": [
    "sen = elon_df.sentiment"
   ]
  },
  {
   "cell_type": "code",
   "execution_count": 104,
   "metadata": {},
   "outputs": [],
   "source": [
    "sen = le.fit_transform(sen)"
   ]
  },
  {
   "cell_type": "code",
   "execution_count": 106,
   "metadata": {},
   "outputs": [],
   "source": [
    "sen = pd.Series(sen-1)"
   ]
  },
  {
   "cell_type": "code",
   "execution_count": 112,
   "metadata": {},
   "outputs": [],
   "source": [
    "sen.index = elon_df.index"
   ]
  },
  {
   "cell_type": "code",
   "execution_count": 113,
   "metadata": {},
   "outputs": [],
   "source": [
    "elon_df = pd.concat([elon_df, sen], axis=1)"
   ]
  },
  {
   "cell_type": "code",
   "execution_count": 119,
   "metadata": {},
   "outputs": [],
   "source": [
    "elon_df.columns = ['retweet_from', 'tweet_length', 'sentiment', 'polarity', 'tweet', 'encoded_sentiment']"
   ]
  },
  {
   "cell_type": "code",
   "execution_count": 122,
   "metadata": {},
   "outputs": [
    {
     "data": {
      "text/plain": [
       "Index(['retweet_from', 'tweet_length', 'sentiment', 'polarity', 'tweet',\n",
       "       'encoded_sentiment'],\n",
       "      dtype='object')"
      ]
     },
     "execution_count": 122,
     "metadata": {},
     "output_type": "execute_result"
    }
   ],
   "source": [
    "elon_df.columns"
   ]
  },
  {
   "cell_type": "code",
   "execution_count": 121,
   "metadata": {},
   "outputs": [
    {
     "data": {
      "text/html": [
       "<div>\n",
       "<style scoped>\n",
       "    .dataframe tbody tr th:only-of-type {\n",
       "        vertical-align: middle;\n",
       "    }\n",
       "\n",
       "    .dataframe tbody tr th {\n",
       "        vertical-align: top;\n",
       "    }\n",
       "\n",
       "    .dataframe thead th {\n",
       "        text-align: right;\n",
       "    }\n",
       "</style>\n",
       "<table border=\"1\" class=\"dataframe\">\n",
       "  <thead>\n",
       "    <tr style=\"text-align: right;\">\n",
       "      <th></th>\n",
       "      <th>retweet_from</th>\n",
       "      <th>tweet_length</th>\n",
       "      <th>sentiment</th>\n",
       "      <th>polarity</th>\n",
       "      <th>tweet</th>\n",
       "      <th>encoded_sentiment</th>\n",
       "    </tr>\n",
       "    <tr>\n",
       "      <th>Time</th>\n",
       "      <th></th>\n",
       "      <th></th>\n",
       "      <th></th>\n",
       "      <th></th>\n",
       "      <th></th>\n",
       "      <th></th>\n",
       "    </tr>\n",
       "  </thead>\n",
       "  <tbody>\n",
       "    <tr>\n",
       "      <th>2017-09-29 17:39:19</th>\n",
       "      <td>NaN</td>\n",
       "      <td>105</td>\n",
       "      <td>positive</td>\n",
       "      <td>0.366667</td>\n",
       "      <td>Assuming max acceleration of 2 to 3 g's, but in a comfortable direction. Will feel like a mild to moder?</td>\n",
       "      <td>1</td>\n",
       "    </tr>\n",
       "    <tr>\n",
       "      <th>2017-09-29 10:44:54</th>\n",
       "      <td>SpaceX</td>\n",
       "      <td>113</td>\n",
       "      <td>positive</td>\n",
       "      <td>0.200000</td>\n",
       "      <td>BFR is capable of transporting satellites to orbit, crew and cargo to the and completing missions to the Moon an?</td>\n",
       "      <td>1</td>\n",
       "    </tr>\n",
       "    <tr>\n",
       "      <th>2017-09-29 10:39:57</th>\n",
       "      <td>NaN</td>\n",
       "      <td>6</td>\n",
       "      <td>neutral</td>\n",
       "      <td>0.000000</td>\n",
       "      <td>Yup :)</td>\n",
       "      <td>0</td>\n",
       "    </tr>\n",
       "    <tr>\n",
       "      <th>2017-09-29 09:56:12</th>\n",
       "      <td>NaN</td>\n",
       "      <td>7</td>\n",
       "      <td>neutral</td>\n",
       "      <td>0.000000</td>\n",
       "      <td>Part 2</td>\n",
       "      <td>0</td>\n",
       "    </tr>\n",
       "    <tr>\n",
       "      <th>2017-09-29 09:19:21</th>\n",
       "      <td>NaN</td>\n",
       "      <td>96</td>\n",
       "      <td>positive</td>\n",
       "      <td>0.650000</td>\n",
       "      <td>Fly to most places on Earth in under 30 mins and anywhere in under 60. Cost per seat should be?</td>\n",
       "      <td>1</td>\n",
       "    </tr>\n",
       "  </tbody>\n",
       "</table>\n",
       "</div>"
      ],
      "text/plain": [
       "                    retweet_from  tweet_length sentiment  polarity  \\\n",
       "Time                                                                 \n",
       "2017-09-29 17:39:19          NaN           105  positive  0.366667   \n",
       "2017-09-29 10:44:54       SpaceX           113  positive  0.200000   \n",
       "2017-09-29 10:39:57          NaN             6   neutral  0.000000   \n",
       "2017-09-29 09:56:12          NaN             7   neutral  0.000000   \n",
       "2017-09-29 09:19:21          NaN            96  positive  0.650000   \n",
       "\n",
       "                                                                                                                                 tweet  \\\n",
       "Time                                                                                                                                     \n",
       "2017-09-29 17:39:19          Assuming max acceleration of 2 to 3 g's, but in a comfortable direction. Will feel like a mild to moder?    \n",
       "2017-09-29 10:44:54  BFR is capable of transporting satellites to orbit, crew and cargo to the and completing missions to the Moon an?   \n",
       "2017-09-29 10:39:57                                                                                                             Yup :)   \n",
       "2017-09-29 09:56:12                                                                                                            Part 2    \n",
       "2017-09-29 09:19:21                   Fly to most places on Earth in under 30 mins and anywhere in under 60. Cost per seat should be?    \n",
       "\n",
       "                     encoded_sentiment  \n",
       "Time                                    \n",
       "2017-09-29 17:39:19                  1  \n",
       "2017-09-29 10:44:54                  1  \n",
       "2017-09-29 10:39:57                  0  \n",
       "2017-09-29 09:56:12                  0  \n",
       "2017-09-29 09:19:21                  1  "
      ]
     },
     "execution_count": 121,
     "metadata": {},
     "output_type": "execute_result"
    }
   ],
   "source": [
    "elon_df.head()"
   ]
  },
  {
   "cell_type": "code",
   "execution_count": 123,
   "metadata": {},
   "outputs": [],
   "source": [
    "elon_df = elon_df[['retweet_from', 'tweet_length', 'encoded_sentiment', 'sentiment', 'polarity', 'tweet']]"
   ]
  },
  {
   "cell_type": "code",
   "execution_count": 126,
   "metadata": {},
   "outputs": [
    {
     "data": {
      "text/html": [
       "<div>\n",
       "<style scoped>\n",
       "    .dataframe tbody tr th:only-of-type {\n",
       "        vertical-align: middle;\n",
       "    }\n",
       "\n",
       "    .dataframe tbody tr th {\n",
       "        vertical-align: top;\n",
       "    }\n",
       "\n",
       "    .dataframe thead th {\n",
       "        text-align: right;\n",
       "    }\n",
       "</style>\n",
       "<table border=\"1\" class=\"dataframe\">\n",
       "  <thead>\n",
       "    <tr style=\"text-align: right;\">\n",
       "      <th></th>\n",
       "      <th>tweet_length</th>\n",
       "      <th>encoded_sentiment</th>\n",
       "      <th>polarity</th>\n",
       "    </tr>\n",
       "  </thead>\n",
       "  <tbody>\n",
       "    <tr>\n",
       "      <th>count</th>\n",
       "      <td>3218.000000</td>\n",
       "      <td>3218.000000</td>\n",
       "      <td>3218.000000</td>\n",
       "    </tr>\n",
       "    <tr>\n",
       "      <th>mean</th>\n",
       "      <td>74.447172</td>\n",
       "      <td>0.343070</td>\n",
       "      <td>0.123940</td>\n",
       "    </tr>\n",
       "    <tr>\n",
       "      <th>std</th>\n",
       "      <td>40.634552</td>\n",
       "      <td>0.701092</td>\n",
       "      <td>0.263063</td>\n",
       "    </tr>\n",
       "    <tr>\n",
       "      <th>min</th>\n",
       "      <td>0.000000</td>\n",
       "      <td>-1.000000</td>\n",
       "      <td>-1.000000</td>\n",
       "    </tr>\n",
       "    <tr>\n",
       "      <th>25%</th>\n",
       "      <td>40.000000</td>\n",
       "      <td>0.000000</td>\n",
       "      <td>0.000000</td>\n",
       "    </tr>\n",
       "    <tr>\n",
       "      <th>50%</th>\n",
       "      <td>80.000000</td>\n",
       "      <td>0.000000</td>\n",
       "      <td>0.000000</td>\n",
       "    </tr>\n",
       "    <tr>\n",
       "      <th>75%</th>\n",
       "      <td>110.000000</td>\n",
       "      <td>1.000000</td>\n",
       "      <td>0.250000</td>\n",
       "    </tr>\n",
       "    <tr>\n",
       "      <th>max</th>\n",
       "      <td>140.000000</td>\n",
       "      <td>1.000000</td>\n",
       "      <td>1.000000</td>\n",
       "    </tr>\n",
       "  </tbody>\n",
       "</table>\n",
       "</div>"
      ],
      "text/plain": [
       "       tweet_length  encoded_sentiment     polarity\n",
       "count   3218.000000        3218.000000  3218.000000\n",
       "mean      74.447172           0.343070     0.123940\n",
       "std       40.634552           0.701092     0.263063\n",
       "min        0.000000          -1.000000    -1.000000\n",
       "25%       40.000000           0.000000     0.000000\n",
       "50%       80.000000           0.000000     0.000000\n",
       "75%      110.000000           1.000000     0.250000\n",
       "max      140.000000           1.000000     1.000000"
      ]
     },
     "execution_count": 126,
     "metadata": {},
     "output_type": "execute_result"
    }
   ],
   "source": [
    "elon_df.describe()"
   ]
  },
  {
   "cell_type": "code",
   "execution_count": 127,
   "metadata": {},
   "outputs": [],
   "source": [
    "base_df = elon_df"
   ]
  },
  {
   "cell_type": "code",
   "execution_count": null,
   "metadata": {},
   "outputs": [],
   "source": []
  },
  {
   "cell_type": "code",
   "execution_count": 128,
   "metadata": {},
   "outputs": [],
   "source": [
    "base_df.to_csv(r'/Users/sproul/Desktop/ds-projects/mod4/base_elon_data.csv')"
   ]
  },
  {
   "cell_type": "code",
   "execution_count": null,
   "metadata": {},
   "outputs": [],
   "source": []
  }
 ],
 "metadata": {
  "kernelspec": {
   "display_name": "Python 3",
   "language": "python",
   "name": "python3"
  },
  "language_info": {
   "codemirror_mode": {
    "name": "ipython",
    "version": 3
   },
   "file_extension": ".py",
   "mimetype": "text/x-python",
   "name": "python",
   "nbconvert_exporter": "python",
   "pygments_lexer": "ipython3",
   "version": "3.6.6"
  }
 },
 "nbformat": 4,
 "nbformat_minor": 2
}
